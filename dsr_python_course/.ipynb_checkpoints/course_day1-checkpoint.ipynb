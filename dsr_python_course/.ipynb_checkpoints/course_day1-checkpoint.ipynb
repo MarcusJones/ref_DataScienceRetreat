{
 "cells": [
  {
   "cell_type": "code",
   "execution_count": 9,
   "metadata": {},
   "outputs": [
    {
     "name": "stdout",
     "output_type": "stream",
     "text": [
      "[1, 4, 9, 16, 25]\n"
     ]
    }
   ],
   "source": [
    "items = [1, 2, 3, 4, 5]\n",
    "squared = []\n",
    "for i in items:\n",
    "    squared.append(i**2)\n",
    "print(squared)"
   ]
  },
  {
   "cell_type": "code",
   "execution_count": 5,
   "metadata": {
    "collapsed": true
   },
   "outputs": [],
   "source": [
    "def wallis(i):\n",
    "    terms = [4*i**2 / (4*i**2 - 1) for i in range(1,i+1)]\n",
    "    cumulative_prod = 1\n",
    "    for term in terms:\n",
    "        cumulative_prod = term * cumulative_prod\n",
    "    res = 2*cumulative_prod\n",
    "    return(2*cumulative_prod)"
   ]
  },
  {
   "cell_type": "code",
   "execution_count": 7,
   "metadata": {},
   "outputs": [
    {
     "name": "stdout",
     "output_type": "stream",
     "text": [
      "3.1415925750808533\n"
     ]
    }
   ],
   "source": [
    "print(wallis(10000000))"
   ]
  },
  {
   "cell_type": "code",
   "execution_count": 2,
   "metadata": {},
   "outputs": [
    {
     "name": "stdout",
     "output_type": "stream",
     "text": [
      "[0, 1, 1, 2, 3, 5, 8, 13, 21, 34, 55, 89, 144, 233, 377, 610, 987, 1597, 2584, 4181, 6765]\n"
     ]
    }
   ],
   "source": [
    "def fibo(n):\n",
    "    fib_seq = [0 for i in range(0,n+1)]\n",
    "    fib_seq[1] = 1\n",
    "    \n",
    "    for i,fib in enumerate(fib_seq):\n",
    "        if i > 1:\n",
    "            fib_new = fib_seq[i-1] + fib_seq[i-2]\n",
    "            fib_seq[i] = fib_new\n",
    "            \n",
    "    return fib_seq\n",
    "fib = fibo(20)\n",
    "print(fib)"
   ]
  },
  {
   "cell_type": "markdown",
   "metadata": {},
   "source": [
    "function quicksort(array)\n",
    "    var list less, greater\n",
    "    if length(array) < 2\n",
    "        return array\n",
    "    select and remove a pivot value pivot from array\n",
    "    for each x in array\n",
    "        if x < pivot + 1 then append x to less\n",
    "        else append x to greater\n",
    "    return concatenate(quicksort(less), pivot, quicksort(greater))"
   ]
  },
  {
   "cell_type": "code",
   "execution_count": 10,
   "metadata": {},
   "outputs": [
    {
     "name": "stdout",
     "output_type": "stream",
     "text": [
      "[3 7 6 9 1 0 2 4 8 5]\n"
     ]
    }
   ],
   "source": [
    "import numpy as np\n",
    "my_list = list(range(0,10))\n",
    "my_list = np.random.permutation(my_list)\n",
    "print(my_list)"
   ]
  },
  {
   "cell_type": "code",
   "execution_count": 11,
   "metadata": {},
   "outputs": [
    {
     "name": "stdout",
     "output_type": "stream",
     "text": [
      "qs arr [10, 7, 8, 9, 1, 5], low 0, high 5\n",
      "Low < high\n",
      "[10, 7, 8, 9, 1, 5] 0 5\n",
      "qs arr [1, 5, 8, 9, 10, 7], low 0, high 0\n",
      "qs arr [1, 5, 8, 9, 10, 7], low 2, high 5\n",
      "Low < high\n",
      "[1, 5, 8, 9, 10, 7] 2 5\n",
      "qs arr [1, 5, 7, 9, 10, 8], low 2, high 1\n",
      "qs arr [1, 5, 7, 9, 10, 8], low 3, high 5\n",
      "Low < high\n",
      "[1, 5, 7, 9, 10, 8] 3 5\n",
      "qs arr [1, 5, 7, 8, 10, 9], low 3, high 2\n",
      "qs arr [1, 5, 7, 8, 10, 9], low 4, high 5\n",
      "Low < high\n",
      "[1, 5, 7, 8, 10, 9] 4 5\n",
      "qs arr [1, 5, 7, 8, 9, 10], low 4, high 3\n",
      "qs arr [1, 5, 7, 8, 9, 10], low 5, high 5\n",
      "Sorted array is: [1, 5, 7, 8, 9, 10]\n"
     ]
    }
   ],
   "source": [
    "# This function takes last element as pivot, places\n",
    "# the pivot element at its correct position in sorted\n",
    "# array, and places all smaller (smaller than pivot)\n",
    "# to left of pivot and all greater elements to right\n",
    "# of pivot\n",
    "def partition(arr,low,high):\n",
    "    print(arr,low,high)\n",
    "    i = ( low-1 )         # index of smaller element\n",
    "    pivot = arr[high]     # pivot\n",
    "    \n",
    "    # Loop over each element of this sub array\n",
    "    for j in range(low , high):\n",
    "        # If element is smaller than or equal to pivot\n",
    "        if arr[j] <= pivot:\n",
    "            # increment index of smaller element\n",
    "            i = i+1\n",
    "            # SWAP ELEMENTS\n",
    "            arr[i],arr[j] = arr[j],arr[i]\n",
    "            \n",
    "    arr[i+1],arr[high] = arr[high],arr[i+1]\n",
    "    return ( i+1 )\n",
    "\n",
    "# The main function that implements QuickSort\n",
    "# arr[] --> Array to be sorted,\n",
    "# low  --> Starting index,\n",
    "# high  --> Ending index\n",
    "\n",
    "# Function to do Quick sort\n",
    "def quickSort(arr,low,high):\n",
    "    print(\"qs arr {}, low {}, high {}\".format(arr,low,high))\n",
    "    if low < high:\n",
    "        print('Low < high')\n",
    "        # pi is partitioning index, arr[p] is now\n",
    "        # at right place\n",
    "        pi = partition(arr,low,high)\n",
    "        \n",
    "        # Separately sort elements before\n",
    "        # partition and after partition\n",
    "        quickSort(arr, low, pi-1)\n",
    "        quickSort(arr, pi+1, high)\n",
    "\n",
    "        \n",
    "arr = [10, 7, 8, 9, 1, 5]\n",
    "n = len(arr)\n",
    "quickSort(arr,0,n-1)\n",
    "print (\"Sorted array is: {}\".format(arr))"
   ]
  },
  {
   "cell_type": "code",
   "execution_count": 12,
   "metadata": {},
   "outputs": [
    {
     "ename": "SyntaxError",
     "evalue": "invalid character in identifier (<ipython-input-12-24c217c976ac>, line 7)",
     "output_type": "error",
     "traceback": [
      "\u001b[1;36m  File \u001b[1;32m\"<ipython-input-12-24c217c976ac>\"\u001b[1;36m, line \u001b[1;32m7\u001b[0m\n\u001b[1;33m    §if this_min >= this_max:\u001b[0m\n\u001b[1;37m      ^\u001b[0m\n\u001b[1;31mSyntaxError\u001b[0m\u001b[1;31m:\u001b[0m invalid character in identifier\n"
     ]
    }
   ],
   "source": [
    "def qs(this_list, this_min, this_max, iteration):\n",
    "    print(\"ITERATION {} on {}, over {} to {}\".format(iteration, this_list,this_min,this_max))\n",
    "    #print(this_list)\n",
    "    #if len(this_list) < 2:\n",
    "    #    print('OK')\n",
    "    #    return(this_list)\n",
    "    §if this_min >= this_max:\n",
    "        print('OK - {}'.format(this_list))\n",
    "        print()\n",
    "        return(this_list)    \n",
    "    # Select pivot\n",
    "    \n",
    "    #pivot_pt = np.random.randint(0,len(this_list))\n",
    "    pivot_pt = 0\n",
    "    #print(type(pivot_pt))\n",
    "    #print(\"PIVOT:\",pivot)\n",
    "    less = this_list[0:pivot_pt]\n",
    "    gtr = this_list[pivot_pt+1:]\n",
    "    pivot = this_list[pivot_pt]\n",
    "    print(less, \"-\", pivot, \"-\", gtr)\n",
    "    \n",
    "    #print(qs(less, 0, len(less),iteration=iteration+1))\n",
    "    lower_sort = qs(less, 0, len(less),iteration=iteration+1)\n",
    "    upper_sort = qs(gtr, 0, len(gtr),iteration=iteration+1)\n",
    "    return lower_sort + pivot + upper_sort\n",
    "\n",
    "\n",
    "\n",
    "final = qs(my_list,0,len(my_list)-1,0)\n",
    "print(final)\n",
    "print(len(final))\n"
   ]
  },
  {
   "cell_type": "code",
   "execution_count": 13,
   "metadata": {},
   "outputs": [
    {
     "name": "stdout",
     "output_type": "stream",
     "text": [
      "[]\n",
      "[1, 2, 3, 4]\n",
      "[-5, -2, 3, 3, 5, 19]\n"
     ]
    }
   ],
   "source": [
    "from random import randrange\n",
    "\n",
    "def partition(lst, start, end, pivot):\n",
    "    lst[pivot], lst[end] = lst[end], lst[pivot]\n",
    "    store_index = start\n",
    "    for i in range(start, end):\n",
    "        if lst[i] < lst[end]:\n",
    "            lst[i], lst[store_index] = lst[store_index], lst[i]\n",
    "            store_index += 1\n",
    "    lst[store_index], lst[end] = lst[end], lst[store_index]\n",
    "    return store_index\n",
    "\n",
    "\n",
    "def quick_sort(lst, start, end):\n",
    "    if start >= end:\n",
    "        return lst\n",
    "    pivot = randrange(start, end + 1)\n",
    "    new_pivot = partition(lst, start, end, pivot)\n",
    "    quick_sort(lst, start, new_pivot - 1)\n",
    "    quick_sort(lst, new_pivot + 1, end)\n",
    "\n",
    "\n",
    "def sort(lst):\n",
    "    quick_sort(lst, 0, len(lst) - 1)\n",
    "    return lst\n",
    "\n",
    "print(sort([]))\n",
    "print(sort([1, 2, 3, 4]))\n",
    "print(sort([-5, 3, -2, 3, 19, 5])  )"
   ]
  },
  {
   "cell_type": "code",
   "execution_count": 14,
   "metadata": {},
   "outputs": [
    {
     "name": "stdout",
     "output_type": "stream",
     "text": [
      "[]\n",
      "None\n",
      "None\n"
     ]
    }
   ],
   "source": [
    "from random import randrange\n",
    "\n",
    "def partition(lst, start, end, pivot):\n",
    "    lst[pivot], lst[end] = lst[end], lst[pivot]\n",
    "    store_index = start\n",
    "    for i in range(start, end):\n",
    "        if lst[i] < lst[end]:\n",
    "            lst[i], lst[store_index] = lst[store_index], lst[i]\n",
    "            store_index += 1\n",
    "    lst[store_index], lst[end] = lst[end], lst[store_index]\n",
    "    return store_index\n",
    "\n",
    "\n",
    "def quick_sort(lst, start, end):\n",
    "    if start >= end:\n",
    "        return lst\n",
    "    pivot = randrange(start, end + 1)\n",
    "    new_pivot = partition(lst, start, end, pivot)\n",
    "    quick_sort(lst, start, new_pivot - 1)\n",
    "    quick_sort(lst, new_pivot + 1, end)\n",
    "\n",
    "\n",
    "def sort(lst):\n",
    "    quick_sort(lst, 0, len(lst) - 1)\n",
    "    return lst\n",
    "\n",
    "lst = []\n",
    "print(quick_sort(lst, 0, len(lst) - 1))\n",
    "lst = [1, 2, 3, 4]\n",
    "print(quick_sort(lst, 0, len(lst) - 1))\n",
    "lst = [-5, 3, -2, 3, 19, 5]\n",
    "print(quick_sort(lst, 0, len(lst) - 1)  )"
   ]
  },
  {
   "cell_type": "code",
   "execution_count": null,
   "metadata": {
    "collapsed": true
   },
   "outputs": [],
   "source": []
  }
 ],
 "metadata": {
  "kernelspec": {
   "display_name": "Python 3",
   "language": "python",
   "name": "python3"
  },
  "language_info": {
   "codemirror_mode": {
    "name": "ipython",
    "version": 3
   },
   "file_extension": ".py",
   "mimetype": "text/x-python",
   "name": "python",
   "nbconvert_exporter": "python",
   "pygments_lexer": "ipython3",
   "version": "3.6.3"
  }
 },
 "nbformat": 4,
 "nbformat_minor": 1
}
