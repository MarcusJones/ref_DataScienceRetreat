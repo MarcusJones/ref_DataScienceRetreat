{
 "cells": [
  {
   "cell_type": "code",
   "execution_count": 33,
   "metadata": {},
   "outputs": [],
   "source": [
    "def wallis(i):\n",
    "    #term = 4*i**2 / (4*i**2 - 1)\n",
    "    terms = [4*i**2 / (4*i**2 - 1) for i in range(1,i+1)]\n",
    "    #ans = term\n",
    "    \n",
    "    cum_prod = 1\n",
    "    for term in terms:\n",
    "        cum_prod = term * cum_prod\n",
    "    return(2*cum_prod)"
   ]
  },
  {
   "cell_type": "code",
   "execution_count": 35,
   "metadata": {},
   "outputs": [
    {
     "name": "stdout",
     "output_type": "stream",
     "text": [
      "3.1415141186819566\n"
     ]
    }
   ],
   "source": [
    "print(wallis(10000))"
   ]
  },
  {
   "cell_type": "code",
   "execution_count": 57,
   "metadata": {},
   "outputs": [
    {
     "data": {
      "text/plain": [
       "[0, 1, 1, 2, 3, 5, 8, 13, 21, 34, 55]"
      ]
     },
     "execution_count": 57,
     "metadata": {},
     "output_type": "execute_result"
    }
   ],
   "source": [
    "def fibo(n):\n",
    "    fib_seq = [0 for i in range(0,n+1)]\n",
    "    fib_seq[1] = 1\n",
    "    \n",
    "    for i,fib in enumerate(fib_seq):\n",
    "        #print(i,fib)\n",
    "        if i > 1:\n",
    "            fib_new = fib_seq[i-1] + fib_seq[i-2]\n",
    "            fib_seq[i] = fib_new\n",
    "            #print(fib_new)\n",
    "    return fib_seq\n",
    "fibo(10)"
   ]
  },
  {
   "cell_type": "markdown",
   "metadata": {},
   "source": [
    "function quicksort(array)\n",
    "    var list less, greater\n",
    "    if length(array) < 2\n",
    "        return array\n",
    "    select and remove a pivot value pivot from array\n",
    "    for each x in array\n",
    "        if x < pivot + 1 then append x to less\n",
    "        else append x to greater\n",
    "    return concatenate(quicksort(less), pivot, quicksort(greater))"
   ]
  },
  {
   "cell_type": "code",
   "execution_count": 67,
   "metadata": {},
   "outputs": [
    {
     "name": "stdout",
     "output_type": "stream",
     "text": [
      "[3 5 6 4 7 9 8 2 0 1]\n"
     ]
    }
   ],
   "source": [
    "import numpy as np\n",
    "my_list = list(range(0,10))\n",
    "my_list = np.random.permutation(my_list)\n",
    "print(my_list)"
   ]
  },
  {
   "cell_type": "code",
   "execution_count": 199,
   "metadata": {},
   "outputs": [
    {
     "name": "stdout",
     "output_type": "stream",
     "text": [
      "qs arr [10, 7, 8, 9, 1, 5], low 0, high 5\n",
      "Low < high\n",
      "[10, 7, 8, 9, 1, 5] 0 5\n",
      "qs arr [1, 5, 8, 9, 10, 7], low 0, high 0\n",
      "qs arr [1, 5, 8, 9, 10, 7], low 2, high 5\n",
      "Low < high\n",
      "[1, 5, 8, 9, 10, 7] 2 5\n",
      "qs arr [1, 5, 7, 9, 10, 8], low 2, high 1\n",
      "qs arr [1, 5, 7, 9, 10, 8], low 3, high 5\n",
      "Low < high\n",
      "[1, 5, 7, 9, 10, 8] 3 5\n",
      "qs arr [1, 5, 7, 8, 10, 9], low 3, high 2\n",
      "qs arr [1, 5, 7, 8, 10, 9], low 4, high 5\n",
      "Low < high\n",
      "[1, 5, 7, 8, 10, 9] 4 5\n",
      "qs arr [1, 5, 7, 8, 9, 10], low 4, high 3\n",
      "qs arr [1, 5, 7, 8, 9, 10], low 5, high 5\n",
      "Sorted array is: [1, 5, 7, 8, 9, 10]\n"
     ]
    }
   ],
   "source": [
    "# This function takes last element as pivot, places\n",
    "# the pivot element at its correct position in sorted\n",
    "# array, and places all smaller (smaller than pivot)\n",
    "# to left of pivot and all greater elements to right\n",
    "# of pivot\n",
    "def partition(arr,low,high):\n",
    "    print(arr,low,high)\n",
    "    i = ( low-1 )         # index of smaller element\n",
    "    pivot = arr[high]     # pivot\n",
    "    \n",
    "    # Loop over each element of this sub array\n",
    "    for j in range(low , high):\n",
    "        # If element is smaller than or equal to pivot\n",
    "        if arr[j] <= pivot:\n",
    "            # increment index of smaller element\n",
    "            i = i+1\n",
    "            # SWAP ELEMENTS\n",
    "            arr[i],arr[j] = arr[j],arr[i]\n",
    "            \n",
    "    arr[i+1],arr[high] = arr[high],arr[i+1]\n",
    "    return ( i+1 )\n",
    "\n",
    "# The main function that implements QuickSort\n",
    "# arr[] --> Array to be sorted,\n",
    "# low  --> Starting index,\n",
    "# high  --> Ending index\n",
    "\n",
    "# Function to do Quick sort\n",
    "def quickSort(arr,low,high):\n",
    "    print(\"qs arr {}, low {}, high {}\".format(arr,low,high))\n",
    "    if low < high:\n",
    "        print('Low < high')\n",
    "        # pi is partitioning index, arr[p] is now\n",
    "        # at right place\n",
    "        pi = partition(arr,low,high)\n",
    "        \n",
    "        # Separately sort elements before\n",
    "        # partition and after partition\n",
    "        quickSort(arr, low, pi-1)\n",
    "        quickSort(arr, pi+1, high)\n",
    "\n",
    "        \n",
    "arr = [10, 7, 8, 9, 1, 5]\n",
    "n = len(arr)\n",
    "quickSort(arr,0,n-1)\n",
    "print (\"Sorted array is: {}\".format(arr))"
   ]
  },
  {
   "cell_type": "code",
   "execution_count": 189,
   "metadata": {},
   "outputs": [
    {
     "name": "stdout",
     "output_type": "stream",
     "text": [
      "ITERATION 0 on [3 5 6 4 7 9 8 2 0 1], over 0 to 9\n",
      "[] - 3 - [5 6 4 7 9 8 2 0 1]\n",
      "ITERATION 1 on [], over 0 to 0\n",
      "OK - []\n",
      "\n",
      "ITERATION 1 on [5 6 4 7 9 8 2 0 1], over 0 to 9\n",
      "[] - 5 - [6 4 7 9 8 2 0 1]\n",
      "ITERATION 2 on [], over 0 to 0\n",
      "OK - []\n",
      "\n",
      "ITERATION 2 on [6 4 7 9 8 2 0 1], over 0 to 8\n",
      "[] - 6 - [4 7 9 8 2 0 1]\n",
      "ITERATION 3 on [], over 0 to 0\n",
      "OK - []\n",
      "\n",
      "ITERATION 3 on [4 7 9 8 2 0 1], over 0 to 7\n",
      "[] - 4 - [7 9 8 2 0 1]\n",
      "ITERATION 4 on [], over 0 to 0\n",
      "OK - []\n",
      "\n",
      "ITERATION 4 on [7 9 8 2 0 1], over 0 to 6\n",
      "[] - 7 - [9 8 2 0 1]\n",
      "ITERATION 5 on [], over 0 to 0\n",
      "OK - []\n",
      "\n",
      "ITERATION 5 on [9 8 2 0 1], over 0 to 5\n",
      "[] - 9 - [8 2 0 1]\n",
      "ITERATION 6 on [], over 0 to 0\n",
      "OK - []\n",
      "\n",
      "ITERATION 6 on [8 2 0 1], over 0 to 4\n",
      "[] - 8 - [2 0 1]\n",
      "ITERATION 7 on [], over 0 to 0\n",
      "OK - []\n",
      "\n",
      "ITERATION 7 on [2 0 1], over 0 to 3\n",
      "[] - 2 - [0 1]\n",
      "ITERATION 8 on [], over 0 to 0\n",
      "OK - []\n",
      "\n",
      "ITERATION 8 on [0 1], over 0 to 2\n",
      "[] - 0 - [1]\n",
      "ITERATION 9 on [], over 0 to 0\n",
      "OK - []\n",
      "\n",
      "ITERATION 9 on [1], over 0 to 1\n",
      "[] - 1 - []\n",
      "ITERATION 10 on [], over 0 to 0\n",
      "OK - []\n",
      "\n",
      "ITERATION 10 on [], over 0 to 0\n",
      "OK - []\n",
      "\n",
      "[]\n",
      "0\n"
     ]
    }
   ],
   "source": [
    "def qs(this_list, this_min, this_max, iteration):\n",
    "    print(\"ITERATION {} on {}, over {} to {}\".format(iteration, this_list,this_min,this_max))\n",
    "    #print(this_list)\n",
    "    #if len(this_list) < 2:\n",
    "    #    print('OK')\n",
    "    #    return(this_list)\n",
    "    §if this_min >= this_max:\n",
    "        print('OK - {}'.format(this_list))\n",
    "        print()\n",
    "        return(this_list)    \n",
    "    # Select pivot\n",
    "    \n",
    "    #pivot_pt = np.random.randint(0,len(this_list))\n",
    "    pivot_pt = 0\n",
    "    #print(type(pivot_pt))\n",
    "    #print(\"PIVOT:\",pivot)\n",
    "    less = this_list[0:pivot_pt]\n",
    "    gtr = this_list[pivot_pt+1:]\n",
    "    pivot = this_list[pivot_pt]\n",
    "    print(less, \"-\", pivot, \"-\", gtr)\n",
    "    \n",
    "    #print(qs(less, 0, len(less),iteration=iteration+1))\n",
    "    lower_sort = qs(less, 0, len(less),iteration=iteration+1)\n",
    "    upper_sort = qs(gtr, 0, len(gtr),iteration=iteration+1)\n",
    "    return lower_sort + pivot + upper_sort\n",
    "\n",
    "\n",
    "\n",
    "final = qs(my_list,0,len(my_list)-1,0)\n",
    "print(final)\n",
    "print(len(final))\n"
   ]
  },
  {
   "cell_type": "code",
   "execution_count": 187,
   "metadata": {},
   "outputs": [
    {
     "name": "stdout",
     "output_type": "stream",
     "text": [
      "[]\n",
      "[1, 2, 3, 4]\n",
      "[-5, -2, 3, 3, 5, 19]\n"
     ]
    }
   ],
   "source": [
    "from random import randrange\n",
    "\n",
    "def partition(lst, start, end, pivot):\n",
    "    lst[pivot], lst[end] = lst[end], lst[pivot]\n",
    "    store_index = start\n",
    "    for i in range(start, end):\n",
    "        if lst[i] < lst[end]:\n",
    "            lst[i], lst[store_index] = lst[store_index], lst[i]\n",
    "            store_index += 1\n",
    "    lst[store_index], lst[end] = lst[end], lst[store_index]\n",
    "    return store_index\n",
    "\n",
    "\n",
    "def quick_sort(lst, start, end):\n",
    "    if start >= end:\n",
    "        return lst\n",
    "    pivot = randrange(start, end + 1)\n",
    "    new_pivot = partition(lst, start, end, pivot)\n",
    "    quick_sort(lst, start, new_pivot - 1)\n",
    "    quick_sort(lst, new_pivot + 1, end)\n",
    "\n",
    "\n",
    "def sort(lst):\n",
    "    quick_sort(lst, 0, len(lst) - 1)\n",
    "    return lst\n",
    "\n",
    "print(sort([]))\n",
    "print(sort([1, 2, 3, 4]))\n",
    "print(sort([-5, 3, -2, 3, 19, 5])  )"
   ]
  },
  {
   "cell_type": "code",
   "execution_count": 188,
   "metadata": {},
   "outputs": [
    {
     "name": "stdout",
     "output_type": "stream",
     "text": [
      "[]\n",
      "None\n",
      "None\n"
     ]
    }
   ],
   "source": [
    "from random import randrange\n",
    "\n",
    "def partition(lst, start, end, pivot):\n",
    "    lst[pivot], lst[end] = lst[end], lst[pivot]\n",
    "    store_index = start\n",
    "    for i in range(start, end):\n",
    "        if lst[i] < lst[end]:\n",
    "            lst[i], lst[store_index] = lst[store_index], lst[i]\n",
    "            store_index += 1\n",
    "    lst[store_index], lst[end] = lst[end], lst[store_index]\n",
    "    return store_index\n",
    "\n",
    "\n",
    "def quick_sort(lst, start, end):\n",
    "    if start >= end:\n",
    "        return lst\n",
    "    pivot = randrange(start, end + 1)\n",
    "    new_pivot = partition(lst, start, end, pivot)\n",
    "    quick_sort(lst, start, new_pivot - 1)\n",
    "    quick_sort(lst, new_pivot + 1, end)\n",
    "\n",
    "\n",
    "def sort(lst):\n",
    "    quick_sort(lst, 0, len(lst) - 1)\n",
    "    return lst\n",
    "\n",
    "lst = []\n",
    "print(quick_sort(lst, 0, len(lst) - 1))\n",
    "lst = [1, 2, 3, 4]\n",
    "print(quick_sort(lst, 0, len(lst) - 1))\n",
    "lst = [-5, 3, -2, 3, 19, 5]\n",
    "print(quick_sort(lst, 0, len(lst) - 1)  )"
   ]
  }
 ],
 "metadata": {
  "kernelspec": {
   "display_name": "Python 3",
   "language": "python",
   "name": "python3"
  },
  "language_info": {
   "codemirror_mode": {
    "name": "ipython",
    "version": 3
   },
   "file_extension": ".py",
   "mimetype": "text/x-python",
   "name": "python",
   "nbconvert_exporter": "python",
   "pygments_lexer": "ipython3",
   "version": "3.6.3"
  }
 },
 "nbformat": 4,
 "nbformat_minor": 1
}
