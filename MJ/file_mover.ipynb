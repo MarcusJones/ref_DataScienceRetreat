{
 "cells": [
  {
   "cell_type": "code",
   "execution_count": 2,
   "metadata": {},
   "outputs": [],
   "source": [
    "import os"
   ]
  },
  {
   "cell_type": "code",
   "execution_count": 15,
   "metadata": {},
   "outputs": [],
   "source": [
    "path_project = r\"/home/batman/Dropbox/DATA/cats_dogs_all_test_split\"\n",
    "path_target = r\"/home/batman/Dropbox/DATA/cats_dogs_all_test_split\"\n",
    "path_val = os.path.join(path_project,'val')\n",
    "path_train = os.path.join(path_project,'train')\n",
    "path_my_test = os.path.join(path_project,'my_test')"
   ]
  },
  {
   "cell_type": "code",
   "execution_count": 25,
   "metadata": {},
   "outputs": [
    {
     "name": "stdout",
     "output_type": "stream",
     "text": [
      "10000\n",
      "2000\n",
      "[('/home/batman/Dropbox/DATA/cats_dogs_all_test_split/train/cats/cat.12321.jpg', '/home/batman/Dropbox/DATA/cats_dogs_all_test_split/cats/cat.12321.jpg'), ('/home/batman/Dropbox/DATA/cats_dogs_all_test_split/train/cats/cat.6996.jpg', '/home/batman/Dropbox/DATA/cats_dogs_all_test_split/cats/cat.6996.jpg'), ('/home/batman/Dropbox/DATA/cats_dogs_all_test_split/train/cats/cat.4322.jpg', '/home/batman/Dropbox/DATA/cats_dogs_all_test_split/cats/cat.4322.jpg'), ('/home/batman/Dropbox/DATA/cats_dogs_all_test_split/train/cats/cat.347.jpg', '/home/batman/Dropbox/DATA/cats_dogs_all_test_split/cats/cat.347.jpg'), ('/home/batman/Dropbox/DATA/cats_dogs_all_test_split/train/cats/cat.7753.jpg', '/home/batman/Dropbox/DATA/cats_dogs_all_test_split/cats/cat.7753.jpg'), ('/home/batman/Dropbox/DATA/cats_dogs_all_test_split/train/cats/cat.12476.jpg', '/home/batman/Dropbox/DATA/cats_dogs_all_test_split/cats/cat.12476.jpg'), ('/home/batman/Dropbox/DATA/cats_dogs_all_test_split/train/cats/cat.9728.jpg', '/home/batman/Dropbox/DATA/cats_dogs_all_test_split/cats/cat.9728.jpg'), ('/home/batman/Dropbox/DATA/cats_dogs_all_test_split/train/cats/cat.11896.jpg', '/home/batman/Dropbox/DATA/cats_dogs_all_test_split/cats/cat.11896.jpg'), ('/home/batman/Dropbox/DATA/cats_dogs_all_test_split/train/cats/cat.1480.jpg', '/home/batman/Dropbox/DATA/cats_dogs_all_test_split/cats/cat.1480.jpg'), ('/home/batman/Dropbox/DATA/cats_dogs_all_test_split/train/cats/cat.10272.jpg', '/home/batman/Dropbox/DATA/cats_dogs_all_test_split/cats/cat.10272.jpg')]\n",
      "10000\n",
      "2000\n",
      "[('/home/batman/Dropbox/DATA/cats_dogs_all_test_split/train/dogs/dog.7597.jpg', '/home/batman/Dropbox/DATA/cats_dogs_all_test_split/dogs/dog.7597.jpg'), ('/home/batman/Dropbox/DATA/cats_dogs_all_test_split/train/dogs/dog.6719.jpg', '/home/batman/Dropbox/DATA/cats_dogs_all_test_split/dogs/dog.6719.jpg'), ('/home/batman/Dropbox/DATA/cats_dogs_all_test_split/train/dogs/dog.12287.jpg', '/home/batman/Dropbox/DATA/cats_dogs_all_test_split/dogs/dog.12287.jpg'), ('/home/batman/Dropbox/DATA/cats_dogs_all_test_split/train/dogs/dog.10731.jpg', '/home/batman/Dropbox/DATA/cats_dogs_all_test_split/dogs/dog.10731.jpg'), ('/home/batman/Dropbox/DATA/cats_dogs_all_test_split/train/dogs/dog.3884.jpg', '/home/batman/Dropbox/DATA/cats_dogs_all_test_split/dogs/dog.3884.jpg'), ('/home/batman/Dropbox/DATA/cats_dogs_all_test_split/train/dogs/dog.8582.jpg', '/home/batman/Dropbox/DATA/cats_dogs_all_test_split/dogs/dog.8582.jpg'), ('/home/batman/Dropbox/DATA/cats_dogs_all_test_split/train/dogs/dog.460.jpg', '/home/batman/Dropbox/DATA/cats_dogs_all_test_split/dogs/dog.460.jpg'), ('/home/batman/Dropbox/DATA/cats_dogs_all_test_split/train/dogs/dog.4916.jpg', '/home/batman/Dropbox/DATA/cats_dogs_all_test_split/dogs/dog.4916.jpg'), ('/home/batman/Dropbox/DATA/cats_dogs_all_test_split/train/dogs/dog.9309.jpg', '/home/batman/Dropbox/DATA/cats_dogs_all_test_split/dogs/dog.9309.jpg'), ('/home/batman/Dropbox/DATA/cats_dogs_all_test_split/train/dogs/dog.1501.jpg', '/home/batman/Dropbox/DATA/cats_dogs_all_test_split/dogs/dog.1501.jpg')]\n"
     ]
    }
   ],
   "source": [
    "this_dir = path_train\n",
    "num_to_mv = 2000\n",
    "for this_class in ['cats', 'dogs']:\n",
    "    class_dir = os.path.join(this_dir,this_class)\n",
    "    pths = os.listdir(class_dir)\n",
    "    \n",
    "    sel = np.random.choice(pths,size = num_to_mv,replace=False)\n",
    "    print(len(pths))\n",
    "    print(len(sel))\n",
    "    paths_src = [os.path.join(this_dir,this_class,s) for s in sel]\n",
    "    paths_dest = [os.path.join(path_target,this_class,s) for s in sel]\n",
    "    mv_orders = list(zip(paths_src,paths_dest))\n",
    "    print(mv_orders[0:10])\n",
    "    [os.renames(src, dest) for src,dest in mv_orders]\n",
    "    #os.rename(src, dest) for pair in \n",
    "    #print(sel)"
   ]
  },
  {
   "cell_type": "code",
   "execution_count": 6,
   "metadata": {},
   "outputs": [
    {
     "data": {
      "text/plain": [
       "2"
      ]
     },
     "execution_count": 6,
     "metadata": {},
     "output_type": "execute_result"
    }
   ],
   "source": []
  },
  {
   "cell_type": "code",
   "execution_count": null,
   "metadata": {},
   "outputs": [],
   "source": []
  },
  {
   "cell_type": "code",
   "execution_count": null,
   "metadata": {},
   "outputs": [],
   "source": []
  },
  {
   "cell_type": "code",
   "execution_count": null,
   "metadata": {},
   "outputs": [],
   "source": [
    "cat_files_path = os.path.join(files_path, 'cat*.jpg')\n",
    "dog_files_path = os.path.join(files_path, 'dog*.jpg')"
   ]
  }
 ],
 "metadata": {
  "kernelspec": {
   "display_name": "Python 3",
   "language": "python",
   "name": "python3"
  },
  "language_info": {
   "codemirror_mode": {
    "name": "ipython",
    "version": 3
   },
   "file_extension": ".py",
   "mimetype": "text/x-python",
   "name": "python",
   "nbconvert_exporter": "python",
   "pygments_lexer": "ipython3",
   "version": "3.6.5"
  }
 },
 "nbformat": 4,
 "nbformat_minor": 2
}
