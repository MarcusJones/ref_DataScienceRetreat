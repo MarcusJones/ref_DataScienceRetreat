{
 "cells": [
  {
   "cell_type": "markdown",
   "metadata": {},
   "source": [
    "### Imports"
   ]
  },
  {
   "cell_type": "code",
   "execution_count": 1,
   "metadata": {},
   "outputs": [
    {
     "name": "stdout",
     "output_type": "stream",
     "text": [
      "Loaded modules:\n",
      "numpy                np              1.14.0\n",
      "pandas               pd              0.22.0\n",
      "sklearn              sk              0.19.1\n",
      "keras                ks              2.1.4\n",
      "\n",
      "matplotlib           mpl             2.1.2\n",
      "matplotlib.pyplot    plt             N/A\n",
      "matplotlib.image     mpimg           N/A\n",
      "seaborn              sns             0.8.1\n",
      "PIL                  PIL             5.0.0\n",
      "\n",
      "ExergyUtilities      exergy          2.0.\n",
      "\n",
      "pyspark              pyspark         2.2.1\n"
     ]
    }
   ],
   "source": [
    "import os, re, logging, json\n",
    "from pprint import pprint\n",
    "from tqdm import tqdm\n",
    "from sklearn.metrics import confusion_matrix\n",
    "import cv2 #conda install --channel https://conda.anaconda.org/menpo opencv3\n",
    "from datetime import datetime\n",
    "import random\n",
    "import time\n",
    "\n",
    "print_imports()"
   ]
  },
  {
   "cell_type": "code",
   "execution_count": 2,
   "metadata": {},
   "outputs": [],
   "source": [
    "mod_path = r\"/home/batman/git/ai_drive/src\"\n",
    "sys.path.append(mod_path)\n",
    "logging.debug(\"ADDED TO PATH: \".format(mod_path))\n",
    "import drive.analysis_offline as analysis\n",
    "import drive.my_generators as my_generators\n",
    "import drive.my_plotting as my_plotting"
   ]
  },
  {
   "cell_type": "markdown",
   "metadata": {},
   "source": [
    "### Paths"
   ]
  },
  {
   "cell_type": "code",
   "execution_count": 3,
   "metadata": {},
   "outputs": [],
   "source": [
    "# Project path\n",
    "this_project_path = r\"/media/batman/USB STICK\"\n",
    "project_name = r'catdogruns'\n",
    "path_root_project = os.path.join(this_project_path,project_name)\n",
    "assert os.path.exists(path_root_project)\n",
    "\n",
    "# Full data\n",
    "path_data_root = r\"/home/batman/Dropbox/DATA/cats_dogs_all_test_split\"\n",
    "path_test = os.path.join(path_data_root, 'my_test')\n",
    "\n",
    "# Test data path\n",
    "path_cats = os.path.join(path_test,'cats')\n",
    "path_dogs = os.path.join(path_test,'dogs')\n",
    "\n",
    "### Constants\n",
    "IMG_SIZE = 150\n",
    "layer_funcs = analysis.LAYER_FUNCS"
   ]
  },
  {
   "cell_type": "markdown",
   "metadata": {},
   "source": [
    "## Main Loop"
   ]
  },
  {
   "cell_type": "code",
   "execution_count": 29,
   "metadata": {},
   "outputs": [
    {
     "name": "stdout",
     "output_type": "stream",
     "text": [
      "root  - 10  - <ipython-input-29-6fe241528d30>  <module>                      : **** RUN run001 ****\n",
      "start; 2018-03-21 11:11:50\n",
      "elapsed; 441.8\n",
      "generator; my_generators         get_train_generator_simple    : Training\n",
      "root  - 20  - analysis_offline      get_weights                   : Found 19 weights files, total 501 MB = 26.4 MB per file\n",
      "root  - 10  - analysis_offline      get_architecture_path         : Found architecture file at /media/batman/USB STICK/catdogruns/run001/saved_model_architecture.json\n",
      "root  - 10  - analysis_offline      load_model                    : Model instantiated <keras.models.Sequential object at 0x7f56fd579ac8>\n",
      "root  - 10  - analysis_offline      get_architecture_path         : Found architecture file at /media/batman/USB STICK/catdogruns/run001/saved_model_architecture.json\n",
      "root  - 10  - analysis_offline      read_model_json               : Model json string loaded\n",
      "root  - 10  - analysis_offline      count_params                  : Total 3453121, Trainable 3453121, Non-Trainable\n",
      "root  - 10  - <ipython-input-29-6fe241528d30>  <module>                      : Loaded weights into model\n",
      "0.5\n",
      "{'elapsed': 441.8,\n",
      " 'generator': 'my_generators         get_train_generator_simple    : Training',\n",
      " 'start': '2018-03-21 11:11:50'}\n"
     ]
    },
    {
     "ename": "RuntimeError",
     "evalue": "No active exception to reraise",
     "output_type": "error",
     "traceback": [
      "\u001b[0;31m---------------------------------------------------------------------------\u001b[0m",
      "\u001b[0;31mRuntimeError\u001b[0m                              Traceback (most recent call last)",
      "\u001b[0;32m<ipython-input-29-6fe241528d30>\u001b[0m in \u001b[0;36m<module>\u001b[0;34m()\u001b[0m\n\u001b[1;32m     58\u001b[0m         \u001b[0;31m#print(i,layer_str)\u001b[0m\u001b[0;34m\u001b[0m\u001b[0;34m\u001b[0m\u001b[0m\n\u001b[1;32m     59\u001b[0m     \u001b[0mpprint\u001b[0m\u001b[0;34m(\u001b[0m\u001b[0msummary\u001b[0m\u001b[0;34m)\u001b[0m\u001b[0;34m\u001b[0m\u001b[0m\n\u001b[0;32m---> 60\u001b[0;31m     \u001b[0;32mraise\u001b[0m\u001b[0;34m\u001b[0m\u001b[0m\n\u001b[0m\u001b[1;32m     61\u001b[0m \u001b[0;34m\u001b[0m\u001b[0m\n\u001b[1;32m     62\u001b[0m     \u001b[0;31m###### History ######\u001b[0m\u001b[0;34m\u001b[0m\u001b[0;34m\u001b[0m\u001b[0m\n",
      "\u001b[0;31mRuntimeError\u001b[0m: No active exception to reraise"
     ]
    }
   ],
   "source": [
    "run_folders = [dir for dir in os.listdir(path_root_project) if re.match('run',dir)]\n",
    "run_folders.sort()\n",
    "\n",
    "# Loop run folders\n",
    "for rfolder in run_folders:\n",
    "    \n",
    "    summary=dict()\n",
    "    \n",
    "    this_run_path = os.path.join(path_root_project,rfolder)\n",
    "    logging.debug('**** RUN {} ****'.format(rfolder))\n",
    "    \n",
    "    ###### Log file ######\n",
    "    log = analysis.get_log_file(this_run_path)\n",
    "       \n",
    "    \n",
    "    print('start;',log['start'])\n",
    "    summary['start'] = log['start'].__str__()\n",
    "    print('elapsed; {:.1f}'.format(log['elapsed'].seconds/60))\n",
    "    summary['elapsed'] = log['elapsed'].seconds/60\n",
    "    print('generator;',log['generator'])\n",
    "    summary['generator'] = log['generator']\n",
    "    \n",
    "    ###### Weights ######\n",
    "    wts = analysis.get_weights(this_run_path)\n",
    "    if wts: best_wt = wts[-1] # BEST weight (last weight)\n",
    "    \n",
    "    ###### Architecture ######\n",
    "    model = analysis.load_model(this_run_path)\n",
    "    arch_dict = analysis.read_model_json(this_run_path)\n",
    "    \n",
    "    #pprint(arch_dict)\n",
    "    #raise\n",
    "    \n",
    "    #model.summary()\n",
    "    parameter_counts = analysis.count_params(model)\n",
    "    #print(analysis.count_params(model))\n",
    "    \n",
    "    ##### Reload weights #####\n",
    "    if wts:\n",
    "        #print(best_wt)\n",
    "        model.load_weights(best_wt['path'])\n",
    "        logging.debug(\"Loaded weights into model\")\n",
    "    \n",
    "    #raise\n",
    "    ###### Loop layers ######\n",
    "    res = {i:layer for i,layer in enumerate(arch_dict['config'])}\n",
    "    #print(res)\n",
    "    #raise\n",
    "    for i,layer in enumerate(arch_dict['config']):\n",
    "        if layer['class_name'] == 'Dropout':\n",
    "            print(layer['config']['rate'])\n",
    "        #print(layer['class_name'])\n",
    "        #pprint(layer)\n",
    "        #layer_str = layer_funcs[layer['class_name']](layer)\n",
    "        #print(i,layer_str)\n",
    "    pprint(summary)\n",
    "    raise\n",
    "    \n",
    "    ###### History ######\n",
    "    path_hist = analysis.get_history(this_run_path)    \n",
    "    with open(path_hist) as hist_file:\n",
    "        hist_dict = json.load(hist_file)\n",
    "    print(\"Epochs\",hist_dict['params']['epochs'])\n",
    "    print(\"Steps\",hist_dict['params']['steps'])\n",
    "    \n",
    "    #my_plotting.plot_hist_dict(hist_dict)\n",
    "    #del model\n",
    "    #raise\n"
   ]
  },
  {
   "cell_type": "markdown",
   "metadata": {},
   "source": [
    "## Iterate over the test images"
   ]
  },
  {
   "cell_type": "markdown",
   "metadata": {},
   "source": [
    "generator"
   ]
  },
  {
   "cell_type": "code",
   "execution_count": 5,
   "metadata": {},
   "outputs": [],
   "source": [
    "#cm = confusion_matrix(y, preds)"
   ]
  },
  {
   "cell_type": "code",
   "execution_count": 6,
   "metadata": {},
   "outputs": [
    {
     "name": "stdout",
     "output_type": "stream",
     "text": [
      "Found 5000 images belonging to 2 classes.\n"
     ]
    }
   ],
   "source": [
    "import keras.preprocessing.image\n",
    "test_datagen_real = ks.preprocessing.image.ImageDataGenerator(rescale=1. / 255)\n",
    "\n",
    "test_generator = test_datagen_real.flow_from_directory(\n",
    "        path_test,\n",
    "        target_size = (150,150),\n",
    "        batch_size = 500,\n",
    "        shuffle=False,\n",
    "        #class_mode = \"binary\",\n",
    "    );\n"
   ]
  },
  {
   "cell_type": "code",
   "execution_count": 7,
   "metadata": {},
   "outputs": [],
   "source": [
    "# Data generation constants\n",
    "num_batches = len(test_generator)\n",
    "num_files = test_generator.n\n",
    "batch_size = test_generator.batch_size\n",
    "\n",
    "# Get filename numbers (indices)\n",
    "fnames = test_generator.filenames\n",
    "nums = [re.search('(?P<num>\\d+).jpg',f).groups()[0]  for f in fnames]\n",
    "nums = [int(n)  for n in nums]"
   ]
  },
  {
   "cell_type": "code",
   "execution_count": 8,
   "metadata": {},
   "outputs": [
    {
     "name": "stdout",
     "output_type": "stream",
     "text": [
      "root  - 10  - <ipython-input-8-de31b1a35d40>  <module>                      : 1 seen 500 / 5000 = 10.0%\n",
      "root  - 10  - <ipython-input-8-de31b1a35d40>  <module>                      : 2 seen 1000 / 5000 = 20.0%\n",
      "root  - 10  - <ipython-input-8-de31b1a35d40>  <module>                      : 3 seen 1500 / 5000 = 30.0%\n",
      "root  - 10  - <ipython-input-8-de31b1a35d40>  <module>                      : 4 seen 2000 / 5000 = 40.0%\n",
      "root  - 10  - <ipython-input-8-de31b1a35d40>  <module>                      : 5 seen 2500 / 5000 = 50.0%\n",
      "root  - 10  - <ipython-input-8-de31b1a35d40>  <module>                      : 6 seen 3000 / 5000 = 60.0%\n",
      "root  - 10  - <ipython-input-8-de31b1a35d40>  <module>                      : 7 seen 3500 / 5000 = 70.0%\n",
      "root  - 10  - <ipython-input-8-de31b1a35d40>  <module>                      : 8 seen 4000 / 5000 = 80.0%\n",
      "root  - 10  - <ipython-input-8-de31b1a35d40>  <module>                      : 9 seen 4500 / 5000 = 90.0%\n",
      "root  - 10  - <ipython-input-8-de31b1a35d40>  <module>                      : 0 seen 5000 / 5000 = 100.0%\n"
     ]
    },
    {
     "ename": "IndexError",
     "evalue": "tuple index out of range",
     "output_type": "error",
     "traceback": [
      "\u001b[0;31m---------------------------------------------------------------------------\u001b[0m",
      "\u001b[0;31mIndexError\u001b[0m                                Traceback (most recent call last)",
      "\u001b[0;32m<ipython-input-8-de31b1a35d40>\u001b[0m in \u001b[0;36m<module>\u001b[0;34m()\u001b[0m\n\u001b[1;32m     25\u001b[0m \u001b[0;34m\u001b[0m\u001b[0m\n\u001b[1;32m     26\u001b[0m \u001b[0mt1\u001b[0m \u001b[0;34m=\u001b[0m \u001b[0mtime\u001b[0m\u001b[0;34m.\u001b[0m\u001b[0mtime\u001b[0m\u001b[0;34m(\u001b[0m\u001b[0;34m)\u001b[0m\u001b[0;34m\u001b[0m\u001b[0m\n\u001b[0;32m---> 27\u001b[0;31m \u001b[0mlogging\u001b[0m\u001b[0;34m.\u001b[0m\u001b[0mdebug\u001b[0m\u001b[0;34m(\u001b[0m\u001b[0;34m\"Processed {} images in {} batches. Elapsed time: {}}\"\u001b[0m\u001b[0;34m.\u001b[0m\u001b[0mformat\u001b[0m\u001b[0;34m(\u001b[0m\u001b[0mseen_files\u001b[0m\u001b[0;34m,\u001b[0m \u001b[0mnum_batches\u001b[0m\u001b[0;34m,\u001b[0m \u001b[0mtotal\u001b[0m \u001b[0;34m=\u001b[0m \u001b[0mt1\u001b[0m\u001b[0;34m-\u001b[0m\u001b[0mt0\u001b[0m\u001b[0;34m)\u001b[0m\u001b[0;34m)\u001b[0m\u001b[0;34m\u001b[0m\u001b[0m\n\u001b[0m",
      "\u001b[0;31mIndexError\u001b[0m: tuple index out of range"
     ]
    }
   ],
   "source": [
    "seen_files = 0\n",
    "test_generator.reset()\n",
    "predictions_list = list()\n",
    "\n",
    "t0 = time.time()\n",
    "\n",
    "for i,batch in enumerate(test_generator):\n",
    "    # Tally the actual seen images (tensor layers)\n",
    "    seen_files += batch[0].shape[0]\n",
    "    \n",
    "    # Current index\n",
    "    idx = test_generator.batch_index\n",
    "    \n",
    "    # Report\n",
    "    logging.debug(\"{} seen {} / {} = {:.1f}%\".format(idx,seen_files,num_files,seen_files/num_files*100))\n",
    "\n",
    "    # Make predictions and append\n",
    "    predictions = model.predict(batch[0])\n",
    "    predictions = [i[0] for i in predictions]\n",
    "    predictions_list += predictions\n",
    "    \n",
    "    # Seen all batches, break the loop \n",
    "    if i+1 == num_batches:\n",
    "        break\n",
    "\n",
    "t1 = time.time()        \n",
    "logging.debug(\"Processed {} images in {} batches. Elapsed time: {}}\".format(seen_files, num_batches, total = t1-t0))"
   ]
  },
  {
   "cell_type": "code",
   "execution_count": null,
   "metadata": {},
   "outputs": [],
   "source": [
    "assert len(predictions_list) == len(nums)\n",
    "df_test = pd.DataFrame({'predicted probability':predictions_list},index = nums)\n",
    "df_test.sort_index(inplace=True)\n",
    "df_test.head()"
   ]
  },
  {
   "cell_type": "code",
   "execution_count": null,
   "metadata": {},
   "outputs": [],
   "source": [
    "assert len(df_test) == len(df_solutions)\n",
    "assert (df_test.index == df_solutions.index).all()\n",
    "df_acc = df_solutions.join(df_test)\n",
    "df_acc.dtypes\n",
    "df_acc.head()"
   ]
  },
  {
   "cell_type": "markdown",
   "metadata": {},
   "source": [
    "Write results"
   ]
  },
  {
   "cell_type": "code",
   "execution_count": null,
   "metadata": {},
   "outputs": [],
   "source": [
    "with open('submission_file.csv','w') as f:\n",
    "    f.write('id,label\\n')\n",
    "            \n",
    "with open('submission_file.csv','a') as f:\n",
    "    for data in tqdm(test_data):\n",
    "        img_num = data[1]\n",
    "        img_data = data[0]\n",
    "        orig = img_data\n",
    "        data = img_data.reshape(IMG_SIZE,IMG_SIZE,1)\n",
    "        model_out = model.predict([data])[0]\n",
    "        f.write('{},{}\\n'.format(img_num,model_out[1]))"
   ]
  },
  {
   "cell_type": "code",
   "execution_count": null,
   "metadata": {},
   "outputs": [],
   "source": []
  },
  {
   "cell_type": "code",
   "execution_count": null,
   "metadata": {},
   "outputs": [],
   "source": []
  },
  {
   "cell_type": "code",
   "execution_count": null,
   "metadata": {},
   "outputs": [],
   "source": []
  },
  {
   "cell_type": "markdown",
   "metadata": {},
   "source": [
    "Make a single prediction"
   ]
  },
  {
   "cell_type": "code",
   "execution_count": null,
   "metadata": {},
   "outputs": [],
   "source": [
    "\n",
    "    #img=mpimg.imread(this_img_path)\n",
    "    \n",
    "    #img = mpimg.open(this_img_path)\n",
    "    #img.load()\n",
    "    \n",
    "    \n",
    "    #img = Image.open(this_img_path)\n",
    "    #img.load()\n",
    "\n",
    "\n",
    "\n",
    "    \n",
    "    this_ax = fig.add_subplot(rows, columns, i)\n",
    "\n",
    "    this_ax.set_title(\"{} {} {}\".format(name, number, img.shape,))\n",
    "    plt.imshow(img)\n",
    "    plt.axis(\"off\")\n",
    "plt.show()"
   ]
  },
  {
   "cell_type": "code",
   "execution_count": null,
   "metadata": {},
   "outputs": [],
   "source": []
  },
  {
   "cell_type": "code",
   "execution_count": null,
   "metadata": {},
   "outputs": [],
   "source": [
    "this_img_path = random.sample(test_image_paths,1)[0]\n",
    "assert os.path.exists(this_img_path)\n",
    "fname = os.path.split(this_img_path)[-1]\n",
    "name, ext = fname.split(\".\")\n",
    "num = int(name)\n",
    "\n",
    "img=mpimg.imread(this_img_path)\n",
    "#nop = np.array([None])\n",
    "img = img[np.newaxis]\n",
    "print(img.shape)\n",
    "#img = np.append(nop, )\n",
    "#cd_predict(model,img)\n",
    "#model.predict(img, verbose=0)\n",
    "#fit_img = test_datagen.fit(img)\n",
    "fit_img_gen = test_datagen.flow(img)\n",
    "for fit_img in fit_img_gen:\n",
    "    print(fit_img.shape)\n",
    "    model.predict(fit_img)\n",
    "\n"
   ]
  },
  {
   "cell_type": "markdown",
   "metadata": {},
   "source": [
    "Get a sample"
   ]
  },
  {
   "cell_type": "code",
   "execution_count": null,
   "metadata": {},
   "outputs": [],
   "source": [
    "sample = random.sample(test_image_paths,1)\n",
    "for p in sample:\n",
    "    print(p)"
   ]
  },
  {
   "cell_type": "code",
   "execution_count": null,
   "metadata": {},
   "outputs": [],
   "source": [
    "def cd_predict(model,img):\n",
    "    print(\"making predictions on test set...\")\n",
    "    predictions = model.predict(img, verbose=0)\n",
    "    return predictions\n"
   ]
  },
  {
   "cell_type": "code",
   "execution_count": null,
   "metadata": {},
   "outputs": [],
   "source": [
    "model.evaluate(test_data, test_labels_one_hot)"
   ]
  },
  {
   "cell_type": "code",
   "execution_count": null,
   "metadata": {},
   "outputs": [],
   "source": [
    "#import Image\n",
    "#\n",
    "\n",
    "color = (17/255,17/255,17/255)\n"
   ]
  },
  {
   "cell_type": "code",
   "execution_count": null,
   "metadata": {},
   "outputs": [],
   "source": [
    "#model\n"
   ]
  },
  {
   "cell_type": "code",
   "execution_count": null,
   "metadata": {},
   "outputs": [],
   "source": [
    "predictions = model.predict(test, verbose=0)"
   ]
  },
  {
   "cell_type": "code",
   "execution_count": null,
   "metadata": {},
   "outputs": [],
   "source": [
    "for i in range(0,10):\n",
    "    if predictions[i, 0] >= 0.5: \n",
    "        print('I am {:.2%} sure this is a Dog'.format(predictions[i][0]))\n",
    "    else: \n",
    "        print('I am {:.2%} sure this is a Cat'.format(1-predictions[i][0]))\n",
    "        \n",
    "    plt.imshow(test[i].T)\n",
    "    plt.show()"
   ]
  }
 ],
 "metadata": {
  "kernelspec": {
   "display_name": "Python [default]",
   "language": "python",
   "name": "python3"
  },
  "language_info": {
   "codemirror_mode": {
    "name": "ipython",
    "version": 3
   },
   "file_extension": ".py",
   "mimetype": "text/x-python",
   "name": "python",
   "nbconvert_exporter": "python",
   "pygments_lexer": "ipython3",
   "version": "3.6.4"
  }
 },
 "nbformat": 4,
 "nbformat_minor": 2
}
