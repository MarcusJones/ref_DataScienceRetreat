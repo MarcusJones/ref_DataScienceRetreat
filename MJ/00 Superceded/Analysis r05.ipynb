{
 "cells": [
  {
   "cell_type": "code",
   "execution_count": 1,
   "metadata": {},
   "outputs": [
    {
     "name": "stdout",
     "output_type": "stream",
     "text": [
      "Loaded modules:\n",
      "numpy                np              1.14.0\n",
      "pandas               pd              0.22.0\n",
      "sklearn              sk              0.19.1\n",
      "keras                ks              2.1.4\n",
      "\n",
      "matplotlib           mpl             2.1.2\n",
      "matplotlib.pyplot    plt             N/A\n",
      "matplotlib.image     mpimg           N/A\n",
      "seaborn              sns             0.8.1\n",
      "PIL                  PIL             5.0.0\n",
      "\n",
      "ExergyUtilities      exergy          2.0.\n",
      "\n",
      "pyspark              pyspark         2.2.1\n"
     ]
    }
   ],
   "source": [
    "print_imports()"
   ]
  },
  {
   "cell_type": "markdown",
   "metadata": {},
   "source": [
    "### Imports"
   ]
  },
  {
   "cell_type": "code",
   "execution_count": 36,
   "metadata": {},
   "outputs": [],
   "source": [
    "import os, re, logging, json\n",
    "from pprint import pprint\n",
    "from keras import backend as K\n",
    "from datetime import datetime"
   ]
  },
  {
   "cell_type": "code",
   "execution_count": 3,
   "metadata": {},
   "outputs": [],
   "source": [
    "mod_path = r\"/home/batman/git/ai_drive/src\"\n",
    "sys.path.append(mod_path)\n",
    "logging.debug(\"ADDED TO PATH: \".format(mod_path))"
   ]
  },
  {
   "cell_type": "code",
   "execution_count": 4,
   "metadata": {},
   "outputs": [],
   "source": [
    "import drive.analysis_offline as analysis"
   ]
  },
  {
   "cell_type": "markdown",
   "metadata": {},
   "source": [
    "### Paths"
   ]
  },
  {
   "cell_type": "code",
   "execution_count": 5,
   "metadata": {},
   "outputs": [],
   "source": [
    "this_project_path = r\"/media/batman/USB STICK\"\n",
    "project_name = r'catdog1'"
   ]
  },
  {
   "cell_type": "markdown",
   "metadata": {},
   "source": [
    "### Plotting function"
   ]
  },
  {
   "cell_type": "code",
   "execution_count": 6,
   "metadata": {},
   "outputs": [],
   "source": [
    "model_title = \"10 Epochs\"\n",
    "def plot_hist(history_dict):\n",
    "    #fig = plt.figure(figsize=(5,4))\n",
    "    #fig=plt.figure(figsize=(20, 10),facecolor='white')\n",
    "\n",
    "    #f, (ax1, ax2) = plt.subplots(1, 2, figsize=(20, 5),sharey=False,facecolor='white')\n",
    "    f, (ax1, ax2) = plt.subplots(1, 2, figsize=(20, 5),sharey=False,facecolor='0.15')\n",
    "    \n",
    "    ax1.plot(history_dict['epoch'],  history_dict['history']['loss'],label=\"Train\")\n",
    "    ax1.plot(history_dict['epoch'],  history_dict['history']['val_loss'],label=\"CV\")\n",
    "    ax1.set_title(\"Loss function development - Training set vs CV set\")\n",
    "    ax1.legend(loc='upper right')\n",
    "    ax1.set_xlabel('Epochs')\n",
    "    ax1.set_ylabel('Values')\n",
    "    \n",
    "    ax2.plot(history_dict['epoch'],  history_dict['history']['acc'],label=\"Train\")\n",
    "    ax2.plot(history_dict['epoch'],  history_dict['history']['val_acc'],label=\"CV\")\n",
    "    ax2.set_title(\"Accuracy development - Training set vs CV set\")\n",
    "    ax2.legend(loc='upper right')\n",
    "    ax2.set_xlabel('Epochs')\n",
    "    ax2.set_ylabel('Values')\n",
    "    \n",
    "    plt.suptitle(model_title, fontsize=16)\n",
    "    \n",
    "    plt.show()\n",
    "\n",
    "#plot_hist(history_dict)"
   ]
  },
  {
   "cell_type": "markdown",
   "metadata": {},
   "source": [
    "```total_params = (filter_height * filter_width * input_image_channels + 1) * number_of_filters```"
   ]
  },
  {
   "cell_type": "markdown",
   "metadata": {},
   "source": [
    "### Each loaded layer has a summary string"
   ]
  },
  {
   "cell_type": "code",
   "execution_count": 7,
   "metadata": {},
   "outputs": [],
   "source": [
    "def Conv2D(params):\n",
    "    #print(params['class_name'])\n",
    "    #pprint(params['config'])\n",
    "    kernel_dim = (params['config']['kernel_size'][0])\n",
    "    filters = (params['config']['filters'])\n",
    "    return \"{}, kernel {}, filters {}\".format(params['class_name'],kernel_dim,filters)\n",
    "\n",
    "def MaxPooling2D(params):\n",
    "    #print(params['class_name'])    \n",
    "    #pprint(params['config'])\n",
    "    pool_size = (params['config']['pool_size'][0])\n",
    "    \n",
    "    return \"{}, pool {}\".format(params['class_name'],pool_size)\n",
    "def Flatten(params):\n",
    "    #print(params['class_name'])\n",
    "    return \"{}\".format(params['class_name'])\n",
    "\n",
    "def Dropout(params):\n",
    "    #print(params['class_name'])\n",
    "    #pprint(params['config'])\n",
    "    drp_rate = (params['config']['rate'])\n",
    "    return \"{}, dropout {}\".format(params['class_name'],drp_rate)\n",
    "    \n",
    "    \n",
    "    #raise\n",
    "def Dense(params):\n",
    "    #print(params['class_name'])\n",
    "    return \"{}\".format(params['class_name'])\n",
    "\n",
    "layer_funcs = {\n",
    "        'Conv2D':Conv2D,\n",
    "        'MaxPooling2D':MaxPooling2D,\n",
    "        'Flatten':Flatten,\n",
    "        'Dropout':Dropout,\n",
    "        'Dense':Dense,\n",
    "}"
   ]
  },
  {
   "cell_type": "markdown",
   "metadata": {},
   "source": [
    "### Parameter counting"
   ]
  },
  {
   "cell_type": "code",
   "execution_count": 8,
   "metadata": {},
   "outputs": [],
   "source": [
    "def count_params(model):\n",
    "    \"\"\"Uses backend 'K' count_params\n",
    "    Returns dict for Total/Trainable/Non-trainable\n",
    "    \"\"\"\n",
    "    trainable_count = int(\n",
    "        np.sum([K.count_params(p) for p in set(model.trainable_weights)]))\n",
    "    non_trainable_count = int(\n",
    "        np.sum([K.count_params(p) for p in set(model.non_trainable_weights)]))\n",
    "    return {'Total':trainable_count + non_trainable_count,'Trainable':trainable_count,'Non-trainable':non_trainable_count}\n",
    "    #print('Total params: {:,}'.format(trainable_count + non_trainable_count))\n",
    "    #print('Trainable params: {:,}'.format(trainable_count))\n",
    "    #print('Non-trainable params: {:,}'.format(non_trainable_count))"
   ]
  },
  {
   "cell_type": "code",
   "execution_count": 31,
   "metadata": {},
   "outputs": [],
   "source": [
    "%%script false\n",
    "import re\n",
    "date_re = re.compile('(?P<a_year>\\d{2,4})-(?P<a_month>\\d{2})-(?P<a_day>\\d{2}) (?P<an_hour>\\d{2}):(?P<a_minute>\\d{2}):(?P<a_second>\\d{2}[.\\d]*)')\n",
    "found = date_re.match('2016-02-29 12:34:56.789')\n",
    "if found is not None:\n",
    "    print found.groupdict()\n",
    "#{'a_year': '2016', 'a_second': '56.789', 'a_day': '29', 'a_minute': '34', 'an_hour': '12', 'a_month': '02'}\n",
    "found.groupdict()['a_month']\n",
    "#'02'"
   ]
  },
  {
   "cell_type": "code",
   "execution_count": 42,
   "metadata": {},
   "outputs": [],
   "source": [
    "def create_date(res_dict):\n",
    "    #values = ['2014', '08', '17', '18', '01', '05']\n",
    "\n",
    "    datevec = [ int(res_dict['year']),\n",
    "                int(res_dict['month']),\n",
    "                int(res_dict['day']),\n",
    "                int(res_dict['hour']),\n",
    "                int(res_dict['minute']),\n",
    "                int(res_dict['second']),\n",
    "              ]\n",
    "    \n",
    "    this_dt = datetime(*datevec)\n",
    "    return this_dt\n"
   ]
  },
  {
   "cell_type": "code",
   "execution_count": 75,
   "metadata": {},
   "outputs": [],
   "source": [
    "def parse_log_string(l):\n",
    "    \"\"\"datetime, log string text, module string\n",
    "    \"\"\"\n",
    "    #log_regex = re.compile(r\"(?P<year>\\d{2,4})-(?P<month>\\d{2})-(?P<day>\\d{2}) (?P<hour>\\d{2}):(?P<minute>\\d{2}):(?P<second>\\d{2}[.\\d]*).*:\\s(?P<logstring>.*)\")\n",
    "    #-- TODO !!!!\n",
    "    log_regex = re.compile(r\"(?P<year>\\d{2,4})-(?P<month>\\d{2})-(?P<day>\\d{2}) (?P<hour>\\d{2}):(?P<minute>\\d{2}):(?P<second>\\d{2}),[\\d]*\\s-\\s(?P<level>\\d\\d)\\s*-\\s(?P<module_str>.*).*:\\s(?P<logstring>.*)$\")\n",
    "    #log_regex = re.compile(r\"(?P<year>\\d{2,4})-(?P<month>\\d{2})-(?P<day>\\d{2}) (?P<hour>\\d{2}):(?P<minute>\\d{2}):(?P<second>\\d{2}),[\\d]*\\s-\\s(?P<level>\\d\\d)\\s*-\\s*(?P<modules>.*)\\s:\\s(?P<logstring>.*)$\")\n",
    "    res = log_regex.match(l)\n",
    "    res_dict = res.groupdict()\n",
    "    \n",
    "    logstr = res_dict.pop('logstring', None)\n",
    "    module_str = res_dict.pop('module_str', None)\n",
    "        #print(res_dict)\n",
    "    this_dt = create_date(res_dict)    \n",
    "    \n",
    "    return({'dt':this_dt,'logstr':logstr,'modstr':module_str})"
   ]
  },
  {
   "cell_type": "code",
   "execution_count": 102,
   "metadata": {},
   "outputs": [],
   "source": [
    "def get_log_file(this_run_path):\n",
    "    log_file = [os.path.join(this_run_path,f) for f in os.listdir(this_run_path) \n",
    "             if re.match('^log.txt$',f)][0]\n",
    "    assert os.path.exists(log_file)\n",
    "    \n",
    "    with open(log_file) as f:\n",
    "        #for l in lines:\n",
    "            #print(l)\n",
    "        lines = f.readlines()\n",
    "        #content = [x.strip() for x in content] \n",
    "    \n",
    "    start_time = parse_log_string(lines[0])['dt']\n",
    "    end_time = parse_log_string(lines[-1])['dt']\n",
    "    elapsed = end_time-start_time\n",
    "    finish_found = None\n",
    "    generator = None\n",
    "    #for l in lines[-100:-1]:\n",
    "    for l in lines[0:100]:        \n",
    "        l = l.strip()\n",
    "        res_dict = parse_log_string(l)\n",
    "        \n",
    "        # Get the image generator\n",
    "        if not generator: \n",
    "            gen_regex = re.compile(r\"get_train_generator\")\n",
    "            generator_line = gen_regex.search(res_dict['modstr'])\n",
    "            #generator_line = gen_regex.match(res_dict['logstr'])\n",
    "            if generator_line:\n",
    "                #print(generator_line.group())\n",
    "                #print()\n",
    "                generator = res_dict['modstr']\n",
    "                #raise\n",
    "            #my_generators         \n",
    "    \n",
    "        \n",
    "        \n",
    "        # Check if finished\n",
    "        finished_regex = re.compile(r\"Finished training\")\n",
    "        finished_line = finished_regex.match(res_dict['logstr'])\n",
    "        if finished_line: \n",
    "            finish_found=True\n",
    "\n",
    "    \n",
    "    return({'finished':finish_found,'start':start_time,'elapsed':finish_found,'generator':generator})\n",
    "    #assert(finish_found)\n"
   ]
  },
  {
   "cell_type": "markdown",
   "metadata": {},
   "source": [
    "### Main"
   ]
  },
  {
   "cell_type": "code",
   "execution_count": 103,
   "metadata": {},
   "outputs": [
    {
     "name": "stdout",
     "output_type": "stream",
     "text": [
      "root  - 10  - <ipython-input-103-a341910f95ab>  <module>                      : **** RUN run078 ****\n"
     ]
    },
    {
     "ename": "RuntimeError",
     "evalue": "No active exception to reraise",
     "output_type": "error",
     "traceback": [
      "\u001b[0;31m---------------------------------------------------------------------------\u001b[0m",
      "\u001b[0;31mRuntimeError\u001b[0m                              Traceback (most recent call last)",
      "\u001b[0;32m<ipython-input-103-a341910f95ab>\u001b[0m in \u001b[0;36m<module>\u001b[0;34m()\u001b[0m\n\u001b[1;32m     11\u001b[0m     \u001b[0mlog\u001b[0m \u001b[0;34m=\u001b[0m \u001b[0mget_log_file\u001b[0m\u001b[0;34m(\u001b[0m\u001b[0mthis_run_path\u001b[0m\u001b[0;34m)\u001b[0m\u001b[0;34m\u001b[0m\u001b[0m\n\u001b[1;32m     12\u001b[0m \u001b[0;34m\u001b[0m\u001b[0m\n\u001b[0;32m---> 13\u001b[0;31m     \u001b[0;32mraise\u001b[0m\u001b[0;34m\u001b[0m\u001b[0m\n\u001b[0m\u001b[1;32m     14\u001b[0m     \u001b[0;31m###### Weights ######\u001b[0m\u001b[0;34m\u001b[0m\u001b[0;34m\u001b[0m\u001b[0m\n\u001b[1;32m     15\u001b[0m     \u001b[0mwts\u001b[0m \u001b[0;34m=\u001b[0m \u001b[0manalysis\u001b[0m\u001b[0;34m.\u001b[0m\u001b[0mget_weights\u001b[0m\u001b[0;34m(\u001b[0m\u001b[0mthis_run_path\u001b[0m\u001b[0;34m)\u001b[0m\u001b[0;34m\u001b[0m\u001b[0m\n",
      "\u001b[0;31mRuntimeError\u001b[0m: No active exception to reraise"
     ]
    }
   ],
   "source": [
    "root_path = os.path.join(this_project_path,project_name)\n",
    "run_folders = [dir for dir in os.listdir(root_path) if re.match('run',dir)]\n",
    "run_folders.sort()\n",
    "\n",
    "# Loop run folders\n",
    "for rfolder in run_folders:\n",
    "    this_run_path = os.path.join(root_path,rfolder)\n",
    "    logging.debug('**** RUN {} ****'.format(rfolder))\n",
    "    \n",
    "    ###### Log file ######\n",
    "    log = get_log_file(this_run_path)\n",
    "    \n",
    "    #raise\n",
    "    ###### Weights ######\n",
    "    wts = analysis.get_weights(this_run_path)\n",
    "    if wts: best_wt = wts[-1] # BEST weight (last weight)\n",
    "\n",
    "    ###### Architecture ######\n",
    "    model = analysis.load_model(this_run_path)\n",
    "    arch_dict = analysis.read_model_json(this_run_path)\n",
    "    \n",
    "    #model.summary()\n",
    "    print(count_params(model))\n",
    "    \n",
    "    ##### Reload weights #####\n",
    "    if wts:\n",
    "        print(best_wt)\n",
    "        model.load_weights(best_wt['path'])\n",
    "    #raise\n",
    "    ###### Loop layers ######\n",
    "    for i,layer in enumerate(arch_dict['config']):\n",
    "        layer_str = layer_funcs[layer['class_name']](layer)\n",
    "        print(i,layer_str)\n",
    "\n",
    "    ###### History ######\n",
    "    path_hist = analysis.get_history(this_run_path)    \n",
    "    with open(path_hist) as hist_file:\n",
    "        hist_dict = json.load(hist_file)\n",
    "    print(\"Epochs\",hist_dict['params']['epochs'])\n",
    "    print(\"Steps\",hist_dict['params']['steps'])\n",
    "    \n",
    "    #plot_hist(hist_dict)\n",
    "    del model\n",
    "    raise\n"
   ]
  },
  {
   "cell_type": "code",
   "execution_count": null,
   "metadata": {},
   "outputs": [],
   "source": []
  },
  {
   "cell_type": "code",
   "execution_count": null,
   "metadata": {},
   "outputs": [],
   "source": []
  }
 ],
 "metadata": {
  "kernelspec": {
   "display_name": "Python [default]",
   "language": "python",
   "name": "python3"
  },
  "language_info": {
   "codemirror_mode": {
    "name": "ipython",
    "version": 3
   },
   "file_extension": ".py",
   "mimetype": "text/x-python",
   "name": "python",
   "nbconvert_exporter": "python",
   "pygments_lexer": "ipython3",
   "version": "3.6.4"
  }
 },
 "nbformat": 4,
 "nbformat_minor": 2
}
