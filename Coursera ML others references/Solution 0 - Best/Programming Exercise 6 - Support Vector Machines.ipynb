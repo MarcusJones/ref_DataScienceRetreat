








<!DOCTYPE html>
<html lang="en">

<head>
  <meta charset="utf-8">
  <title>Jupyter Notebook Viewer</title>
  <meta name="viewport" content="width=device-width, initial-scale=1.0">
  <meta name="description" content="">
  <meta name="author" content="">
  
  <meta name="robots" content="noindex,nofollow">
  

  <!--NEW RELIC Start Perf Measurement-->
  
  <!--NREND-->

  <!-- Le styles -->
  <script src="/cdn-cgi/apps/head/MuIIl4I_IVFkxldaVu1mdWee9as.js"></script><link href="/static/build/styles.css?v=d2f574aebb7720ccb35207ba1db4cfbb" rel="stylesheet">

  <!-- Le HTML5 shim, for IE6-8 support of HTML5 elements -->
  <!--[if lt IE 9]>
    <script src="http://html5shim.googlecode.com/svn/trunk/html5.js"></script>
  <![endif]-->

  <!-- Le fav and touch icons -->
  <link rel="shortcut icon" href="/static/ico/ipynb_icon_16x16.png">
  <link rel="apple-touch-icon-precomposed" sizes="144x144"
        href="/static/ico/apple-touch-icon-144-precomposed.png?v=5a3c9ede93e2a8b8ea9e3f8f3da1a905">
  <link rel="apple-touch-icon-precomposed" sizes="114x114"
        href="/static/ico/apple-touch-icon-114-precomposed.png?v=45d86fc8f24dc00638035e1dd7a6d898">
  <link rel="apple-touch-icon-precomposed" sizes="72x72"
        href="/static/ico/apple-touch-icon-72-precomposed.png?v=540b5eb0f3cfd25f1439d1c9bd30e15f">
  <link rel="apple-touch-icon-precomposed"
        href="/static/ico/apple-touch-icon-57-precomposed.png?v=225f0590e187e1458625654f10a28f56">
  
  

  

  
  <meta name="twitter:card" content="summary">
  <meta name="twitter:title" content="Notebook on nbviewer">
  <meta name="twitter:description" content="Check out this Jupyter notebook!">

  
  <meta name="twitter:domain" content="nbviewer.ipython.org">
  <meta name="twitter:image:src" content="http://ipython.org/ipython-doc/dev/_images/ipynb_icon_128x128.png">

  
    <link href="/static/build/notebook.css?v=7ff1df8ccee6dd13babbd66843869949" rel="stylesheet">
  

  

  
    <script src="https://cdnjs.cloudflare.com/ajax/libs/mathjax/2.7.1/MathJax.js?config=TeX-AMS_HTML" type="text/javascript">
    </script>
    <script type="text/javascript">
      init_mathjax = function() {
        if (window.MathJax) {
          // MathJax loaded
          MathJax.Hub.Config({
            TeX: {
              equationNumbers: {
                autoNumber: "AMS",
                useLabelIds: true
              }
            },
            tex2jax: {
              inlineMath: [ ['$','$'], ["\\(","\\)"] ],
              displayMath: [ ['$$','$$'], ["\\[","\\]"] ],
              processEscapes: true,
              processEnvironments: true
            },
            displayAlign: 'center',
            "HTML-CSS": {
              styles: {'.MathJax_Display': {"margin": 0}},
              linebreaks: { automatic: true }
            }
          });
          MathJax.Hub.Queue(["Typeset", MathJax.Hub]);
        }
      }
      init_mathjax();
    </script>
  

  
    <script>
      (function() {
        function addWidgetsRenderer() {
          var mimeElement = document.querySelector('script[type="application/vnd.jupyter.widget-view+json"]');
          var scriptElement = document.createElement('script');
          var widgetRendererSrc = 'https://unpkg.com/@jupyter-widgets/html-manager@*/dist/embed-amd.js';
          var widgetState;

          try {
            widgetState = mimeElement && JSON.parse(mimeElement.innerHTML);

            if (widgetState && (widgetState.version_major < 2 || !widgetState.version_major)) {
              widgetRendererSrc = 'https://unpkg.com/jupyter-js-widgets@*/dist/embed.js';
            }
          } catch(e) {}

          scriptElement.src = widgetRendererSrc;
          document.body.appendChild(scriptElement);
        }

        document.addEventListener('DOMContentLoaded', addWidgetsRenderer);
      }());
    </script>
  

</head>

<body class="nbviewer">

  <!-- These are loaded at the top of the body so they are available to
       notebook cells when they are loaded below. -->
  <script src="/static/components/jquery/dist/jquery.min.js?v=c9f5aeeca3ad37bf2aa006139b935f0a"></script>
  <script src="/static/components/requirejs/require.js?v=6da8be361b9ee26c5e721e76c6d4afce"></script>
  <script src="/static/components/moment/min/moment.min.js?v=89f87298ad94aa1e6b92f42eb66da043"></script>
<!-- Navbar
================================================== -->
  <nav id="menubar" class="navbar navbar-default navbar-fixed-top" data-spy="affix">
    <div class="container">
      <div class="navbar-header">
        <button type="button" class="navbar-toggle collapsed" data-toggle="collapse" data-target=".navbar-collapse">
          <span class="sr-only">Toggle navigation</span>
          <i class="fa fa-bars"></i>
        </button>
        <a class="navbar-brand" href="/">
          <img src="/static/img/nav_logo.svg?v=479cefe8d932fb14a67b93911b97d70f" width="159"/>
        </a>
      </div>

      <div class="collapse navbar-collapse">
        <ul class="nav navbar-nav navbar-right">
          <li>
            <a class="active" href="http://jupyter.org">JUPYTER</a>
          </li>
          <li>
    <a href="/faq" title="FAQ" >
      
        <span>FAQ</span>
      
    </a>
  </li>

          
  
    
  
    
      
        <li>
    <a href="/format/script/github/JWarmenhoven/Machine-Learning/blob/master/notebooks/Programming%20Exercise%206%20-%20Support%20Vector%20Machines.ipynb" title="View as Code" >
      <span class="fa fa-code fa-2x menu-icon"></span>
      <span class="menu-text">View as Code</span>
    </a>
  </li>
      
    
  

  
    <li>
    <a href="#" title="Python 3 Kernel" >
      <span class="fa fa-server fa-2x menu-icon"></span>
      <span class="menu-text">Python 3 Kernel</span>
    </a>
  </li>
  

  
    <li>
    <a href="https://github.com/JWarmenhoven/Machine-Learning/blob/master/notebooks/Programming%20Exercise%206%20-%20Support%20Vector%20Machines.ipynb" title="View on GitHub" >
      <span class="fa fa-github fa-2x menu-icon"></span>
      <span class="menu-text">View on GitHub</span>
    </a>
  </li>
  

  <li>
    <a href="https://raw.githubusercontent.com/JWarmenhoven/Machine-Learning/master/notebooks/Programming%20Exercise%206%20-%20Support%20Vector%20Machines.ipynb" title="Download Notebook" download>
      <span class="fa fa-download fa-2x menu-icon"></span>
      <span class="menu-text">Download Notebook</span>
    </a>
  </li>

        </ul>
      </div><!-- /.navbar-collapse -->
      
      
    </div>
  </nav>

  <div class="container container-main">
    
  
  <ol class="breadcrumb">
    
      <li>
        <a href="/github/JWarmenhoven/Machine-Learning/tree/master">Machine-Learning</a>
      </li>
    
      <li>
        <a href="/github/JWarmenhoven/Machine-Learning/tree/master/notebooks">notebooks</a>
      </li>
    
  </ol>
  
  <div id="notebook">
    <div id="notebook-container">
      
<div class="cell border-box-sizing text_cell rendered"><div class="prompt input_prompt">
</div>
<div class="inner_cell">
<div class="text_cell_render border-box-sizing rendered_html">
<h2 id="Programming-Exercise-6---Support-Vector-Machines">Programming Exercise 6 - Support Vector Machines<a class="anchor-link" href="#Programming-Exercise-6---Support-Vector-Machines">&#182;</a></h2>
</div>
</div>
</div>
<div class="cell border-box-sizing code_cell rendered">
<div class="input">
<div class="prompt input_prompt">In&nbsp;[124]:</div>
<div class="inner_cell">
    <div class="input_area">
<div class=" highlight hl-ipython3"><pre><span></span><span class="c1"># %load ../../../standard_import.txt</span>
<span class="kn">import</span> <span class="nn">pandas</span> <span class="k">as</span> <span class="nn">pd</span>
<span class="kn">import</span> <span class="nn">numpy</span> <span class="k">as</span> <span class="nn">np</span>
<span class="kn">import</span> <span class="nn">matplotlib</span> <span class="k">as</span> <span class="nn">mpl</span>
<span class="kn">import</span> <span class="nn">matplotlib.pyplot</span> <span class="k">as</span> <span class="nn">plt</span>

<span class="kn">from</span> <span class="nn">scipy.io</span> <span class="k">import</span> <span class="n">loadmat</span>
<span class="kn">from</span> <span class="nn">sklearn.svm</span> <span class="k">import</span> <span class="n">SVC</span>

<span class="n">pd</span><span class="o">.</span><span class="n">set_option</span><span class="p">(</span><span class="s1">&#39;display.notebook_repr_html&#39;</span><span class="p">,</span> <span class="kc">False</span><span class="p">)</span>
<span class="n">pd</span><span class="o">.</span><span class="n">set_option</span><span class="p">(</span><span class="s1">&#39;display.max_columns&#39;</span><span class="p">,</span> <span class="kc">None</span><span class="p">)</span>
<span class="n">pd</span><span class="o">.</span><span class="n">set_option</span><span class="p">(</span><span class="s1">&#39;display.max_rows&#39;</span><span class="p">,</span> <span class="mi">150</span><span class="p">)</span>
<span class="n">pd</span><span class="o">.</span><span class="n">set_option</span><span class="p">(</span><span class="s1">&#39;display.max_seq_items&#39;</span><span class="p">,</span> <span class="kc">None</span><span class="p">)</span>
 
<span class="c1">#%config InlineBackend.figure_formats = {&#39;pdf&#39;,}</span>
<span class="o">%</span><span class="k">matplotlib</span> inline

<span class="kn">import</span> <span class="nn">seaborn</span> <span class="k">as</span> <span class="nn">sns</span>
<span class="n">sns</span><span class="o">.</span><span class="n">set_context</span><span class="p">(</span><span class="s1">&#39;notebook&#39;</span><span class="p">)</span>
<span class="n">sns</span><span class="o">.</span><span class="n">set_style</span><span class="p">(</span><span class="s1">&#39;white&#39;</span><span class="p">)</span>
</pre></div>

</div>
</div>
</div>

</div>
<div class="cell border-box-sizing code_cell rendered">
<div class="input">
<div class="prompt input_prompt">In&nbsp;[75]:</div>
<div class="inner_cell">
    <div class="input_area">
<div class=" highlight hl-ipython3"><pre><span></span><span class="k">def</span> <span class="nf">plotData</span><span class="p">(</span><span class="n">X</span><span class="p">,</span> <span class="n">y</span><span class="p">):</span>
    <span class="n">pos</span> <span class="o">=</span> <span class="p">(</span><span class="n">y</span> <span class="o">==</span> <span class="mi">1</span><span class="p">)</span><span class="o">.</span><span class="n">ravel</span><span class="p">()</span>
    <span class="n">neg</span> <span class="o">=</span> <span class="p">(</span><span class="n">y</span> <span class="o">==</span> <span class="mi">0</span><span class="p">)</span><span class="o">.</span><span class="n">ravel</span><span class="p">()</span>
    
    <span class="n">plt</span><span class="o">.</span><span class="n">scatter</span><span class="p">(</span><span class="n">X</span><span class="p">[</span><span class="n">pos</span><span class="p">,</span><span class="mi">0</span><span class="p">],</span> <span class="n">X</span><span class="p">[</span><span class="n">pos</span><span class="p">,</span><span class="mi">1</span><span class="p">],</span> <span class="n">s</span><span class="o">=</span><span class="mi">60</span><span class="p">,</span> <span class="n">c</span><span class="o">=</span><span class="s1">&#39;k&#39;</span><span class="p">,</span> <span class="n">marker</span><span class="o">=</span><span class="s1">&#39;+&#39;</span><span class="p">,</span> <span class="n">linewidths</span><span class="o">=</span><span class="mi">1</span><span class="p">)</span>
    <span class="n">plt</span><span class="o">.</span><span class="n">scatter</span><span class="p">(</span><span class="n">X</span><span class="p">[</span><span class="n">neg</span><span class="p">,</span><span class="mi">0</span><span class="p">],</span> <span class="n">X</span><span class="p">[</span><span class="n">neg</span><span class="p">,</span><span class="mi">1</span><span class="p">],</span> <span class="n">s</span><span class="o">=</span><span class="mi">60</span><span class="p">,</span> <span class="n">c</span><span class="o">=</span><span class="s1">&#39;y&#39;</span><span class="p">,</span> <span class="n">marker</span><span class="o">=</span><span class="s1">&#39;o&#39;</span><span class="p">,</span> <span class="n">linewidths</span><span class="o">=</span><span class="mi">1</span><span class="p">)</span>
</pre></div>

</div>
</div>
</div>

</div>
<div class="cell border-box-sizing code_cell rendered">
<div class="input">
<div class="prompt input_prompt">In&nbsp;[144]:</div>
<div class="inner_cell">
    <div class="input_area">
<div class=" highlight hl-ipython3"><pre><span></span><span class="k">def</span> <span class="nf">plot_svc</span><span class="p">(</span><span class="n">svc</span><span class="p">,</span> <span class="n">X</span><span class="p">,</span> <span class="n">y</span><span class="p">,</span> <span class="n">h</span><span class="o">=</span><span class="mf">0.02</span><span class="p">,</span> <span class="n">pad</span><span class="o">=</span><span class="mf">0.25</span><span class="p">):</span>
    <span class="n">x_min</span><span class="p">,</span> <span class="n">x_max</span> <span class="o">=</span> <span class="n">X</span><span class="p">[:,</span> <span class="mi">0</span><span class="p">]</span><span class="o">.</span><span class="n">min</span><span class="p">()</span><span class="o">-</span><span class="n">pad</span><span class="p">,</span> <span class="n">X</span><span class="p">[:,</span> <span class="mi">0</span><span class="p">]</span><span class="o">.</span><span class="n">max</span><span class="p">()</span><span class="o">+</span><span class="n">pad</span>
    <span class="n">y_min</span><span class="p">,</span> <span class="n">y_max</span> <span class="o">=</span> <span class="n">X</span><span class="p">[:,</span> <span class="mi">1</span><span class="p">]</span><span class="o">.</span><span class="n">min</span><span class="p">()</span><span class="o">-</span><span class="n">pad</span><span class="p">,</span> <span class="n">X</span><span class="p">[:,</span> <span class="mi">1</span><span class="p">]</span><span class="o">.</span><span class="n">max</span><span class="p">()</span><span class="o">+</span><span class="n">pad</span>
    <span class="n">xx</span><span class="p">,</span> <span class="n">yy</span> <span class="o">=</span> <span class="n">np</span><span class="o">.</span><span class="n">meshgrid</span><span class="p">(</span><span class="n">np</span><span class="o">.</span><span class="n">arange</span><span class="p">(</span><span class="n">x_min</span><span class="p">,</span> <span class="n">x_max</span><span class="p">,</span> <span class="n">h</span><span class="p">),</span> <span class="n">np</span><span class="o">.</span><span class="n">arange</span><span class="p">(</span><span class="n">y_min</span><span class="p">,</span> <span class="n">y_max</span><span class="p">,</span> <span class="n">h</span><span class="p">))</span>
    <span class="n">Z</span> <span class="o">=</span> <span class="n">svc</span><span class="o">.</span><span class="n">predict</span><span class="p">(</span><span class="n">np</span><span class="o">.</span><span class="n">c_</span><span class="p">[</span><span class="n">xx</span><span class="o">.</span><span class="n">ravel</span><span class="p">(),</span> <span class="n">yy</span><span class="o">.</span><span class="n">ravel</span><span class="p">()])</span>
    <span class="n">Z</span> <span class="o">=</span> <span class="n">Z</span><span class="o">.</span><span class="n">reshape</span><span class="p">(</span><span class="n">xx</span><span class="o">.</span><span class="n">shape</span><span class="p">)</span>
    <span class="n">plt</span><span class="o">.</span><span class="n">contourf</span><span class="p">(</span><span class="n">xx</span><span class="p">,</span> <span class="n">yy</span><span class="p">,</span> <span class="n">Z</span><span class="p">,</span> <span class="n">cmap</span><span class="o">=</span><span class="n">plt</span><span class="o">.</span><span class="n">cm</span><span class="o">.</span><span class="n">Paired</span><span class="p">,</span> <span class="n">alpha</span><span class="o">=</span><span class="mf">0.2</span><span class="p">)</span>

    <span class="n">plotData</span><span class="p">(</span><span class="n">X</span><span class="p">,</span> <span class="n">y</span><span class="p">)</span>
    <span class="c1">#plt.scatter(X[:,0], X[:,1], s=70, c=y, cmap=mpl.cm.Paired)</span>
    <span class="c1"># Support vectors indicated in plot by vertical lines</span>
    <span class="n">sv</span> <span class="o">=</span> <span class="n">svc</span><span class="o">.</span><span class="n">support_vectors_</span>
    <span class="n">plt</span><span class="o">.</span><span class="n">scatter</span><span class="p">(</span><span class="n">sv</span><span class="p">[:,</span><span class="mi">0</span><span class="p">],</span> <span class="n">sv</span><span class="p">[:,</span><span class="mi">1</span><span class="p">],</span> <span class="n">c</span><span class="o">=</span><span class="s1">&#39;k&#39;</span><span class="p">,</span> <span class="n">marker</span><span class="o">=</span><span class="s1">&#39;|&#39;</span><span class="p">,</span> <span class="n">s</span><span class="o">=</span><span class="mi">100</span><span class="p">,</span> <span class="n">linewidths</span><span class="o">=</span><span class="s1">&#39;1&#39;</span><span class="p">)</span>
    <span class="n">plt</span><span class="o">.</span><span class="n">xlim</span><span class="p">(</span><span class="n">x_min</span><span class="p">,</span> <span class="n">x_max</span><span class="p">)</span>
    <span class="n">plt</span><span class="o">.</span><span class="n">ylim</span><span class="p">(</span><span class="n">y_min</span><span class="p">,</span> <span class="n">y_max</span><span class="p">)</span>
    <span class="n">plt</span><span class="o">.</span><span class="n">xlabel</span><span class="p">(</span><span class="s1">&#39;X1&#39;</span><span class="p">)</span>
    <span class="n">plt</span><span class="o">.</span><span class="n">ylabel</span><span class="p">(</span><span class="s1">&#39;X2&#39;</span><span class="p">)</span>
    <span class="n">plt</span><span class="o">.</span><span class="n">show</span><span class="p">()</span>
    <span class="nb">print</span><span class="p">(</span><span class="s1">&#39;Number of support vectors: &#39;</span><span class="p">,</span> <span class="n">svc</span><span class="o">.</span><span class="n">support_</span><span class="o">.</span><span class="n">size</span><span class="p">)</span>
</pre></div>

</div>
</div>
</div>

</div>
<div class="cell border-box-sizing text_cell rendered"><div class="prompt input_prompt">
</div>
<div class="inner_cell">
<div class="text_cell_render border-box-sizing rendered_html">
<h3 id="Support-Vector-Machines">Support Vector Machines<a class="anchor-link" href="#Support-Vector-Machines">&#182;</a></h3>
</div>
</div>
</div>
<div class="cell border-box-sizing text_cell rendered"><div class="prompt input_prompt">
</div>
<div class="inner_cell">
<div class="text_cell_render border-box-sizing rendered_html">
<h4 id="Example-Dataset-1">Example Dataset 1<a class="anchor-link" href="#Example-Dataset-1">&#182;</a></h4>
</div>
</div>
</div>
<div class="cell border-box-sizing code_cell rendered">
<div class="input">
<div class="prompt input_prompt">In&nbsp;[6]:</div>
<div class="inner_cell">
    <div class="input_area">
<div class=" highlight hl-ipython3"><pre><span></span><span class="n">data1</span> <span class="o">=</span> <span class="n">loadmat</span><span class="p">(</span><span class="s1">&#39;data/ex6data1.mat&#39;</span><span class="p">)</span>
<span class="n">data1</span><span class="o">.</span><span class="n">keys</span><span class="p">()</span>
</pre></div>

</div>
</div>
</div>

<div class="output_wrapper">
<div class="output">


<div class="output_area">

<div class="prompt output_prompt">Out[6]:</div>




<div class="output_text output_subarea output_execute_result">
<pre>dict_keys([&#39;y&#39;, &#39;__version__&#39;, &#39;X&#39;, &#39;__globals__&#39;, &#39;__header__&#39;])</pre>
</div>

</div>

</div>
</div>

</div>
<div class="cell border-box-sizing code_cell rendered">
<div class="input">
<div class="prompt input_prompt">In&nbsp;[67]:</div>
<div class="inner_cell">
    <div class="input_area">
<div class=" highlight hl-ipython3"><pre><span></span><span class="n">y1</span> <span class="o">=</span> <span class="n">data1</span><span class="p">[</span><span class="s1">&#39;y&#39;</span><span class="p">]</span>
<span class="n">X1</span> <span class="o">=</span> <span class="n">data1</span><span class="p">[</span><span class="s1">&#39;X&#39;</span><span class="p">]</span>

<span class="nb">print</span><span class="p">(</span><span class="s1">&#39;X1:&#39;</span><span class="p">,</span> <span class="n">X1</span><span class="o">.</span><span class="n">shape</span><span class="p">)</span>
<span class="nb">print</span><span class="p">(</span><span class="s1">&#39;y1:&#39;</span><span class="p">,</span> <span class="n">y1</span><span class="o">.</span><span class="n">shape</span><span class="p">)</span>
</pre></div>

</div>
</div>
</div>

<div class="output_wrapper">
<div class="output">


<div class="output_area">

<div class="prompt"></div>


<div class="output_subarea output_stream output_stdout output_text">
<pre>X1: (51, 2)
y1: (51, 1)
</pre>
</div>
</div>

</div>
</div>

</div>
<div class="cell border-box-sizing code_cell rendered">
<div class="input">
<div class="prompt input_prompt">In&nbsp;[72]:</div>
<div class="inner_cell">
    <div class="input_area">
<div class=" highlight hl-ipython3"><pre><span></span><span class="n">plotData</span><span class="p">(</span><span class="n">X1</span><span class="p">,</span><span class="n">y1</span><span class="p">)</span>
</pre></div>

</div>
</div>
</div>

<div class="output_wrapper">
<div class="output">


<div class="output_area">

<div class="prompt"></div>




<div class="output_png output_subarea ">
<img src="data:image/png;base64,iVBORw0KGgoAAAANSUhEUgAAAeYAAAFXCAYAAAB3Be0fAAAABHNCSVQICAgIfAhkiAAAAAlwSFlz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"
>
</div>

</div>

</div>
</div>

</div>
<div class="cell border-box-sizing code_cell rendered">
<div class="input">
<div class="prompt input_prompt">In&nbsp;[146]:</div>
<div class="inner_cell">
    <div class="input_area">
<div class=" highlight hl-ipython3"><pre><span></span><span class="n">clf</span> <span class="o">=</span> <span class="n">SVC</span><span class="p">(</span><span class="n">C</span><span class="o">=</span><span class="mf">1.0</span><span class="p">,</span> <span class="n">kernel</span><span class="o">=</span><span class="s1">&#39;linear&#39;</span><span class="p">)</span>
<span class="n">clf</span><span class="o">.</span><span class="n">fit</span><span class="p">(</span><span class="n">X1</span><span class="p">,</span> <span class="n">y1</span><span class="o">.</span><span class="n">ravel</span><span class="p">())</span>
<span class="n">plot_svc</span><span class="p">(</span><span class="n">clf</span><span class="p">,</span> <span class="n">X1</span><span class="p">,</span> <span class="n">y1</span><span class="p">)</span>
</pre></div>

</div>
</div>
</div>

<div class="output_wrapper">
<div class="output">


<div class="output_area">

<div class="prompt"></div>




<div class="output_png output_subarea ">
<img src="data:image/png;base64,iVBORw0KGgoAAAANSUhEUgAAAfIAAAFhCAYAAACLYyg9AAAABHNCSVQICAgIfAhkiAAAAAlwSFlz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"
>
</div>

</div>

<div class="output_area">

<div class="prompt"></div>


<div class="output_subarea output_stream output_stdout output_text">
<pre>Number of support vectors:  12
</pre>
</div>
</div>

</div>
</div>

</div>
<div class="cell border-box-sizing code_cell rendered">
<div class="input">
<div class="prompt input_prompt">In&nbsp;[145]:</div>
<div class="inner_cell">
    <div class="input_area">
<div class=" highlight hl-ipython3"><pre><span></span><span class="n">clf</span><span class="o">.</span><span class="n">set_params</span><span class="p">(</span><span class="n">C</span><span class="o">=</span><span class="mi">100</span><span class="p">)</span>
<span class="n">clf</span><span class="o">.</span><span class="n">fit</span><span class="p">(</span><span class="n">X1</span><span class="p">,</span> <span class="n">y1</span><span class="o">.</span><span class="n">ravel</span><span class="p">())</span>
<span class="n">plot_svc</span><span class="p">(</span><span class="n">clf</span><span class="p">,</span> <span class="n">X1</span><span class="p">,</span> <span class="n">y1</span><span class="p">)</span>
</pre></div>

</div>
</div>
</div>

<div class="output_wrapper">
<div class="output">


<div class="output_area">

<div class="prompt"></div>




<div class="output_png output_subarea ">
<img src="data:image/png;base64,iVBORw0KGgoAAAANSUhEUgAAAfIAAAFhCAYAAACLYyg9AAAABHNCSVQICAgIfAhkiAAAAAlwSFlz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"
>
</div>

</div>

<div class="output_area">

<div class="prompt"></div>


<div class="output_subarea output_stream output_stdout output_text">
<pre>Number of support vectors:  3
</pre>
</div>
</div>

</div>
</div>

</div>
<div class="cell border-box-sizing text_cell rendered"><div class="prompt input_prompt">
</div>
<div class="inner_cell">
<div class="text_cell_render border-box-sizing rendered_html">
<h3 id="SVM-with-Gaussian-Kernels">SVM with Gaussian Kernels<a class="anchor-link" href="#SVM-with-Gaussian-Kernels">&#182;</a></h3>
</div>
</div>
</div>
<div class="cell border-box-sizing code_cell rendered">
<div class="input">
<div class="prompt input_prompt">In&nbsp;[133]:</div>
<div class="inner_cell">
    <div class="input_area">
<div class=" highlight hl-ipython3"><pre><span></span><span class="k">def</span> <span class="nf">gaussianKernel</span><span class="p">(</span><span class="n">x1</span><span class="p">,</span> <span class="n">x2</span><span class="p">,</span> <span class="n">sigma</span><span class="o">=</span><span class="mi">2</span><span class="p">):</span>
    <span class="n">norm</span> <span class="o">=</span> <span class="p">(</span><span class="n">x1</span><span class="o">-</span><span class="n">x2</span><span class="p">)</span><span class="o">.</span><span class="n">T</span><span class="o">.</span><span class="n">dot</span><span class="p">(</span><span class="n">x1</span><span class="o">-</span><span class="n">x2</span><span class="p">)</span>
    <span class="k">return</span><span class="p">(</span><span class="n">np</span><span class="o">.</span><span class="n">exp</span><span class="p">(</span><span class="o">-</span><span class="n">norm</span><span class="o">/</span><span class="p">(</span><span class="mi">2</span><span class="o">*</span><span class="n">sigma</span><span class="o">**</span><span class="mi">2</span><span class="p">)))</span>
</pre></div>

</div>
</div>
</div>

</div>
<div class="cell border-box-sizing code_cell rendered">
<div class="input">
<div class="prompt input_prompt">In&nbsp;[119]:</div>
<div class="inner_cell">
    <div class="input_area">
<div class=" highlight hl-ipython3"><pre><span></span><span class="n">x1</span> <span class="o">=</span> <span class="n">np</span><span class="o">.</span><span class="n">array</span><span class="p">([</span><span class="mi">1</span><span class="p">,</span> <span class="mi">2</span><span class="p">,</span> <span class="mi">1</span><span class="p">])</span>
<span class="n">x2</span> <span class="o">=</span> <span class="n">np</span><span class="o">.</span><span class="n">array</span><span class="p">([</span><span class="mi">0</span><span class="p">,</span> <span class="mi">4</span><span class="p">,</span> <span class="o">-</span><span class="mi">1</span><span class="p">])</span>
<span class="n">sigma</span> <span class="o">=</span> <span class="mi">2</span>

<span class="n">gaussianKernel</span><span class="p">(</span><span class="n">x1</span><span class="p">,</span> <span class="n">x2</span><span class="p">,</span> <span class="n">sigma</span><span class="p">)</span>
</pre></div>

</div>
</div>
</div>

<div class="output_wrapper">
<div class="output">


<div class="output_area">

<div class="prompt output_prompt">Out[119]:</div>




<div class="output_text output_subarea output_execute_result">
<pre>0.32465246735834974</pre>
</div>

</div>

</div>
</div>

</div>
<div class="cell border-box-sizing text_cell rendered"><div class="prompt input_prompt">
</div>
<div class="inner_cell">
<div class="text_cell_render border-box-sizing rendered_html">
<h4 id="Example-Dataset-2">Example Dataset 2<a class="anchor-link" href="#Example-Dataset-2">&#182;</a></h4>
</div>
</div>
</div>
<div class="cell border-box-sizing code_cell rendered">
<div class="input">
<div class="prompt input_prompt">In&nbsp;[140]:</div>
<div class="inner_cell">
    <div class="input_area">
<div class=" highlight hl-ipython3"><pre><span></span><span class="n">data2</span> <span class="o">=</span> <span class="n">loadmat</span><span class="p">(</span><span class="s1">&#39;data/ex6data2.mat&#39;</span><span class="p">)</span>
<span class="n">data2</span><span class="o">.</span><span class="n">keys</span><span class="p">()</span>
</pre></div>

</div>
</div>
</div>

<div class="output_wrapper">
<div class="output">


<div class="output_area">

<div class="prompt output_prompt">Out[140]:</div>




<div class="output_text output_subarea output_execute_result">
<pre>dict_keys([&#39;y&#39;, &#39;__version__&#39;, &#39;X&#39;, &#39;__globals__&#39;, &#39;__header__&#39;])</pre>
</div>

</div>

</div>
</div>

</div>
<div class="cell border-box-sizing code_cell rendered">
<div class="input">
<div class="prompt input_prompt">In&nbsp;[141]:</div>
<div class="inner_cell">
    <div class="input_area">
<div class=" highlight hl-ipython3"><pre><span></span><span class="n">y2</span> <span class="o">=</span> <span class="n">data2</span><span class="p">[</span><span class="s1">&#39;y&#39;</span><span class="p">]</span>
<span class="n">X2</span> <span class="o">=</span> <span class="n">data2</span><span class="p">[</span><span class="s1">&#39;X&#39;</span><span class="p">]</span>

<span class="nb">print</span><span class="p">(</span><span class="s1">&#39;X2:&#39;</span><span class="p">,</span> <span class="n">X2</span><span class="o">.</span><span class="n">shape</span><span class="p">)</span>
<span class="nb">print</span><span class="p">(</span><span class="s1">&#39;y2:&#39;</span><span class="p">,</span> <span class="n">y2</span><span class="o">.</span><span class="n">shape</span><span class="p">)</span>
</pre></div>

</div>
</div>
</div>

<div class="output_wrapper">
<div class="output">


<div class="output_area">

<div class="prompt"></div>


<div class="output_subarea output_stream output_stdout output_text">
<pre>X2: (863, 2)
y2: (863, 1)
</pre>
</div>
</div>

</div>
</div>

</div>
<div class="cell border-box-sizing code_cell rendered">
<div class="input">
<div class="prompt input_prompt">In&nbsp;[142]:</div>
<div class="inner_cell">
    <div class="input_area">
<div class=" highlight hl-ipython3"><pre><span></span><span class="n">plotData</span><span class="p">(</span><span class="n">X2</span><span class="p">,</span> <span class="n">y2</span><span class="p">)</span>
</pre></div>

</div>
</div>
</div>

<div class="output_wrapper">
<div class="output">


<div class="output_area">

<div class="prompt"></div>




<div class="output_png output_subarea ">
<img src="data:image/png;base64,iVBORw0KGgoAAAANSUhEUgAAAesAAAFXCAYAAACC+2avAAAABHNCSVQICAgIfAhkiAAAAAlwSFlz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"
>
</div>

</div>

</div>
</div>

</div>
<div class="cell border-box-sizing code_cell rendered">
<div class="input">
<div class="prompt input_prompt">In&nbsp;[166]:</div>
<div class="inner_cell">
    <div class="input_area">
<div class=" highlight hl-ipython3"><pre><span></span><span class="n">clf2</span> <span class="o">=</span> <span class="n">SVC</span><span class="p">(</span><span class="n">C</span><span class="o">=</span><span class="mi">50</span><span class="p">,</span> <span class="n">kernel</span><span class="o">=</span><span class="s1">&#39;rbf&#39;</span><span class="p">,</span> <span class="n">gamma</span><span class="o">=</span><span class="mi">6</span><span class="p">)</span>
<span class="n">clf2</span><span class="o">.</span><span class="n">fit</span><span class="p">(</span><span class="n">X2</span><span class="p">,</span> <span class="n">y2</span><span class="o">.</span><span class="n">ravel</span><span class="p">())</span>
<span class="n">plot_svc</span><span class="p">(</span><span class="n">clf2</span><span class="p">,</span> <span class="n">X2</span><span class="p">,</span> <span class="n">y2</span><span class="p">)</span>
</pre></div>

</div>
</div>
</div>

<div class="output_wrapper">
<div class="output">


<div class="output_area">

<div class="prompt"></div>




<div class="output_png output_subarea ">
<img src="data:image/png;base64,iVBORw0KGgoAAAANSUhEUgAAAfIAAAFhCAYAAACLYyg9AAAABHNCSVQICAgIfAhkiAAAAAlwSFlz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"
>
</div>

</div>

<div class="output_area">

<div class="prompt"></div>


<div class="output_subarea output_stream output_stdout output_text">
<pre>Number of support vectors:  254
</pre>
</div>
</div>

</div>
</div>

</div>
<div class="cell border-box-sizing text_cell rendered"><div class="prompt input_prompt">
</div>
<div class="inner_cell">
<div class="text_cell_render border-box-sizing rendered_html">
<h4 id="Example-Dataset-3">Example Dataset 3<a class="anchor-link" href="#Example-Dataset-3">&#182;</a></h4>
</div>
</div>
</div>
<div class="cell border-box-sizing code_cell rendered">
<div class="input">
<div class="prompt input_prompt">In&nbsp;[77]:</div>
<div class="inner_cell">
    <div class="input_area">
<div class=" highlight hl-ipython3"><pre><span></span><span class="n">data3</span> <span class="o">=</span> <span class="n">loadmat</span><span class="p">(</span><span class="s1">&#39;data/ex6data3.mat&#39;</span><span class="p">)</span>
<span class="n">data3</span><span class="o">.</span><span class="n">keys</span><span class="p">()</span>
</pre></div>

</div>
</div>
</div>

<div class="output_wrapper">
<div class="output">


<div class="output_area">

<div class="prompt output_prompt">Out[77]:</div>




<div class="output_text output_subarea output_execute_result">
<pre>dict_keys([&#39;Xval&#39;, &#39;y&#39;, &#39;yval&#39;, &#39;__version__&#39;, &#39;X&#39;, &#39;__globals__&#39;, &#39;__header__&#39;])</pre>
</div>

</div>

</div>
</div>

</div>
<div class="cell border-box-sizing code_cell rendered">
<div class="input">
<div class="prompt input_prompt">In&nbsp;[79]:</div>
<div class="inner_cell">
    <div class="input_area">
<div class=" highlight hl-ipython3"><pre><span></span><span class="n">y3</span> <span class="o">=</span> <span class="n">data3</span><span class="p">[</span><span class="s1">&#39;y&#39;</span><span class="p">]</span>
<span class="n">X3</span> <span class="o">=</span> <span class="n">data3</span><span class="p">[</span><span class="s1">&#39;X&#39;</span><span class="p">]</span>

<span class="nb">print</span><span class="p">(</span><span class="s1">&#39;X3:&#39;</span><span class="p">,</span> <span class="n">X3</span><span class="o">.</span><span class="n">shape</span><span class="p">)</span>
<span class="nb">print</span><span class="p">(</span><span class="s1">&#39;y3:&#39;</span><span class="p">,</span> <span class="n">y3</span><span class="o">.</span><span class="n">shape</span><span class="p">)</span>
</pre></div>

</div>
</div>
</div>

<div class="output_wrapper">
<div class="output">


<div class="output_area">

<div class="prompt"></div>


<div class="output_subarea output_stream output_stdout output_text">
<pre>X3: (211, 2)
y3: (211, 1)
</pre>
</div>
</div>

</div>
</div>

</div>
<div class="cell border-box-sizing code_cell rendered">
<div class="input">
<div class="prompt input_prompt">In&nbsp;[80]:</div>
<div class="inner_cell">
    <div class="input_area">
<div class=" highlight hl-ipython3"><pre><span></span><span class="n">plotData</span><span class="p">(</span><span class="n">X3</span><span class="p">,</span> <span class="n">y3</span><span class="p">)</span>
</pre></div>

</div>
</div>
</div>

<div class="output_wrapper">
<div class="output">


<div class="output_area">

<div class="prompt"></div>




<div class="output_png output_subarea ">
<img src="data:image/png;base64,iVBORw0KGgoAAAANSUhEUgAAAfQAAAFXCAYAAABUXrzKAAAABHNCSVQICAgIfAhkiAAAAAlwSFlz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==
"
>
</div>

</div>

</div>
</div>

</div>
<div class="cell border-box-sizing code_cell rendered">
<div class="input">
<div class="prompt input_prompt">In&nbsp;[189]:</div>
<div class="inner_cell">
    <div class="input_area">
<div class=" highlight hl-ipython3"><pre><span></span><span class="n">clf3</span> <span class="o">=</span> <span class="n">SVC</span><span class="p">(</span><span class="n">C</span><span class="o">=</span><span class="mf">1.0</span><span class="p">,</span> <span class="n">kernel</span><span class="o">=</span><span class="s1">&#39;poly&#39;</span><span class="p">,</span> <span class="n">degree</span><span class="o">=</span><span class="mi">3</span><span class="p">,</span> <span class="n">gamma</span><span class="o">=</span><span class="mi">10</span><span class="p">)</span>
<span class="n">clf3</span><span class="o">.</span><span class="n">fit</span><span class="p">(</span><span class="n">X3</span><span class="p">,</span> <span class="n">y3</span><span class="o">.</span><span class="n">ravel</span><span class="p">())</span>
<span class="n">plot_svc</span><span class="p">(</span><span class="n">clf3</span><span class="p">,</span> <span class="n">X3</span><span class="p">,</span> <span class="n">y3</span><span class="p">)</span>
</pre></div>

</div>
</div>
</div>

<div class="output_wrapper">
<div class="output">


<div class="output_area">

<div class="prompt"></div>




<div class="output_png output_subarea ">
<img src="data:image/png;base64,iVBORw0KGgoAAAANSUhEUgAAAfsAAAFhCAYAAAB3dgP3AAAABHNCSVQICAgIfAhkiAAAAAlwSFlz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"
>
</div>

</div>

<div class="output_area">

<div class="prompt"></div>


<div class="output_subarea output_stream output_stdout output_text">
<pre>Number of support vectors:  78
</pre>
</div>
</div>

</div>
</div>

</div>
<div class="cell border-box-sizing text_cell rendered"><div class="prompt input_prompt">
</div>
<div class="inner_cell">
<div class="text_cell_render border-box-sizing rendered_html">
<h3 id="Spam-classification">Spam classification<a class="anchor-link" href="#Spam-classification">&#182;</a></h3>
</div>
</div>
</div>
<div class="cell border-box-sizing code_cell rendered">
<div class="input">
<div class="prompt input_prompt">In&nbsp;[171]:</div>
<div class="inner_cell">
    <div class="input_area">
<div class=" highlight hl-ipython3"><pre><span></span><span class="n">data4</span> <span class="o">=</span> <span class="n">pd</span><span class="o">.</span><span class="n">read_table</span><span class="p">(</span><span class="s1">&#39;data/vocab.txt&#39;</span><span class="p">,</span> <span class="n">header</span><span class="o">=</span><span class="kc">None</span><span class="p">)</span>
<span class="n">data4</span><span class="o">.</span><span class="n">info</span><span class="p">()</span>
</pre></div>

</div>
</div>
</div>

<div class="output_wrapper">
<div class="output">


<div class="output_area">

<div class="prompt"></div>


<div class="output_subarea output_stream output_stdout output_text">
<pre>&lt;class &#39;pandas.core.frame.DataFrame&#39;&gt;
Int64Index: 1899 entries, 0 to 1898
Data columns (total 2 columns):
0    1899 non-null int64
1    1899 non-null object
dtypes: int64(1), object(1)
memory usage: 37.1+ KB
</pre>
</div>
</div>

</div>
</div>

</div>
<div class="cell border-box-sizing code_cell rendered">
<div class="input">
<div class="prompt input_prompt">In&nbsp;[172]:</div>
<div class="inner_cell">
    <div class="input_area">
<div class=" highlight hl-ipython3"><pre><span></span><span class="n">data4</span><span class="o">.</span><span class="n">head</span><span class="p">()</span>
</pre></div>

</div>
</div>
</div>

<div class="output_wrapper">
<div class="output">


<div class="output_area">

<div class="prompt output_prompt">Out[172]:</div>




<div class="output_text output_subarea output_execute_result">
<pre>   0      1
0  1     aa
1  2     ab
2  3   abil
3  4    abl
4  5  about</pre>
</div>

</div>

</div>
</div>

</div>
 


    </div>
  </div>

  </div>


  
    <footer class="footer hidden-print">
      <div class="container">
        <div class="col-md-4">
          <p>
            This website does not host notebooks, it only renders notebooks
            available on other websites.
          </p>
        </div>

        <div class="col-md-4">
          <p>
            Delivered by <a href="http://www.fastly.com/">Fastly</a>,
            Rendered by <a href="https://developer.rackspace.com/?nbviewer=awesome">Rackspace</a>
          </p>
          <p>
            nbviewer GitHub <a href="https://github.com/jupyter/nbviewer">repository</a>.
          </p>
        </div>

        <div class="col-md-4">
          
  
            
              <p>
                nbviewer version:
                <a href="https://github.com/jupyter/nbviewer/commit/67ee47e55fa697614e03aa060a86019f75f2ddca">
                  67ee47e
                </a>
              </p>
            
          
  
  <p>
    nbconvert version: <a href="https://github.com/jupyter/nbconvert/releases/tag/5.3.1">
      5.3.1
    </a>
  </p>
  

          
  
  
  <p>
    Rendered
    <span class='date' data-date='Mon, 19 Feb 2018 13:07:47 UTC' title='Mon, 19 Feb 2018 13:07:47 UTC'>(Mon, 19 Feb 2018 13:07:47 UTC)</span>
  </p>
  

        </div>
      </div>
    </footer>
  

  <script src="/static/components/bootstrap/js/bootstrap.min.js?v=5869c96cc8f19086aee625d670d741f9"></script>
  <script src="/static/components/headroom.js/dist/headroom.min.js?v=b0a311ea668f8e768ea375f4a7abb81c"></script>
  <script src="/static/components/headroom.js/dist/jQuery.headroom.min.js?v=f3a1bae118315d0c234afc74dc6aab71"></script>

  
  
  <script>
    $(function(){ $("#menubar").headroom({
      tolerance: 5,
      offset: 205,
      classes: {
        initial: "animated",
        pinned: "slideInDown",
        unpinned: "slideOutUp"
      }
    })});
  </script>


  
  <script>
    (function(i,s,o,g,r,a,m){i['GoogleAnalyticsObject']=r;i[r]=i[r]||function(){
      (i[r].q=i[r].q||[]).push(arguments)},i[r].l=1*new Date();a=s.createElement(o),
      m=s.getElementsByTagName(o)[0];a.async=1;a.src=g;m.parentNode.insertBefore(a,m)
    })(window,document,'script','https://www.google-analytics.com/analytics.js','ga');
    ga('create', 'UA-52617120-5', 'auto');
    ga('send', 'pageview');
  </script>
  
  <script>
    require({
        paths: {
          moment: "/static/components/moment/min/moment.min.js?v=89f87298ad94aa1e6b92f42eb66da043"
        }
      }, ["moment"], function(moment){
      var date = $("footer .date"),
        m = moment(new Date(date.data('date'))),
        update = function(){ date.text(m.fromNow()); };
      setInterval(update, 61*1000);
      update();
      var w = $(window).scroll(function(event){
        $("body").toggleClass("scrolled", w.scrollTop() > 0);
      });
    });
  </script>

  <!--NEW RELIC Stop Perf Measurement-->
  
  <!--NEW RELIC End-->
</body>
</html>