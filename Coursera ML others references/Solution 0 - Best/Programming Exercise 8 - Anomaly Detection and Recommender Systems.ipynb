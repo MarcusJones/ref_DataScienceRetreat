








<!DOCTYPE html>
<html lang="en">

<head>
  <meta charset="utf-8">
  <title>Jupyter Notebook Viewer</title>
  <meta name="viewport" content="width=device-width, initial-scale=1.0">
  <meta name="description" content="">
  <meta name="author" content="">
  
  <meta name="robots" content="noindex,nofollow">
  

  <!--NEW RELIC Start Perf Measurement-->
  
  <!--NREND-->

  <!-- Le styles -->
  <script src="/cdn-cgi/apps/head/MuIIl4I_IVFkxldaVu1mdWee9as.js"></script><link href="/static/build/styles.css?v=d2f574aebb7720ccb35207ba1db4cfbb" rel="stylesheet">

  <!-- Le HTML5 shim, for IE6-8 support of HTML5 elements -->
  <!--[if lt IE 9]>
    <script src="http://html5shim.googlecode.com/svn/trunk/html5.js"></script>
  <![endif]-->

  <!-- Le fav and touch icons -->
  <link rel="shortcut icon" href="/static/ico/ipynb_icon_16x16.png">
  <link rel="apple-touch-icon-precomposed" sizes="144x144"
        href="/static/ico/apple-touch-icon-144-precomposed.png?v=5a3c9ede93e2a8b8ea9e3f8f3da1a905">
  <link rel="apple-touch-icon-precomposed" sizes="114x114"
        href="/static/ico/apple-touch-icon-114-precomposed.png?v=45d86fc8f24dc00638035e1dd7a6d898">
  <link rel="apple-touch-icon-precomposed" sizes="72x72"
        href="/static/ico/apple-touch-icon-72-precomposed.png?v=540b5eb0f3cfd25f1439d1c9bd30e15f">
  <link rel="apple-touch-icon-precomposed"
        href="/static/ico/apple-touch-icon-57-precomposed.png?v=225f0590e187e1458625654f10a28f56">
  
  

  

  
  <meta name="twitter:card" content="summary">
  <meta name="twitter:title" content="Notebook on nbviewer">
  <meta name="twitter:description" content="Check out this Jupyter notebook!">

  
  <meta name="twitter:domain" content="nbviewer.ipython.org">
  <meta name="twitter:image:src" content="http://ipython.org/ipython-doc/dev/_images/ipynb_icon_128x128.png">

  
    <link href="/static/build/notebook.css?v=7ff1df8ccee6dd13babbd66843869949" rel="stylesheet">
  

  

  
    <script src="https://cdnjs.cloudflare.com/ajax/libs/mathjax/2.7.1/MathJax.js?config=TeX-AMS_HTML" type="text/javascript">
    </script>
    <script type="text/javascript">
      init_mathjax = function() {
        if (window.MathJax) {
          // MathJax loaded
          MathJax.Hub.Config({
            TeX: {
              equationNumbers: {
                autoNumber: "AMS",
                useLabelIds: true
              }
            },
            tex2jax: {
              inlineMath: [ ['$','$'], ["\\(","\\)"] ],
              displayMath: [ ['$$','$$'], ["\\[","\\]"] ],
              processEscapes: true,
              processEnvironments: true
            },
            displayAlign: 'center',
            "HTML-CSS": {
              styles: {'.MathJax_Display': {"margin": 0}},
              linebreaks: { automatic: true }
            }
          });
          MathJax.Hub.Queue(["Typeset", MathJax.Hub]);
        }
      }
      init_mathjax();
    </script>
  

  
    <script>
      (function() {
        function addWidgetsRenderer() {
          var mimeElement = document.querySelector('script[type="application/vnd.jupyter.widget-view+json"]');
          var scriptElement = document.createElement('script');
          var widgetRendererSrc = 'https://unpkg.com/@jupyter-widgets/html-manager@*/dist/embed-amd.js';
          var widgetState;

          try {
            widgetState = mimeElement && JSON.parse(mimeElement.innerHTML);

            if (widgetState && (widgetState.version_major < 2 || !widgetState.version_major)) {
              widgetRendererSrc = 'https://unpkg.com/jupyter-js-widgets@*/dist/embed.js';
            }
          } catch(e) {}

          scriptElement.src = widgetRendererSrc;
          document.body.appendChild(scriptElement);
        }

        document.addEventListener('DOMContentLoaded', addWidgetsRenderer);
      }());
    </script>
  

</head>

<body class="nbviewer">

  <!-- These are loaded at the top of the body so they are available to
       notebook cells when they are loaded below. -->
  <script src="/static/components/jquery/dist/jquery.min.js?v=c9f5aeeca3ad37bf2aa006139b935f0a"></script>
  <script src="/static/components/requirejs/require.js?v=6da8be361b9ee26c5e721e76c6d4afce"></script>
  <script src="/static/components/moment/min/moment.min.js?v=89f87298ad94aa1e6b92f42eb66da043"></script>
<!-- Navbar
================================================== -->
  <nav id="menubar" class="navbar navbar-default navbar-fixed-top" data-spy="affix">
    <div class="container">
      <div class="navbar-header">
        <button type="button" class="navbar-toggle collapsed" data-toggle="collapse" data-target=".navbar-collapse">
          <span class="sr-only">Toggle navigation</span>
          <i class="fa fa-bars"></i>
        </button>
        <a class="navbar-brand" href="/">
          <img src="/static/img/nav_logo.svg?v=479cefe8d932fb14a67b93911b97d70f" width="159"/>
        </a>
      </div>

      <div class="collapse navbar-collapse">
        <ul class="nav navbar-nav navbar-right">
          <li>
            <a class="active" href="http://jupyter.org">JUPYTER</a>
          </li>
          <li>
    <a href="/faq" title="FAQ" >
      
        <span>FAQ</span>
      
    </a>
  </li>

          
  
    
  
    
      
        <li>
    <a href="/format/script/github/JWarmenhoven/Machine-Learning/blob/master/notebooks/Programming%20Exercise%208%20-%20Anomaly%20Detection%20and%20Recommender%20Systems.ipynb" title="View as Code" >
      <span class="fa fa-code fa-2x menu-icon"></span>
      <span class="menu-text">View as Code</span>
    </a>
  </li>
      
    
  

  
    <li>
    <a href="#" title="Python 3 Kernel" >
      <span class="fa fa-server fa-2x menu-icon"></span>
      <span class="menu-text">Python 3 Kernel</span>
    </a>
  </li>
  

  
    <li>
    <a href="https://github.com/JWarmenhoven/Machine-Learning/blob/master/notebooks/Programming%20Exercise%208%20-%20Anomaly%20Detection%20and%20Recommender%20Systems.ipynb" title="View on GitHub" >
      <span class="fa fa-github fa-2x menu-icon"></span>
      <span class="menu-text">View on GitHub</span>
    </a>
  </li>
  

  <li>
    <a href="https://raw.githubusercontent.com/JWarmenhoven/Machine-Learning/master/notebooks/Programming%20Exercise%208%20-%20Anomaly%20Detection%20and%20Recommender%20Systems.ipynb" title="Download Notebook" download>
      <span class="fa fa-download fa-2x menu-icon"></span>
      <span class="menu-text">Download Notebook</span>
    </a>
  </li>

        </ul>
      </div><!-- /.navbar-collapse -->
      
      
    </div>
  </nav>

  <div class="container container-main">
    
  
  <ol class="breadcrumb">
    
      <li>
        <a href="/github/JWarmenhoven/Machine-Learning/tree/master">Machine-Learning</a>
      </li>
    
      <li>
        <a href="/github/JWarmenhoven/Machine-Learning/tree/master/notebooks">notebooks</a>
      </li>
    
  </ol>
  
  <div id="notebook">
    <div id="notebook-container">
      
<div class="cell border-box-sizing text_cell rendered"><div class="prompt input_prompt">
</div>
<div class="inner_cell">
<div class="text_cell_render border-box-sizing rendered_html">
<h2 id="Programming-Exercise-8---Anomaly-Detection-and-Recommender-Systems">Programming Exercise 8 - Anomaly Detection and Recommender Systems<a class="anchor-link" href="#Programming-Exercise-8---Anomaly-Detection-and-Recommender-Systems">&#182;</a></h2>
</div>
</div>
</div>
<div class="cell border-box-sizing text_cell rendered"><div class="prompt input_prompt">
</div>
<div class="inner_cell">
<div class="text_cell_render border-box-sizing rendered_html">
<ul>
<li><a href="#Anomaly-Detection">Anomaly Detection</a></li>
<li><a href="#Recommender-Systems">Recommender Systems</a></li>
</ul>

</div>
</div>
</div>
<div class="cell border-box-sizing code_cell rendered">
<div class="input">
<div class="prompt input_prompt">In&nbsp;[1]:</div>
<div class="inner_cell">
    <div class="input_area">
<div class=" highlight hl-ipython3"><pre><span></span><span class="c1"># %load ../../../standard_import.txt</span>
<span class="kn">import</span> <span class="nn">pandas</span> <span class="k">as</span> <span class="nn">pd</span>
<span class="kn">import</span> <span class="nn">numpy</span> <span class="k">as</span> <span class="nn">np</span>
<span class="kn">import</span> <span class="nn">matplotlib.pyplot</span> <span class="k">as</span> <span class="nn">plt</span>

<span class="kn">from</span> <span class="nn">scipy.io</span> <span class="k">import</span> <span class="n">loadmat</span>
<span class="kn">from</span> <span class="nn">sklearn.svm</span> <span class="k">import</span> <span class="n">OneClassSVM</span>
<span class="kn">from</span> <span class="nn">sklearn.covariance</span> <span class="k">import</span> <span class="n">EllipticEnvelope</span>

<span class="n">pd</span><span class="o">.</span><span class="n">set_option</span><span class="p">(</span><span class="s1">&#39;display.notebook_repr_html&#39;</span><span class="p">,</span> <span class="kc">False</span><span class="p">)</span>
<span class="n">pd</span><span class="o">.</span><span class="n">set_option</span><span class="p">(</span><span class="s1">&#39;display.max_columns&#39;</span><span class="p">,</span> <span class="kc">None</span><span class="p">)</span>
<span class="n">pd</span><span class="o">.</span><span class="n">set_option</span><span class="p">(</span><span class="s1">&#39;display.max_rows&#39;</span><span class="p">,</span> <span class="mi">150</span><span class="p">)</span>
<span class="n">pd</span><span class="o">.</span><span class="n">set_option</span><span class="p">(</span><span class="s1">&#39;display.max_seq_items&#39;</span><span class="p">,</span> <span class="kc">None</span><span class="p">)</span>
 
<span class="c1">#%config InlineBackend.figure_formats = {&#39;pdf&#39;,}</span>
<span class="o">%</span><span class="k">matplotlib</span> inline

<span class="kn">import</span> <span class="nn">seaborn</span> <span class="k">as</span> <span class="nn">sns</span>
<span class="n">sns</span><span class="o">.</span><span class="n">set_context</span><span class="p">(</span><span class="s1">&#39;notebook&#39;</span><span class="p">)</span>
<span class="n">sns</span><span class="o">.</span><span class="n">set_style</span><span class="p">(</span><span class="s1">&#39;white&#39;</span><span class="p">)</span>
</pre></div>

</div>
</div>
</div>

</div>
<div class="cell border-box-sizing text_cell rendered"><div class="prompt input_prompt">
</div>
<div class="inner_cell">
<div class="text_cell_render border-box-sizing rendered_html">
<h3 id="Anomaly-Detection">Anomaly Detection<a class="anchor-link" href="#Anomaly-Detection">&#182;</a></h3>
</div>
</div>
</div>
<div class="cell border-box-sizing code_cell rendered">
<div class="input">
<div class="prompt input_prompt">In&nbsp;[2]:</div>
<div class="inner_cell">
    <div class="input_area">
<div class=" highlight hl-ipython3"><pre><span></span><span class="n">data1</span> <span class="o">=</span> <span class="n">loadmat</span><span class="p">(</span><span class="s1">&#39;data/ex8data1.mat&#39;</span><span class="p">)</span>
<span class="n">data1</span><span class="o">.</span><span class="n">keys</span><span class="p">()</span>
</pre></div>

</div>
</div>
</div>

<div class="output_wrapper">
<div class="output">


<div class="output_area">

<div class="prompt output_prompt">Out[2]:</div>




<div class="output_text output_subarea output_execute_result">
<pre>dict_keys([&#39;__header__&#39;, &#39;yval&#39;, &#39;__version__&#39;, &#39;Xval&#39;, &#39;X&#39;, &#39;__globals__&#39;])</pre>
</div>

</div>

</div>
</div>

</div>
<div class="cell border-box-sizing code_cell rendered">
<div class="input">
<div class="prompt input_prompt">In&nbsp;[3]:</div>
<div class="inner_cell">
    <div class="input_area">
<div class=" highlight hl-ipython3"><pre><span></span><span class="n">X1</span> <span class="o">=</span> <span class="n">data1</span><span class="p">[</span><span class="s1">&#39;X&#39;</span><span class="p">]</span>
<span class="nb">print</span><span class="p">(</span><span class="s1">&#39;X1:&#39;</span><span class="p">,</span> <span class="n">X1</span><span class="o">.</span><span class="n">shape</span><span class="p">)</span>
</pre></div>

</div>
</div>
</div>

<div class="output_wrapper">
<div class="output">


<div class="output_area">

<div class="prompt"></div>


<div class="output_subarea output_stream output_stdout output_text">
<pre>X1: (307, 2)
</pre>
</div>
</div>

</div>
</div>

</div>
<div class="cell border-box-sizing code_cell rendered">
<div class="input">
<div class="prompt input_prompt">In&nbsp;[4]:</div>
<div class="inner_cell">
    <div class="input_area">
<div class=" highlight hl-ipython3"><pre><span></span><span class="n">plt</span><span class="o">.</span><span class="n">scatter</span><span class="p">(</span><span class="n">X1</span><span class="p">[:,</span><span class="mi">0</span><span class="p">],</span> <span class="n">X1</span><span class="p">[:,</span><span class="mi">1</span><span class="p">],</span> <span class="n">c</span><span class="o">=</span><span class="s1">&#39;b&#39;</span><span class="p">,</span> <span class="n">marker</span><span class="o">=</span><span class="s1">&#39;x&#39;</span><span class="p">)</span>
<span class="n">plt</span><span class="o">.</span><span class="n">title</span><span class="p">(</span><span class="s2">&quot;Outlier detection&quot;</span><span class="p">)</span>
<span class="n">plt</span><span class="o">.</span><span class="n">xlabel</span><span class="p">(</span><span class="s1">&#39;Latency (ms)&#39;</span><span class="p">)</span>
<span class="n">plt</span><span class="o">.</span><span class="n">ylabel</span><span class="p">(</span><span class="s1">&#39;Throughput (mb/s)&#39;</span><span class="p">);</span>
</pre></div>

</div>
</div>
</div>

<div class="output_wrapper">
<div class="output">


<div class="output_area">

<div class="prompt"></div>




<div class="output_png output_subarea ">
<img src="data:image/png;base64,iVBORw0KGgoAAAANSUhEUgAAAfMAAAFtCAYAAAATY4N4AAAABHNCSVQICAgIfAhkiAAAAAlwSFlz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"
>
</div>

</div>

</div>
</div>

</div>
<div class="cell border-box-sizing code_cell rendered">
<div class="input">
<div class="prompt input_prompt">In&nbsp;[5]:</div>
<div class="inner_cell">
    <div class="input_area">
<div class=" highlight hl-ipython3"><pre><span></span><span class="n">clf</span> <span class="o">=</span> <span class="n">EllipticEnvelope</span><span class="p">()</span>
<span class="n">clf</span><span class="o">.</span><span class="n">fit</span><span class="p">(</span><span class="n">X1</span><span class="p">)</span>
</pre></div>

</div>
</div>
</div>

<div class="output_wrapper">
<div class="output">


<div class="output_area">

<div class="prompt output_prompt">Out[5]:</div>




<div class="output_text output_subarea output_execute_result">
<pre>EllipticEnvelope(assume_centered=False, contamination=0.1, random_state=None,
         store_precision=True, support_fraction=None)</pre>
</div>

</div>

</div>
</div>

</div>
<div class="cell border-box-sizing code_cell rendered">
<div class="input">
<div class="prompt input_prompt">In&nbsp;[6]:</div>
<div class="inner_cell">
    <div class="input_area">
<div class=" highlight hl-ipython3"><pre><span></span><span class="c1"># Create the grid for plotting</span>
<span class="n">xx</span><span class="p">,</span> <span class="n">yy</span> <span class="o">=</span> <span class="n">np</span><span class="o">.</span><span class="n">meshgrid</span><span class="p">(</span><span class="n">np</span><span class="o">.</span><span class="n">linspace</span><span class="p">(</span><span class="mi">0</span><span class="p">,</span> <span class="mi">25</span><span class="p">,</span> <span class="mi">200</span><span class="p">),</span> <span class="n">np</span><span class="o">.</span><span class="n">linspace</span><span class="p">(</span><span class="mi">0</span><span class="p">,</span> <span class="mi">30</span><span class="p">,</span> <span class="mi">200</span><span class="p">))</span>
<span class="n">Z</span> <span class="o">=</span> <span class="n">clf</span><span class="o">.</span><span class="n">decision_function</span><span class="p">(</span><span class="n">np</span><span class="o">.</span><span class="n">c_</span><span class="p">[</span><span class="n">xx</span><span class="o">.</span><span class="n">ravel</span><span class="p">(),</span> <span class="n">yy</span><span class="o">.</span><span class="n">ravel</span><span class="p">()])</span>
<span class="n">Z</span> <span class="o">=</span> <span class="n">Z</span><span class="o">.</span><span class="n">reshape</span><span class="p">(</span><span class="n">xx</span><span class="o">.</span><span class="n">shape</span><span class="p">)</span>

<span class="c1"># Calculate the decision function and use threshold to determine outliers</span>
<span class="n">y_pred</span> <span class="o">=</span> <span class="n">clf</span><span class="o">.</span><span class="n">decision_function</span><span class="p">(</span><span class="n">X1</span><span class="p">)</span><span class="o">.</span><span class="n">ravel</span><span class="p">()</span>
<span class="n">percentile</span> <span class="o">=</span> <span class="mf">1.9</span>
<span class="n">threshold</span> <span class="o">=</span> <span class="n">np</span><span class="o">.</span><span class="n">percentile</span><span class="p">(</span><span class="n">y_pred</span><span class="p">,</span> <span class="n">percentile</span><span class="p">)</span>
<span class="n">outliers</span> <span class="o">=</span> <span class="n">y_pred</span> <span class="o">&lt;</span> <span class="n">threshold</span>

<span class="n">fig</span><span class="p">,</span> <span class="p">(</span><span class="n">ax1</span><span class="p">,</span> <span class="n">ax2</span><span class="p">)</span> <span class="o">=</span> <span class="n">plt</span><span class="o">.</span><span class="n">subplots</span><span class="p">(</span><span class="mi">1</span><span class="p">,</span><span class="mi">2</span><span class="p">,</span> <span class="n">figsize</span><span class="o">=</span><span class="p">(</span><span class="mi">14</span><span class="p">,</span><span class="mi">5</span><span class="p">))</span>

<span class="c1"># Left plot</span>
<span class="c1"># Plot the decision function values</span>
<span class="n">sns</span><span class="o">.</span><span class="n">distplot</span><span class="p">(</span><span class="n">y_pred</span><span class="p">,</span> <span class="n">rug</span><span class="o">=</span><span class="kc">True</span><span class="p">,</span> <span class="n">ax</span><span class="o">=</span><span class="n">ax1</span><span class="p">)</span>
<span class="c1"># Plot the decision function values for the outliers in red</span>
<span class="n">sns</span><span class="o">.</span><span class="n">distplot</span><span class="p">(</span><span class="n">y_pred</span><span class="p">[</span><span class="n">outliers</span><span class="p">],</span> <span class="n">rug</span><span class="o">=</span><span class="kc">True</span><span class="p">,</span> <span class="n">hist</span><span class="o">=</span><span class="kc">False</span><span class="p">,</span> <span class="n">kde</span><span class="o">=</span><span class="kc">False</span><span class="p">,</span> <span class="n">norm_hist</span><span class="o">=</span><span class="kc">True</span><span class="p">,</span> <span class="n">color</span><span class="o">=</span><span class="s1">&#39;r&#39;</span><span class="p">,</span> <span class="n">ax</span><span class="o">=</span><span class="n">ax1</span><span class="p">)</span>
<span class="n">ax1</span><span class="o">.</span><span class="n">vlines</span><span class="p">(</span><span class="n">threshold</span><span class="p">,</span> <span class="mi">0</span><span class="p">,</span> <span class="mf">0.9</span><span class="p">,</span> <span class="n">colors</span><span class="o">=</span><span class="s1">&#39;r&#39;</span><span class="p">,</span> <span class="n">linestyles</span><span class="o">=</span><span class="s1">&#39;dotted&#39;</span><span class="p">,</span>
           <span class="n">label</span><span class="o">=</span><span class="s1">&#39;Threshold for </span><span class="si">{}</span><span class="s1"> percentile = </span><span class="si">{}</span><span class="s1">&#39;</span><span class="o">.</span><span class="n">format</span><span class="p">(</span><span class="n">percentile</span><span class="p">,</span> <span class="n">np</span><span class="o">.</span><span class="n">round</span><span class="p">(</span><span class="n">threshold</span><span class="p">,</span> <span class="mi">2</span><span class="p">)))</span>
<span class="n">ax1</span><span class="o">.</span><span class="n">set_title</span><span class="p">(</span><span class="s1">&#39;Distribution of Elliptic Envelope decision function values&#39;</span><span class="p">);</span>
<span class="n">ax1</span><span class="o">.</span><span class="n">legend</span><span class="p">(</span><span class="n">loc</span><span class="o">=</span><span class="s1">&#39;best&#39;</span><span class="p">)</span>

<span class="c1"># Right plot</span>
<span class="c1"># Plot the observations</span>
<span class="n">ax2</span><span class="o">.</span><span class="n">scatter</span><span class="p">(</span><span class="n">X1</span><span class="p">[:,</span><span class="mi">0</span><span class="p">],</span> <span class="n">X1</span><span class="p">[:,</span><span class="mi">1</span><span class="p">],</span> <span class="n">c</span><span class="o">=</span><span class="s1">&#39;b&#39;</span><span class="p">,</span> <span class="n">marker</span><span class="o">=</span><span class="s1">&#39;x&#39;</span><span class="p">)</span>
<span class="c1"># Plot outliers</span>
<span class="n">ax2</span><span class="o">.</span><span class="n">scatter</span><span class="p">(</span><span class="n">X1</span><span class="p">[</span><span class="n">outliers</span><span class="p">][:,</span><span class="mi">0</span><span class="p">],</span> <span class="n">X1</span><span class="p">[</span><span class="n">outliers</span><span class="p">][:,</span><span class="mi">1</span><span class="p">],</span> <span class="n">c</span><span class="o">=</span><span class="s1">&#39;r&#39;</span><span class="p">,</span> <span class="n">marker</span><span class="o">=</span><span class="s1">&#39;x&#39;</span><span class="p">,</span> <span class="n">linewidths</span><span class="o">=</span><span class="mi">2</span><span class="p">)</span>
<span class="c1"># Plot decision boundary based on threshold</span>
<span class="n">ax2</span><span class="o">.</span><span class="n">contour</span><span class="p">(</span><span class="n">xx</span><span class="p">,</span> <span class="n">yy</span><span class="p">,</span> <span class="n">Z</span><span class="p">,</span> <span class="n">levels</span><span class="o">=</span><span class="p">[</span><span class="n">threshold</span><span class="p">],</span> <span class="n">linewidths</span><span class="o">=</span><span class="mi">2</span><span class="p">,</span> <span class="n">colors</span><span class="o">=</span><span class="s1">&#39;red&#39;</span><span class="p">,</span> <span class="n">linestyles</span><span class="o">=</span><span class="s1">&#39;dotted&#39;</span><span class="p">)</span>
<span class="n">ax2</span><span class="o">.</span><span class="n">set_title</span><span class="p">(</span><span class="s2">&quot;Outlier detection&quot;</span><span class="p">)</span>
<span class="n">ax2</span><span class="o">.</span><span class="n">set_xlabel</span><span class="p">(</span><span class="s1">&#39;Latency (ms)&#39;</span><span class="p">)</span>
<span class="n">ax2</span><span class="o">.</span><span class="n">set_ylabel</span><span class="p">(</span><span class="s1">&#39;Throughput (mb/s)&#39;</span><span class="p">);</span>
</pre></div>

</div>
</div>
</div>

<div class="output_wrapper">
<div class="output">


<div class="output_area">

<div class="prompt"></div>




<div class="output_png output_subarea ">
<img src="data:image/png;base64,iVBORw0KGgoAAAANSUhEUgAAAzAAAAFRCAYAAACrP0jNAAAABHNCSVQICAgIfAhkiAAAAAlwSFlz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"
>
</div>

</div>

</div>
</div>

</div>
<div class="cell border-box-sizing text_cell rendered"><div class="prompt input_prompt">
</div>
<div class="inner_cell">
<div class="text_cell_render border-box-sizing rendered_html">
<h3 id="Recommender-Systems">Recommender Systems<a class="anchor-link" href="#Recommender-Systems">&#182;</a></h3>
</div>
</div>
</div>
<div class="cell border-box-sizing code_cell rendered">
<div class="input">
<div class="prompt input_prompt">In&nbsp;[7]:</div>
<div class="inner_cell">
    <div class="input_area">
<div class=" highlight hl-ipython3"><pre><span></span><span class="n">data2</span> <span class="o">=</span> <span class="n">loadmat</span><span class="p">(</span><span class="s1">&#39;data/ex8_movies.mat&#39;</span><span class="p">)</span>
<span class="n">data2</span><span class="o">.</span><span class="n">keys</span><span class="p">()</span>
</pre></div>

</div>
</div>
</div>

<div class="output_wrapper">
<div class="output">


<div class="output_area">

<div class="prompt output_prompt">Out[7]:</div>




<div class="output_text output_subarea output_execute_result">
<pre>dict_keys([&#39;__header__&#39;, &#39;__globals__&#39;, &#39;R&#39;, &#39;Y&#39;, &#39;__version__&#39;])</pre>
</div>

</div>

</div>
</div>

</div>
<div class="cell border-box-sizing code_cell rendered">
<div class="input">
<div class="prompt input_prompt">In&nbsp;[8]:</div>
<div class="inner_cell">
    <div class="input_area">
<div class=" highlight hl-ipython3"><pre><span></span><span class="n">Y</span> <span class="o">=</span> <span class="n">data2</span><span class="p">[</span><span class="s1">&#39;Y&#39;</span><span class="p">]</span>
<span class="n">R</span> <span class="o">=</span> <span class="n">data2</span><span class="p">[</span><span class="s1">&#39;R&#39;</span><span class="p">]</span>
<span class="nb">print</span><span class="p">(</span><span class="s1">&#39;Y:&#39;</span><span class="p">,</span> <span class="n">Y</span><span class="o">.</span><span class="n">shape</span><span class="p">)</span>
<span class="nb">print</span><span class="p">(</span><span class="s1">&#39;R:&#39;</span><span class="p">,</span> <span class="n">R</span><span class="o">.</span><span class="n">shape</span><span class="p">)</span>
</pre></div>

</div>
</div>
</div>

<div class="output_wrapper">
<div class="output">


<div class="output_area">

<div class="prompt"></div>


<div class="output_subarea output_stream output_stdout output_text">
<pre>Y: (1682, 943)
R: (1682, 943)
</pre>
</div>
</div>

</div>
</div>

</div>
<div class="cell border-box-sizing code_cell rendered">
<div class="input">
<div class="prompt input_prompt">In&nbsp;[9]:</div>
<div class="inner_cell">
    <div class="input_area">
<div class=" highlight hl-ipython3"><pre><span></span><span class="n">Y</span>
</pre></div>

</div>
</div>
</div>

<div class="output_wrapper">
<div class="output">


<div class="output_area">

<div class="prompt output_prompt">Out[9]:</div>




<div class="output_text output_subarea output_execute_result">
<pre>array([[5, 4, 0, ..., 5, 0, 0],
       [3, 0, 0, ..., 0, 0, 5],
       [4, 0, 0, ..., 0, 0, 0],
       ..., 
       [0, 0, 0, ..., 0, 0, 0],
       [0, 0, 0, ..., 0, 0, 0],
       [0, 0, 0, ..., 0, 0, 0]], dtype=uint8)</pre>
</div>

</div>

</div>
</div>

</div>
<div class="cell border-box-sizing code_cell rendered">
<div class="input">
<div class="prompt input_prompt">In&nbsp;[10]:</div>
<div class="inner_cell">
    <div class="input_area">
<div class=" highlight hl-ipython3"><pre><span></span><span class="n">R</span>
</pre></div>

</div>
</div>
</div>

<div class="output_wrapper">
<div class="output">


<div class="output_area">

<div class="prompt output_prompt">Out[10]:</div>




<div class="output_text output_subarea output_execute_result">
<pre>array([[1, 1, 0, ..., 1, 0, 0],
       [1, 0, 0, ..., 0, 0, 1],
       [1, 0, 0, ..., 0, 0, 0],
       ..., 
       [0, 0, 0, ..., 0, 0, 0],
       [0, 0, 0, ..., 0, 0, 0],
       [0, 0, 0, ..., 0, 0, 0]], dtype=uint8)</pre>
</div>

</div>

</div>
</div>

</div>
<div class="cell border-box-sizing code_cell rendered">
<div class="input">
<div class="prompt input_prompt">In&nbsp;[11]:</div>
<div class="inner_cell">
    <div class="input_area">
<div class=" highlight hl-ipython3"><pre><span></span><span class="n">sns</span><span class="o">.</span><span class="n">heatmap</span><span class="p">(</span><span class="n">Y</span><span class="p">,</span> <span class="n">yticklabels</span><span class="o">=</span><span class="kc">False</span><span class="p">,</span> <span class="n">xticklabels</span><span class="o">=</span><span class="kc">False</span><span class="p">);</span>
</pre></div>

</div>
</div>
</div>

<div class="output_wrapper">
<div class="output">


<div class="output_area">

<div class="prompt"></div>




<div class="output_png output_subarea ">
<img src="data:image/png;base64,iVBORw0KGgoAAAANSUhEUgAAAaUAAAFKCAYAAAC9wED5AAAABHNCSVQICAgIfAhkiAAAAAlwSFlz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==
"
>
</div>

</div>

</div>
</div>

</div>
 


    </div>
  </div>

  </div>


  
    <footer class="footer hidden-print">
      <div class="container">
        <div class="col-md-4">
          <p>
            This website does not host notebooks, it only renders notebooks
            available on other websites.
          </p>
        </div>

        <div class="col-md-4">
          <p>
            Delivered by <a href="http://www.fastly.com/">Fastly</a>,
            Rendered by <a href="https://developer.rackspace.com/?nbviewer=awesome">Rackspace</a>
          </p>
          <p>
            nbviewer GitHub <a href="https://github.com/jupyter/nbviewer">repository</a>.
          </p>
        </div>

        <div class="col-md-4">
          
  
            
              <p>
                nbviewer version:
                <a href="https://github.com/jupyter/nbviewer/commit/67ee47e55fa697614e03aa060a86019f75f2ddca">
                  67ee47e
                </a>
              </p>
            
          
  
  <p>
    nbconvert version: <a href="https://github.com/jupyter/nbconvert/releases/tag/5.3.1">
      5.3.1
    </a>
  </p>
  

          
  
  
  <p>
    Rendered
    <span class='date' data-date='Mon, 19 Feb 2018 13:05:13 UTC' title='Mon, 19 Feb 2018 13:05:13 UTC'>(Mon, 19 Feb 2018 13:05:13 UTC)</span>
  </p>
  

        </div>
      </div>
    </footer>
  

  <script src="/static/components/bootstrap/js/bootstrap.min.js?v=5869c96cc8f19086aee625d670d741f9"></script>
  <script src="/static/components/headroom.js/dist/headroom.min.js?v=b0a311ea668f8e768ea375f4a7abb81c"></script>
  <script src="/static/components/headroom.js/dist/jQuery.headroom.min.js?v=f3a1bae118315d0c234afc74dc6aab71"></script>

  
  
  <script>
    $(function(){ $("#menubar").headroom({
      tolerance: 5,
      offset: 205,
      classes: {
        initial: "animated",
        pinned: "slideInDown",
        unpinned: "slideOutUp"
      }
    })});
  </script>


  
  <script>
    (function(i,s,o,g,r,a,m){i['GoogleAnalyticsObject']=r;i[r]=i[r]||function(){
      (i[r].q=i[r].q||[]).push(arguments)},i[r].l=1*new Date();a=s.createElement(o),
      m=s.getElementsByTagName(o)[0];a.async=1;a.src=g;m.parentNode.insertBefore(a,m)
    })(window,document,'script','https://www.google-analytics.com/analytics.js','ga');
    ga('create', 'UA-52617120-5', 'auto');
    ga('send', 'pageview');
  </script>
  
  <script>
    require({
        paths: {
          moment: "/static/components/moment/min/moment.min.js?v=89f87298ad94aa1e6b92f42eb66da043"
        }
      }, ["moment"], function(moment){
      var date = $("footer .date"),
        m = moment(new Date(date.data('date'))),
        update = function(){ date.text(m.fromNow()); };
      setInterval(update, 61*1000);
      update();
      var w = $(window).scroll(function(event){
        $("body").toggleClass("scrolled", w.scrollTop() > 0);
      });
    });
  </script>

  <!--NEW RELIC Stop Perf Measurement-->
  
  <!--NEW RELIC End-->
</body>
</html>