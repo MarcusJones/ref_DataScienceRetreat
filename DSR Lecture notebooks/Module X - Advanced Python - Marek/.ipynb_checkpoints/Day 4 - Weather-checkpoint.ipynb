{
 "cells": [
  {
   "cell_type": "code",
   "execution_count": 1,
   "metadata": {},
   "outputs": [],
   "source": [
    "%matplotlib inline\n",
    "import numpy as np\n",
    "import pandas as pd\n",
    "import matplotlib.pyplot as plt\n",
    "import seaborn as sns\n",
    "#pd.set_option(\"display.notebook_repr_html\", False)\n",
    "#pd.set_option(\"display.max_rows\",100)\n",
    "#pd.set_option(\"expand_frame_repr\", True)\n",
    "#pd.set_option('max_colwidth',80)\n",
    "\n",
    "tips = pd.read_csv(\"http://gagolewski.com/resources/data/tips.csv\", comment=\"#\")\n",
    "iris = pd.read_csv(\"http://gagolewski.com/resources/data/iris.csv\", comment=\"#\")\n",
    "flights = pd.read_csv(\"http://gagolewski.com/resources/data/flights.csv\", comment=\"#\")\n",
    "plt.xkcd()\n",
    "weather = pd.read_csv(\n",
    "  \"http://www.gagolewski.com/resources/data/nycflights13_weather.csv.gz\",  \n",
    "  compression=\"gzip\",\n",
    "  comment=\"#\"\n",
    ")"
   ]
  },
  {
   "cell_type": "markdown",
   "metadata": {},
   "source": [
    "# THIS WORKS: Convert seperate columns into one DateTime"
   ]
  },
  {
   "cell_type": "code",
   "execution_count": 22,
   "metadata": {},
   "outputs": [
    {
     "data": {
      "text/plain": [
       "DatetimeIndex(['2013-01-01 00:00:00', '2013-01-01 01:00:00',\n",
       "               '2013-01-01 02:00:00', '2013-01-01 03:00:00',\n",
       "               '2013-01-01 04:00:00', '2013-01-01 06:00:00',\n",
       "               '2013-01-01 07:00:00', '2013-01-01 08:00:00',\n",
       "               '2013-01-01 09:00:00', '2013-01-01 10:00:00',\n",
       "               ...\n",
       "               '2013-12-30 14:00:00', '2013-12-30 15:00:00',\n",
       "               '2013-12-30 16:00:00', '2013-12-30 17:00:00',\n",
       "               '2013-12-30 18:00:00', '2013-12-30 19:00:00',\n",
       "               '2013-12-30 20:00:00', '2013-12-30 21:00:00',\n",
       "               '2013-12-30 22:00:00', '2013-12-30 23:00:00'],\n",
       "              dtype='datetime64[ns]', length=26130, freq=None)"
      ]
     },
     "execution_count": 22,
     "metadata": {},
     "output_type": "execute_result"
    }
   ],
   "source": [
    "#weather.head()\n",
    "#weather[\"Index\"]=weather.index\n",
    "#weather.head()\n",
    "#weather.info()\n",
    "#weather.\n",
    "new_index = pd.to_datetime(weather.loc[:,['year','month','day','hour']])\n",
    "new_index.index"
   ]
  },
  {
   "cell_type": "code",
   "execution_count": 23,
   "metadata": {},
   "outputs": [
    {
     "name": "stdout",
     "output_type": "stream",
     "text": [
      "Couldn't find program: 'False'\n"
     ]
    }
   ],
   "source": [
    "%%script False\n",
    "weather['year'] = weather['year'].astype(int)\n",
    "weather['month'] = weather['month'].astype(int)\n",
    "weather['day'] = weather['day'].astype(int)\n",
    "weather['hour'] = weather['hour'].astype(int)"
   ]
  },
  {
   "cell_type": "code",
   "execution_count": 24,
   "metadata": {},
   "outputs": [
    {
     "name": "stdout",
     "output_type": "stream",
     "text": [
      "Couldn't find program: 'false'\n"
     ]
    }
   ],
   "source": [
    "%%script false\n",
    "df = pd.DataFrame(weather[['year','month','day','hour']])\n",
    "df.head()\n",
    "dt_series = pd.to_datetime(df)\n",
    "#dt_series.head()\n",
    "weather.index = dt_series\n",
    "#weather['time_hour2'] = dt_series\n",
    "weather.head(10)\n",
    "#dt_series.name\n",
    "#df.info()"
   ]
  },
  {
   "cell_type": "code",
   "execution_count": 25,
   "metadata": {},
   "outputs": [
    {
     "name": "stdout",
     "output_type": "stream",
     "text": [
      "Couldn't find program: 'False'\n"
     ]
    }
   ],
   "source": [
    "%%script False\n",
    "new_col = weather[\"day\"].map(str) + \" \" + weather[\"month\"].map(str) + \" \" + weather[\"year\"].map(str) + \" \"\n",
    "new_col.head()\n",
    "weather['dt'] = pd.to_datetime(new_col)\n",
    "weather.head()"
   ]
  },
  {
   "cell_type": "markdown",
   "metadata": {},
   "source": [
    "## Find a NAN"
   ]
  },
  {
   "cell_type": "code",
   "execution_count": 26,
   "metadata": {},
   "outputs": [
    {
     "name": "stdout",
     "output_type": "stream",
     "text": [
      "Couldn't find program: 'False'\n"
     ]
    }
   ],
   "source": [
    "%%script False\n",
    "filter1 = weather[\"origin\"] == 'JFK'\n",
    "JFK = weather[filter1]\n",
    "#JFK.describe()\n",
    "#JFK['temp'].plot()\n",
    "JFK.head(10)"
   ]
  },
  {
   "cell_type": "markdown",
   "metadata": {},
   "source": [
    "## select JFK"
   ]
  },
  {
   "cell_type": "code",
   "execution_count": 43,
   "metadata": {},
   "outputs": [
    {
     "data": {
      "text/html": [
       "<div>\n",
       "<style scoped>\n",
       "    .dataframe tbody tr th:only-of-type {\n",
       "        vertical-align: middle;\n",
       "    }\n",
       "\n",
       "    .dataframe tbody tr th {\n",
       "        vertical-align: top;\n",
       "    }\n",
       "\n",
       "    .dataframe thead th {\n",
       "        text-align: right;\n",
       "    }\n",
       "</style>\n",
       "<table border=\"1\" class=\"dataframe\">\n",
       "  <thead>\n",
       "    <tr style=\"text-align: right;\">\n",
       "      <th></th>\n",
       "      <th>origin</th>\n",
       "      <th>year</th>\n",
       "      <th>month</th>\n",
       "      <th>day</th>\n",
       "      <th>hour</th>\n",
       "      <th>temp</th>\n",
       "      <th>dewp</th>\n",
       "      <th>humid</th>\n",
       "      <th>wind_dir</th>\n",
       "      <th>wind_speed</th>\n",
       "      <th>wind_gust</th>\n",
       "      <th>precip</th>\n",
       "      <th>pressure</th>\n",
       "      <th>visib</th>\n",
       "      <th>time_hour</th>\n",
       "    </tr>\n",
       "  </thead>\n",
       "  <tbody>\n",
       "    <tr>\n",
       "      <th>2013-01-01 00:00:00</th>\n",
       "      <td>EWR</td>\n",
       "      <td>2013</td>\n",
       "      <td>1</td>\n",
       "      <td>1</td>\n",
       "      <td>0</td>\n",
       "      <td>37.04</td>\n",
       "      <td>21.92</td>\n",
       "      <td>53.97</td>\n",
       "      <td>230.0</td>\n",
       "      <td>10.35702</td>\n",
       "      <td>11.918651</td>\n",
       "      <td>0.0</td>\n",
       "      <td>1013.9</td>\n",
       "      <td>10.0</td>\n",
       "      <td>2013-01-01 01:00:00</td>\n",
       "    </tr>\n",
       "    <tr>\n",
       "      <th>2013-01-01 01:00:00</th>\n",
       "      <td>EWR</td>\n",
       "      <td>2013</td>\n",
       "      <td>1</td>\n",
       "      <td>1</td>\n",
       "      <td>1</td>\n",
       "      <td>37.04</td>\n",
       "      <td>21.92</td>\n",
       "      <td>53.97</td>\n",
       "      <td>230.0</td>\n",
       "      <td>13.80936</td>\n",
       "      <td>15.891535</td>\n",
       "      <td>0.0</td>\n",
       "      <td>1013.0</td>\n",
       "      <td>10.0</td>\n",
       "      <td>2013-01-01 02:00:00</td>\n",
       "    </tr>\n",
       "    <tr>\n",
       "      <th>2013-01-01 02:00:00</th>\n",
       "      <td>EWR</td>\n",
       "      <td>2013</td>\n",
       "      <td>1</td>\n",
       "      <td>1</td>\n",
       "      <td>2</td>\n",
       "      <td>37.94</td>\n",
       "      <td>21.92</td>\n",
       "      <td>52.09</td>\n",
       "      <td>230.0</td>\n",
       "      <td>12.65858</td>\n",
       "      <td>14.567241</td>\n",
       "      <td>0.0</td>\n",
       "      <td>1012.6</td>\n",
       "      <td>10.0</td>\n",
       "      <td>2013-01-01 03:00:00</td>\n",
       "    </tr>\n",
       "    <tr>\n",
       "      <th>2013-01-01 03:00:00</th>\n",
       "      <td>EWR</td>\n",
       "      <td>2013</td>\n",
       "      <td>1</td>\n",
       "      <td>1</td>\n",
       "      <td>3</td>\n",
       "      <td>37.94</td>\n",
       "      <td>23.00</td>\n",
       "      <td>54.51</td>\n",
       "      <td>230.0</td>\n",
       "      <td>13.80936</td>\n",
       "      <td>15.891535</td>\n",
       "      <td>0.0</td>\n",
       "      <td>1012.7</td>\n",
       "      <td>10.0</td>\n",
       "      <td>2013-01-01 04:00:00</td>\n",
       "    </tr>\n",
       "    <tr>\n",
       "      <th>2013-01-01 04:00:00</th>\n",
       "      <td>EWR</td>\n",
       "      <td>2013</td>\n",
       "      <td>1</td>\n",
       "      <td>1</td>\n",
       "      <td>4</td>\n",
       "      <td>37.94</td>\n",
       "      <td>24.08</td>\n",
       "      <td>57.04</td>\n",
       "      <td>240.0</td>\n",
       "      <td>14.96014</td>\n",
       "      <td>17.215830</td>\n",
       "      <td>0.0</td>\n",
       "      <td>1012.8</td>\n",
       "      <td>10.0</td>\n",
       "      <td>2013-01-01 05:00:00</td>\n",
       "    </tr>\n",
       "  </tbody>\n",
       "</table>\n",
       "</div>"
      ],
      "text/plain": [
       "                    origin  year  month  day  hour   temp   dewp  humid  \\\n",
       "2013-01-01 00:00:00    EWR  2013      1    1     0  37.04  21.92  53.97   \n",
       "2013-01-01 01:00:00    EWR  2013      1    1     1  37.04  21.92  53.97   \n",
       "2013-01-01 02:00:00    EWR  2013      1    1     2  37.94  21.92  52.09   \n",
       "2013-01-01 03:00:00    EWR  2013      1    1     3  37.94  23.00  54.51   \n",
       "2013-01-01 04:00:00    EWR  2013      1    1     4  37.94  24.08  57.04   \n",
       "\n",
       "                     wind_dir  wind_speed  wind_gust  precip  pressure  visib  \\\n",
       "2013-01-01 00:00:00     230.0    10.35702  11.918651     0.0    1013.9   10.0   \n",
       "2013-01-01 01:00:00     230.0    13.80936  15.891535     0.0    1013.0   10.0   \n",
       "2013-01-01 02:00:00     230.0    12.65858  14.567241     0.0    1012.6   10.0   \n",
       "2013-01-01 03:00:00     230.0    13.80936  15.891535     0.0    1012.7   10.0   \n",
       "2013-01-01 04:00:00     240.0    14.96014  17.215830     0.0    1012.8   10.0   \n",
       "\n",
       "                               time_hour  \n",
       "2013-01-01 00:00:00  2013-01-01 01:00:00  \n",
       "2013-01-01 01:00:00  2013-01-01 02:00:00  \n",
       "2013-01-01 02:00:00  2013-01-01 03:00:00  \n",
       "2013-01-01 03:00:00  2013-01-01 04:00:00  \n",
       "2013-01-01 04:00:00  2013-01-01 05:00:00  "
      ]
     },
     "execution_count": 43,
     "metadata": {},
     "output_type": "execute_result"
    }
   ],
   "source": [
    "weather.head()"
   ]
  },
  {
   "cell_type": "code",
   "execution_count": 50,
   "metadata": {},
   "outputs": [
    {
     "data": {
      "text/html": [
       "<div>\n",
       "<style scoped>\n",
       "    .dataframe tbody tr th:only-of-type {\n",
       "        vertical-align: middle;\n",
       "    }\n",
       "\n",
       "    .dataframe tbody tr th {\n",
       "        vertical-align: top;\n",
       "    }\n",
       "\n",
       "    .dataframe thead th {\n",
       "        text-align: right;\n",
       "    }\n",
       "</style>\n",
       "<table border=\"1\" class=\"dataframe\">\n",
       "  <thead>\n",
       "    <tr style=\"text-align: right;\">\n",
       "      <th></th>\n",
       "      <th>origin</th>\n",
       "      <th>year</th>\n",
       "      <th>month</th>\n",
       "      <th>day</th>\n",
       "      <th>hour</th>\n",
       "      <th>temp</th>\n",
       "      <th>dewp</th>\n",
       "      <th>humid</th>\n",
       "      <th>wind_dir</th>\n",
       "      <th>wind_speed</th>\n",
       "      <th>wind_gust</th>\n",
       "      <th>precip</th>\n",
       "      <th>pressure</th>\n",
       "      <th>visib</th>\n",
       "      <th>time_hour</th>\n",
       "    </tr>\n",
       "  </thead>\n",
       "  <tbody>\n",
       "    <tr>\n",
       "      <th>2013-01-01 00:00:00</th>\n",
       "      <td>JFK</td>\n",
       "      <td>2013</td>\n",
       "      <td>1</td>\n",
       "      <td>1</td>\n",
       "      <td>0</td>\n",
       "      <td>37.94</td>\n",
       "      <td>23.00</td>\n",
       "      <td>54.51</td>\n",
       "      <td>240.0</td>\n",
       "      <td>16.11092</td>\n",
       "      <td>18.540125</td>\n",
       "      <td>0.0</td>\n",
       "      <td>1014.4</td>\n",
       "      <td>10.0</td>\n",
       "      <td>2013-01-01 01:00:00</td>\n",
       "    </tr>\n",
       "    <tr>\n",
       "      <th>2013-01-01 01:00:00</th>\n",
       "      <td>JFK</td>\n",
       "      <td>2013</td>\n",
       "      <td>1</td>\n",
       "      <td>1</td>\n",
       "      <td>1</td>\n",
       "      <td>37.94</td>\n",
       "      <td>24.08</td>\n",
       "      <td>57.04</td>\n",
       "      <td>250.0</td>\n",
       "      <td>17.26170</td>\n",
       "      <td>19.864419</td>\n",
       "      <td>0.0</td>\n",
       "      <td>1013.5</td>\n",
       "      <td>10.0</td>\n",
       "      <td>2013-01-01 02:00:00</td>\n",
       "    </tr>\n",
       "    <tr>\n",
       "      <th>2013-01-01 02:00:00</th>\n",
       "      <td>JFK</td>\n",
       "      <td>2013</td>\n",
       "      <td>1</td>\n",
       "      <td>1</td>\n",
       "      <td>2</td>\n",
       "      <td>39.02</td>\n",
       "      <td>24.98</td>\n",
       "      <td>56.77</td>\n",
       "      <td>240.0</td>\n",
       "      <td>19.56326</td>\n",
       "      <td>22.513008</td>\n",
       "      <td>0.0</td>\n",
       "      <td>1013.0</td>\n",
       "      <td>10.0</td>\n",
       "      <td>2013-01-01 03:00:00</td>\n",
       "    </tr>\n",
       "    <tr>\n",
       "      <th>2013-01-01 03:00:00</th>\n",
       "      <td>JFK</td>\n",
       "      <td>2013</td>\n",
       "      <td>1</td>\n",
       "      <td>1</td>\n",
       "      <td>3</td>\n",
       "      <td>39.02</td>\n",
       "      <td>26.06</td>\n",
       "      <td>59.37</td>\n",
       "      <td>240.0</td>\n",
       "      <td>18.41248</td>\n",
       "      <td>21.188714</td>\n",
       "      <td>0.0</td>\n",
       "      <td>1013.2</td>\n",
       "      <td>10.0</td>\n",
       "      <td>2013-01-01 04:00:00</td>\n",
       "    </tr>\n",
       "    <tr>\n",
       "      <th>2013-01-01 04:00:00</th>\n",
       "      <td>JFK</td>\n",
       "      <td>2013</td>\n",
       "      <td>1</td>\n",
       "      <td>1</td>\n",
       "      <td>4</td>\n",
       "      <td>39.02</td>\n",
       "      <td>24.98</td>\n",
       "      <td>56.77</td>\n",
       "      <td>260.0</td>\n",
       "      <td>14.96014</td>\n",
       "      <td>17.215830</td>\n",
       "      <td>0.0</td>\n",
       "      <td>1013.2</td>\n",
       "      <td>10.0</td>\n",
       "      <td>2013-01-01 05:00:00</td>\n",
       "    </tr>\n",
       "    <tr>\n",
       "      <th>2013-01-01 06:00:00</th>\n",
       "      <td>JFK</td>\n",
       "      <td>2013</td>\n",
       "      <td>1</td>\n",
       "      <td>1</td>\n",
       "      <td>6</td>\n",
       "      <td>39.02</td>\n",
       "      <td>26.06</td>\n",
       "      <td>59.37</td>\n",
       "      <td>260.0</td>\n",
       "      <td>12.65858</td>\n",
       "      <td>14.567241</td>\n",
       "      <td>0.0</td>\n",
       "      <td>1012.6</td>\n",
       "      <td>10.0</td>\n",
       "      <td>2013-01-01 07:00:00</td>\n",
       "    </tr>\n",
       "    <tr>\n",
       "      <th>2013-01-01 07:00:00</th>\n",
       "      <td>JFK</td>\n",
       "      <td>2013</td>\n",
       "      <td>1</td>\n",
       "      <td>1</td>\n",
       "      <td>7</td>\n",
       "      <td>39.02</td>\n",
       "      <td>26.06</td>\n",
       "      <td>59.37</td>\n",
       "      <td>270.0</td>\n",
       "      <td>11.50780</td>\n",
       "      <td>13.242946</td>\n",
       "      <td>0.0</td>\n",
       "      <td>1012.4</td>\n",
       "      <td>10.0</td>\n",
       "      <td>2013-01-01 08:00:00</td>\n",
       "    </tr>\n",
       "    <tr>\n",
       "      <th>2013-01-01 08:00:00</th>\n",
       "      <td>JFK</td>\n",
       "      <td>2013</td>\n",
       "      <td>1</td>\n",
       "      <td>1</td>\n",
       "      <td>8</td>\n",
       "      <td>39.92</td>\n",
       "      <td>26.96</td>\n",
       "      <td>59.50</td>\n",
       "      <td>260.0</td>\n",
       "      <td>14.96014</td>\n",
       "      <td>17.215830</td>\n",
       "      <td>0.0</td>\n",
       "      <td>1012.7</td>\n",
       "      <td>10.0</td>\n",
       "      <td>2013-01-01 09:00:00</td>\n",
       "    </tr>\n",
       "    <tr>\n",
       "      <th>2013-01-01 09:00:00</th>\n",
       "      <td>JFK</td>\n",
       "      <td>2013</td>\n",
       "      <td>1</td>\n",
       "      <td>1</td>\n",
       "      <td>9</td>\n",
       "      <td>39.92</td>\n",
       "      <td>28.04</td>\n",
       "      <td>62.21</td>\n",
       "      <td>250.0</td>\n",
       "      <td>17.26170</td>\n",
       "      <td>19.864419</td>\n",
       "      <td>0.0</td>\n",
       "      <td>1012.6</td>\n",
       "      <td>10.0</td>\n",
       "      <td>2013-01-01 10:00:00</td>\n",
       "    </tr>\n",
       "    <tr>\n",
       "      <th>2013-01-01 10:00:00</th>\n",
       "      <td>JFK</td>\n",
       "      <td>2013</td>\n",
       "      <td>1</td>\n",
       "      <td>1</td>\n",
       "      <td>10</td>\n",
       "      <td>39.02</td>\n",
       "      <td>26.96</td>\n",
       "      <td>61.63</td>\n",
       "      <td>260.0</td>\n",
       "      <td>14.96014</td>\n",
       "      <td>17.215830</td>\n",
       "      <td>0.0</td>\n",
       "      <td>1012.1</td>\n",
       "      <td>10.0</td>\n",
       "      <td>2013-01-01 11:00:00</td>\n",
       "    </tr>\n",
       "  </tbody>\n",
       "</table>\n",
       "</div>"
      ],
      "text/plain": [
       "                    origin  year  month  day  hour   temp   dewp  humid  \\\n",
       "2013-01-01 00:00:00    JFK  2013      1    1     0  37.94  23.00  54.51   \n",
       "2013-01-01 01:00:00    JFK  2013      1    1     1  37.94  24.08  57.04   \n",
       "2013-01-01 02:00:00    JFK  2013      1    1     2  39.02  24.98  56.77   \n",
       "2013-01-01 03:00:00    JFK  2013      1    1     3  39.02  26.06  59.37   \n",
       "2013-01-01 04:00:00    JFK  2013      1    1     4  39.02  24.98  56.77   \n",
       "2013-01-01 06:00:00    JFK  2013      1    1     6  39.02  26.06  59.37   \n",
       "2013-01-01 07:00:00    JFK  2013      1    1     7  39.02  26.06  59.37   \n",
       "2013-01-01 08:00:00    JFK  2013      1    1     8  39.92  26.96  59.50   \n",
       "2013-01-01 09:00:00    JFK  2013      1    1     9  39.92  28.04  62.21   \n",
       "2013-01-01 10:00:00    JFK  2013      1    1    10  39.02  26.96  61.63   \n",
       "\n",
       "                     wind_dir  wind_speed  wind_gust  precip  pressure  visib  \\\n",
       "2013-01-01 00:00:00     240.0    16.11092  18.540125     0.0    1014.4   10.0   \n",
       "2013-01-01 01:00:00     250.0    17.26170  19.864419     0.0    1013.5   10.0   \n",
       "2013-01-01 02:00:00     240.0    19.56326  22.513008     0.0    1013.0   10.0   \n",
       "2013-01-01 03:00:00     240.0    18.41248  21.188714     0.0    1013.2   10.0   \n",
       "2013-01-01 04:00:00     260.0    14.96014  17.215830     0.0    1013.2   10.0   \n",
       "2013-01-01 06:00:00     260.0    12.65858  14.567241     0.0    1012.6   10.0   \n",
       "2013-01-01 07:00:00     270.0    11.50780  13.242946     0.0    1012.4   10.0   \n",
       "2013-01-01 08:00:00     260.0    14.96014  17.215830     0.0    1012.7   10.0   \n",
       "2013-01-01 09:00:00     250.0    17.26170  19.864419     0.0    1012.6   10.0   \n",
       "2013-01-01 10:00:00     260.0    14.96014  17.215830     0.0    1012.1   10.0   \n",
       "\n",
       "                               time_hour  \n",
       "2013-01-01 00:00:00  2013-01-01 01:00:00  \n",
       "2013-01-01 01:00:00  2013-01-01 02:00:00  \n",
       "2013-01-01 02:00:00  2013-01-01 03:00:00  \n",
       "2013-01-01 03:00:00  2013-01-01 04:00:00  \n",
       "2013-01-01 04:00:00  2013-01-01 05:00:00  \n",
       "2013-01-01 06:00:00  2013-01-01 07:00:00  \n",
       "2013-01-01 07:00:00  2013-01-01 08:00:00  \n",
       "2013-01-01 08:00:00  2013-01-01 09:00:00  \n",
       "2013-01-01 09:00:00  2013-01-01 10:00:00  \n",
       "2013-01-01 10:00:00  2013-01-01 11:00:00  "
      ]
     },
     "execution_count": 50,
     "metadata": {},
     "output_type": "execute_result"
    },
    {
     "data": {
      "image/png": "[encoded data removed]",
      "text/plain": [
       "<matplotlib.figure.Figure at 0x21813163b70>"
      ]
     },
     "metadata": {},
     "output_type": "display_data"
    }
   ],
   "source": [
    "filter1 = weather.loc[:,\"origin\"] == 'JFK'\n",
    "JFK = weather[filter1].copy()\n",
    "JFK['temp'].plot()\n",
    "JFK.head(10)"
   ]
  },
  {
   "cell_type": "markdown",
   "metadata": {},
   "source": []
  },
  {
   "cell_type": "markdown",
   "metadata": {},
   "source": [
    "# New indexing over entire year"
   ]
  },
  {
   "cell_type": "code",
   "execution_count": 51,
   "metadata": {},
   "outputs": [
    {
     "name": "stdout",
     "output_type": "stream",
     "text": [
      "8760\n"
     ]
    }
   ],
   "source": [
    "# New index\n",
    "new_ind = pd.date_range(\"2013-01-01 00\",\"2013-12-31 23\", freq=\"1H\")\n",
    "print(len(new_ind))"
   ]
  },
  {
   "cell_type": "code",
   "execution_count": 65,
   "metadata": {},
   "outputs": [
    {
     "data": {
      "text/html": [
       "<div>\n",
       "<style scoped>\n",
       "    .dataframe tbody tr th:only-of-type {\n",
       "        vertical-align: middle;\n",
       "    }\n",
       "\n",
       "    .dataframe tbody tr th {\n",
       "        vertical-align: top;\n",
       "    }\n",
       "\n",
       "    .dataframe thead th {\n",
       "        text-align: right;\n",
       "    }\n",
       "</style>\n",
       "<table border=\"1\" class=\"dataframe\">\n",
       "  <thead>\n",
       "    <tr style=\"text-align: right;\">\n",
       "      <th></th>\n",
       "      <th>origin</th>\n",
       "      <th>year</th>\n",
       "      <th>month</th>\n",
       "      <th>day</th>\n",
       "      <th>hour</th>\n",
       "      <th>temp</th>\n",
       "      <th>dewp</th>\n",
       "      <th>humid</th>\n",
       "      <th>wind_dir</th>\n",
       "      <th>wind_speed</th>\n",
       "      <th>wind_gust</th>\n",
       "      <th>precip</th>\n",
       "      <th>pressure</th>\n",
       "      <th>visib</th>\n",
       "      <th>time_hour</th>\n",
       "    </tr>\n",
       "  </thead>\n",
       "  <tbody>\n",
       "    <tr>\n",
       "      <th>2013-01-01 00:00:00</th>\n",
       "      <td>JFK</td>\n",
       "      <td>2013.0</td>\n",
       "      <td>1.0</td>\n",
       "      <td>1.0</td>\n",
       "      <td>0.0</td>\n",
       "      <td>37.94</td>\n",
       "      <td>23.00</td>\n",
       "      <td>54.51</td>\n",
       "      <td>240.0</td>\n",
       "      <td>16.11092</td>\n",
       "      <td>18.540125</td>\n",
       "      <td>0.0</td>\n",
       "      <td>1014.4</td>\n",
       "      <td>10.0</td>\n",
       "      <td>2013-01-01 01:00:00</td>\n",
       "    </tr>\n",
       "    <tr>\n",
       "      <th>2013-01-01 01:00:00</th>\n",
       "      <td>JFK</td>\n",
       "      <td>2013.0</td>\n",
       "      <td>1.0</td>\n",
       "      <td>1.0</td>\n",
       "      <td>1.0</td>\n",
       "      <td>37.94</td>\n",
       "      <td>24.08</td>\n",
       "      <td>57.04</td>\n",
       "      <td>250.0</td>\n",
       "      <td>17.26170</td>\n",
       "      <td>19.864419</td>\n",
       "      <td>0.0</td>\n",
       "      <td>1013.5</td>\n",
       "      <td>10.0</td>\n",
       "      <td>2013-01-01 02:00:00</td>\n",
       "    </tr>\n",
       "    <tr>\n",
       "      <th>2013-01-01 02:00:00</th>\n",
       "      <td>JFK</td>\n",
       "      <td>2013.0</td>\n",
       "      <td>1.0</td>\n",
       "      <td>1.0</td>\n",
       "      <td>2.0</td>\n",
       "      <td>39.02</td>\n",
       "      <td>24.98</td>\n",
       "      <td>56.77</td>\n",
       "      <td>240.0</td>\n",
       "      <td>19.56326</td>\n",
       "      <td>22.513008</td>\n",
       "      <td>0.0</td>\n",
       "      <td>1013.0</td>\n",
       "      <td>10.0</td>\n",
       "      <td>2013-01-01 03:00:00</td>\n",
       "    </tr>\n",
       "    <tr>\n",
       "      <th>2013-01-01 03:00:00</th>\n",
       "      <td>JFK</td>\n",
       "      <td>2013.0</td>\n",
       "      <td>1.0</td>\n",
       "      <td>1.0</td>\n",
       "      <td>3.0</td>\n",
       "      <td>39.02</td>\n",
       "      <td>26.06</td>\n",
       "      <td>59.37</td>\n",
       "      <td>240.0</td>\n",
       "      <td>18.41248</td>\n",
       "      <td>21.188714</td>\n",
       "      <td>0.0</td>\n",
       "      <td>1013.2</td>\n",
       "      <td>10.0</td>\n",
       "      <td>2013-01-01 04:00:00</td>\n",
       "    </tr>\n",
       "    <tr>\n",
       "      <th>2013-01-01 04:00:00</th>\n",
       "      <td>JFK</td>\n",
       "      <td>2013.0</td>\n",
       "      <td>1.0</td>\n",
       "      <td>1.0</td>\n",
       "      <td>4.0</td>\n",
       "      <td>39.02</td>\n",
       "      <td>24.98</td>\n",
       "      <td>56.77</td>\n",
       "      <td>260.0</td>\n",
       "      <td>14.96014</td>\n",
       "      <td>17.215830</td>\n",
       "      <td>0.0</td>\n",
       "      <td>1013.2</td>\n",
       "      <td>10.0</td>\n",
       "      <td>2013-01-01 05:00:00</td>\n",
       "    </tr>\n",
       "    <tr>\n",
       "      <th>2013-01-01 05:00:00</th>\n",
       "      <td>NaN</td>\n",
       "      <td>NaN</td>\n",
       "      <td>NaN</td>\n",
       "      <td>NaN</td>\n",
       "      <td>NaN</td>\n",
       "      <td>NaN</td>\n",
       "      <td>NaN</td>\n",
       "      <td>NaN</td>\n",
       "      <td>NaN</td>\n",
       "      <td>NaN</td>\n",
       "      <td>NaN</td>\n",
       "      <td>NaN</td>\n",
       "      <td>NaN</td>\n",
       "      <td>NaN</td>\n",
       "      <td>NaT</td>\n",
       "    </tr>\n",
       "    <tr>\n",
       "      <th>2013-01-01 06:00:00</th>\n",
       "      <td>JFK</td>\n",
       "      <td>2013.0</td>\n",
       "      <td>1.0</td>\n",
       "      <td>1.0</td>\n",
       "      <td>6.0</td>\n",
       "      <td>39.02</td>\n",
       "      <td>26.06</td>\n",
       "      <td>59.37</td>\n",
       "      <td>260.0</td>\n",
       "      <td>12.65858</td>\n",
       "      <td>14.567241</td>\n",
       "      <td>0.0</td>\n",
       "      <td>1012.6</td>\n",
       "      <td>10.0</td>\n",
       "      <td>2013-01-01 07:00:00</td>\n",
       "    </tr>\n",
       "    <tr>\n",
       "      <th>2013-01-01 07:00:00</th>\n",
       "      <td>JFK</td>\n",
       "      <td>2013.0</td>\n",
       "      <td>1.0</td>\n",
       "      <td>1.0</td>\n",
       "      <td>7.0</td>\n",
       "      <td>39.02</td>\n",
       "      <td>26.06</td>\n",
       "      <td>59.37</td>\n",
       "      <td>270.0</td>\n",
       "      <td>11.50780</td>\n",
       "      <td>13.242946</td>\n",
       "      <td>0.0</td>\n",
       "      <td>1012.4</td>\n",
       "      <td>10.0</td>\n",
       "      <td>2013-01-01 08:00:00</td>\n",
       "    </tr>\n",
       "    <tr>\n",
       "      <th>2013-01-01 08:00:00</th>\n",
       "      <td>JFK</td>\n",
       "      <td>2013.0</td>\n",
       "      <td>1.0</td>\n",
       "      <td>1.0</td>\n",
       "      <td>8.0</td>\n",
       "      <td>39.92</td>\n",
       "      <td>26.96</td>\n",
       "      <td>59.50</td>\n",
       "      <td>260.0</td>\n",
       "      <td>14.96014</td>\n",
       "      <td>17.215830</td>\n",
       "      <td>0.0</td>\n",
       "      <td>1012.7</td>\n",
       "      <td>10.0</td>\n",
       "      <td>2013-01-01 09:00:00</td>\n",
       "    </tr>\n",
       "    <tr>\n",
       "      <th>2013-01-01 09:00:00</th>\n",
       "      <td>JFK</td>\n",
       "      <td>2013.0</td>\n",
       "      <td>1.0</td>\n",
       "      <td>1.0</td>\n",
       "      <td>9.0</td>\n",
       "      <td>39.92</td>\n",
       "      <td>28.04</td>\n",
       "      <td>62.21</td>\n",
       "      <td>250.0</td>\n",
       "      <td>17.26170</td>\n",
       "      <td>19.864419</td>\n",
       "      <td>0.0</td>\n",
       "      <td>1012.6</td>\n",
       "      <td>10.0</td>\n",
       "      <td>2013-01-01 10:00:00</td>\n",
       "    </tr>\n",
       "  </tbody>\n",
       "</table>\n",
       "</div>"
      ],
      "text/plain": [
       "                    origin    year  month  day  hour   temp   dewp  humid  \\\n",
       "2013-01-01 00:00:00    JFK  2013.0    1.0  1.0   0.0  37.94  23.00  54.51   \n",
       "2013-01-01 01:00:00    JFK  2013.0    1.0  1.0   1.0  37.94  24.08  57.04   \n",
       "2013-01-01 02:00:00    JFK  2013.0    1.0  1.0   2.0  39.02  24.98  56.77   \n",
       "2013-01-01 03:00:00    JFK  2013.0    1.0  1.0   3.0  39.02  26.06  59.37   \n",
       "2013-01-01 04:00:00    JFK  2013.0    1.0  1.0   4.0  39.02  24.98  56.77   \n",
       "2013-01-01 05:00:00    NaN     NaN    NaN  NaN   NaN    NaN    NaN    NaN   \n",
       "2013-01-01 06:00:00    JFK  2013.0    1.0  1.0   6.0  39.02  26.06  59.37   \n",
       "2013-01-01 07:00:00    JFK  2013.0    1.0  1.0   7.0  39.02  26.06  59.37   \n",
       "2013-01-01 08:00:00    JFK  2013.0    1.0  1.0   8.0  39.92  26.96  59.50   \n",
       "2013-01-01 09:00:00    JFK  2013.0    1.0  1.0   9.0  39.92  28.04  62.21   \n",
       "\n",
       "                     wind_dir  wind_speed  wind_gust  precip  pressure  visib  \\\n",
       "2013-01-01 00:00:00     240.0    16.11092  18.540125     0.0    1014.4   10.0   \n",
       "2013-01-01 01:00:00     250.0    17.26170  19.864419     0.0    1013.5   10.0   \n",
       "2013-01-01 02:00:00     240.0    19.56326  22.513008     0.0    1013.0   10.0   \n",
       "2013-01-01 03:00:00     240.0    18.41248  21.188714     0.0    1013.2   10.0   \n",
       "2013-01-01 04:00:00     260.0    14.96014  17.215830     0.0    1013.2   10.0   \n",
       "2013-01-01 05:00:00       NaN         NaN        NaN     NaN       NaN    NaN   \n",
       "2013-01-01 06:00:00     260.0    12.65858  14.567241     0.0    1012.6   10.0   \n",
       "2013-01-01 07:00:00     270.0    11.50780  13.242946     0.0    1012.4   10.0   \n",
       "2013-01-01 08:00:00     260.0    14.96014  17.215830     0.0    1012.7   10.0   \n",
       "2013-01-01 09:00:00     250.0    17.26170  19.864419     0.0    1012.6   10.0   \n",
       "\n",
       "                              time_hour  \n",
       "2013-01-01 00:00:00 2013-01-01 01:00:00  \n",
       "2013-01-01 01:00:00 2013-01-01 02:00:00  \n",
       "2013-01-01 02:00:00 2013-01-01 03:00:00  \n",
       "2013-01-01 03:00:00 2013-01-01 04:00:00  \n",
       "2013-01-01 04:00:00 2013-01-01 05:00:00  \n",
       "2013-01-01 05:00:00                 NaT  \n",
       "2013-01-01 06:00:00 2013-01-01 07:00:00  \n",
       "2013-01-01 07:00:00 2013-01-01 08:00:00  \n",
       "2013-01-01 08:00:00 2013-01-01 09:00:00  \n",
       "2013-01-01 09:00:00 2013-01-01 10:00:00  "
      ]
     },
     "execution_count": 65,
     "metadata": {},
     "output_type": "execute_result"
    }
   ],
   "source": [
    "JFK = JFK.reindex(new_ind)\n",
    "JFK.head(10)"
   ]
  },
  {
   "cell_type": "code",
   "execution_count": 70,
   "metadata": {},
   "outputs": [
    {
     "name": "stdout",
     "output_type": "stream",
     "text": [
      "Total missing rows: 49\n"
     ]
    }
   ],
   "source": [
    "#JFK[\"time_hour\"] = new_time\n",
    "#JFK.head(10)\n",
    "#JFK['time_hour'].isnan()\n",
    "print(\"Total missing rows:\", JFK['temp'].isnull().sum())"
   ]
  },
  {
   "cell_type": "code",
   "execution_count": 71,
   "metadata": {},
   "outputs": [
    {
     "name": "stdout",
     "output_type": "stream",
     "text": [
      "Couldn't find program: 'false'\n"
     ]
    }
   ],
   "source": [
    "%%script false\n",
    "start_t, stop_t = JFK['time_hour'].iloc[0], JFK['time_hour'].iloc[-1]\n",
    "print(start_t, stop_t)\n",
    "new_index = pd.date_range(start_t,stop_t, freq=\"60min\")\n",
    "print(len(new_index))\n",
    "print(type(new_index))\n",
    "new_index_df = pd.DataFrame()\n",
    "new_index"
   ]
  },
  {
   "cell_type": "code",
   "execution_count": 72,
   "metadata": {},
   "outputs": [
    {
     "name": "stdout",
     "output_type": "stream",
     "text": [
      "Couldn't find program: 'false'\n"
     ]
    }
   ],
   "source": [
    "%%script false\n",
    "weather2 = new_index_df.merge(weather,how='outer')\n",
    "weather2.head()"
   ]
  },
  {
   "cell_type": "markdown",
   "metadata": {},
   "source": [
    "## Convert to C"
   ]
  },
  {
   "cell_type": "code",
   "execution_count": 73,
   "metadata": {},
   "outputs": [],
   "source": [
    "def f_c(f):\n",
    "    return (f -32)* 5/9  \n",
    "JFK2.loc[:,\"temp\"] = JFK.loc[:,\"temp\"].apply(f_c)"
   ]
  },
  {
   "cell_type": "markdown",
   "metadata": {},
   "source": [
    "# Fill NAN"
   ]
  },
  {
   "cell_type": "code",
   "execution_count": 101,
   "metadata": {},
   "outputs": [],
   "source": [
    "JFK2['temp'] = JFK2['temp'].fillna(method='ffill');"
   ]
  },
  {
   "cell_type": "markdown",
   "metadata": {},
   "source": [
    "## Grouping by day, aggregate mean"
   ]
  },
  {
   "cell_type": "code",
   "execution_count": 107,
   "metadata": {},
   "outputs": [
    {
     "data": {
      "text/plain": [
       "<matplotlib.axes._subplots.AxesSubplot at 0x21814665898>"
      ]
     },
     "execution_count": 107,
     "metadata": {},
     "output_type": "execute_result"
    },
    {
     "data": {
      "image/png": "[encoded data removed]",
      "text/plain": [
       "<matplotlib.figure.Figure at 0x21814665828>"
      ]
     },
     "metadata": {},
     "output_type": "display_data"
    }
   ],
   "source": [
    "new = JFK2['temp'].groupby([JFK2.index.year, JFK2.index.month, JFK2.index.day]).mean()\n",
    "new.head()\n",
    "#type(new)\n",
    "#JFK2.groupby([df.index.year, df.index.month, df.index.day]).transform(np.cumsum).resample('B', how='ohlc')\n",
    "#pd.DataFrame(new.head(24))\n",
    "pd.DataFrame(new.head(24)).plot()"
   ]
  },
  {
   "cell_type": "code",
   "execution_count": null,
   "metadata": {},
   "outputs": [],
   "source": []
  },
  {
   "cell_type": "markdown",
   "metadata": {},
   "source": [
    "## 5 largest days"
   ]
  },
  {
   "cell_type": "code",
   "execution_count": 109,
   "metadata": {},
   "outputs": [
    {
     "data": {
      "text/plain": [
       "2013-07-18 16:00:00    36.7\n",
       "2013-07-18 15:00:00    36.1\n",
       "2013-07-18 18:00:00    36.1\n",
       "2013-07-16 18:00:00    35.6\n",
       "2013-07-18 14:00:00    35.6\n",
       "Name: temp, dtype: float64"
      ]
     },
     "execution_count": 109,
     "metadata": {},
     "output_type": "execute_result"
    }
   ],
   "source": [
    "JFK2['temp'].nlargest()"
   ]
  },
  {
   "cell_type": "code",
   "execution_count": null,
   "metadata": {},
   "outputs": [],
   "source": []
  },
  {
   "cell_type": "code",
   "execution_count": null,
   "metadata": {},
   "outputs": [],
   "source": []
  },
  {
   "cell_type": "code",
   "execution_count": null,
   "metadata": {},
   "outputs": [],
   "source": []
  },
  {
   "cell_type": "code",
   "execution_count": null,
   "metadata": {},
   "outputs": [],
   "source": []
  },
  {
   "cell_type": "code",
   "execution_count": null,
   "metadata": {},
   "outputs": [],
   "source": []
  },
  {
   "cell_type": "code",
   "execution_count": null,
   "metadata": {},
   "outputs": [],
   "source": []
  },
  {
   "cell_type": "code",
   "execution_count": null,
   "metadata": {},
   "outputs": [],
   "source": []
  },
  {
   "cell_type": "code",
   "execution_count": null,
   "metadata": {},
   "outputs": [],
   "source": []
  },
  {
   "cell_type": "code",
   "execution_count": null,
   "metadata": {},
   "outputs": [],
   "source": []
  },
  {
   "cell_type": "markdown",
   "metadata": {},
   "source": [
    "## Remove NAN"
   ]
  },
  {
   "cell_type": "code",
   "execution_count": 20,
   "metadata": {},
   "outputs": [
    {
     "name": "stdout",
     "output_type": "stream",
     "text": [
      "Nans 151\n",
      "Nans 0\n"
     ]
    }
   ],
   "source": [
    "#weather2.info()\n",
    "print(\"Nans\",weather2['temp'].isnull().sum())\n",
    "weather2['temp'] = weather2['temp'].fillna(method='ffill')\n",
    "print(\"Nans\",weather2['temp'].isnull().sum())\n",
    "#df = pd.DataFrame(weather2['temp'].isnull())\n",
    "#df.plot()\n",
    "#newdf = df['temp'].astype(int)\n",
    "#newdf.plot()\n",
    "#newdf.iloc[8000:12000]\n",
    "#newdf2 = newdf.iloc[000:-1]\n",
    "#len(newdf2)\n",
    "#newdf2.plot()\n",
    "#weather2['']"
   ]
  },
  {
   "cell_type": "code",
   "execution_count": 22,
   "metadata": {},
   "outputs": [
    {
     "data": {
      "text/html": [
       "<div>\n",
       "<style scoped>\n",
       "    .dataframe tbody tr th:only-of-type {\n",
       "        vertical-align: middle;\n",
       "    }\n",
       "\n",
       "    .dataframe tbody tr th {\n",
       "        vertical-align: top;\n",
       "    }\n",
       "\n",
       "    .dataframe thead th {\n",
       "        text-align: right;\n",
       "    }\n",
       "</style>\n",
       "<table border=\"1\" class=\"dataframe\">\n",
       "  <thead>\n",
       "    <tr style=\"text-align: right;\">\n",
       "      <th></th>\n",
       "      <th>Index</th>\n",
       "      <th>origin</th>\n",
       "      <th>year</th>\n",
       "      <th>month</th>\n",
       "      <th>day</th>\n",
       "      <th>hour</th>\n",
       "      <th>temp</th>\n",
       "      <th>dewp</th>\n",
       "      <th>humid</th>\n",
       "      <th>wind_dir</th>\n",
       "      <th>wind_speed</th>\n",
       "      <th>wind_gust</th>\n",
       "      <th>precip</th>\n",
       "      <th>pressure</th>\n",
       "      <th>visib</th>\n",
       "      <th>time_hour</th>\n",
       "      <th>time_hour2</th>\n",
       "    </tr>\n",
       "  </thead>\n",
       "  <tbody>\n",
       "    <tr>\n",
       "      <th>0</th>\n",
       "      <td>0</td>\n",
       "      <td>EWR</td>\n",
       "      <td>2013.0</td>\n",
       "      <td>1.0</td>\n",
       "      <td>1.0</td>\n",
       "      <td>0.0</td>\n",
       "      <td>2.8</td>\n",
       "      <td>21.92</td>\n",
       "      <td>53.97</td>\n",
       "      <td>230.0</td>\n",
       "      <td>10.35702</td>\n",
       "      <td>11.918651</td>\n",
       "      <td>0.0</td>\n",
       "      <td>1013.9</td>\n",
       "      <td>10.0</td>\n",
       "      <td>2013-01-01 01:00:00</td>\n",
       "      <td>2013-01-01 00:00:00</td>\n",
       "    </tr>\n",
       "    <tr>\n",
       "      <th>1</th>\n",
       "      <td>1</td>\n",
       "      <td>EWR</td>\n",
       "      <td>2013.0</td>\n",
       "      <td>1.0</td>\n",
       "      <td>1.0</td>\n",
       "      <td>1.0</td>\n",
       "      <td>2.8</td>\n",
       "      <td>21.92</td>\n",
       "      <td>53.97</td>\n",
       "      <td>230.0</td>\n",
       "      <td>13.80936</td>\n",
       "      <td>15.891535</td>\n",
       "      <td>0.0</td>\n",
       "      <td>1013.0</td>\n",
       "      <td>10.0</td>\n",
       "      <td>2013-01-01 02:00:00</td>\n",
       "      <td>2013-01-01 01:00:00</td>\n",
       "    </tr>\n",
       "    <tr>\n",
       "      <th>2</th>\n",
       "      <td>2</td>\n",
       "      <td>EWR</td>\n",
       "      <td>2013.0</td>\n",
       "      <td>1.0</td>\n",
       "      <td>1.0</td>\n",
       "      <td>2.0</td>\n",
       "      <td>3.3</td>\n",
       "      <td>21.92</td>\n",
       "      <td>52.09</td>\n",
       "      <td>230.0</td>\n",
       "      <td>12.65858</td>\n",
       "      <td>14.567241</td>\n",
       "      <td>0.0</td>\n",
       "      <td>1012.6</td>\n",
       "      <td>10.0</td>\n",
       "      <td>2013-01-01 03:00:00</td>\n",
       "      <td>2013-01-01 02:00:00</td>\n",
       "    </tr>\n",
       "    <tr>\n",
       "      <th>3</th>\n",
       "      <td>3</td>\n",
       "      <td>EWR</td>\n",
       "      <td>2013.0</td>\n",
       "      <td>1.0</td>\n",
       "      <td>1.0</td>\n",
       "      <td>3.0</td>\n",
       "      <td>3.3</td>\n",
       "      <td>23.00</td>\n",
       "      <td>54.51</td>\n",
       "      <td>230.0</td>\n",
       "      <td>13.80936</td>\n",
       "      <td>15.891535</td>\n",
       "      <td>0.0</td>\n",
       "      <td>1012.7</td>\n",
       "      <td>10.0</td>\n",
       "      <td>2013-01-01 04:00:00</td>\n",
       "      <td>2013-01-01 03:00:00</td>\n",
       "    </tr>\n",
       "    <tr>\n",
       "      <th>4</th>\n",
       "      <td>4</td>\n",
       "      <td>EWR</td>\n",
       "      <td>2013.0</td>\n",
       "      <td>1.0</td>\n",
       "      <td>1.0</td>\n",
       "      <td>4.0</td>\n",
       "      <td>3.3</td>\n",
       "      <td>24.08</td>\n",
       "      <td>57.04</td>\n",
       "      <td>240.0</td>\n",
       "      <td>14.96014</td>\n",
       "      <td>17.215830</td>\n",
       "      <td>0.0</td>\n",
       "      <td>1012.8</td>\n",
       "      <td>10.0</td>\n",
       "      <td>2013-01-01 05:00:00</td>\n",
       "      <td>2013-01-01 04:00:00</td>\n",
       "    </tr>\n",
       "  </tbody>\n",
       "</table>\n",
       "</div>"
      ],
      "text/plain": [
       "   Index origin    year  month  day  hour  temp   dewp  humid  wind_dir  \\\n",
       "0      0    EWR  2013.0    1.0  1.0   0.0   2.8  21.92  53.97     230.0   \n",
       "1      1    EWR  2013.0    1.0  1.0   1.0   2.8  21.92  53.97     230.0   \n",
       "2      2    EWR  2013.0    1.0  1.0   2.0   3.3  21.92  52.09     230.0   \n",
       "3      3    EWR  2013.0    1.0  1.0   3.0   3.3  23.00  54.51     230.0   \n",
       "4      4    EWR  2013.0    1.0  1.0   4.0   3.3  24.08  57.04     240.0   \n",
       "\n",
       "   wind_speed  wind_gust  precip  pressure  visib            time_hour  \\\n",
       "0    10.35702  11.918651     0.0    1013.9   10.0  2013-01-01 01:00:00   \n",
       "1    13.80936  15.891535     0.0    1013.0   10.0  2013-01-01 02:00:00   \n",
       "2    12.65858  14.567241     0.0    1012.6   10.0  2013-01-01 03:00:00   \n",
       "3    13.80936  15.891535     0.0    1012.7   10.0  2013-01-01 04:00:00   \n",
       "4    14.96014  17.215830     0.0    1012.8   10.0  2013-01-01 05:00:00   \n",
       "\n",
       "           time_hour2  \n",
       "0 2013-01-01 00:00:00  \n",
       "1 2013-01-01 01:00:00  \n",
       "2 2013-01-01 02:00:00  \n",
       "3 2013-01-01 03:00:00  \n",
       "4 2013-01-01 04:00:00  "
      ]
     },
     "execution_count": 22,
     "metadata": {},
     "output_type": "execute_result"
    }
   ],
   "source": [
    "#weather2.index = my_datetime\n",
    "weather2.head()\n",
    "#weather2.describe()"
   ]
  },
  {
   "cell_type": "code",
   "execution_count": 23,
   "metadata": {},
   "outputs": [
    {
     "data": {
      "text/plain": [
       "<matplotlib.axes._subplots.AxesSubplot at 0x1a46c1ab9e8>"
      ]
     },
     "execution_count": 23,
     "metadata": {},
     "output_type": "execute_result"
    },
    {
     "data": {
      "image/png": "[encoded data removed]",
      "text/plain": [
       "<matplotlib.figure.Figure at 0x1a46c1d1518>"
      ]
     },
     "metadata": {},
     "output_type": "display_data"
    }
   ],
   "source": [
    "weather2.loc[:,\"temp\"].plot()"
   ]
  },
  {
   "cell_type": "markdown",
   "metadata": {},
   "source": [
    "## Select JFK"
   ]
  },
  {
   "cell_type": "code",
   "execution_count": 26,
   "metadata": {},
   "outputs": [
    {
     "data": {
      "text/html": [
       "<div>\n",
       "<style scoped>\n",
       "    .dataframe tbody tr th:only-of-type {\n",
       "        vertical-align: middle;\n",
       "    }\n",
       "\n",
       "    .dataframe tbody tr th {\n",
       "        vertical-align: top;\n",
       "    }\n",
       "\n",
       "    .dataframe thead th {\n",
       "        text-align: right;\n",
       "    }\n",
       "</style>\n",
       "<table border=\"1\" class=\"dataframe\">\n",
       "  <thead>\n",
       "    <tr style=\"text-align: right;\">\n",
       "      <th></th>\n",
       "      <th>Index</th>\n",
       "      <th>origin</th>\n",
       "      <th>year</th>\n",
       "      <th>month</th>\n",
       "      <th>day</th>\n",
       "      <th>hour</th>\n",
       "      <th>temp</th>\n",
       "      <th>dewp</th>\n",
       "      <th>humid</th>\n",
       "      <th>wind_dir</th>\n",
       "      <th>wind_speed</th>\n",
       "      <th>wind_gust</th>\n",
       "      <th>precip</th>\n",
       "      <th>pressure</th>\n",
       "      <th>visib</th>\n",
       "      <th>time_hour</th>\n",
       "      <th>time_hour2</th>\n",
       "    </tr>\n",
       "  </thead>\n",
       "  <tbody>\n",
       "    <tr>\n",
       "      <th>8708</th>\n",
       "      <td>8708</td>\n",
       "      <td>JFK</td>\n",
       "      <td>2013.0</td>\n",
       "      <td>1.0</td>\n",
       "      <td>1.0</td>\n",
       "      <td>0.0</td>\n",
       "      <td>3.3</td>\n",
       "      <td>23.00</td>\n",
       "      <td>54.51</td>\n",
       "      <td>240.0</td>\n",
       "      <td>16.11092</td>\n",
       "      <td>18.540125</td>\n",
       "      <td>0.0</td>\n",
       "      <td>1014.4</td>\n",
       "      <td>10.0</td>\n",
       "      <td>2013-01-01 01:00:00</td>\n",
       "      <td>2013-01-01 00:00:00</td>\n",
       "    </tr>\n",
       "    <tr>\n",
       "      <th>8709</th>\n",
       "      <td>8709</td>\n",
       "      <td>JFK</td>\n",
       "      <td>2013.0</td>\n",
       "      <td>1.0</td>\n",
       "      <td>1.0</td>\n",
       "      <td>1.0</td>\n",
       "      <td>3.3</td>\n",
       "      <td>24.08</td>\n",
       "      <td>57.04</td>\n",
       "      <td>250.0</td>\n",
       "      <td>17.26170</td>\n",
       "      <td>19.864419</td>\n",
       "      <td>0.0</td>\n",
       "      <td>1013.5</td>\n",
       "      <td>10.0</td>\n",
       "      <td>2013-01-01 02:00:00</td>\n",
       "      <td>2013-01-01 01:00:00</td>\n",
       "    </tr>\n",
       "    <tr>\n",
       "      <th>8710</th>\n",
       "      <td>8710</td>\n",
       "      <td>JFK</td>\n",
       "      <td>2013.0</td>\n",
       "      <td>1.0</td>\n",
       "      <td>1.0</td>\n",
       "      <td>2.0</td>\n",
       "      <td>3.9</td>\n",
       "      <td>24.98</td>\n",
       "      <td>56.77</td>\n",
       "      <td>240.0</td>\n",
       "      <td>19.56326</td>\n",
       "      <td>22.513008</td>\n",
       "      <td>0.0</td>\n",
       "      <td>1013.0</td>\n",
       "      <td>10.0</td>\n",
       "      <td>2013-01-01 03:00:00</td>\n",
       "      <td>2013-01-01 02:00:00</td>\n",
       "    </tr>\n",
       "    <tr>\n",
       "      <th>8711</th>\n",
       "      <td>8711</td>\n",
       "      <td>JFK</td>\n",
       "      <td>2013.0</td>\n",
       "      <td>1.0</td>\n",
       "      <td>1.0</td>\n",
       "      <td>3.0</td>\n",
       "      <td>3.9</td>\n",
       "      <td>26.06</td>\n",
       "      <td>59.37</td>\n",
       "      <td>240.0</td>\n",
       "      <td>18.41248</td>\n",
       "      <td>21.188714</td>\n",
       "      <td>0.0</td>\n",
       "      <td>1013.2</td>\n",
       "      <td>10.0</td>\n",
       "      <td>2013-01-01 04:00:00</td>\n",
       "      <td>2013-01-01 03:00:00</td>\n",
       "    </tr>\n",
       "    <tr>\n",
       "      <th>8712</th>\n",
       "      <td>8712</td>\n",
       "      <td>JFK</td>\n",
       "      <td>2013.0</td>\n",
       "      <td>1.0</td>\n",
       "      <td>1.0</td>\n",
       "      <td>4.0</td>\n",
       "      <td>3.9</td>\n",
       "      <td>24.98</td>\n",
       "      <td>56.77</td>\n",
       "      <td>260.0</td>\n",
       "      <td>14.96014</td>\n",
       "      <td>17.215830</td>\n",
       "      <td>0.0</td>\n",
       "      <td>1013.2</td>\n",
       "      <td>10.0</td>\n",
       "      <td>2013-01-01 05:00:00</td>\n",
       "      <td>2013-01-01 04:00:00</td>\n",
       "    </tr>\n",
       "    <tr>\n",
       "      <th>8713</th>\n",
       "      <td>8713</td>\n",
       "      <td>JFK</td>\n",
       "      <td>2013.0</td>\n",
       "      <td>1.0</td>\n",
       "      <td>1.0</td>\n",
       "      <td>6.0</td>\n",
       "      <td>3.9</td>\n",
       "      <td>26.06</td>\n",
       "      <td>59.37</td>\n",
       "      <td>260.0</td>\n",
       "      <td>12.65858</td>\n",
       "      <td>14.567241</td>\n",
       "      <td>0.0</td>\n",
       "      <td>1012.6</td>\n",
       "      <td>10.0</td>\n",
       "      <td>2013-01-01 07:00:00</td>\n",
       "      <td>2013-01-01 06:00:00</td>\n",
       "    </tr>\n",
       "    <tr>\n",
       "      <th>8714</th>\n",
       "      <td>8714</td>\n",
       "      <td>JFK</td>\n",
       "      <td>2013.0</td>\n",
       "      <td>1.0</td>\n",
       "      <td>1.0</td>\n",
       "      <td>7.0</td>\n",
       "      <td>3.9</td>\n",
       "      <td>26.06</td>\n",
       "      <td>59.37</td>\n",
       "      <td>270.0</td>\n",
       "      <td>11.50780</td>\n",
       "      <td>13.242946</td>\n",
       "      <td>0.0</td>\n",
       "      <td>1012.4</td>\n",
       "      <td>10.0</td>\n",
       "      <td>2013-01-01 08:00:00</td>\n",
       "      <td>2013-01-01 07:00:00</td>\n",
       "    </tr>\n",
       "    <tr>\n",
       "      <th>8715</th>\n",
       "      <td>8715</td>\n",
       "      <td>JFK</td>\n",
       "      <td>2013.0</td>\n",
       "      <td>1.0</td>\n",
       "      <td>1.0</td>\n",
       "      <td>8.0</td>\n",
       "      <td>4.4</td>\n",
       "      <td>26.96</td>\n",
       "      <td>59.50</td>\n",
       "      <td>260.0</td>\n",
       "      <td>14.96014</td>\n",
       "      <td>17.215830</td>\n",
       "      <td>0.0</td>\n",
       "      <td>1012.7</td>\n",
       "      <td>10.0</td>\n",
       "      <td>2013-01-01 09:00:00</td>\n",
       "      <td>2013-01-01 08:00:00</td>\n",
       "    </tr>\n",
       "    <tr>\n",
       "      <th>8716</th>\n",
       "      <td>8716</td>\n",
       "      <td>JFK</td>\n",
       "      <td>2013.0</td>\n",
       "      <td>1.0</td>\n",
       "      <td>1.0</td>\n",
       "      <td>9.0</td>\n",
       "      <td>4.4</td>\n",
       "      <td>28.04</td>\n",
       "      <td>62.21</td>\n",
       "      <td>250.0</td>\n",
       "      <td>17.26170</td>\n",
       "      <td>19.864419</td>\n",
       "      <td>0.0</td>\n",
       "      <td>1012.6</td>\n",
       "      <td>10.0</td>\n",
       "      <td>2013-01-01 10:00:00</td>\n",
       "      <td>2013-01-01 09:00:00</td>\n",
       "    </tr>\n",
       "    <tr>\n",
       "      <th>8717</th>\n",
       "      <td>8717</td>\n",
       "      <td>JFK</td>\n",
       "      <td>2013.0</td>\n",
       "      <td>1.0</td>\n",
       "      <td>1.0</td>\n",
       "      <td>10.0</td>\n",
       "      <td>3.9</td>\n",
       "      <td>26.96</td>\n",
       "      <td>61.63</td>\n",
       "      <td>260.0</td>\n",
       "      <td>14.96014</td>\n",
       "      <td>17.215830</td>\n",
       "      <td>0.0</td>\n",
       "      <td>1012.1</td>\n",
       "      <td>10.0</td>\n",
       "      <td>2013-01-01 11:00:00</td>\n",
       "      <td>2013-01-01 10:00:00</td>\n",
       "    </tr>\n",
       "  </tbody>\n",
       "</table>\n",
       "</div>"
      ],
      "text/plain": [
       "      Index origin    year  month  day  hour  temp   dewp  humid  wind_dir  \\\n",
       "8708   8708    JFK  2013.0    1.0  1.0   0.0   3.3  23.00  54.51     240.0   \n",
       "8709   8709    JFK  2013.0    1.0  1.0   1.0   3.3  24.08  57.04     250.0   \n",
       "8710   8710    JFK  2013.0    1.0  1.0   2.0   3.9  24.98  56.77     240.0   \n",
       "8711   8711    JFK  2013.0    1.0  1.0   3.0   3.9  26.06  59.37     240.0   \n",
       "8712   8712    JFK  2013.0    1.0  1.0   4.0   3.9  24.98  56.77     260.0   \n",
       "8713   8713    JFK  2013.0    1.0  1.0   6.0   3.9  26.06  59.37     260.0   \n",
       "8714   8714    JFK  2013.0    1.0  1.0   7.0   3.9  26.06  59.37     270.0   \n",
       "8715   8715    JFK  2013.0    1.0  1.0   8.0   4.4  26.96  59.50     260.0   \n",
       "8716   8716    JFK  2013.0    1.0  1.0   9.0   4.4  28.04  62.21     250.0   \n",
       "8717   8717    JFK  2013.0    1.0  1.0  10.0   3.9  26.96  61.63     260.0   \n",
       "\n",
       "      wind_speed  wind_gust  precip  pressure  visib            time_hour  \\\n",
       "8708    16.11092  18.540125     0.0    1014.4   10.0  2013-01-01 01:00:00   \n",
       "8709    17.26170  19.864419     0.0    1013.5   10.0  2013-01-01 02:00:00   \n",
       "8710    19.56326  22.513008     0.0    1013.0   10.0  2013-01-01 03:00:00   \n",
       "8711    18.41248  21.188714     0.0    1013.2   10.0  2013-01-01 04:00:00   \n",
       "8712    14.96014  17.215830     0.0    1013.2   10.0  2013-01-01 05:00:00   \n",
       "8713    12.65858  14.567241     0.0    1012.6   10.0  2013-01-01 07:00:00   \n",
       "8714    11.50780  13.242946     0.0    1012.4   10.0  2013-01-01 08:00:00   \n",
       "8715    14.96014  17.215830     0.0    1012.7   10.0  2013-01-01 09:00:00   \n",
       "8716    17.26170  19.864419     0.0    1012.6   10.0  2013-01-01 10:00:00   \n",
       "8717    14.96014  17.215830     0.0    1012.1   10.0  2013-01-01 11:00:00   \n",
       "\n",
       "              time_hour2  \n",
       "8708 2013-01-01 00:00:00  \n",
       "8709 2013-01-01 01:00:00  \n",
       "8710 2013-01-01 02:00:00  \n",
       "8711 2013-01-01 03:00:00  \n",
       "8712 2013-01-01 04:00:00  \n",
       "8713 2013-01-01 06:00:00  \n",
       "8714 2013-01-01 07:00:00  \n",
       "8715 2013-01-01 08:00:00  \n",
       "8716 2013-01-01 09:00:00  \n",
       "8717 2013-01-01 10:00:00  "
      ]
     },
     "execution_count": 26,
     "metadata": {},
     "output_type": "execute_result"
    },
    {
     "data": {
      "image/png": "[encoded data removed]",
      "text/plain": [
       "<matplotlib.figure.Figure at 0x1a46c3d1588>"
      ]
     },
     "metadata": {},
     "output_type": "display_data"
    }
   ],
   "source": [
    "filter1 = weather2[\"origin\"] == 'JFK'\n",
    "JFK = weather2[filter1]\n",
    "JFK.describe()\n",
    "JFK['temp'].plot()\n",
    "JFK.head(10)"
   ]
  },
  {
   "cell_type": "code",
   "execution_count": 58,
   "metadata": {},
   "outputs": [],
   "source": [
    "\n",
    "# Create a Pandas Excel writer using XlsxWriter as the engine.\n",
    "writer = pd.ExcelWriter('pandas_simple.xlsx', engine='xlsxwriter')\n",
    "\n",
    "# Convert the dataframe to an XlsxWriter Excel object.\n",
    "JFK.to_excel(writer, sheet_name='Sheet1')\n",
    "\n",
    "# Close the Pandas Excel writer and output the Excel file.\n",
    "writer.save()"
   ]
  },
  {
   "cell_type": "code",
   "execution_count": 57,
   "metadata": {},
   "outputs": [
    {
     "data": {
      "text/plain": [
       "<matplotlib.axes._subplots.AxesSubplot at 0x21dd0d16358>"
      ]
     },
     "execution_count": 57,
     "metadata": {},
     "output_type": "execute_result"
    },
    {
     "data": {
      "image/png": "[encoded data removed]",
      "text/plain": [
       "<matplotlib.figure.Figure at 0x21dcf3a3f60>"
      ]
     },
     "metadata": {},
     "output_type": "display_data"
    }
   ],
   "source": [
    "JFK['temp'].isnull().sum()\n",
    "JFK['temp'].plot()\n",
    "JFK.\n",
    "#df = pd.DataFrame(weather2['temp'].isnull())\n",
    "#df.plot()\n",
    "#newdf = df['temp'].astype(int)"
   ]
  },
  {
   "cell_type": "code",
   "execution_count": 16,
   "metadata": {},
   "outputs": [
    {
     "name": "stdout",
     "output_type": "stream",
     "text": [
      "Missing rows: 0\n"
     ]
    }
   ],
   "source": [
    "cnt_missing = JFK[\"temp\"].isnull().sum()\n",
    "\n",
    "print(\"Missing rows: {}\".format(cnt_missing))\n",
    "\n",
    "if sum(JFK[\"temp\"].isnull()):\n",
    "    print(\"MISSING DATA FILLED\")\n",
    "    #JFK[\"temp\"].fillna(method='ffill')\n"
   ]
  },
  {
   "cell_type": "code",
   "execution_count": 102,
   "metadata": {},
   "outputs": [
    {
     "name": "stdout",
     "output_type": "stream",
     "text": [
      "Missing rows: 0\n"
     ]
    }
   ],
   "source": []
  },
  {
   "cell_type": "code",
   "execution_count": 60,
   "metadata": {},
   "outputs": [],
   "source": [
    "JFKgrouped = JFK.groupby(['year','month','day']).mean()"
   ]
  },
  {
   "cell_type": "code",
   "execution_count": 61,
   "metadata": {},
   "outputs": [
    {
     "data": {
      "text/plain": [
       "                     hour      temp       dewp      humid    wind_dir  \\\n",
       "year month day                                                          \n",
       "2013 1     1    11.782609  3.817391  24.776522  56.926087  273.478261   \n",
       "           2    11.500000 -1.920833   9.837500  45.210417  320.000000   \n",
       "           3    11.500000 -1.237500  13.970000  51.621667  298.333333   \n",
       "           4    11.500000  1.129167  19.452500  55.007917  256.250000   \n",
       "           5    11.500000  2.720833  19.197500  48.918750  279.166667   \n",
       "\n",
       "                wind_speed  wind_gust  precip     pressure  visib  \n",
       "year month day                                                     \n",
       "2013 1     1     15.410445  17.734032     0.0  1012.663636   10.0  \n",
       "           2     15.679378  18.043514     0.0  1017.287500   10.0  \n",
       "           3     11.316003  13.022230     0.0  1021.225000   10.0  \n",
       "           4     15.775276  18.153872     0.0  1017.854167   10.0  \n",
       "           5     13.665512  15.725998     0.0  1021.262500   10.0  "
      ]
     },
     "execution_count": 61,
     "metadata": {},
     "output_type": "execute_result"
    }
   ],
   "source": [
    "JFKgrouped.head()"
   ]
  },
  {
   "cell_type": "code",
   "execution_count": null,
   "metadata": {},
   "outputs": [],
   "source": [
    "new = JFKgrouped[\"month\"] + \" \" + flights[\"year\"].map(str)\n",
    "#flights['date'] = pd.to_datetime(new)"
   ]
  },
  {
   "cell_type": "code",
   "execution_count": null,
   "metadata": {},
   "outputs": [],
   "source": [
    "JFKgrouped"
   ]
  },
  {
   "cell_type": "code",
   "execution_count": 62,
   "metadata": {},
   "outputs": [
    {
     "data": {
      "text/plain": [
       "<matplotlib.axes._subplots.AxesSubplot at 0x2b3e814c240>"
      ]
     },
     "execution_count": 62,
     "metadata": {},
     "output_type": "execute_result"
    },
    {
     "data": {
      "image/png": "[encoded data removed]",
      "text/plain": [
       "<matplotlib.figure.Figure at 0x2b3e7ed81d0>"
      ]
     },
     "metadata": {},
     "output_type": "display_data"
    }
   ],
   "source": [
    "JFKgrouped['temp'].plot()"
   ]
  },
  {
   "cell_type": "code",
   "execution_count": null,
   "metadata": {},
   "outputs": [],
   "source": []
  }
 ],
 "metadata": {
  "kernelspec": {
   "display_name": "Python 3",
   "language": "python",
   "name": "python3"
  },
  "language_info": {
   "codemirror_mode": {
    "name": "ipython",
    "version": 3
   },
   "file_extension": ".py",
   "mimetype": "text/x-python",
   "name": "python",
   "nbconvert_exporter": "python",
   "pygments_lexer": "ipython3",
   "version": "3.6.4"
  }
 },
 "nbformat": 4,
 "nbformat_minor": 2
}
