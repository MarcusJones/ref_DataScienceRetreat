{
 "cells": [
  {
   "cell_type": "code",
   "execution_count": 38,
   "metadata": {},
   "outputs": [
    {
     "name": "stdout",
     "output_type": "stream",
     "text": [
      "['asdfaj;afouiasdf87asdkjfhxc0987asdfpjwe4t9yafsdg;hasdf']\n"
     ]
    }
   ],
   "source": [
    "from collections import defaultdict\n",
    "my_list = [1, 2, 3, 3, 3, 4 ,5]\n",
    "\n",
    "my_list = [\"asdfaj;afouiasdf87asdkjfhxc0987asdfpjwe4t9yafsdg;hasdf\"]\n",
    "print(my_list)"
   ]
  },
  {
   "cell_type": "code",
   "execution_count": 40,
   "metadata": {},
   "outputs": [
    {
     "name": "stdout",
     "output_type": "stream",
     "text": [
      "asdfaj;afouiasdf87asdkjfhxc0987asdfpjwe4t9yafsdg;hasdf\n"
     ]
    },
    {
     "data": {
      "text/plain": [
       "'asdfaj;afouiasdf87asdkjfhxc0987asdfpjwe4t9yafsdg;hasdf'"
      ]
     },
     "execution_count": 40,
     "metadata": {},
     "output_type": "execute_result"
    }
   ],
   "source": [
    "def get_mode(this_list):\n",
    "    my_dict = defaultdict(int)\n",
    "    for el in this_list:\n",
    "        #print(el)\n",
    "        my_dict[el] = my_dict[el] +1\n",
    "    return max(my_dict, key=my_dict.get)\n",
    "\n",
    "get_mode(my_list)"
   ]
  },
  {
   "cell_type": "code",
   "execution_count": 41,
   "metadata": {},
   "outputs": [],
   "source": [
    "def mode2(x):\n",
    "    cnts = {}\n",
    "    for e in x:\n",
    "        cnts[e] = cnts.get(e,0)+1"
   ]
  },
  {
   "cell_type": "code",
   "execution_count": null,
   "metadata": {},
   "outputs": [],
   "source": []
  }
 ],
 "metadata": {
  "kernelspec": {
   "display_name": "Python 3",
   "language": "python",
   "name": "python3"
  },
  "language_info": {
   "codemirror_mode": {
    "name": "ipython",
    "version": 3
   },
   "file_extension": ".py",
   "mimetype": "text/x-python",
   "name": "python",
   "nbconvert_exporter": "python",
   "pygments_lexer": "ipython3",
   "version": "3.6.4"
  }
 },
 "nbformat": 4,
 "nbformat_minor": 2
}
