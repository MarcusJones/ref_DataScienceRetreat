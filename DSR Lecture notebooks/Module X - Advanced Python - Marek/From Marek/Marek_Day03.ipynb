{
 "cells": [
  {
   "cell_type": "markdown",
   "metadata": {},
   "source": [
    "# NNets (cont'd), TensorFlow, Keras etc.\n",
    "# Pandas - intro"
   ]
  },
  {
   "cell_type": "code",
   "execution_count": 61,
   "metadata": {
    "collapsed": false
   },
   "outputs": [],
   "source": [
    "import numpy as np\n",
    "import pandas as pd\n",
    "import tensorflow as tf"
   ]
  },
  {
   "cell_type": "code",
   "execution_count": 62,
   "metadata": {
    "collapsed": false
   },
   "outputs": [
    {
     "name": "stdout",
     "output_type": "stream",
     "text": [
      "Extracting MNIST_data/train-images-idx3-ubyte.gz\n",
      "Extracting MNIST_data/train-labels-idx1-ubyte.gz\n",
      "Extracting MNIST_data/t10k-images-idx3-ubyte.gz\n",
      "Extracting MNIST_data/t10k-labels-idx1-ubyte.gz\n"
     ]
    }
   ],
   "source": [
    "from tensorflow.examples.tutorials.mnist import input_data\n",
    "mnist = input_data.read_data_sets(\"MNIST_data/\", one_hot=False)\n",
    "\n",
    "Y_train = mnist.train.labels\n",
    "Y_test  = mnist.test.labels\n",
    "\n",
    "def one_hot_encode(t):\n",
    "    R = np.zeros((len(t), np.max(t)+1))\n",
    "    R[np.arange(len(t)), t] = 1.0\n",
    "    return R\n",
    "\n",
    "def one_hot_decode(R):\n",
    "    return np.argmax(R, axis=1)\n",
    "\n",
    "\n",
    "def softmax(y):\n",
    "    \"for each row in y, denoted as y_row, compute normalized(exp(y_row))\"\n",
    "    y = np.exp(y)\n",
    "    return y / np.sum(y, axis=1).reshape(-1,1)\n",
    "\n",
    "def nnet(X, W):\n",
    "    return softmax(X.dot(W))\n",
    "\n",
    "Y_train2 = one_hot_encode(Y_train)\n",
    "Y_test2  = one_hot_encode(Y_test)\n",
    "np.random.seed(123)\n",
    "X_train = np.insert(mnist.train.images, 0, 1.0, axis=1) # add a column of ones\n",
    "X_test  = np.insert(mnist.test.images, 0, 1.0, axis=1)  # add a column of ones\n",
    "W = np.zeros(shape=(785, 10))"
   ]
  },
  {
   "cell_type": "code",
   "execution_count": 63,
   "metadata": {
    "collapsed": true
   },
   "outputs": [],
   "source": [
    "def accuracy(W, X, Y):\n",
    "    # Y = vector of labels\n",
    "    return np.mean(one_hot_decode(nnet(X, W)) == Y)\n",
    "\n",
    "def cross_entropy(W, X, Y):\n",
    "    # Y = one-hot\n",
    "    Y_pred = nnet(X, W)\n",
    "    return -np.sum(Y * np.log(Y_pred))/X.shape[0]"
   ]
  },
  {
   "cell_type": "code",
   "execution_count": 64,
   "metadata": {
    "collapsed": false
   },
   "outputs": [
    {
     "data": {
      "text/plain": [
       "0.098981818181818185"
      ]
     },
     "execution_count": 64,
     "metadata": {},
     "output_type": "execute_result"
    }
   ],
   "source": [
    "accuracy(W, X_train, Y_train)"
   ]
  },
  {
   "cell_type": "code",
   "execution_count": 65,
   "metadata": {
    "collapsed": false
   },
   "outputs": [
    {
     "data": {
      "text/plain": [
       "2.3025850929940432"
      ]
     },
     "execution_count": 65,
     "metadata": {},
     "output_type": "execute_result"
    }
   ],
   "source": [
    "cross_entropy(W, X_train, Y_train2)"
   ]
  },
  {
   "cell_type": "code",
   "execution_count": 66,
   "metadata": {
    "collapsed": true
   },
   "outputs": [],
   "source": [
    "import scipy.optimize"
   ]
  },
  {
   "cell_type": "code",
   "execution_count": 67,
   "metadata": {
    "collapsed": false
   },
   "outputs": [],
   "source": [
    "# error = lambda w: cross_entropy(w.reshape(785,10), X_train, Y_train2)\n",
    "\n",
    "# res = scipy.optimize.minimize(error, W.ravel(), method='Nelder-Mead',\n",
    "#                              options=dict(disp=True))"
   ]
  },
  {
   "cell_type": "code",
   "execution_count": 68,
   "metadata": {
    "collapsed": false
   },
   "outputs": [],
   "source": [
    "def cross_entropy_grad(W, X, Y):\n",
    "    return -(X.T @ (Y - nnet(X, W)))/X.shape[0]"
   ]
  },
  {
   "cell_type": "code",
   "execution_count": 69,
   "metadata": {
    "collapsed": false
   },
   "outputs": [
    {
     "name": "stdout",
     "output_type": "stream",
     "text": [
      "   1: cross_entropy=1.832930 accuracy=0.662927 accuract_test=0.670500\n",
      "   2: cross_entropy=1.515830 accuracy=0.777473 accuract_test=0.790200\n",
      "   3: cross_entropy=1.303822 accuracy=0.772745 accuract_test=0.784000\n",
      "   4: cross_entropy=1.157700 accuracy=0.805764 accuract_test=0.815600\n"
     ]
    },
    {
     "ename": "KeyboardInterrupt",
     "evalue": "",
     "output_type": "error",
     "traceback": [
      "\u001b[0;31m---------------------------------------------------------------------------\u001b[0m",
      "\u001b[0;31mKeyboardInterrupt\u001b[0m                         Traceback (most recent call last)",
      "\u001b[0;32m<ipython-input-69-ad37926169dc>\u001b[0m in \u001b[0;36m<module>\u001b[0;34m()\u001b[0m\n\u001b[1;32m     10\u001b[0m     print(\"%4d: cross_entropy=%.6f accuracy=%.6f accuract_test=%.6f\" %\n\u001b[1;32m     11\u001b[0m          (i, cross_entropy(W, X_train, Y_train2),\n\u001b[0;32m---> 12\u001b[0;31m          \u001b[0maccuracy\u001b[0m\u001b[0;34m(\u001b[0m\u001b[0mW\u001b[0m\u001b[0;34m,\u001b[0m \u001b[0mX_train\u001b[0m\u001b[0;34m,\u001b[0m \u001b[0mY_train\u001b[0m\u001b[0;34m)\u001b[0m\u001b[0;34m,\u001b[0m\u001b[0;34m\u001b[0m\u001b[0m\n\u001b[0m\u001b[1;32m     13\u001b[0m          accuracy(W, X_test, Y_test)))\n\u001b[1;32m     14\u001b[0m     \u001b[0;32mif\u001b[0m \u001b[0mnp\u001b[0m\u001b[0;34m.\u001b[0m\u001b[0msum\u001b[0m\u001b[0;34m(\u001b[0m\u001b[0mgrad\u001b[0m\u001b[0;34m**\u001b[0m\u001b[0;36m2\u001b[0m\u001b[0;34m)\u001b[0m \u001b[0;34m<\u001b[0m \u001b[0;36m1e-6\u001b[0m\u001b[0;34m:\u001b[0m \u001b[0;32mbreak\u001b[0m \u001b[0;31m# Euclidean norm\u001b[0m\u001b[0;34m\u001b[0m\u001b[0m\n",
      "\u001b[0;32m<ipython-input-63-9fe5b56f2aa5>\u001b[0m in \u001b[0;36maccuracy\u001b[0;34m(W, X, Y)\u001b[0m\n\u001b[1;32m      1\u001b[0m \u001b[0;32mdef\u001b[0m \u001b[0maccuracy\u001b[0m\u001b[0;34m(\u001b[0m\u001b[0mW\u001b[0m\u001b[0;34m,\u001b[0m \u001b[0mX\u001b[0m\u001b[0;34m,\u001b[0m \u001b[0mY\u001b[0m\u001b[0;34m)\u001b[0m\u001b[0;34m:\u001b[0m\u001b[0;34m\u001b[0m\u001b[0m\n\u001b[1;32m      2\u001b[0m     \u001b[0;31m# Y = vector of labels\u001b[0m\u001b[0;34m\u001b[0m\u001b[0;34m\u001b[0m\u001b[0m\n\u001b[0;32m----> 3\u001b[0;31m     \u001b[0;32mreturn\u001b[0m \u001b[0mnp\u001b[0m\u001b[0;34m.\u001b[0m\u001b[0mmean\u001b[0m\u001b[0;34m(\u001b[0m\u001b[0mone_hot_decode\u001b[0m\u001b[0;34m(\u001b[0m\u001b[0mnnet\u001b[0m\u001b[0;34m(\u001b[0m\u001b[0mX\u001b[0m\u001b[0;34m,\u001b[0m \u001b[0mW\u001b[0m\u001b[0;34m)\u001b[0m\u001b[0;34m)\u001b[0m \u001b[0;34m==\u001b[0m \u001b[0mY\u001b[0m\u001b[0;34m)\u001b[0m\u001b[0;34m\u001b[0m\u001b[0m\n\u001b[0m\u001b[1;32m      4\u001b[0m \u001b[0;34m\u001b[0m\u001b[0m\n\u001b[1;32m      5\u001b[0m \u001b[0;32mdef\u001b[0m \u001b[0mcross_entropy\u001b[0m\u001b[0;34m(\u001b[0m\u001b[0mW\u001b[0m\u001b[0;34m,\u001b[0m \u001b[0mX\u001b[0m\u001b[0;34m,\u001b[0m \u001b[0mY\u001b[0m\u001b[0;34m)\u001b[0m\u001b[0;34m:\u001b[0m\u001b[0;34m\u001b[0m\u001b[0m\n",
      "\u001b[0;32m<ipython-input-62-fd78456bfae6>\u001b[0m in \u001b[0;36mnnet\u001b[0;34m(X, W)\u001b[0m\n\u001b[1;32m     20\u001b[0m \u001b[0;34m\u001b[0m\u001b[0m\n\u001b[1;32m     21\u001b[0m \u001b[0;32mdef\u001b[0m \u001b[0mnnet\u001b[0m\u001b[0;34m(\u001b[0m\u001b[0mX\u001b[0m\u001b[0;34m,\u001b[0m \u001b[0mW\u001b[0m\u001b[0;34m)\u001b[0m\u001b[0;34m:\u001b[0m\u001b[0;34m\u001b[0m\u001b[0m\n\u001b[0;32m---> 22\u001b[0;31m     \u001b[0;32mreturn\u001b[0m \u001b[0msoftmax\u001b[0m\u001b[0;34m(\u001b[0m\u001b[0mX\u001b[0m\u001b[0;34m.\u001b[0m\u001b[0mdot\u001b[0m\u001b[0;34m(\u001b[0m\u001b[0mW\u001b[0m\u001b[0;34m)\u001b[0m\u001b[0;34m)\u001b[0m\u001b[0;34m\u001b[0m\u001b[0m\n\u001b[0m\u001b[1;32m     23\u001b[0m \u001b[0;34m\u001b[0m\u001b[0m\n\u001b[1;32m     24\u001b[0m \u001b[0mY_train2\u001b[0m \u001b[0;34m=\u001b[0m \u001b[0mone_hot_encode\u001b[0m\u001b[0;34m(\u001b[0m\u001b[0mY_train\u001b[0m\u001b[0;34m)\u001b[0m\u001b[0;34m\u001b[0m\u001b[0m\n",
      "\u001b[0;31mKeyboardInterrupt\u001b[0m: "
     ]
    }
   ],
   "source": [
    "#cross_entropy_grad(W, X_train, Y_train2)\n",
    "# gradient descent\n",
    "W = np.zeros(shape=(785, 10)) # starting point\n",
    "eta = 0.5 # learning rate / step size\n",
    "i = 1\n",
    "while True:\n",
    "    grad = cross_entropy_grad(W, X_train, Y_train2)\n",
    "    W = W - eta*grad\n",
    "    \n",
    "    print(\"%4d: cross_entropy=%.6f accuracy=%.6f accuract_test=%.6f\" %\n",
    "         (i, cross_entropy(W, X_train, Y_train2),\n",
    "         accuracy(W, X_train, Y_train),\n",
    "         accuracy(W, X_test, Y_test)))\n",
    "    if np.sum(grad**2) < 1e-6: break # Euclidean norm\n",
    "    i += 1\n"
   ]
  },
  {
   "cell_type": "code",
   "execution_count": 70,
   "metadata": {
    "collapsed": false
   },
   "outputs": [
    {
     "name": "stdout",
     "output_type": "stream",
     "text": [
      "   1: cross_entropy=0.397411 accuracy=0.892564 accuract_test=0.901200 grad=0.028347\n",
      "   2: cross_entropy=0.349747 accuracy=0.902218 accuract_test=0.909500 grad=0.017932\n",
      "   3: cross_entropy=0.329111 accuracy=0.908509 accuract_test=0.913200 grad=0.026719\n",
      "   4: cross_entropy=0.317361 accuracy=0.911527 accuract_test=0.916800 grad=0.032238\n",
      "   5: cross_entropy=0.308852 accuracy=0.914091 accuract_test=0.919400 grad=0.026180\n",
      "   6: cross_entropy=0.301318 accuracy=0.916218 accuract_test=0.919000 grad=0.025399\n",
      "   7: cross_entropy=0.298342 accuracy=0.916891 accuract_test=0.920700 grad=0.033075\n",
      "   8: cross_entropy=0.292492 accuracy=0.919145 accuract_test=0.919400 grad=0.018812\n",
      "   9: cross_entropy=0.289134 accuracy=0.919709 accuract_test=0.921300 grad=0.018522\n",
      "  10: cross_entropy=0.286485 accuracy=0.920418 accuract_test=0.921100 grad=0.029291\n",
      "  11: cross_entropy=0.283321 accuracy=0.921127 accuract_test=0.921600 grad=0.018598\n",
      "  12: cross_entropy=0.281077 accuracy=0.922018 accuract_test=0.921800 grad=0.023521\n",
      "  13: cross_entropy=0.278918 accuracy=0.923073 accuract_test=0.921900 grad=0.015782\n",
      "  14: cross_entropy=0.277355 accuracy=0.922836 accuract_test=0.923500 grad=0.022643\n",
      "  15: cross_entropy=0.277155 accuracy=0.921745 accuract_test=0.922200 grad=0.024665\n",
      "  16: cross_entropy=0.274856 accuracy=0.923091 accuract_test=0.922300 grad=0.019837\n",
      "  17: cross_entropy=0.273499 accuracy=0.923218 accuract_test=0.923100 grad=0.032180\n",
      "  18: cross_entropy=0.272272 accuracy=0.924873 accuract_test=0.922800 grad=0.023711\n",
      "  19: cross_entropy=0.270795 accuracy=0.925127 accuract_test=0.922500 grad=0.017960\n",
      "  20: cross_entropy=0.269978 accuracy=0.924855 accuract_test=0.922500 grad=0.017702\n",
      "  21: cross_entropy=0.268057 accuracy=0.925473 accuract_test=0.923200 grad=0.014551\n",
      "  22: cross_entropy=0.267403 accuracy=0.925873 accuract_test=0.923800 grad=0.017970\n",
      "  23: cross_entropy=0.266124 accuracy=0.926309 accuract_test=0.923200 grad=0.034676\n",
      "  24: cross_entropy=0.266549 accuracy=0.926491 accuract_test=0.924800 grad=0.016853\n",
      "  25: cross_entropy=0.265269 accuracy=0.926691 accuract_test=0.922600 grad=0.019521\n",
      "  26: cross_entropy=0.264805 accuracy=0.926945 accuract_test=0.923300 grad=0.015794\n",
      "  27: cross_entropy=0.263373 accuracy=0.926982 accuract_test=0.923000 grad=0.017925\n",
      "  28: cross_entropy=0.263127 accuracy=0.927327 accuract_test=0.923000 grad=0.018966\n",
      "  29: cross_entropy=0.262594 accuracy=0.927073 accuract_test=0.924400 grad=0.019750\n",
      "  30: cross_entropy=0.261490 accuracy=0.927291 accuract_test=0.924800 grad=0.012951\n",
      "  31: cross_entropy=0.261992 accuracy=0.927491 accuract_test=0.923200 grad=0.018174\n",
      "  32: cross_entropy=0.261312 accuracy=0.927418 accuract_test=0.924100 grad=0.018019\n",
      "  33: cross_entropy=0.259694 accuracy=0.928127 accuract_test=0.923800 grad=0.014622\n",
      "  34: cross_entropy=0.260250 accuracy=0.927745 accuract_test=0.922300 grad=0.022224\n",
      "  35: cross_entropy=0.260261 accuracy=0.927982 accuract_test=0.922700 grad=0.037307\n",
      "  36: cross_entropy=0.258472 accuracy=0.928418 accuract_test=0.923000 grad=0.011210\n",
      "  37: cross_entropy=0.257527 accuracy=0.928691 accuract_test=0.924800 grad=0.017550\n",
      "  38: cross_entropy=0.256984 accuracy=0.928636 accuract_test=0.924600 grad=0.015873\n",
      "  39: cross_entropy=0.256410 accuracy=0.929291 accuract_test=0.924300 grad=0.019386\n",
      "  40: cross_entropy=0.256592 accuracy=0.928873 accuract_test=0.925400 grad=0.028996\n",
      "  41: cross_entropy=0.255855 accuracy=0.929273 accuract_test=0.924000 grad=0.015909\n",
      "  42: cross_entropy=0.254900 accuracy=0.929564 accuract_test=0.925100 grad=0.016160\n",
      "  43: cross_entropy=0.256215 accuracy=0.929964 accuract_test=0.924900 grad=0.020009\n",
      "  44: cross_entropy=0.255892 accuracy=0.929255 accuract_test=0.925300 grad=0.019656\n",
      "  45: cross_entropy=0.255088 accuracy=0.929473 accuract_test=0.924100 grad=0.009194\n",
      "  46: cross_entropy=0.254773 accuracy=0.929327 accuract_test=0.924200 grad=0.023872\n",
      "  47: cross_entropy=0.253969 accuracy=0.929527 accuract_test=0.924300 grad=0.013234\n",
      "  48: cross_entropy=0.252903 accuracy=0.929782 accuract_test=0.925800 grad=0.017328\n",
      "  49: cross_entropy=0.254455 accuracy=0.930055 accuract_test=0.924700 grad=0.030013\n",
      "  50: cross_entropy=0.254200 accuracy=0.929545 accuract_test=0.924900 grad=0.012911\n",
      "  51: cross_entropy=0.252480 accuracy=0.930473 accuract_test=0.926100 grad=0.019526\n",
      "  52: cross_entropy=0.252262 accuracy=0.930600 accuract_test=0.924400 grad=0.016910\n",
      "  53: cross_entropy=0.251914 accuracy=0.930491 accuract_test=0.925100 grad=0.019360\n",
      "  54: cross_entropy=0.251944 accuracy=0.929927 accuract_test=0.924500 grad=0.022931\n",
      "  55: cross_entropy=0.251730 accuracy=0.930473 accuract_test=0.923900 grad=0.011382\n",
      "  56: cross_entropy=0.252606 accuracy=0.930509 accuract_test=0.924400 grad=0.020288\n",
      "  57: cross_entropy=0.251323 accuracy=0.930455 accuract_test=0.925800 grad=0.028548\n",
      "  58: cross_entropy=0.251461 accuracy=0.930891 accuract_test=0.925900 grad=0.014279\n",
      "  59: cross_entropy=0.251161 accuracy=0.930782 accuract_test=0.926300 grad=0.024643\n",
      "  60: cross_entropy=0.250659 accuracy=0.930964 accuract_test=0.925000 grad=0.011555\n",
      "  61: cross_entropy=0.249969 accuracy=0.931545 accuract_test=0.927300 grad=0.016404\n",
      "  62: cross_entropy=0.250176 accuracy=0.930800 accuract_test=0.926100 grad=0.014483\n",
      "  63: cross_entropy=0.249285 accuracy=0.931055 accuract_test=0.926000 grad=0.020459\n",
      "  64: cross_entropy=0.248663 accuracy=0.931527 accuract_test=0.925900 grad=0.017119\n",
      "  65: cross_entropy=0.248757 accuracy=0.931582 accuract_test=0.925300 grad=0.020888\n",
      "  66: cross_entropy=0.248943 accuracy=0.931364 accuract_test=0.924700 grad=0.031148\n",
      "  67: cross_entropy=0.248223 accuracy=0.932345 accuract_test=0.927200 grad=0.017241\n",
      "  68: cross_entropy=0.247876 accuracy=0.931709 accuract_test=0.926600 grad=0.017959\n",
      "  69: cross_entropy=0.248704 accuracy=0.930873 accuract_test=0.925100 grad=0.010923\n",
      "  70: cross_entropy=0.247678 accuracy=0.932382 accuract_test=0.925700 grad=0.011766\n",
      "  71: cross_entropy=0.247228 accuracy=0.932218 accuract_test=0.925600 grad=0.018154\n",
      "  72: cross_entropy=0.247760 accuracy=0.932018 accuract_test=0.925300 grad=0.026216\n",
      "  73: cross_entropy=0.246775 accuracy=0.932182 accuract_test=0.925600 grad=0.020130\n",
      "  74: cross_entropy=0.247056 accuracy=0.931655 accuract_test=0.925000 grad=0.020509\n",
      "  75: cross_entropy=0.246209 accuracy=0.931982 accuract_test=0.926100 grad=0.024155\n",
      "  76: cross_entropy=0.246178 accuracy=0.932164 accuract_test=0.926200 grad=0.015726\n",
      "  77: cross_entropy=0.246110 accuracy=0.933182 accuract_test=0.926400 grad=0.011044\n",
      "  78: cross_entropy=0.247562 accuracy=0.931673 accuract_test=0.925700 grad=0.031096\n",
      "  79: cross_entropy=0.245585 accuracy=0.932400 accuract_test=0.925600 grad=0.018325\n",
      "  80: cross_entropy=0.245145 accuracy=0.932691 accuract_test=0.926400 grad=0.016627\n",
      "  81: cross_entropy=0.245809 accuracy=0.932800 accuract_test=0.926600 grad=0.027209\n",
      "  82: cross_entropy=0.245118 accuracy=0.932582 accuract_test=0.926000 grad=0.014989\n",
      "  83: cross_entropy=0.245752 accuracy=0.932018 accuract_test=0.926600 grad=0.025668\n",
      "  84: cross_entropy=0.244518 accuracy=0.932618 accuract_test=0.925800 grad=0.020150\n",
      "  85: cross_entropy=0.244249 accuracy=0.932964 accuract_test=0.925100 grad=0.019840\n",
      "  86: cross_entropy=0.245494 accuracy=0.932764 accuract_test=0.925800 grad=0.016161\n",
      "  87: cross_entropy=0.244561 accuracy=0.933018 accuract_test=0.925100 grad=0.028731\n",
      "  88: cross_entropy=0.244652 accuracy=0.932800 accuract_test=0.925100 grad=0.021205\n",
      "  89: cross_entropy=0.244569 accuracy=0.932836 accuract_test=0.926000 grad=0.015767\n",
      "  90: cross_entropy=0.243768 accuracy=0.932745 accuract_test=0.925800 grad=0.027354\n",
      "  91: cross_entropy=0.245234 accuracy=0.931855 accuract_test=0.924600 grad=0.011992\n",
      "  92: cross_entropy=0.243835 accuracy=0.932636 accuract_test=0.925600 grad=0.025200\n",
      "  93: cross_entropy=0.243769 accuracy=0.933109 accuract_test=0.925300 grad=0.009740\n",
      "  94: cross_entropy=0.243645 accuracy=0.933418 accuract_test=0.924600 grad=0.043502\n",
      "  95: cross_entropy=0.243093 accuracy=0.933200 accuract_test=0.927000 grad=0.018527\n",
      "  96: cross_entropy=0.243122 accuracy=0.933145 accuract_test=0.925900 grad=0.020500\n",
      "  97: cross_entropy=0.243456 accuracy=0.932655 accuract_test=0.925900 grad=0.026014\n",
      "  98: cross_entropy=0.243319 accuracy=0.932327 accuract_test=0.926300 grad=0.016014\n",
      "  99: cross_entropy=0.242281 accuracy=0.933600 accuract_test=0.926900 grad=0.024320\n",
      " 100: cross_entropy=0.243211 accuracy=0.932673 accuract_test=0.925500 grad=0.024274\n"
     ]
    }
   ],
   "source": [
    "#cross_entropy_grad(W, X_train, Y_train2)\n",
    "# mini-batch gradient descent\n",
    "W = np.zeros(shape=(785, 10)) # starting point\n",
    "eta = 0.5 # learning rate / step size\n",
    "splitnum = 100\n",
    "s = X_train.shape[0]//splitnum # batch size\n",
    "maxiter = 100\n",
    "np.random.seed(123)\n",
    "\n",
    "for i in range(maxiter):\n",
    "    idx = np.random.permutation(np.arange(X_train.shape[0]))\n",
    "    for j in range(splitnum):\n",
    "        sample = idx[j*s:(j+1)*s]\n",
    "        grad = cross_entropy_grad(W, X_train[sample,:], Y_train2[sample])\n",
    "        W = W - eta*grad\n",
    "    \n",
    "    print(\"%4d: cross_entropy=%.6f accuracy=%.6f accuract_test=%.6f grad=%.6f\" %\n",
    "         (i+1, cross_entropy(W, X_train, Y_train2),\n",
    "         accuracy(W, X_train, Y_train),\n",
    "         accuracy(W, X_test, Y_test),\n",
    "         np.sum(grad**2)))\n"
   ]
  },
  {
   "cell_type": "markdown",
   "metadata": {},
   "source": [
    "```python\n",
    "def mini_batch_gd_optimizer(W_start, ...):\n",
    "    # ...\n",
    "    return (cross_entropy(W_final), W_final)\n",
    "    \n",
    "bestW = None\n",
    "bestE = np.Inf\n",
    "for i in range(number_of_restarts):\n",
    "    W = generate_random_W()\n",
    "    curE, curW = mini_batch_gd_optimizer(W, ...)\n",
    "    if curE < bestE:\n",
    "        bestE = curE\n",
    "        bestW = curW\n",
    "        \n",
    "return bestW\n",
    "```"
   ]
  },
  {
   "cell_type": "markdown",
   "metadata": {},
   "source": [
    "# The same, but with TensorFlow"
   ]
  },
  {
   "cell_type": "code",
   "execution_count": 71,
   "metadata": {
    "collapsed": true
   },
   "outputs": [],
   "source": [
    "import tensorflow as tf\n",
    "x = tf.placeholder(tf.float32, [None, 785])\n",
    "y = tf.placeholder(tf.float32, [None, 10])\n",
    "W = tf.Variable(tf.zeros([785, 10]))\n",
    "ypred = tf.nn.softmax(tf.matmul(x, W))\n",
    "cross_entropy = -tf.reduce_sum(y * tf.log(ypred))/tf.cast(tf.shape(y), tf.float32)[0]\n",
    "accuracy = tf.reduce_mean(\n",
    "        tf.cast(tf.equal(tf.argmax(ypred, 1), tf.argmax(y, 1)), tf.float32)\n",
    ")\n",
    "#train_step = W-eta*cross_etropy_grad\n",
    "eta = 0.5\n",
    "train_step = tf.train.GradientDescentOptimizer(eta).minimize(cross_entropy)"
   ]
  },
  {
   "cell_type": "code",
   "execution_count": 72,
   "metadata": {
    "collapsed": false
   },
   "outputs": [
    {
     "name": "stdout",
     "output_type": "stream",
     "text": [
      "   1: accuracy=0.892564\n",
      "   2: accuracy=0.902218\n",
      "   3: accuracy=0.908509\n",
      "   4: accuracy=0.911527\n",
      "   5: accuracy=0.914091\n",
      "   6: accuracy=0.916218\n",
      "   7: accuracy=0.916891\n",
      "   8: accuracy=0.919145\n",
      "   9: accuracy=0.919709\n",
      "  10: accuracy=0.920418\n",
      "  11: accuracy=0.921127\n",
      "  12: accuracy=0.922018\n",
      "  13: accuracy=0.923073\n",
      "  14: accuracy=0.922836\n",
      "  15: accuracy=0.921745\n",
      "  16: accuracy=0.923091\n",
      "  17: accuracy=0.923218\n",
      "  18: accuracy=0.924873\n",
      "  19: accuracy=0.925127\n",
      "  20: accuracy=0.924855\n",
      "  21: accuracy=0.925473\n",
      "  22: accuracy=0.925873\n",
      "  23: accuracy=0.926309\n",
      "  24: accuracy=0.926491\n",
      "  25: accuracy=0.926691\n",
      "  26: accuracy=0.926945\n",
      "  27: accuracy=0.926982\n",
      "  28: accuracy=0.927327\n",
      "  29: accuracy=0.927073\n",
      "  30: accuracy=0.927291\n",
      "  31: accuracy=0.927491\n",
      "  32: accuracy=0.927418\n",
      "  33: accuracy=0.928127\n",
      "  34: accuracy=0.927745\n",
      "  35: accuracy=0.927982\n",
      "  36: accuracy=0.928418\n",
      "  37: accuracy=0.928691\n",
      "  38: accuracy=0.928636\n",
      "  39: accuracy=0.929291\n",
      "  40: accuracy=0.928873\n",
      "  41: accuracy=0.929273\n",
      "  42: accuracy=0.929564\n",
      "  43: accuracy=0.929964\n",
      "  44: accuracy=0.929255\n",
      "  45: accuracy=0.929473\n",
      "  46: accuracy=0.929327\n",
      "  47: accuracy=0.929527\n",
      "  48: accuracy=0.929782\n",
      "  49: accuracy=0.930055\n",
      "  50: accuracy=0.929545\n",
      "  51: accuracy=0.930473\n",
      "  52: accuracy=0.930600\n",
      "  53: accuracy=0.930491\n",
      "  54: accuracy=0.929927\n",
      "  55: accuracy=0.930473\n",
      "  56: accuracy=0.930509\n",
      "  57: accuracy=0.930455\n",
      "  58: accuracy=0.930891\n",
      "  59: accuracy=0.930782\n",
      "  60: accuracy=0.930964\n",
      "  61: accuracy=0.931545\n",
      "  62: accuracy=0.930800\n",
      "  63: accuracy=0.931055\n",
      "  64: accuracy=0.931527\n",
      "  65: accuracy=0.931582\n",
      "  66: accuracy=0.931364\n",
      "  67: accuracy=0.932345\n",
      "  68: accuracy=0.931709\n",
      "  69: accuracy=0.930873\n",
      "  70: accuracy=0.932382\n",
      "  71: accuracy=0.932218\n",
      "  72: accuracy=0.932018\n",
      "  73: accuracy=0.932182\n",
      "  74: accuracy=0.931655\n",
      "  75: accuracy=0.931982\n",
      "  76: accuracy=0.932164\n",
      "  77: accuracy=0.933182\n",
      "  78: accuracy=0.931673\n",
      "  79: accuracy=0.932400\n",
      "  80: accuracy=0.932691\n",
      "  81: accuracy=0.932800\n",
      "  82: accuracy=0.932582\n",
      "  83: accuracy=0.932018\n",
      "  84: accuracy=0.932618\n",
      "  85: accuracy=0.932964\n",
      "  86: accuracy=0.932764\n",
      "  87: accuracy=0.933018\n",
      "  88: accuracy=0.932800\n",
      "  89: accuracy=0.932836\n",
      "  90: accuracy=0.932745\n",
      "  91: accuracy=0.931855\n",
      "  92: accuracy=0.932636\n",
      "  93: accuracy=0.933109\n",
      "  94: accuracy=0.933418\n",
      "  95: accuracy=0.933200\n",
      "  96: accuracy=0.933145\n",
      "  97: accuracy=0.932655\n",
      "  98: accuracy=0.932327\n",
      "  99: accuracy=0.933600\n",
      " 100: accuracy=0.932673\n"
     ]
    }
   ],
   "source": [
    "init = tf.global_variables_initializer()\n",
    "sess = tf.Session()\n",
    "sess.run(init)\n",
    "\n",
    "np.random.seed(123)\n",
    "splitnum = 100\n",
    "s = X_train.shape[0]//splitnum # batch size\n",
    "maxiter = 100\n",
    "for i in range(maxiter):\n",
    "    idx = np.random.permutation(np.arange(X_train.shape[0]))\n",
    "    for j in range(splitnum):\n",
    "        sample = idx[j*s:(j+1)*s]\n",
    "        #grad = cross_entropy_grad(W, X_train[sample,:], Y_train2[sample])\n",
    "        #W = W - eta*grad\n",
    "        sess.run(train_step,\n",
    "                feed_dict={\n",
    "                        x: X_train[sample,:],\n",
    "                        y: Y_train2[sample,:]\n",
    "                }\n",
    "                )\n",
    "    \n",
    "    ac = sess.run(accuracy, feed_dict={x: X_train, y: Y_train2})\n",
    "    print(\"%4d: accuracy=%.6f\" %\n",
    "         (i+1, ac))\n"
   ]
  },
  {
   "cell_type": "markdown",
   "metadata": {},
   "source": [
    "# The same, but with Keras"
   ]
  },
  {
   "cell_type": "code",
   "execution_count": 73,
   "metadata": {
    "collapsed": false
   },
   "outputs": [],
   "source": [
    "import keras"
   ]
  },
  {
   "cell_type": "code",
   "execution_count": 74,
   "metadata": {
    "collapsed": false
   },
   "outputs": [
    {
     "name": "stdout",
     "output_type": "stream",
     "text": [
      "Epoch 1/5\n",
      "55000/55000 [==============================] - 1s 20us/step - loss: 1.2187 - acc: 0.7115\n",
      "Epoch 2/5\n",
      "55000/55000 [==============================] - 1s 18us/step - loss: 0.6752 - acc: 0.8460\n",
      "Epoch 3/5\n",
      "55000/55000 [==============================] - 1s 18us/step - loss: 0.5577 - acc: 0.8631\n",
      "Epoch 4/5\n",
      "55000/55000 [==============================] - 1s 17us/step - loss: 0.5016 - acc: 0.8721\n",
      "Epoch 5/5\n",
      "55000/55000 [==============================] - 1s 17us/step - loss: 0.4672 - acc: 0.8781\n"
     ]
    },
    {
     "data": {
      "text/plain": [
       "<keras.callbacks.History at 0x7f9f2634fa20>"
      ]
     },
     "execution_count": 74,
     "metadata": {},
     "output_type": "execute_result"
    }
   ],
   "source": [
    "from keras.models import Sequential\n",
    "from keras.layers import Dense, Activation\n",
    "model = Sequential()\n",
    "model.add(Dense(10, input_dim=785))\n",
    "model.add(Activation(\"softmax\"))\n",
    "model.compile(loss='categorical_crossentropy',\n",
    "             optimizer='sgd', metrics=['accuracy'])\n",
    "model.fit(X_train, Y_train2, epochs=5, batch_size=100, verbose=1)\n"
   ]
  },
  {
   "cell_type": "markdown",
   "metadata": {},
   "source": [
    "# Pandas\n",
    "\n",
    "> 80% of data analysis is spent on the process of cleaning and preparing the data (Dasu&Johnson, 2003)\n",
    "\n",
    "Pandas comes with 3 main classes:\n",
    "\n",
    "* Series - wrapper around numpy vectors, represents columns(variables) in a data frame\n",
    "* Index - similar to Series, used to store row/column labels\n",
    "* DataFrame - sequence/dictionary of Series objects of identical lengths"
   ]
  },
  {
   "cell_type": "code",
   "execution_count": 80,
   "metadata": {
    "collapsed": true
   },
   "outputs": [],
   "source": [
    "import pandas as pd\n",
    "pd.set_option(\"display.notebook_repr_html\", False)"
   ]
  },
  {
   "cell_type": "code",
   "execution_count": 81,
   "metadata": {
    "collapsed": false
   },
   "outputs": [
    {
     "data": {
      "text/plain": [
       "      A      B     C\n",
       "0  0.70  False     f\n",
       "1  0.29  False  None\n",
       "2  0.23   True     f\n",
       "3  0.55  False     m\n",
       "4  0.72   True     f"
      ]
     },
     "execution_count": 81,
     "metadata": {},
     "output_type": "execute_result"
    }
   ],
   "source": [
    "np.random.seed(123)\n",
    "x = pd.DataFrame({ # dictionary\n",
    "    \"A\": np.round(np.random.uniform(0, 1, 5), 2),\n",
    "    \"B\": np.random.choice([True,False], 5, [0.4, 0.6]),\n",
    "    \"C\": [\"f\", None, \"f\", \"m\", \"f\"]\n",
    "})\n",
    "x"
   ]
  },
  {
   "cell_type": "code",
   "execution_count": 84,
   "metadata": {
    "collapsed": false
   },
   "outputs": [
    {
     "data": {
      "text/plain": [
       "   a   b   c\n",
       "x  0   1   2\n",
       "y  3   4   5\n",
       "z  6   7   8\n",
       "w  9  10  11"
      ]
     },
     "execution_count": 84,
     "metadata": {},
     "output_type": "execute_result"
    }
   ],
   "source": [
    "pd.DataFrame(\n",
    "    np.arange(12).reshape(4,3),\n",
    "    columns = [\"a\", \"b\", \"c\"],\n",
    "    index = [\"x\", \"y\", \"z\", \"w\"]\n",
    ")"
   ]
  },
  {
   "cell_type": "code",
   "execution_count": 85,
   "metadata": {
    "collapsed": true
   },
   "outputs": [],
   "source": [
    "p = [\n",
    "    (\"a\", np.r_[1,2,3]),\n",
    "    (\"b\", [True, False, True]),\n",
    "    (\"c\", [\"aaa\", \"bbb\", \"ccc\"])\n",
    "]"
   ]
  },
  {
   "cell_type": "code",
   "execution_count": 87,
   "metadata": {
    "collapsed": false
   },
   "outputs": [
    {
     "data": {
      "text/plain": [
       "   0                    1\n",
       "0  a            [1, 2, 3]\n",
       "1  b  [True, False, True]\n",
       "2  c      [aaa, bbb, ccc]"
      ]
     },
     "execution_count": 87,
     "metadata": {},
     "output_type": "execute_result"
    }
   ],
   "source": [
    "pd.DataFrame(p)"
   ]
  },
  {
   "cell_type": "code",
   "execution_count": 89,
   "metadata": {
    "collapsed": false
   },
   "outputs": [
    {
     "data": {
      "text/plain": [
       "   a      b    c\n",
       "0  1   True  aaa\n",
       "1  2  False  bbb\n",
       "2  3   True  ccc"
      ]
     },
     "execution_count": 89,
     "metadata": {},
     "output_type": "execute_result"
    }
   ],
   "source": [
    "pd.DataFrame.from_items(p)"
   ]
  },
  {
   "cell_type": "code",
   "execution_count": 90,
   "metadata": {
    "collapsed": false
   },
   "outputs": [
    {
     "data": {
      "text/plain": [
       "               Name   BirthDate\n",
       "0    Hung Hyun-Seok  12.06.2000\n",
       "1  Benno Blumenthal  31.12.1918\n",
       "2  Paitoon Ornwimol  26.06.1958\n",
       "3    P'yon Yong-Sun  10.07.1947\n",
       "4    Étienne Chaney  04.09.1983"
      ]
     },
     "execution_count": 90,
     "metadata": {},
     "output_type": "execute_result"
    }
   ],
   "source": [
    "birth_dates = pd.read_csv(\"http://www.gagolewski.com/resources/data/birth_dates.csv\",\n",
    "                          comment=\"#\")\n",
    "birth_dates.head()"
   ]
  },
  {
   "cell_type": "code",
   "execution_count": 91,
   "metadata": {
    "collapsed": false
   },
   "outputs": [
    {
     "data": {
      "text/plain": [
       "      A      B     C\n",
       "0  0.70  False     f\n",
       "1  0.29  False  None\n",
       "2  0.23   True     f\n",
       "3  0.55  False     m\n",
       "4  0.72   True     f"
      ]
     },
     "execution_count": 91,
     "metadata": {},
     "output_type": "execute_result"
    }
   ],
   "source": [
    "x"
   ]
  },
  {
   "cell_type": "code",
   "execution_count": 92,
   "metadata": {
    "collapsed": false
   },
   "outputs": [
    {
     "data": {
      "text/plain": [
       "(5, 3)"
      ]
     },
     "execution_count": 92,
     "metadata": {},
     "output_type": "execute_result"
    }
   ],
   "source": [
    "x.shape"
   ]
  },
  {
   "cell_type": "code",
   "execution_count": 93,
   "metadata": {
    "collapsed": false
   },
   "outputs": [
    {
     "data": {
      "text/plain": [
       "5"
      ]
     },
     "execution_count": 93,
     "metadata": {},
     "output_type": "execute_result"
    }
   ],
   "source": [
    "len(x)"
   ]
  },
  {
   "cell_type": "code",
   "execution_count": 94,
   "metadata": {
    "collapsed": false
   },
   "outputs": [
    {
     "data": {
      "text/plain": [
       "      A      B     C\n",
       "0  0.70  False     f\n",
       "1  0.29  False  None"
      ]
     },
     "execution_count": 94,
     "metadata": {},
     "output_type": "execute_result"
    }
   ],
   "source": [
    "x.head(2)"
   ]
  },
  {
   "cell_type": "code",
   "execution_count": 95,
   "metadata": {
    "collapsed": false
   },
   "outputs": [
    {
     "data": {
      "text/plain": [
       "      A      B  C\n",
       "3  0.55  False  m\n",
       "4  0.72   True  f"
      ]
     },
     "execution_count": 95,
     "metadata": {},
     "output_type": "execute_result"
    }
   ],
   "source": [
    "x.tail(2)"
   ]
  },
  {
   "cell_type": "code",
   "execution_count": 96,
   "metadata": {
    "collapsed": false
   },
   "outputs": [
    {
     "data": {
      "text/plain": [
       "A    float64\n",
       "B       bool\n",
       "C     object\n",
       "dtype: object"
      ]
     },
     "execution_count": 96,
     "metadata": {},
     "output_type": "execute_result"
    }
   ],
   "source": [
    "x.dtypes"
   ]
  },
  {
   "cell_type": "code",
   "execution_count": 97,
   "metadata": {
    "collapsed": false
   },
   "outputs": [
    {
     "name": "stdout",
     "output_type": "stream",
     "text": [
      "<class 'pandas.core.frame.DataFrame'>\n",
      "RangeIndex: 5 entries, 0 to 4\n",
      "Data columns (total 3 columns):\n",
      "A    5 non-null float64\n",
      "B    5 non-null bool\n",
      "C    4 non-null object\n",
      "dtypes: bool(1), float64(1), object(1)\n",
      "memory usage: 165.0+ bytes\n"
     ]
    }
   ],
   "source": [
    "x.info()"
   ]
  },
  {
   "cell_type": "markdown",
   "metadata": {},
   "source": [
    "# Series"
   ]
  },
  {
   "cell_type": "code",
   "execution_count": 98,
   "metadata": {
    "collapsed": false
   },
   "outputs": [
    {
     "data": {
      "text/plain": [
       "0    0.70\n",
       "1    0.29\n",
       "2    0.23\n",
       "3    0.55\n",
       "4    0.72\n",
       "Name: A, dtype: float64"
      ]
     },
     "execution_count": 98,
     "metadata": {},
     "output_type": "execute_result"
    }
   ],
   "source": [
    "x[\"A\"]"
   ]
  },
  {
   "cell_type": "code",
   "execution_count": 99,
   "metadata": {
    "collapsed": false
   },
   "outputs": [
    {
     "data": {
      "text/plain": [
       "pandas.core.series.Series"
      ]
     },
     "execution_count": 99,
     "metadata": {},
     "output_type": "execute_result"
    }
   ],
   "source": [
    "type(x[\"A\"])"
   ]
  },
  {
   "cell_type": "code",
   "execution_count": 100,
   "metadata": {
    "collapsed": false
   },
   "outputs": [
    {
     "data": {
      "text/plain": [
       "      A\n",
       "0  0.70\n",
       "1  0.29\n",
       "2  0.23\n",
       "3  0.55\n",
       "4  0.72"
      ]
     },
     "execution_count": 100,
     "metadata": {},
     "output_type": "execute_result"
    }
   ],
   "source": [
    "pd.DataFrame(x[\"A\"])"
   ]
  },
  {
   "cell_type": "code",
   "execution_count": 101,
   "metadata": {
    "collapsed": false
   },
   "outputs": [
    {
     "data": {
      "text/plain": [
       "0    0.70\n",
       "1    0.29\n",
       "2    0.23\n",
       "3    0.55\n",
       "4    0.72\n",
       "Name: A, dtype: float64"
      ]
     },
     "execution_count": 101,
     "metadata": {},
     "output_type": "execute_result"
    }
   ],
   "source": [
    "x.get(\"A\")"
   ]
  },
  {
   "cell_type": "code",
   "execution_count": 103,
   "metadata": {
    "collapsed": false
   },
   "outputs": [
    {
     "data": {
      "text/plain": [
       "0    0.70\n",
       "1    0.29\n",
       "2    0.23\n",
       "3    0.55\n",
       "4    0.72\n",
       "Name: A, dtype: float64"
      ]
     },
     "execution_count": 103,
     "metadata": {},
     "output_type": "execute_result"
    }
   ],
   "source": [
    "x.loc[:,\"A\"] # THE THE THE preferred way"
   ]
  },
  {
   "cell_type": "code",
   "execution_count": 104,
   "metadata": {
    "collapsed": false
   },
   "outputs": [
    {
     "data": {
      "text/plain": [
       "0    0.70\n",
       "1    0.29\n",
       "2    0.23\n",
       "3    0.55\n",
       "4    0.72\n",
       "Name: A, dtype: float64"
      ]
     },
     "execution_count": 104,
     "metadata": {},
     "output_type": "execute_result"
    }
   ],
   "source": [
    "x.A"
   ]
  },
  {
   "cell_type": "code",
   "execution_count": 106,
   "metadata": {
    "collapsed": false
   },
   "outputs": [
    {
     "data": {
      "text/plain": [
       "0    0.000000\n",
       "1    0.333333\n",
       "2    0.666667\n",
       "3    1.000000\n",
       "dtype: float64"
      ]
     },
     "execution_count": 106,
     "metadata": {},
     "output_type": "execute_result"
    }
   ],
   "source": [
    "u = pd.Series(np.r_[0:1:4j])\n",
    "u"
   ]
  },
  {
   "cell_type": "code",
   "execution_count": 107,
   "metadata": {
    "collapsed": false
   },
   "outputs": [
    {
     "data": {
      "text/plain": [
       "0    0.000000\n",
       "1    0.333333\n",
       "2    0.666667\n",
       "3    1.000000\n",
       "Name: my favorite things, dtype: float64"
      ]
     },
     "execution_count": 107,
     "metadata": {},
     "output_type": "execute_result"
    }
   ],
   "source": [
    "u.name = \"my favorite things\"\n",
    "u"
   ]
  },
  {
   "cell_type": "code",
   "execution_count": 110,
   "metadata": {
    "collapsed": false
   },
   "outputs": [
    {
     "data": {
      "text/plain": [
       "0    0.000000\n",
       "1    0.333333\n",
       "2    0.666667\n",
       "3    1.000000\n",
       "Name: iiiiiiiii, dtype: float64"
      ]
     },
     "execution_count": 110,
     "metadata": {},
     "output_type": "execute_result"
    }
   ],
   "source": [
    "u.rename(\"iiiiiiiii\") # returns a copy"
   ]
  },
  {
   "cell_type": "code",
   "execution_count": 109,
   "metadata": {
    "collapsed": false
   },
   "outputs": [
    {
     "data": {
      "text/plain": [
       "0    0.000000\n",
       "1    0.333333\n",
       "2    0.666667\n",
       "3    1.000000\n",
       "Name: my favorite things, dtype: float64"
      ]
     },
     "execution_count": 109,
     "metadata": {},
     "output_type": "execute_result"
    }
   ],
   "source": [
    "u"
   ]
  },
  {
   "cell_type": "code",
   "execution_count": 111,
   "metadata": {
    "collapsed": false
   },
   "outputs": [
    {
     "data": {
      "text/plain": [
       "   my favorite things\n",
       "0            0.000000\n",
       "1            0.333333\n",
       "2            0.666667\n",
       "3            1.000000"
      ]
     },
     "execution_count": 111,
     "metadata": {},
     "output_type": "execute_result"
    }
   ],
   "source": [
    "pd.DataFrame(u)"
   ]
  },
  {
   "cell_type": "code",
   "execution_count": 112,
   "metadata": {
    "collapsed": false
   },
   "outputs": [
    {
     "data": {
      "text/plain": [
       "0    1\n",
       "1    2\n",
       "2    3\n",
       "3    4\n",
       "dtype: int64"
      ]
     },
     "execution_count": 112,
     "metadata": {},
     "output_type": "execute_result"
    }
   ],
   "source": [
    "pd.Series([1,2,3,4])"
   ]
  },
  {
   "cell_type": "code",
   "execution_count": 113,
   "metadata": {
    "collapsed": false
   },
   "outputs": [
    {
     "data": {
      "text/plain": [
       "0    gg\n",
       "1    ff\n",
       "2    xz\n",
       "dtype: object"
      ]
     },
     "execution_count": 113,
     "metadata": {},
     "output_type": "execute_result"
    }
   ],
   "source": [
    "pd.Series([\"gg\", \"ff\", \"xz\"])"
   ]
  },
  {
   "cell_type": "code",
   "execution_count": 114,
   "metadata": {
    "collapsed": false
   },
   "outputs": [
    {
     "data": {
      "text/plain": [
       "0                    1\n",
       "1    [35, 3, 523, 532]\n",
       "2             {'a': 3}\n",
       "dtype: object"
      ]
     },
     "execution_count": 114,
     "metadata": {},
     "output_type": "execute_result"
    }
   ],
   "source": [
    "pd.Series([1.0, [35,3,523,532], dict(a=3)])"
   ]
  },
  {
   "cell_type": "code",
   "execution_count": 115,
   "metadata": {
    "collapsed": false
   },
   "outputs": [
    {
     "data": {
      "text/plain": [
       "0    0.70\n",
       "1    0.29\n",
       "2    0.23\n",
       "3    0.55\n",
       "4    0.72\n",
       "Name: A, dtype: float64"
      ]
     },
     "execution_count": 115,
     "metadata": {},
     "output_type": "execute_result"
    }
   ],
   "source": [
    "x.A"
   ]
  },
  {
   "cell_type": "code",
   "execution_count": 116,
   "metadata": {
    "collapsed": false
   },
   "outputs": [
    {
     "data": {
      "text/plain": [
       "array([ 0.7 ,  0.29,  0.23,  0.55,  0.72])"
      ]
     },
     "execution_count": 116,
     "metadata": {},
     "output_type": "execute_result"
    }
   ],
   "source": [
    "x.A.values"
   ]
  },
  {
   "cell_type": "code",
   "execution_count": 117,
   "metadata": {
    "collapsed": false
   },
   "outputs": [
    {
     "data": {
      "text/plain": [
       "2.4900000000000002"
      ]
     },
     "execution_count": 117,
     "metadata": {},
     "output_type": "execute_result"
    }
   ],
   "source": [
    "np.sum(x.A.values)"
   ]
  },
  {
   "cell_type": "code",
   "execution_count": 118,
   "metadata": {
    "collapsed": false
   },
   "outputs": [
    {
     "data": {
      "text/plain": [
       "2.4900000000000002"
      ]
     },
     "execution_count": 118,
     "metadata": {},
     "output_type": "execute_result"
    }
   ],
   "source": [
    "np.sum(x.A)"
   ]
  },
  {
   "cell_type": "code",
   "execution_count": 119,
   "metadata": {
    "collapsed": true
   },
   "outputs": [],
   "source": [
    "?np.sum"
   ]
  },
  {
   "cell_type": "code",
   "execution_count": 120,
   "metadata": {
    "collapsed": false
   },
   "outputs": [
    {
     "data": {
      "text/plain": [
       "0   2018-02-07\n",
       "1   2018-02-08\n",
       "2   2018-02-09\n",
       "dtype: datetime64[ns]"
      ]
     },
     "execution_count": 120,
     "metadata": {},
     "output_type": "execute_result"
    }
   ],
   "source": [
    "pd.Series(pd.date_range(\"2018-02-07\", periods=3, freq=\"D\"))"
   ]
  },
  {
   "cell_type": "code",
   "execution_count": 121,
   "metadata": {
    "collapsed": false
   },
   "outputs": [
    {
     "data": {
      "text/plain": [
       "0   2018-02-28\n",
       "1   2018-05-31\n",
       "2   2018-08-31\n",
       "dtype: datetime64[ns]"
      ]
     },
     "execution_count": 121,
     "metadata": {},
     "output_type": "execute_result"
    }
   ],
   "source": [
    "pd.Series(pd.date_range(\"2018-02-07\", periods=3, freq=\"3M\"))"
   ]
  },
  {
   "cell_type": "code",
   "execution_count": 123,
   "metadata": {
    "collapsed": false
   },
   "outputs": [
    {
     "data": {
      "text/plain": [
       "               Name   BirthDate\n",
       "0    Hung Hyun-Seok  12.06.2000\n",
       "1  Benno Blumenthal  31.12.1918\n",
       "2  Paitoon Ornwimol  26.06.1958\n",
       "3    P'yon Yong-Sun  10.07.1947\n",
       "4    Étienne Chaney  04.09.1983"
      ]
     },
     "execution_count": 123,
     "metadata": {},
     "output_type": "execute_result"
    }
   ],
   "source": [
    "birth_dates.head()"
   ]
  },
  {
   "cell_type": "code",
   "execution_count": 125,
   "metadata": {
    "collapsed": false
   },
   "outputs": [
    {
     "data": {
      "text/plain": [
       "0    12.06.2000\n",
       "1    31.12.1918\n",
       "2    26.06.1958\n",
       "3    10.07.1947\n",
       "4    04.09.1983\n",
       "Name: BirthDate, dtype: object"
      ]
     },
     "execution_count": 125,
     "metadata": {},
     "output_type": "execute_result"
    }
   ],
   "source": [
    "birth_dates[\"BirthDate\"].head()"
   ]
  },
  {
   "cell_type": "code",
   "execution_count": 128,
   "metadata": {
    "collapsed": false
   },
   "outputs": [
    {
     "data": {
      "text/plain": [
       "               Name  BirthDate\n",
       "0    Hung Hyun-Seok 2000-06-12\n",
       "1  Benno Blumenthal 1918-12-31\n",
       "2  Paitoon Ornwimol 1958-06-26\n",
       "3    P'yon Yong-Sun 1947-07-10\n",
       "4    Étienne Chaney 1983-09-04"
      ]
     },
     "execution_count": 128,
     "metadata": {},
     "output_type": "execute_result"
    }
   ],
   "source": [
    "birth_dates = pd.read_csv(\"http://www.gagolewski.com/resources/data/birth_dates.csv\",\n",
    "                         comment=\"#\")\n",
    "birth_dates[\"BirthDate\"] = pd.to_datetime(birth_dates[\"BirthDate\"],\n",
    "                                         dayfirst=True) # convert to datetime64\n",
    "birth_dates.head()"
   ]
  },
  {
   "cell_type": "code",
   "execution_count": 129,
   "metadata": {
    "collapsed": false
   },
   "outputs": [
    {
     "data": {
      "text/plain": [
       "'0.22.0'"
      ]
     },
     "execution_count": 129,
     "metadata": {},
     "output_type": "execute_result"
    }
   ],
   "source": [
    "pd.__version__"
   ]
  },
  {
   "cell_type": "code",
   "execution_count": 130,
   "metadata": {
    "collapsed": false
   },
   "outputs": [
    {
     "data": {
      "text/plain": [
       "0       f\n",
       "1    None\n",
       "2       f\n",
       "3       m\n",
       "4       f\n",
       "Name: C, dtype: object"
      ]
     },
     "execution_count": 130,
     "metadata": {},
     "output_type": "execute_result"
    }
   ],
   "source": [
    "# categorical - used to represent \"qualitative\" data - on nominal or ordered scales\n",
    "x.C"
   ]
  },
  {
   "cell_type": "code",
   "execution_count": 131,
   "metadata": {
    "collapsed": false
   },
   "outputs": [
    {
     "data": {
      "text/plain": [
       "0      f\n",
       "1    NaN\n",
       "2      f\n",
       "3      m\n",
       "4      f\n",
       "Name: C, dtype: category\n",
       "Categories (2, object): [f, m]"
      ]
     },
     "execution_count": 131,
     "metadata": {},
     "output_type": "execute_result"
    }
   ],
   "source": [
    "x.C.astype('category')"
   ]
  },
  {
   "cell_type": "code",
   "execution_count": 133,
   "metadata": {
    "collapsed": false
   },
   "outputs": [
    {
     "data": {
      "text/plain": [
       "0      f\n",
       "1    NaN\n",
       "2      f\n",
       "3      m\n",
       "4      f\n",
       "Name: C, dtype: category\n",
       "Categories (2, object): [f, m]"
      ]
     },
     "execution_count": 133,
     "metadata": {},
     "output_type": "execute_result"
    }
   ],
   "source": [
    "x[\"C\"] = pd.Series(x.C, dtype='category')\n",
    "x.C"
   ]
  },
  {
   "cell_type": "code",
   "execution_count": 134,
   "metadata": {
    "collapsed": false
   },
   "outputs": [
    {
     "data": {
      "text/plain": [
       "Index(['f', 'm'], dtype='object')"
      ]
     },
     "execution_count": 134,
     "metadata": {},
     "output_type": "execute_result"
    }
   ],
   "source": [
    "x.C.cat.categories"
   ]
  },
  {
   "cell_type": "code",
   "execution_count": 135,
   "metadata": {
    "collapsed": false
   },
   "outputs": [
    {
     "data": {
      "text/plain": [
       "0    0\n",
       "1   -1\n",
       "2    0\n",
       "3    1\n",
       "4    0\n",
       "dtype: int8"
      ]
     },
     "execution_count": 135,
     "metadata": {},
     "output_type": "execute_result"
    }
   ],
   "source": [
    "x.C.cat.codes"
   ]
  },
  {
   "cell_type": "code",
   "execution_count": 137,
   "metadata": {
    "collapsed": false
   },
   "outputs": [
    {
     "data": {
      "text/plain": [
       "array(['f', 'm', 'f', 'm', 'f'], dtype=object)"
      ]
     },
     "execution_count": 137,
     "metadata": {},
     "output_type": "execute_result"
    }
   ],
   "source": [
    "x.C.cat.categories.values[x.C.cat.codes]"
   ]
  },
  {
   "cell_type": "code",
   "execution_count": 140,
   "metadata": {
    "collapsed": false
   },
   "outputs": [
    {
     "data": {
      "text/plain": [
       "0    l\n",
       "1    l\n",
       "2    m\n",
       "3    s\n",
       "4    m\n",
       "5    l\n",
       "dtype: category\n",
       "Categories (3, object): [s < m < l]"
      ]
     },
     "execution_count": 140,
     "metadata": {},
     "output_type": "execute_result"
    }
   ],
   "source": [
    "u = pd.Series(pd.Categorical(\n",
    "    [\"l\", \"l\", \"m\", \"s\", \"m\", \"l\"],\n",
    "    categories=[\"s\", \"m\", \"l\"],\n",
    "        ordered=True\n",
    "    ))\n",
    "u"
   ]
  },
  {
   "cell_type": "code",
   "execution_count": 141,
   "metadata": {
    "collapsed": false
   },
   "outputs": [
    {
     "data": {
      "text/plain": [
       "3    s\n",
       "2    m\n",
       "4    m\n",
       "0    l\n",
       "1    l\n",
       "5    l\n",
       "dtype: category\n",
       "Categories (3, object): [s < m < l]"
      ]
     },
     "execution_count": 141,
     "metadata": {},
     "output_type": "execute_result"
    }
   ],
   "source": [
    "u.sort_values()"
   ]
  },
  {
   "cell_type": "code",
   "execution_count": 142,
   "metadata": {
    "collapsed": false
   },
   "outputs": [
    {
     "data": {
      "text/plain": [
       "0    2\n",
       "1    2\n",
       "2    1\n",
       "3    0\n",
       "4    1\n",
       "5    2\n",
       "dtype: int8"
      ]
     },
     "execution_count": 142,
     "metadata": {},
     "output_type": "execute_result"
    }
   ],
   "source": [
    "u.cat.codes"
   ]
  },
  {
   "cell_type": "code",
   "execution_count": 143,
   "metadata": {
    "collapsed": false
   },
   "outputs": [
    {
     "data": {
      "text/plain": [
       "Index(['s', 'm', 'l'], dtype='object')"
      ]
     },
     "execution_count": 143,
     "metadata": {},
     "output_type": "execute_result"
    }
   ],
   "source": [
    "u.cat.categories"
   ]
  },
  {
   "cell_type": "code",
   "execution_count": 144,
   "metadata": {
    "collapsed": false
   },
   "outputs": [
    {
     "data": {
      "text/plain": [
       "True"
      ]
     },
     "execution_count": 144,
     "metadata": {},
     "output_type": "execute_result"
    }
   ],
   "source": [
    "u.cat.ordered"
   ]
  },
  {
   "cell_type": "code",
   "execution_count": 145,
   "metadata": {
    "collapsed": false
   },
   "outputs": [
    {
     "data": {
      "text/plain": [
       "0    0.70\n",
       "1    0.29\n",
       "2    0.23\n",
       "3    0.55\n",
       "4    0.72\n",
       "Name: A, dtype: float64"
      ]
     },
     "execution_count": 145,
     "metadata": {},
     "output_type": "execute_result"
    }
   ],
   "source": [
    "x.A"
   ]
  },
  {
   "cell_type": "code",
   "execution_count": 146,
   "metadata": {
    "collapsed": false
   },
   "outputs": [
    {
     "data": {
      "text/plain": [
       "0    (0.5, 1.0]\n",
       "1    (0.0, 0.5]\n",
       "2    (0.0, 0.5]\n",
       "3    (0.5, 1.0]\n",
       "4    (0.5, 1.0]\n",
       "Name: A, dtype: category\n",
       "Categories (2, interval[float64]): [(0.0, 0.5] < (0.5, 1.0]]"
      ]
     },
     "execution_count": 146,
     "metadata": {},
     "output_type": "execute_result"
    }
   ],
   "source": [
    "pd.cut(x.A, np.r_[0.0,0.5,1.0])"
   ]
  },
  {
   "cell_type": "code",
   "execution_count": 147,
   "metadata": {
    "collapsed": false
   },
   "outputs": [
    {
     "data": {
      "text/plain": [
       "0     (0.66, inf]\n",
       "1    (-inf, 0.33]\n",
       "2    (-inf, 0.33]\n",
       "3    (0.33, 0.66]\n",
       "4     (0.66, inf]\n",
       "Name: A, dtype: category\n",
       "Categories (3, interval[float64]): [(-inf, 0.33] < (0.33, 0.66] < (0.66, inf]]"
      ]
     },
     "execution_count": 147,
     "metadata": {},
     "output_type": "execute_result"
    }
   ],
   "source": [
    "pd.cut(x.A, np.r_[-np.inf,0.33,0.66,np.inf])"
   ]
  },
  {
   "cell_type": "code",
   "execution_count": 148,
   "metadata": {
    "collapsed": false
   },
   "outputs": [
    {
     "data": {
      "text/plain": [
       "0     large\n",
       "1     small\n",
       "2     small\n",
       "3    medium\n",
       "4     large\n",
       "Name: A, dtype: category\n",
       "Categories (3, object): [small < medium < large]"
      ]
     },
     "execution_count": 148,
     "metadata": {},
     "output_type": "execute_result"
    }
   ],
   "source": [
    "pd.cut(x.A, np.r_[-np.inf,0.33,0.66,np.inf], labels=[\"small\", \"medium\", \"large\"])"
   ]
  },
  {
   "cell_type": "code",
   "execution_count": 149,
   "metadata": {
    "collapsed": false
   },
   "outputs": [
    {
     "data": {
      "text/plain": [
       "   total_bill   tip     sex smoker  day    time  size\n",
       "0       16.99  1.01  Female     No  Sun  Dinner     2\n",
       "1       10.34  1.66    Male     No  Sun  Dinner     3\n",
       "2       21.01  3.50    Male     No  Sun  Dinner     3\n",
       "3       23.68  3.31    Male     No  Sun  Dinner     2\n",
       "4       24.59  3.61  Female     No  Sun  Dinner     4"
      ]
     },
     "execution_count": 149,
     "metadata": {},
     "output_type": "execute_result"
    }
   ],
   "source": [
    "tips = pd.read_csv(\"http://gagolewski.com/resources/data/tips.csv\", comment=\"#\")\n",
    "tips.head()"
   ]
  },
  {
   "cell_type": "code",
   "execution_count": 151,
   "metadata": {
    "collapsed": false
   },
   "outputs": [
    {
     "data": {
      "text/plain": [
       "0    Female\n",
       "1      Male\n",
       "2      Male\n",
       "3      Male\n",
       "4    Female\n",
       "Name: sex, dtype: object"
      ]
     },
     "execution_count": 151,
     "metadata": {},
     "output_type": "execute_result"
    }
   ],
   "source": [
    "tips.sex.head()"
   ]
  },
  {
   "cell_type": "code",
   "execution_count": 152,
   "metadata": {
    "collapsed": false
   },
   "outputs": [
    {
     "data": {
      "text/plain": [
       "0    Female\n",
       "1      Male\n",
       "2      Male\n",
       "3      Male\n",
       "4    Female\n",
       "Name: sex, dtype: category\n",
       "Categories (2, object): [Female, Male]"
      ]
     },
     "execution_count": 152,
     "metadata": {},
     "output_type": "execute_result"
    }
   ],
   "source": [
    "tips[\"sex\"] = tips.sex.astype('category')\n",
    "tips.sex.head()"
   ]
  },
  {
   "cell_type": "code",
   "execution_count": 153,
   "metadata": {
    "collapsed": false
   },
   "outputs": [
    {
     "data": {
      "text/plain": [
       "   total_bill   tip     sex smoker  day    time  size\n",
       "0       16.99  1.01  Female     No  Sun  Dinner     2\n",
       "1       10.34  1.66    Male     No  Sun  Dinner     3\n",
       "2       21.01  3.50    Male     No  Sun  Dinner     3\n",
       "3       23.68  3.31    Male     No  Sun  Dinner     2\n",
       "4       24.59  3.61  Female     No  Sun  Dinner     4"
      ]
     },
     "execution_count": 153,
     "metadata": {},
     "output_type": "execute_result"
    }
   ],
   "source": [
    "tips.head()"
   ]
  },
  {
   "cell_type": "code",
   "execution_count": 154,
   "metadata": {
    "collapsed": true
   },
   "outputs": [],
   "source": [
    "%matplotlib inline\n",
    "import matplotlib.pyplot as plt"
   ]
  },
  {
   "cell_type": "code",
   "execution_count": 157,
   "metadata": {
    "collapsed": false
   },
   "outputs": [
    {
     "data": {
      "image/png": "[encoded data removed]",
      "text/plain": [
       "<matplotlib.figure.Figure at 0x7f9f141b9080>"
      ]
     },
     "metadata": {},
     "output_type": "display_data"
    }
   ],
   "source": [
    "plt.scatter(tips.tip, tips.total_bill, c=tips.sex.cat.codes)\n",
    "plt.show()"
   ]
  },
  {
   "cell_type": "code",
   "execution_count": 158,
   "metadata": {
    "collapsed": false
   },
   "outputs": [
    {
     "data": {
      "image/png": "[encoded data removed]",
      "text/plain": [
       "<matplotlib.figure.Figure at 0x7f9f14178cf8>"
      ]
     },
     "metadata": {},
     "output_type": "display_data"
    }
   ],
   "source": [
    "plt.scatter(tips.tip, tips.total_bill, c=np.array([\"red\", \"blue\"])[tips.sex.cat.codes])\n",
    "plt.show()"
   ]
  },
  {
   "cell_type": "markdown",
   "metadata": {},
   "source": [
    "# Index"
   ]
  },
  {
   "cell_type": "code",
   "execution_count": 159,
   "metadata": {
    "collapsed": false
   },
   "outputs": [
    {
     "data": {
      "text/plain": [
       "      A      B    C\n",
       "0  0.70  False    f\n",
       "1  0.29  False  NaN\n",
       "2  0.23   True    f\n",
       "3  0.55  False    m\n",
       "4  0.72   True    f"
      ]
     },
     "execution_count": 159,
     "metadata": {},
     "output_type": "execute_result"
    }
   ],
   "source": [
    "x"
   ]
  },
  {
   "cell_type": "code",
   "execution_count": 160,
   "metadata": {
    "collapsed": false
   },
   "outputs": [
    {
     "data": {
      "text/plain": [
       "RangeIndex(start=0, stop=5, step=1)"
      ]
     },
     "execution_count": 160,
     "metadata": {},
     "output_type": "execute_result"
    }
   ],
   "source": [
    "x.index"
   ]
  },
  {
   "cell_type": "code",
   "execution_count": 161,
   "metadata": {
    "collapsed": false
   },
   "outputs": [
    {
     "data": {
      "text/plain": [
       "Index(['A', 'B', 'C'], dtype='object')"
      ]
     },
     "execution_count": 161,
     "metadata": {},
     "output_type": "execute_result"
    }
   ],
   "source": [
    "x.columns"
   ]
  },
  {
   "cell_type": "code",
   "execution_count": 164,
   "metadata": {
    "collapsed": false
   },
   "outputs": [
    {
     "data": {
      "text/plain": [
       "RangeIndex(start=0, stop=5, step=1)"
      ]
     },
     "execution_count": 164,
     "metadata": {},
     "output_type": "execute_result"
    }
   ],
   "source": [
    "x.A.index # a Series object has one \"index\", inherited from data frame's .index"
   ]
  },
  {
   "cell_type": "code",
   "execution_count": 163,
   "metadata": {
    "collapsed": false
   },
   "outputs": [
    {
     "data": {
      "text/plain": [
       "0    0.70\n",
       "1    0.29\n",
       "2    0.23\n",
       "3    0.55\n",
       "4    0.72\n",
       "Name: A, dtype: float64"
      ]
     },
     "execution_count": 163,
     "metadata": {},
     "output_type": "execute_result"
    }
   ],
   "source": [
    "x.A"
   ]
  },
  {
   "cell_type": "code",
   "execution_count": 165,
   "metadata": {
    "collapsed": false
   },
   "outputs": [
    {
     "data": {
      "text/plain": [
       "          A      B    C\n",
       "Mary   0.70  False    f\n",
       "Mark   0.29  False  NaN\n",
       "John   0.23   True    f\n",
       "Radko  0.55  False    m\n",
       "Raul   0.72   True    f"
      ]
     },
     "execution_count": 165,
     "metadata": {},
     "output_type": "execute_result"
    }
   ],
   "source": [
    "x.index = pd.Index([\"Mary\", \"Mark\", \"John\", \"Radko\", \"Raul\"])\n",
    "x"
   ]
  },
  {
   "cell_type": "code",
   "execution_count": 166,
   "metadata": {
    "collapsed": false
   },
   "outputs": [
    {
     "data": {
      "text/plain": [
       "Index(['Mary', 'Mark', 'John', 'Radko', 'Raul'], dtype='object')"
      ]
     },
     "execution_count": 166,
     "metadata": {},
     "output_type": "execute_result"
    }
   ],
   "source": [
    "x.index"
   ]
  },
  {
   "cell_type": "code",
   "execution_count": 167,
   "metadata": {
    "collapsed": false
   },
   "outputs": [
    {
     "data": {
      "text/plain": [
       "Mary     0.70\n",
       "Mark     0.29\n",
       "John     0.23\n",
       "Radko    0.55\n",
       "Raul     0.72\n",
       "Name: A, dtype: float64"
      ]
     },
     "execution_count": 167,
     "metadata": {},
     "output_type": "execute_result"
    }
   ],
   "source": [
    "x.A"
   ]
  },
  {
   "cell_type": "code",
   "execution_count": 170,
   "metadata": {
    "collapsed": false
   },
   "outputs": [
    {
     "data": {
      "text/plain": [
       "      A      B    C\n",
       "1  0.70  False    f\n",
       "2  0.29  False  NaN\n",
       "3  0.23   True    f\n",
       "4  0.55  False    m\n",
       "5  0.72   True    f"
      ]
     },
     "execution_count": 170,
     "metadata": {},
     "output_type": "execute_result"
    }
   ],
   "source": [
    "x.set_index(np.r_[1,2,3,4,5]) # returns a copy"
   ]
  },
  {
   "cell_type": "code",
   "execution_count": 172,
   "metadata": {
    "collapsed": false
   },
   "outputs": [
    {
     "data": {
      "text/plain": [
       "   index     A      B    C\n",
       "0   Mary  0.70  False    f\n",
       "1   Mark  0.29  False  NaN\n",
       "2   John  0.23   True    f\n",
       "3  Radko  0.55  False    m\n",
       "4   Raul  0.72   True    f"
      ]
     },
     "execution_count": 172,
     "metadata": {},
     "output_type": "execute_result"
    }
   ],
   "source": [
    "x.reset_index()"
   ]
  },
  {
   "cell_type": "code",
   "execution_count": 173,
   "metadata": {
    "collapsed": false
   },
   "outputs": [
    {
     "data": {
      "text/plain": [
       "      A      B    C\n",
       "0  0.70  False    f\n",
       "1  0.29  False  NaN\n",
       "2  0.23   True    f\n",
       "3  0.55  False    m\n",
       "4  0.72   True    f"
      ]
     },
     "execution_count": 173,
     "metadata": {},
     "output_type": "execute_result"
    }
   ],
   "source": [
    "x.reset_index(drop=True)"
   ]
  },
  {
   "cell_type": "code",
   "execution_count": 175,
   "metadata": {
    "collapsed": false
   },
   "outputs": [
    {
     "data": {
      "text/plain": [
       "COLS      A      B    C\n",
       "ROWS                   \n",
       "Mary   0.70  False    f\n",
       "Mark   0.29  False  NaN\n",
       "John   0.23   True    f\n",
       "Radko  0.55  False    m\n",
       "Raul   0.72   True    f"
      ]
     },
     "execution_count": 175,
     "metadata": {},
     "output_type": "execute_result"
    }
   ],
   "source": [
    "# \"labels\" can be named\n",
    "x.index.name = \"ROWS\"\n",
    "x.columns.name = \"COLS\"\n",
    "x"
   ]
  },
  {
   "cell_type": "markdown",
   "metadata": {},
   "source": [
    "# Hierarchical Indexes"
   ]
  },
  {
   "cell_type": "code",
   "execution_count": 177,
   "metadata": {
    "collapsed": false
   },
   "outputs": [
    {
     "data": {
      "text/plain": [
       "      A\n",
       "0  0.70\n",
       "1  0.29\n",
       "2  0.23\n",
       "3  0.55\n",
       "4  0.72\n",
       "5  0.42"
      ]
     },
     "execution_count": 177,
     "metadata": {},
     "output_type": "execute_result"
    }
   ],
   "source": [
    "np.random.seed(123)\n",
    "y = pd.DataFrame({\"A\": np.round(np.random.uniform(0,1,6),2)})\n",
    "y"
   ]
  },
  {
   "cell_type": "code",
   "execution_count": 178,
   "metadata": {
    "collapsed": false
   },
   "outputs": [
    {
     "data": {
      "text/plain": [
       "               A\n",
       "top bottom      \n",
       "x   1       0.70\n",
       "    2       0.29\n",
       "    4       0.23\n",
       "y   1       0.55\n",
       "    2       0.72\n",
       "z   3       0.42"
      ]
     },
     "execution_count": 178,
     "metadata": {},
     "output_type": "execute_result"
    }
   ],
   "source": [
    "y.index = pd.MultiIndex(\n",
    "    names = [\"top\", \"bottom\"],\n",
    "    levels = [ [\"x\", \"y\", \"z\"], [1,2,3,4] ],\n",
    "    labels = [\n",
    "        [0,0,0,1,1,2],\n",
    "        [0,1,3,0,1,2]\n",
    "    ]\n",
    ")\n",
    "y"
   ]
  },
  {
   "cell_type": "code",
   "execution_count": 180,
   "metadata": {
    "collapsed": false
   },
   "outputs": [
    {
     "data": {
      "text/plain": [
       "                    total_bill       tip      size\n",
       "sex    smoker day                                 \n",
       "Female No     Fri    19.365000  3.125000  2.500000\n",
       "              Sat    19.003846  2.724615  2.307692\n",
       "              Sun    20.824286  3.329286  3.071429\n",
       "              Thur   16.014400  2.459600  2.480000\n",
       "       Yes    Fri    12.654286  2.682857  2.000000\n",
       "              Sat    20.266667  2.868667  2.200000\n",
       "              Sun    16.540000  3.500000  2.500000\n",
       "              Thur   19.218571  2.990000  2.428571\n",
       "Male   No     Fri    17.475000  2.500000  2.000000\n",
       "              Sat    19.929063  3.256563  2.656250\n",
       "              Sun    20.403256  3.115349  2.883721\n",
       "              Thur   18.486500  2.941500  2.500000\n",
       "       Yes    Fri    20.452500  2.741250  2.125000\n",
       "              Sat    21.837778  2.879259  2.629630\n",
       "              Sun    26.141333  3.521333  2.600000\n",
       "              Thur   19.171000  3.058000  2.300000"
      ]
     },
     "execution_count": 180,
     "metadata": {},
     "output_type": "execute_result"
    }
   ],
   "source": [
    "tips.groupby(['sex', 'smoker', 'day']).mean()"
   ]
  },
  {
   "cell_type": "code",
   "execution_count": 181,
   "metadata": {
    "collapsed": false
   },
   "outputs": [
    {
     "data": {
      "text/plain": [
       "       sex smoker   day  total_bill       tip      size\n",
       "0   Female     No   Fri   19.365000  3.125000  2.500000\n",
       "1   Female     No   Sat   19.003846  2.724615  2.307692\n",
       "2   Female     No   Sun   20.824286  3.329286  3.071429\n",
       "3   Female     No  Thur   16.014400  2.459600  2.480000\n",
       "4   Female    Yes   Fri   12.654286  2.682857  2.000000\n",
       "5   Female    Yes   Sat   20.266667  2.868667  2.200000\n",
       "6   Female    Yes   Sun   16.540000  3.500000  2.500000\n",
       "7   Female    Yes  Thur   19.218571  2.990000  2.428571\n",
       "8     Male     No   Fri   17.475000  2.500000  2.000000\n",
       "9     Male     No   Sat   19.929063  3.256563  2.656250\n",
       "10    Male     No   Sun   20.403256  3.115349  2.883721\n",
       "11    Male     No  Thur   18.486500  2.941500  2.500000\n",
       "12    Male    Yes   Fri   20.452500  2.741250  2.125000\n",
       "13    Male    Yes   Sat   21.837778  2.879259  2.629630\n",
       "14    Male    Yes   Sun   26.141333  3.521333  2.600000\n",
       "15    Male    Yes  Thur   19.171000  3.058000  2.300000"
      ]
     },
     "execution_count": 181,
     "metadata": {},
     "output_type": "execute_result"
    }
   ],
   "source": [
    "tips.groupby(['sex', 'smoker', 'day']).mean().reset_index()"
   ]
  },
  {
   "cell_type": "code",
   "execution_count": 182,
   "metadata": {
    "collapsed": false
   },
   "outputs": [
    {
     "data": {
      "text/plain": [
       "    year      month  passengers\n",
       "0   1949    January         112\n",
       "1   1949   February         118\n",
       "2   1949      March         132\n",
       "3   1949      April         129\n",
       "4   1949        May         121\n",
       "5   1949       June         135\n",
       "6   1949       July         148\n",
       "7   1949     August         148\n",
       "8   1949  September         136\n",
       "9   1949    October         119\n",
       "10  1949   November         104\n",
       "11  1949   December         118\n",
       "12  1950    January         115\n",
       "13  1950   February         126"
      ]
     },
     "execution_count": 182,
     "metadata": {},
     "output_type": "execute_result"
    }
   ],
   "source": [
    "flights = pd.read_csv(\"http://gagolewski.com/resources/data/flights.csv\", comment=\"#\")\n",
    "flights.head(14)"
   ]
  },
  {
   "cell_type": "code",
   "execution_count": 186,
   "metadata": {
    "collapsed": false
   },
   "outputs": [
    {
     "data": {
      "text/plain": [
       "                passengers\n",
       "year month                \n",
       "1949 January           112\n",
       "     February          118\n",
       "     March             132\n",
       "     April             129\n",
       "     May               121\n",
       "     June              135\n",
       "     July              148\n",
       "     August            148\n",
       "     September         136\n",
       "     October           119\n",
       "     November          104\n",
       "     December          118\n",
       "1950 January           115\n",
       "     February          126"
      ]
     },
     "execution_count": 186,
     "metadata": {},
     "output_type": "execute_result"
    }
   ],
   "source": [
    "flights.set_index(['year', 'month']).head(14)"
   ]
  },
  {
   "cell_type": "code",
   "execution_count": 185,
   "metadata": {
    "collapsed": false
   },
   "outputs": [
    {
     "data": {
      "text/plain": [
       "   year     month  passengers\n",
       "0  1949   January         112\n",
       "1  1949  February         118\n",
       "2  1949     March         132\n",
       "3  1949     April         129\n",
       "4  1949       May         121"
      ]
     },
     "execution_count": 185,
     "metadata": {},
     "output_type": "execute_result"
    }
   ],
   "source": [
    "flights.head()"
   ]
  },
  {
   "cell_type": "code",
   "execution_count": 187,
   "metadata": {
    "collapsed": true
   },
   "outputs": [],
   "source": [
    "# add column \"date\" - datetime64 (1949-01-whatever, ...)\n",
    "flights[\"date\"] = pd.to_datetime(\n",
    "    flights.month.astype('str') + \" \" + flights.year.astype('str')\n",
    ")\n",
    "# set the new column to be an \".index\"\n",
    "flights = flights.set_index('date')"
   ]
  },
  {
   "cell_type": "code",
   "execution_count": 188,
   "metadata": {
    "collapsed": false
   },
   "outputs": [
    {
     "data": {
      "text/plain": [
       "            year     month  passengers\n",
       "date                                  \n",
       "1949-01-01  1949   January         112\n",
       "1949-02-01  1949  February         118\n",
       "1949-03-01  1949     March         132\n",
       "1949-04-01  1949     April         129\n",
       "1949-05-01  1949       May         121"
      ]
     },
     "execution_count": 188,
     "metadata": {},
     "output_type": "execute_result"
    }
   ],
   "source": [
    "flights.head()"
   ]
  },
  {
   "cell_type": "code",
   "execution_count": 190,
   "metadata": {
    "collapsed": false
   },
   "outputs": [
    {
     "data": {
      "text/plain": [
       "<matplotlib.axes._subplots.AxesSubplot at 0x7f9f13e97be0>"
      ]
     },
     "execution_count": 190,
     "metadata": {},
     "output_type": "execute_result"
    },
    {
     "data": {
      "image/png": "[encoded data removed]",
      "text/plain": [
       "<matplotlib.figure.Figure at 0x7f9f13f04b00>"
      ]
     },
     "metadata": {},
     "output_type": "display_data"
    }
   ],
   "source": [
    "flights.passengers.plot()"
   ]
  },
  {
   "cell_type": "markdown",
   "metadata": {},
   "source": [
    "# FILTERING"
   ]
  },
  {
   "cell_type": "code",
   "execution_count": 191,
   "metadata": {
    "collapsed": true
   },
   "outputs": [],
   "source": [
    "np.random.seed(123)\n",
    "b = pd.Series(np.round(np.random.uniform(0,1,10),2))\n",
    "c = b.copy()\n",
    "c.index = [\"a\", \"b\", \"c\", \"d\", \"e\", \"f\", \"g\", \"h\", \"i\", \"j\"]\n",
    "b.index = np.random.permutation(np.r_[0:10])"
   ]
  },
  {
   "cell_type": "code",
   "execution_count": 192,
   "metadata": {
    "collapsed": false
   },
   "outputs": [
    {
     "data": {
      "text/plain": [
       "2    0.70\n",
       "1    0.29\n",
       "8    0.23\n",
       "7    0.55\n",
       "9    0.72\n",
       "4    0.42\n",
       "5    0.98\n",
       "6    0.68\n",
       "3    0.48\n",
       "0    0.39\n",
       "dtype: float64"
      ]
     },
     "execution_count": 192,
     "metadata": {},
     "output_type": "execute_result"
    }
   ],
   "source": [
    "b"
   ]
  },
  {
   "cell_type": "code",
   "execution_count": 193,
   "metadata": {
    "collapsed": false
   },
   "outputs": [
    {
     "data": {
      "text/plain": [
       "a    0.70\n",
       "b    0.29\n",
       "c    0.23\n",
       "d    0.55\n",
       "e    0.72\n",
       "f    0.42\n",
       "g    0.98\n",
       "h    0.68\n",
       "i    0.48\n",
       "j    0.39\n",
       "dtype: float64"
      ]
     },
     "execution_count": 193,
     "metadata": {},
     "output_type": "execute_result"
    }
   ],
   "source": [
    "c"
   ]
  },
  {
   "cell_type": "markdown",
   "metadata": {},
   "source": [
    "**Never write `b[...]` or `c[....]`**"
   ]
  },
  {
   "cell_type": "code",
   "execution_count": 194,
   "metadata": {
    "collapsed": false
   },
   "outputs": [
    {
     "data": {
      "text/plain": [
       "2    0.7\n",
       "dtype: float64"
      ]
     },
     "execution_count": 194,
     "metadata": {},
     "output_type": "execute_result"
    }
   ],
   "source": [
    "b[0:1]"
   ]
  },
  {
   "cell_type": "code",
   "execution_count": 195,
   "metadata": {
    "collapsed": false
   },
   "outputs": [
    {
     "data": {
      "text/plain": [
       "0.39000000000000001"
      ]
     },
     "execution_count": 195,
     "metadata": {},
     "output_type": "execute_result"
    }
   ],
   "source": [
    "b[0]"
   ]
  },
  {
   "cell_type": "code",
   "execution_count": 196,
   "metadata": {
    "collapsed": false
   },
   "outputs": [
    {
     "data": {
      "text/plain": [
       "0    0.39\n",
       "dtype: float64"
      ]
     },
     "execution_count": 196,
     "metadata": {},
     "output_type": "execute_result"
    }
   ],
   "source": [
    "b[ [0] ]"
   ]
  },
  {
   "cell_type": "code",
   "execution_count": 197,
   "metadata": {
    "collapsed": true
   },
   "outputs": [],
   "source": [
    "# b.iloc[...]  - positional\n",
    "# b.loc[...]   - label-based"
   ]
  },
  {
   "cell_type": "code",
   "execution_count": 198,
   "metadata": {
    "collapsed": false
   },
   "outputs": [
    {
     "data": {
      "text/plain": [
       "0.69999999999999996"
      ]
     },
     "execution_count": 198,
     "metadata": {},
     "output_type": "execute_result"
    }
   ],
   "source": [
    "b.iloc[0]"
   ]
  },
  {
   "cell_type": "code",
   "execution_count": 199,
   "metadata": {
    "collapsed": false
   },
   "outputs": [
    {
     "data": {
      "text/plain": [
       "0.39000000000000001"
      ]
     },
     "execution_count": 199,
     "metadata": {},
     "output_type": "execute_result"
    }
   ],
   "source": [
    "b.loc[0]"
   ]
  },
  {
   "cell_type": "code",
   "execution_count": 200,
   "metadata": {
    "collapsed": false
   },
   "outputs": [
    {
     "data": {
      "text/plain": [
       "0.69999999999999996"
      ]
     },
     "execution_count": 200,
     "metadata": {},
     "output_type": "execute_result"
    }
   ],
   "source": [
    "b.values[0]"
   ]
  },
  {
   "cell_type": "code",
   "execution_count": 202,
   "metadata": {
    "collapsed": false
   },
   "outputs": [
    {
     "data": {
      "text/plain": [
       "0.69999999999999996"
      ]
     },
     "execution_count": 202,
     "metadata": {},
     "output_type": "execute_result"
    }
   ],
   "source": [
    "c.loc[\"a\"]"
   ]
  },
  {
   "cell_type": "code",
   "execution_count": 203,
   "metadata": {
    "collapsed": false
   },
   "outputs": [
    {
     "data": {
      "text/plain": [
       "0.69999999999999996"
      ]
     },
     "execution_count": 203,
     "metadata": {},
     "output_type": "execute_result"
    }
   ],
   "source": [
    "c.iloc[0]"
   ]
  },
  {
   "cell_type": "code",
   "execution_count": 204,
   "metadata": {
    "collapsed": false
   },
   "outputs": [
    {
     "data": {
      "text/plain": [
       "a    0.70\n",
       "b    0.29\n",
       "c    0.23\n",
       "d    0.55\n",
       "dtype: float64"
      ]
     },
     "execution_count": 204,
     "metadata": {},
     "output_type": "execute_result"
    }
   ],
   "source": [
    "c.loc[ \"a\":\"d\"] # inclusive"
   ]
  },
  {
   "cell_type": "code",
   "execution_count": 205,
   "metadata": {
    "collapsed": false
   },
   "outputs": [
    {
     "data": {
      "text/plain": [
       "2    0.70\n",
       "1    0.29\n",
       "8    0.23\n",
       "7    0.55\n",
       "dtype: float64"
      ]
     },
     "execution_count": 205,
     "metadata": {},
     "output_type": "execute_result"
    }
   ],
   "source": [
    "b.loc[2:7]"
   ]
  },
  {
   "cell_type": "code",
   "execution_count": 207,
   "metadata": {
    "collapsed": false
   },
   "outputs": [
    {
     "data": {
      "text/plain": [
       "7    0.55\n",
       "8    0.23\n",
       "1    0.29\n",
       "2    0.70\n",
       "dtype: float64"
      ]
     },
     "execution_count": 207,
     "metadata": {},
     "output_type": "execute_result"
    }
   ],
   "source": [
    "b.loc[7:2:-1]"
   ]
  },
  {
   "cell_type": "code",
   "execution_count": 208,
   "metadata": {
    "collapsed": false
   },
   "outputs": [
    {
     "data": {
      "text/plain": [
       "9    0.72\n",
       "5    0.98\n",
       "dtype: float64"
      ]
     },
     "execution_count": 208,
     "metadata": {},
     "output_type": "execute_result"
    }
   ],
   "source": [
    "b.loc[ b > 0.7 ]"
   ]
  },
  {
   "cell_type": "code",
   "execution_count": 209,
   "metadata": {
    "collapsed": false
   },
   "outputs": [
    {
     "data": {
      "text/plain": [
       "1    0.29\n",
       "2    0.70\n",
       "3    0.48\n",
       "dtype: float64"
      ]
     },
     "execution_count": 209,
     "metadata": {},
     "output_type": "execute_result"
    }
   ],
   "source": [
    "b.loc[ [1,2,3]]"
   ]
  },
  {
   "cell_type": "code",
   "execution_count": 212,
   "metadata": {
    "collapsed": false
   },
   "outputs": [
    {
     "data": {
      "text/plain": [
       "                        Name\n",
       "BirthDate                   \n",
       "2000-06-12    Hung Hyun-Seok\n",
       "1918-12-31  Benno Blumenthal\n",
       "1958-06-26  Paitoon Ornwimol\n",
       "1947-07-10    P'yon Yong-Sun\n",
       "1983-09-04    Étienne Chaney"
      ]
     },
     "execution_count": 212,
     "metadata": {},
     "output_type": "execute_result"
    }
   ],
   "source": [
    "birth_dates = birth_dates.set_index('BirthDate')\n",
    "birth_dates.head()"
   ]
  },
  {
   "cell_type": "code",
   "execution_count": 213,
   "metadata": {
    "collapsed": false
   },
   "outputs": [
    {
     "data": {
      "text/plain": [
       "BirthDate\n",
       "1918-12-31      Benno Blumenthal\n",
       "1921-12-19         Nedeljko Bukv\n",
       "1923-03-30    Gordan Mislopoljac\n",
       "1921-06-11      Eufebio Mascioli\n",
       "1924-07-31         Sawa Mobumasu\n",
       "1922-10-11       Nishioka Nissho\n",
       "Name: Name, dtype: object"
      ]
     },
     "execution_count": 213,
     "metadata": {},
     "output_type": "execute_result"
    }
   ],
   "source": [
    "birth_dates.Name.loc[\"1918-12-31\":\"1925-01-01\"]"
   ]
  },
  {
   "cell_type": "code",
   "execution_count": 214,
   "metadata": {
    "collapsed": false
   },
   "outputs": [
    {
     "data": {
      "text/plain": [
       "BirthDate\n",
       "1918-12-31      Benno Blumenthal\n",
       "1921-12-19         Nedeljko Bukv\n",
       "1923-03-30    Gordan Mislopoljac\n",
       "1921-06-11      Eufebio Mascioli\n",
       "1925-03-09         Onesto Nocera\n",
       "1924-07-31         Sawa Mobumasu\n",
       "1922-10-11       Nishioka Nissho\n",
       "Name: Name, dtype: object"
      ]
     },
     "execution_count": 214,
     "metadata": {},
     "output_type": "execute_result"
    }
   ],
   "source": [
    "birth_dates.Name.loc[\"1918\":\"1925\"]"
   ]
  },
  {
   "cell_type": "code",
   "execution_count": 215,
   "metadata": {
    "collapsed": true
   },
   "outputs": [],
   "source": [
    "today = \"2016-02-29\" # arbitrary day\n",
    "age   = 16 \n",
    "# select names of people from birth_dates \n",
    "# and aged >= `age` as of `today`"
   ]
  },
  {
   "cell_type": "code",
   "execution_count": 216,
   "metadata": {
    "collapsed": true
   },
   "outputs": [],
   "source": [
    "# datetime.timedelta\n"
   ]
  },
  {
   "cell_type": "code",
   "execution_count": 219,
   "metadata": {
    "collapsed": false
   },
   "outputs": [
    {
     "data": {
      "text/plain": [
       "(102,)"
      ]
     },
     "execution_count": 219,
     "metadata": {},
     "output_type": "execute_result"
    }
   ],
   "source": [
    "import pandas.tseries.offsets\n",
    "w = pd.to_datetime(today)-pandas.tseries.offsets.DateOffset(years=age)\n",
    "birth_dates.Name.iloc[ birth_dates.index <= w].shape"
   ]
  },
  {
   "cell_type": "code",
   "execution_count": 220,
   "metadata": {
    "collapsed": false
   },
   "outputs": [
    {
     "data": {
      "text/plain": [
       "Timestamp('2000-02-29 00:00:00')"
      ]
     },
     "execution_count": 220,
     "metadata": {},
     "output_type": "execute_result"
    }
   ],
   "source": [
    "w"
   ]
  },
  {
   "cell_type": "code",
   "execution_count": 221,
   "metadata": {
    "collapsed": false
   },
   "outputs": [
    {
     "data": {
      "text/plain": [
       "               passengers\n",
       "year month               \n",
       "1949 January          112\n",
       "     February         118\n",
       "     March            132\n",
       "     April            129\n",
       "     May              121"
      ]
     },
     "execution_count": 221,
     "metadata": {},
     "output_type": "execute_result"
    }
   ],
   "source": [
    "flights2 = flights.reset_index(drop=True).set_index(['year', 'month'])\n",
    "flights2.head()"
   ]
  },
  {
   "cell_type": "code",
   "execution_count": 222,
   "metadata": {
    "collapsed": false
   },
   "outputs": [
    {
     "data": {
      "text/plain": [
       "passengers    132\n",
       "Name: (1949, March), dtype: int64"
      ]
     },
     "execution_count": 222,
     "metadata": {},
     "output_type": "execute_result"
    }
   ],
   "source": [
    "flights2.iloc[2]"
   ]
  },
  {
   "cell_type": "code",
   "execution_count": 223,
   "metadata": {
    "collapsed": false
   },
   "outputs": [
    {
     "data": {
      "text/plain": [
       "            passengers\n",
       "year month            \n",
       "1949 March         132\n",
       "     April         129\n",
       "     May           121"
      ]
     },
     "execution_count": 223,
     "metadata": {},
     "output_type": "execute_result"
    }
   ],
   "source": [
    "flights2.iloc[2:5]"
   ]
  },
  {
   "cell_type": "code",
   "execution_count": 224,
   "metadata": {
    "collapsed": false
   },
   "outputs": [
    {
     "data": {
      "text/plain": [
       "           passengers\n",
       "month                \n",
       "January           112\n",
       "February          118\n",
       "March             132\n",
       "April             129\n",
       "May               121\n",
       "June              135\n",
       "July              148\n",
       "August            148\n",
       "September         136\n",
       "October           119\n",
       "November          104\n",
       "December          118"
      ]
     },
     "execution_count": 224,
     "metadata": {},
     "output_type": "execute_result"
    }
   ],
   "source": [
    "flights2.loc[1949]"
   ]
  },
  {
   "cell_type": "code",
   "execution_count": 226,
   "metadata": {
    "collapsed": false
   },
   "outputs": [
    {
     "data": {
      "text/plain": [
       "                passengers\n",
       "year month                \n",
       "1949 January           112\n",
       "     February          118\n",
       "     March             132\n",
       "     April             129\n",
       "     May               121\n",
       "     June              135\n",
       "     July              148\n",
       "     August            148\n",
       "     September         136\n",
       "     October           119\n",
       "     November          104\n",
       "     December          118\n",
       "1959 January           360\n",
       "     February          342\n",
       "     March             406\n",
       "     April             396\n",
       "     May               420\n",
       "     June              472\n",
       "     July              548\n",
       "     August            559\n",
       "     September         463\n",
       "     October           407\n",
       "     November          362\n",
       "     December          405"
      ]
     },
     "execution_count": 226,
     "metadata": {},
     "output_type": "execute_result"
    }
   ],
   "source": [
    "flights2.loc[[1949,1959]]"
   ]
  },
  {
   "cell_type": "code",
   "execution_count": 231,
   "metadata": {
    "collapsed": false
   },
   "outputs": [
    {
     "data": {
      "text/plain": [
       "year\n",
       "1949    112\n",
       "1950    115\n",
       "1951    145\n",
       "1952    171\n",
       "1953    196\n",
       "1954    204\n",
       "1955    242\n",
       "1956    284\n",
       "1957    315\n",
       "1958    340\n",
       "1959    360\n",
       "1960    417\n",
       "Name: passengers, dtype: int64"
      ]
     },
     "execution_count": 231,
     "metadata": {},
     "output_type": "execute_result"
    }
   ],
   "source": [
    "flights2.passengers.loc[:,\"January\"]"
   ]
  },
  {
   "cell_type": "code",
   "execution_count": 232,
   "metadata": {
    "collapsed": false
   },
   "outputs": [
    {
     "data": {
      "text/plain": [
       "year  month  \n",
       "1949  January    112\n",
       "1954  March      235\n",
       "Name: passengers, dtype: int64"
      ]
     },
     "execution_count": 232,
     "metadata": {},
     "output_type": "execute_result"
    }
   ],
   "source": [
    "flights2.passengers.loc[ [(1949, \"January\"), (1954, \"March\")]]"
   ]
  },
  {
   "cell_type": "code",
   "execution_count": 233,
   "metadata": {
    "collapsed": false
   },
   "outputs": [
    {
     "data": {
      "text/plain": [
       "COLS      A      B    C\n",
       "ROWS                   \n",
       "Mary   0.70  False    f\n",
       "Mark   0.29  False  NaN\n",
       "John   0.23   True    f\n",
       "Radko  0.55  False    m\n",
       "Raul   0.72   True    f"
      ]
     },
     "execution_count": 233,
     "metadata": {},
     "output_type": "execute_result"
    }
   ],
   "source": [
    "x"
   ]
  },
  {
   "cell_type": "code",
   "execution_count": 234,
   "metadata": {
    "collapsed": false
   },
   "outputs": [
    {
     "data": {
      "text/plain": [
       "'f'"
      ]
     },
     "execution_count": 234,
     "metadata": {},
     "output_type": "execute_result"
    }
   ],
   "source": [
    "x.iloc[2,2]"
   ]
  },
  {
   "cell_type": "code",
   "execution_count": 235,
   "metadata": {
    "collapsed": false
   },
   "outputs": [
    {
     "data": {
      "text/plain": [
       "COLS      A      B    C\n",
       "ROWS                   \n",
       "Mark   0.29  False  NaN\n",
       "Radko  0.55  False    m"
      ]
     },
     "execution_count": 235,
     "metadata": {},
     "output_type": "execute_result"
    }
   ],
   "source": [
    "x.iloc[[1,3], :]"
   ]
  },
  {
   "cell_type": "code",
   "execution_count": 236,
   "metadata": {
    "collapsed": false
   },
   "outputs": [
    {
     "data": {
      "text/plain": [
       "COLS      A    C\n",
       "ROWS            \n",
       "Mark   0.29  NaN\n",
       "Radko  0.55    m"
      ]
     },
     "execution_count": 236,
     "metadata": {},
     "output_type": "execute_result"
    }
   ],
   "source": [
    "x.iloc[[1,3], :].loc[:,[\"A\", \"C\"]]"
   ]
  },
  {
   "cell_type": "code",
   "execution_count": 238,
   "metadata": {
    "collapsed": false
   },
   "outputs": [
    {
     "data": {
      "text/plain": [
       "COLS      A      B  C\n",
       "ROWS                 \n",
       "Mary   0.70  False  f\n",
       "Radko  0.55  False  m\n",
       "Raul   0.72   True  f"
      ]
     },
     "execution_count": 238,
     "metadata": {},
     "output_type": "execute_result"
    }
   ],
   "source": [
    "x.loc[x.A>0.5,:]"
   ]
  },
  {
   "cell_type": "code",
   "execution_count": 239,
   "metadata": {
    "collapsed": false
   },
   "outputs": [
    {
     "data": {
      "text/plain": [
       "   total_bill   tip     sex smoker  day    time  size\n",
       "0       16.99  1.01  Female     No  Sun  Dinner     2\n",
       "1       10.34  1.66    Male     No  Sun  Dinner     3\n",
       "2       21.01  3.50    Male     No  Sun  Dinner     3\n",
       "3       23.68  3.31    Male     No  Sun  Dinner     2\n",
       "4       24.59  3.61  Female     No  Sun  Dinner     4"
      ]
     },
     "execution_count": 239,
     "metadata": {},
     "output_type": "execute_result"
    }
   ],
   "source": [
    "tips.head()"
   ]
  },
  {
   "cell_type": "markdown",
   "metadata": {},
   "source": [
    "\n",
    "1. get data on male customers only\n",
    "2. choose male customers with total_bill in \\$[10,20] \n",
    "3. choose Sat and Sun with tip > \\$5\n",
    "4. partition tips: create 2 df: tips_train (80%) and tips_test (20% rows)\n"
   ]
  },
  {
   "cell_type": "code",
   "execution_count": 240,
   "metadata": {
    "collapsed": true
   },
   "outputs": [],
   "source": [
    "#tips.loc[row_selector,column_selector]\n",
    "#tips.iloc[row_selector,column_selector]\n",
    "#row_selector can be a bool vector"
   ]
  },
  {
   "cell_type": "code",
   "execution_count": 242,
   "metadata": {
    "collapsed": false
   },
   "outputs": [
    {
     "data": {
      "text/plain": [
       "(157, 7)"
      ]
     },
     "execution_count": 242,
     "metadata": {},
     "output_type": "execute_result"
    }
   ],
   "source": [
    "tips.loc[tips.sex == 'Male',:].shape"
   ]
  },
  {
   "cell_type": "code",
   "execution_count": 260,
   "metadata": {
    "collapsed": false
   },
   "outputs": [],
   "source": [
    "#tips.iloc[tips.sex == 'Male',:] doesn't work"
   ]
  },
  {
   "cell_type": "code",
   "execution_count": 263,
   "metadata": {
    "collapsed": false
   },
   "outputs": [],
   "source": [
    "#tips[tips.sex.values == \"Male\",:] doesn't work"
   ]
  },
  {
   "cell_type": "code",
   "execution_count": 248,
   "metadata": {
    "collapsed": false
   },
   "outputs": [
    {
     "data": {
      "text/plain": [
       "((157, 7), (157, 7))"
      ]
     },
     "execution_count": 248,
     "metadata": {},
     "output_type": "execute_result"
    }
   ],
   "source": [
    "tips.loc[tips.sex.values == \"Male\",:].shape, \\\n",
    "tips.iloc[tips.sex.values == \"Male\",:].shape"
   ]
  },
  {
   "cell_type": "code",
   "execution_count": 249,
   "metadata": {
    "collapsed": false
   },
   "outputs": [
    {
     "data": {
      "text/plain": [
       "COLS      A      B    C\n",
       "ROWS                   \n",
       "Mary   0.70  False    f\n",
       "Mark   0.29  False  NaN\n",
       "John   0.23   True    f\n",
       "Radko  0.55  False    m\n",
       "Raul   0.72   True    f"
      ]
     },
     "execution_count": 249,
     "metadata": {},
     "output_type": "execute_result"
    }
   ],
   "source": [
    "x"
   ]
  },
  {
   "cell_type": "code",
   "execution_count": 251,
   "metadata": {
    "collapsed": false
   },
   "outputs": [
    {
     "data": {
      "text/plain": [
       "ROWS\n",
       "Mary      True\n",
       "Mark     False\n",
       "John     False\n",
       "Radko     True\n",
       "Raul      True\n",
       "Name: A, dtype: bool"
      ]
     },
     "execution_count": 251,
     "metadata": {},
     "output_type": "execute_result"
    }
   ],
   "source": [
    "x.A > 0.5"
   ]
  },
  {
   "cell_type": "code",
   "execution_count": 253,
   "metadata": {
    "collapsed": false
   },
   "outputs": [
    {
     "data": {
      "text/plain": [
       "COLS      A      B  C\n",
       "ROWS                 \n",
       "Mary   0.70  False  f\n",
       "Radko  0.55  False  m\n",
       "Raul   0.72   True  f"
      ]
     },
     "execution_count": 253,
     "metadata": {},
     "output_type": "execute_result"
    }
   ],
   "source": [
    "x.loc[x.A>0.5,:]"
   ]
  },
  {
   "cell_type": "code",
   "execution_count": 254,
   "metadata": {
    "collapsed": false
   },
   "outputs": [
    {
     "data": {
      "text/plain": [
       "COLS      A      B  C\n",
       "ROWS                 \n",
       "Mary   0.70  False  f\n",
       "Radko  0.55  False  m\n",
       "Raul   0.72   True  f"
      ]
     },
     "execution_count": 254,
     "metadata": {},
     "output_type": "execute_result"
    }
   ],
   "source": [
    "x.loc[(x.A>0.5).sample(frac=1.0),:]"
   ]
  },
  {
   "cell_type": "code",
   "execution_count": 258,
   "metadata": {
    "collapsed": false
   },
   "outputs": [
    {
     "data": {
      "text/plain": [
       "ROWS\n",
       "Radko    True\n",
       "Mary     True\n",
       "Raul     True\n",
       "Name: A, dtype: bool"
      ]
     },
     "execution_count": 258,
     "metadata": {},
     "output_type": "execute_result"
    }
   ],
   "source": [
    "u = (x.A>0.5).sample(frac=1.0)\n",
    "u = u.loc[u]\n",
    "u"
   ]
  },
  {
   "cell_type": "code",
   "execution_count": 259,
   "metadata": {
    "collapsed": false
   },
   "outputs": [
    {
     "ename": "IndexingError",
     "evalue": "Unalignable boolean Series provided as indexer (index of the boolean Series and of the indexed object do not match",
     "output_type": "error",
     "traceback": [
      "\u001b[0;31m---------------------------------------------------------------------------\u001b[0m",
      "\u001b[0;31mIndexingError\u001b[0m                             Traceback (most recent call last)",
      "\u001b[0;32m<ipython-input-259-8869da195891>\u001b[0m in \u001b[0;36m<module>\u001b[0;34m()\u001b[0m\n\u001b[0;32m----> 1\u001b[0;31m \u001b[0mx\u001b[0m\u001b[0;34m.\u001b[0m\u001b[0mloc\u001b[0m\u001b[0;34m[\u001b[0m\u001b[0mu\u001b[0m\u001b[0;34m,\u001b[0m\u001b[0;34m:\u001b[0m\u001b[0;34m]\u001b[0m\u001b[0;34m\u001b[0m\u001b[0m\n\u001b[0m",
      "\u001b[0;32m/opt/anaconda3/lib/python3.5/site-packages/pandas/core/indexing.py\u001b[0m in \u001b[0;36m__getitem__\u001b[0;34m(self, key)\u001b[0m\n\u001b[1;32m   1365\u001b[0m             \u001b[0;32mexcept\u001b[0m \u001b[0;34m(\u001b[0m\u001b[0mKeyError\u001b[0m\u001b[0;34m,\u001b[0m \u001b[0mIndexError\u001b[0m\u001b[0;34m)\u001b[0m\u001b[0;34m:\u001b[0m\u001b[0;34m\u001b[0m\u001b[0m\n\u001b[1;32m   1366\u001b[0m                 \u001b[0;32mpass\u001b[0m\u001b[0;34m\u001b[0m\u001b[0m\n\u001b[0;32m-> 1367\u001b[0;31m             \u001b[0;32mreturn\u001b[0m \u001b[0mself\u001b[0m\u001b[0;34m.\u001b[0m\u001b[0m_getitem_tuple\u001b[0m\u001b[0;34m(\u001b[0m\u001b[0mkey\u001b[0m\u001b[0;34m)\u001b[0m\u001b[0;34m\u001b[0m\u001b[0m\n\u001b[0m\u001b[1;32m   1368\u001b[0m         \u001b[0;32melse\u001b[0m\u001b[0;34m:\u001b[0m\u001b[0;34m\u001b[0m\u001b[0m\n\u001b[1;32m   1369\u001b[0m             \u001b[0;31m# we by definition only have the 0th axis\u001b[0m\u001b[0;34m\u001b[0m\u001b[0;34m\u001b[0m\u001b[0m\n",
      "\u001b[0;32m/opt/anaconda3/lib/python3.5/site-packages/pandas/core/indexing.py\u001b[0m in \u001b[0;36m_getitem_tuple\u001b[0;34m(self, tup)\u001b[0m\n\u001b[1;32m    876\u001b[0m                 \u001b[0;32mcontinue\u001b[0m\u001b[0;34m\u001b[0m\u001b[0m\n\u001b[1;32m    877\u001b[0m \u001b[0;34m\u001b[0m\u001b[0m\n\u001b[0;32m--> 878\u001b[0;31m             \u001b[0mretval\u001b[0m \u001b[0;34m=\u001b[0m \u001b[0mgetattr\u001b[0m\u001b[0;34m(\u001b[0m\u001b[0mretval\u001b[0m\u001b[0;34m,\u001b[0m \u001b[0mself\u001b[0m\u001b[0;34m.\u001b[0m\u001b[0mname\u001b[0m\u001b[0;34m)\u001b[0m\u001b[0;34m.\u001b[0m\u001b[0m_getitem_axis\u001b[0m\u001b[0;34m(\u001b[0m\u001b[0mkey\u001b[0m\u001b[0;34m,\u001b[0m \u001b[0maxis\u001b[0m\u001b[0;34m=\u001b[0m\u001b[0mi\u001b[0m\u001b[0;34m)\u001b[0m\u001b[0;34m\u001b[0m\u001b[0m\n\u001b[0m\u001b[1;32m    879\u001b[0m \u001b[0;34m\u001b[0m\u001b[0m\n\u001b[1;32m    880\u001b[0m         \u001b[0;32mreturn\u001b[0m \u001b[0mretval\u001b[0m\u001b[0;34m\u001b[0m\u001b[0m\n",
      "\u001b[0;32m/opt/anaconda3/lib/python3.5/site-packages/pandas/core/indexing.py\u001b[0m in \u001b[0;36m_getitem_axis\u001b[0;34m(self, key, axis)\u001b[0m\n\u001b[1;32m   1581\u001b[0m             \u001b[0;32mreturn\u001b[0m \u001b[0mself\u001b[0m\u001b[0;34m.\u001b[0m\u001b[0m_get_slice_axis\u001b[0m\u001b[0;34m(\u001b[0m\u001b[0mkey\u001b[0m\u001b[0;34m,\u001b[0m \u001b[0maxis\u001b[0m\u001b[0;34m=\u001b[0m\u001b[0maxis\u001b[0m\u001b[0;34m)\u001b[0m\u001b[0;34m\u001b[0m\u001b[0m\n\u001b[1;32m   1582\u001b[0m         \u001b[0;32melif\u001b[0m \u001b[0mis_bool_indexer\u001b[0m\u001b[0;34m(\u001b[0m\u001b[0mkey\u001b[0m\u001b[0;34m)\u001b[0m\u001b[0;34m:\u001b[0m\u001b[0;34m\u001b[0m\u001b[0m\n\u001b[0;32m-> 1583\u001b[0;31m             \u001b[0;32mreturn\u001b[0m \u001b[0mself\u001b[0m\u001b[0;34m.\u001b[0m\u001b[0m_getbool_axis\u001b[0m\u001b[0;34m(\u001b[0m\u001b[0mkey\u001b[0m\u001b[0;34m,\u001b[0m \u001b[0maxis\u001b[0m\u001b[0;34m=\u001b[0m\u001b[0maxis\u001b[0m\u001b[0;34m)\u001b[0m\u001b[0;34m\u001b[0m\u001b[0m\n\u001b[0m\u001b[1;32m   1584\u001b[0m         \u001b[0;32melif\u001b[0m \u001b[0mis_list_like_indexer\u001b[0m\u001b[0;34m(\u001b[0m\u001b[0mkey\u001b[0m\u001b[0;34m)\u001b[0m\u001b[0;34m:\u001b[0m\u001b[0;34m\u001b[0m\u001b[0m\n\u001b[1;32m   1585\u001b[0m \u001b[0;34m\u001b[0m\u001b[0m\n",
      "\u001b[0;32m/opt/anaconda3/lib/python3.5/site-packages/pandas/core/indexing.py\u001b[0m in \u001b[0;36m_getbool_axis\u001b[0;34m(self, key, axis)\u001b[0m\n\u001b[1;32m   1386\u001b[0m             \u001b[0maxis\u001b[0m \u001b[0;34m=\u001b[0m \u001b[0mself\u001b[0m\u001b[0;34m.\u001b[0m\u001b[0maxis\u001b[0m \u001b[0;32mor\u001b[0m \u001b[0;36m0\u001b[0m\u001b[0;34m\u001b[0m\u001b[0m\n\u001b[1;32m   1387\u001b[0m         \u001b[0mlabels\u001b[0m \u001b[0;34m=\u001b[0m \u001b[0mself\u001b[0m\u001b[0;34m.\u001b[0m\u001b[0mobj\u001b[0m\u001b[0;34m.\u001b[0m\u001b[0m_get_axis\u001b[0m\u001b[0;34m(\u001b[0m\u001b[0maxis\u001b[0m\u001b[0;34m)\u001b[0m\u001b[0;34m\u001b[0m\u001b[0m\n\u001b[0;32m-> 1388\u001b[0;31m         \u001b[0mkey\u001b[0m \u001b[0;34m=\u001b[0m \u001b[0mcheck_bool_indexer\u001b[0m\u001b[0;34m(\u001b[0m\u001b[0mlabels\u001b[0m\u001b[0;34m,\u001b[0m \u001b[0mkey\u001b[0m\u001b[0;34m)\u001b[0m\u001b[0;34m\u001b[0m\u001b[0m\n\u001b[0m\u001b[1;32m   1389\u001b[0m         \u001b[0minds\u001b[0m\u001b[0;34m,\u001b[0m \u001b[0;34m=\u001b[0m \u001b[0mkey\u001b[0m\u001b[0;34m.\u001b[0m\u001b[0mnonzero\u001b[0m\u001b[0;34m(\u001b[0m\u001b[0;34m)\u001b[0m\u001b[0;34m\u001b[0m\u001b[0m\n\u001b[1;32m   1390\u001b[0m         \u001b[0;32mtry\u001b[0m\u001b[0;34m:\u001b[0m\u001b[0;34m\u001b[0m\u001b[0m\n",
      "\u001b[0;32m/opt/anaconda3/lib/python3.5/site-packages/pandas/core/indexing.py\u001b[0m in \u001b[0;36mcheck_bool_indexer\u001b[0;34m(ax, key)\u001b[0m\n\u001b[1;32m   2021\u001b[0m         \u001b[0mmask\u001b[0m \u001b[0;34m=\u001b[0m \u001b[0misna\u001b[0m\u001b[0;34m(\u001b[0m\u001b[0mresult\u001b[0m\u001b[0;34m.\u001b[0m\u001b[0m_values\u001b[0m\u001b[0;34m)\u001b[0m\u001b[0;34m\u001b[0m\u001b[0m\n\u001b[1;32m   2022\u001b[0m         \u001b[0;32mif\u001b[0m \u001b[0mmask\u001b[0m\u001b[0;34m.\u001b[0m\u001b[0many\u001b[0m\u001b[0;34m(\u001b[0m\u001b[0;34m)\u001b[0m\u001b[0;34m:\u001b[0m\u001b[0;34m\u001b[0m\u001b[0m\n\u001b[0;32m-> 2023\u001b[0;31m             raise IndexingError('Unalignable boolean Series provided as '\n\u001b[0m\u001b[1;32m   2024\u001b[0m                                 \u001b[0;34m'indexer (index of the boolean Series and of '\u001b[0m\u001b[0;34m\u001b[0m\u001b[0m\n\u001b[1;32m   2025\u001b[0m                                 'the indexed object do not match')\n",
      "\u001b[0;31mIndexingError\u001b[0m: Unalignable boolean Series provided as indexer (index of the boolean Series and of the indexed object do not match"
     ]
    }
   ],
   "source": [
    "x.loc[u,:]"
   ]
  },
  {
   "cell_type": "code",
   "execution_count": 265,
   "metadata": {
    "collapsed": false
   },
   "outputs": [
    {
     "data": {
      "text/plain": [
       "(157, 7)"
      ]
     },
     "execution_count": 265,
     "metadata": {},
     "output_type": "execute_result"
    }
   ],
   "source": [
    "tips.set_index('sex').loc['Male',:].reset_index().shape"
   ]
  },
  {
   "cell_type": "code",
   "execution_count": 266,
   "metadata": {
    "collapsed": false
   },
   "outputs": [
    {
     "data": {
      "text/plain": [
       "(157, 7)"
      ]
     },
     "execution_count": 266,
     "metadata": {},
     "output_type": "execute_result"
    }
   ],
   "source": [
    "tips.query(\"sex == 'Male'\").shape"
   ]
  },
  {
   "cell_type": "code",
   "execution_count": 269,
   "metadata": {
    "collapsed": false
   },
   "outputs": [
    {
     "data": {
      "text/plain": [
       "(76, 7)"
      ]
     },
     "execution_count": 269,
     "metadata": {},
     "output_type": "execute_result"
    }
   ],
   "source": [
    "tips.query('10 <= total_bill <= 20 and sex == \"Male\"').shape"
   ]
  },
  {
   "cell_type": "code",
   "execution_count": 270,
   "metadata": {
    "collapsed": false
   },
   "outputs": [
    {
     "data": {
      "text/plain": [
       "(76, 7)"
      ]
     },
     "execution_count": 270,
     "metadata": {},
     "output_type": "execute_result"
    }
   ],
   "source": [
    "tips.loc[(tips.sex=='Male') & (tips.total_bill>=10) & (tips.total_bill<=20),:].shape"
   ]
  },
  {
   "cell_type": "code",
   "execution_count": 272,
   "metadata": {
    "collapsed": false
   },
   "outputs": [
    {
     "data": {
      "text/plain": [
       "(76, 7)"
      ]
     },
     "execution_count": 272,
     "metadata": {},
     "output_type": "execute_result"
    }
   ],
   "source": [
    "tips.loc[(tips.sex=='Male') & (tips.total_bill.between(10,20)),:].shape"
   ]
  },
  {
   "cell_type": "code",
   "execution_count": 273,
   "metadata": {
    "collapsed": false
   },
   "outputs": [
    {
     "data": {
      "text/plain": [
       "(15, 7)"
      ]
     },
     "execution_count": 273,
     "metadata": {},
     "output_type": "execute_result"
    }
   ],
   "source": [
    "tips.query('day in [\"Sat\", \"Sun\"] and tip > 5').shape"
   ]
  },
  {
   "cell_type": "code",
   "execution_count": 274,
   "metadata": {
    "collapsed": false
   },
   "outputs": [
    {
     "data": {
      "text/plain": [
       "(15, 7)"
      ]
     },
     "execution_count": 274,
     "metadata": {},
     "output_type": "execute_result"
    }
   ],
   "source": [
    "tips.loc[(tips.tip>5) & ((tips.day == \"Sat\") | (tips.day == \"Sun\")),:].shape"
   ]
  },
  {
   "cell_type": "code",
   "execution_count": 275,
   "metadata": {
    "collapsed": false
   },
   "outputs": [
    {
     "data": {
      "text/plain": [
       "(15, 7)"
      ]
     },
     "execution_count": 275,
     "metadata": {},
     "output_type": "execute_result"
    }
   ],
   "source": [
    "tips.loc[(tips.tip>5) & (tips.day.isin([\"Sat\", \"Sun\"])),:].shape"
   ]
  },
  {
   "cell_type": "code",
   "execution_count": 276,
   "metadata": {
    "collapsed": true
   },
   "outputs": [],
   "source": [
    "# partition\n",
    "n = len(tips)\n",
    "k = (8*n)//10\n",
    "i = np.random.permutation(np.r_[[True]*k, [False]*(n-k)])\n",
    "tips_train = tips.iloc[i,:]\n",
    "tips_tips = tips.iloc[~i,:]"
   ]
  },
  {
   "cell_type": "code",
   "execution_count": 277,
   "metadata": {
    "collapsed": true
   },
   "outputs": [],
   "source": [
    "# sklearn train_test_split...\n",
    "# random permutation of indexes - select (k) and (n-k)\n",
    "tips2 = tips.sample(frac=1.0)\n",
    "tips_train = tips.iloc[0:k,:]\n",
    "tips_test = tips.iloc[k:,:]"
   ]
  },
  {
   "cell_type": "code",
   "execution_count": 279,
   "metadata": {
    "collapsed": false
   },
   "outputs": [],
   "source": [
    "tips_train = tips.sample(frac=0.8)\n",
    "tips_test = tips.loc[~tips.index.isin(tips_train.index),:]"
   ]
  },
  {
   "cell_type": "markdown",
   "metadata": {},
   "source": [
    "# operations on Series and DataFrames"
   ]
  },
  {
   "cell_type": "code",
   "execution_count": 280,
   "metadata": {
    "collapsed": false
   },
   "outputs": [
    {
     "data": {
      "text/plain": [
       "ROWS\n",
       "Mary     0.70\n",
       "Mark     0.29\n",
       "John     0.23\n",
       "Radko    0.55\n",
       "Raul     0.72\n",
       "Name: A, dtype: float64"
      ]
     },
     "execution_count": 280,
     "metadata": {},
     "output_type": "execute_result"
    }
   ],
   "source": [
    "x[\"A\"]"
   ]
  },
  {
   "cell_type": "code",
   "execution_count": 281,
   "metadata": {
    "collapsed": false
   },
   "outputs": [
    {
     "data": {
      "text/plain": [
       "array([ 0.49  ,  0.0841,  0.0529,  0.3025,  0.5184])"
      ]
     },
     "execution_count": 281,
     "metadata": {},
     "output_type": "execute_result"
    }
   ],
   "source": [
    "x[\"A\"].values * x[\"A\"].values"
   ]
  },
  {
   "cell_type": "code",
   "execution_count": 282,
   "metadata": {
    "collapsed": false
   },
   "outputs": [
    {
     "data": {
      "text/plain": [
       "ROWS\n",
       "Mary     0.4900\n",
       "Mark     0.0841\n",
       "John     0.0529\n",
       "Radko    0.3025\n",
       "Raul     0.5184\n",
       "Name: A, dtype: float64"
      ]
     },
     "execution_count": 282,
     "metadata": {},
     "output_type": "execute_result"
    }
   ],
   "source": [
    "x[\"A\"] * x[\"A\"]"
   ]
  },
  {
   "cell_type": "code",
   "execution_count": 283,
   "metadata": {
    "collapsed": false
   },
   "outputs": [
    {
     "data": {
      "text/plain": [
       "ROWS\n",
       "John        NaN\n",
       "Mark     0.0841\n",
       "Mary     0.4900\n",
       "Mary     0.4900\n",
       "Radko       NaN\n",
       "Raul        NaN\n",
       "Name: A, dtype: float64"
      ]
     },
     "execution_count": 283,
     "metadata": {},
     "output_type": "execute_result"
    }
   ],
   "source": [
    "x[\"A\"] * x[\"A\"].loc[[\"Mary\", \"Mark\", \"Mary\"]]"
   ]
  },
  {
   "cell_type": "code",
   "execution_count": 284,
   "metadata": {
    "collapsed": false
   },
   "outputs": [
    {
     "data": {
      "text/plain": [
       "0    a\n",
       "1    b\n",
       "2    c\n",
       "dtype: object"
      ]
     },
     "execution_count": 284,
     "metadata": {},
     "output_type": "execute_result"
    }
   ],
   "source": [
    "a = pd.Series([\"a\", \"b\", \"c\"], index=[0,1,2])\n",
    "a"
   ]
  },
  {
   "cell_type": "code",
   "execution_count": 287,
   "metadata": {
    "collapsed": false
   },
   "outputs": [
    {
     "data": {
      "text/plain": [
       "0    x\n",
       "1    y\n",
       "0    z\n",
       "dtype: object"
      ]
     },
     "execution_count": 287,
     "metadata": {},
     "output_type": "execute_result"
    }
   ],
   "source": [
    "b = pd.Series([\"x\", \"y\", \"z\"], index=[0,1,0])\n",
    "b"
   ]
  },
  {
   "cell_type": "code",
   "execution_count": 288,
   "metadata": {
    "collapsed": false
   },
   "outputs": [
    {
     "name": "stderr",
     "output_type": "stream",
     "text": [
      "/opt/anaconda3/lib/python3.5/site-packages/ipykernel/__main__.py:1: FutureWarning: \n",
      "Passing list-likes to .loc or [] with any missing label will raise\n",
      "KeyError in the future, you can use .reindex() as an alternative.\n",
      "\n",
      "See the documentation here:\n",
      "http://pandas.pydata.org/pandas-docs/stable/indexing.html#deprecate-loc-reindex-listlike\n",
      "  if __name__ == '__main__':\n"
     ]
    },
    {
     "data": {
      "text/plain": [
       "0     ax\n",
       "0     az\n",
       "0     ax\n",
       "0     az\n",
       "0     ax\n",
       "0     az\n",
       "0     ax\n",
       "0     az\n",
       "1     by\n",
       "1     by\n",
       "1     by\n",
       "1     by\n",
       "1     by\n",
       "1     by\n",
       "2    NaN\n",
       "2    NaN\n",
       "2    NaN\n",
       "2    NaN\n",
       "dtype: object"
      ]
     },
     "execution_count": 288,
     "metadata": {},
     "output_type": "execute_result"
    }
   ],
   "source": [
    "a.loc[[0,0,1,1,2,2]] + b.loc[[1,1,1,2,2,0,0]]"
   ]
  },
  {
   "cell_type": "code",
   "execution_count": 289,
   "metadata": {
    "collapsed": false
   },
   "outputs": [
    {
     "data": {
      "text/plain": [
       "2.4900000000000002"
      ]
     },
     "execution_count": 289,
     "metadata": {},
     "output_type": "execute_result"
    }
   ],
   "source": [
    "np.sum(x.A)"
   ]
  },
  {
   "cell_type": "code",
   "execution_count": 290,
   "metadata": {
    "collapsed": false
   },
   "outputs": [
    {
     "data": {
      "text/plain": [
       "2.4900000000000002"
      ]
     },
     "execution_count": 290,
     "metadata": {},
     "output_type": "execute_result"
    }
   ],
   "source": [
    "x.A.sum()"
   ]
  },
  {
   "cell_type": "code",
   "execution_count": 291,
   "metadata": {
    "collapsed": false
   },
   "outputs": [
    {
     "data": {
      "text/plain": [
       "0.55"
      ]
     },
     "execution_count": 291,
     "metadata": {},
     "output_type": "execute_result"
    }
   ],
   "source": [
    "x.A.median()"
   ]
  },
  {
   "cell_type": "code",
   "execution_count": 292,
   "metadata": {
    "collapsed": false
   },
   "outputs": [
    {
     "data": {
      "text/plain": [
       "0.22796929617823536"
      ]
     },
     "execution_count": 292,
     "metadata": {},
     "output_type": "execute_result"
    }
   ],
   "source": [
    "x.A.std()"
   ]
  },
  {
   "cell_type": "code",
   "execution_count": 293,
   "metadata": {
    "collapsed": false
   },
   "outputs": [
    {
     "data": {
      "text/plain": [
       "0.22796929617823536"
      ]
     },
     "execution_count": 293,
     "metadata": {},
     "output_type": "execute_result"
    }
   ],
   "source": [
    "np.std(x.A, ddof=1)"
   ]
  },
  {
   "cell_type": "code",
   "execution_count": 295,
   "metadata": {
    "collapsed": false
   },
   "outputs": [
    {
     "data": {
      "text/plain": [
       "count    5.000000\n",
       "mean     0.498000\n",
       "std      0.227969\n",
       "min      0.230000\n",
       "25%      0.290000\n",
       "50%      0.550000\n",
       "75%      0.700000\n",
       "max      0.720000\n",
       "Name: A, dtype: float64"
      ]
     },
     "execution_count": 295,
     "metadata": {},
     "output_type": "execute_result"
    }
   ],
   "source": [
    "x.A.describe()"
   ]
  },
  {
   "cell_type": "code",
   "execution_count": 296,
   "metadata": {
    "collapsed": false
   },
   "outputs": [
    {
     "data": {
      "text/plain": [
       "COLS\n",
       "A    0.498\n",
       "B    0.400\n",
       "dtype: float64"
      ]
     },
     "execution_count": 296,
     "metadata": {},
     "output_type": "execute_result"
    }
   ],
   "source": [
    "# pd.Series.mean\n",
    "# pd.DataFrame.mean\n",
    "\n",
    "x.mean()"
   ]
  },
  {
   "cell_type": "code",
   "execution_count": 297,
   "metadata": {
    "collapsed": false
   },
   "outputs": [
    {
     "data": {
      "text/plain": [
       "COLS      A      B    C\n",
       "ROWS                   \n",
       "Mary   0.70  False    f\n",
       "Mark   0.29  False  NaN\n",
       "John   0.23   True    f\n",
       "Radko  0.55  False    m\n",
       "Raul   0.72   True    f"
      ]
     },
     "execution_count": 297,
     "metadata": {},
     "output_type": "execute_result"
    }
   ],
   "source": [
    "x"
   ]
  },
  {
   "cell_type": "code",
   "execution_count": 298,
   "metadata": {
    "collapsed": false
   },
   "outputs": [
    {
     "data": {
      "text/plain": [
       "COLS          A\n",
       "count  5.000000\n",
       "mean   0.498000\n",
       "std    0.227969\n",
       "min    0.230000\n",
       "25%    0.290000\n",
       "50%    0.550000\n",
       "75%    0.700000\n",
       "max    0.720000"
      ]
     },
     "execution_count": 298,
     "metadata": {},
     "output_type": "execute_result"
    }
   ],
   "source": [
    "x.describe()"
   ]
  },
  {
   "cell_type": "code",
   "execution_count": 301,
   "metadata": {
    "collapsed": false
   },
   "outputs": [
    {
     "data": {
      "text/plain": [
       "COLS           A      B    C\n",
       "count   5.000000      5    4\n",
       "unique       NaN      2    2\n",
       "top          NaN  False    f\n",
       "freq         NaN      3    3\n",
       "mean    0.498000    NaN  NaN\n",
       "std     0.227969    NaN  NaN\n",
       "min     0.230000    NaN  NaN\n",
       "25%     0.290000    NaN  NaN\n",
       "50%     0.550000    NaN  NaN\n",
       "75%     0.700000    NaN  NaN\n",
       "max     0.720000    NaN  NaN"
      ]
     },
     "execution_count": 301,
     "metadata": {},
     "output_type": "execute_result"
    }
   ],
   "source": [
    "x.describe(include='all')"
   ]
  },
  {
   "cell_type": "code",
   "execution_count": 303,
   "metadata": {
    "collapsed": false
   },
   "outputs": [
    {
     "data": {
      "text/plain": [
       "Male      157\n",
       "Female     87\n",
       "Name: sex, dtype: int64"
      ]
     },
     "execution_count": 303,
     "metadata": {},
     "output_type": "execute_result"
    }
   ],
   "source": [
    "tips.sex.value_counts()"
   ]
  },
  {
   "cell_type": "code",
   "execution_count": 305,
   "metadata": {
    "collapsed": false
   },
   "outputs": [
    {
     "data": {
      "text/plain": [
       "<matplotlib.axes._subplots.AxesSubplot at 0x7f9f122f6da0>"
      ]
     },
     "execution_count": 305,
     "metadata": {},
     "output_type": "execute_result"
    },
    {
     "data": {
      "image/png": "[encoded data removed]",
      "text/plain": [
       "<matplotlib.figure.Figure at 0x7f9f12312278>"
      ]
     },
     "metadata": {},
     "output_type": "display_data"
    }
   ],
   "source": [
    "tips.sex.value_counts().plot(kind='bar')"
   ]
  },
  {
   "cell_type": "code",
   "execution_count": 306,
   "metadata": {
    "collapsed": false
   },
   "outputs": [
    {
     "data": {
      "text/plain": [
       "day     Fri  Sat  Sun  Thur\n",
       "sex                        \n",
       "Female    9   28   18    32\n",
       "Male     10   59   58    30"
      ]
     },
     "execution_count": 306,
     "metadata": {},
     "output_type": "execute_result"
    }
   ],
   "source": [
    "pd.crosstab(tips.sex, tips.day)"
   ]
  },
  {
   "cell_type": "code",
   "execution_count": 307,
   "metadata": {
    "collapsed": false
   },
   "outputs": [
    {
     "data": {
      "text/plain": [
       "<pandas.core.groupby.DataFrameGroupBy object at 0x7f9f122743c8>"
      ]
     },
     "execution_count": 307,
     "metadata": {},
     "output_type": "execute_result"
    }
   ],
   "source": [
    "tips.groupby([\"sex\", \"day\"])"
   ]
  },
  {
   "cell_type": "code",
   "execution_count": 308,
   "metadata": {
    "collapsed": false
   },
   "outputs": [
    {
     "data": {
      "text/plain": [
       "             total_bill       tip      size\n",
       "sex    day                                 \n",
       "Female Fri    14.145556  2.781111  2.111111\n",
       "       Sat    19.680357  2.801786  2.250000\n",
       "       Sun    19.872222  3.367222  2.944444\n",
       "       Thur   16.715312  2.575625  2.468750\n",
       "Male   Fri    19.857000  2.693000  2.100000\n",
       "       Sat    20.802542  3.083898  2.644068\n",
       "       Sun    21.887241  3.220345  2.810345\n",
       "       Thur   18.714667  2.980333  2.433333"
      ]
     },
     "execution_count": 308,
     "metadata": {},
     "output_type": "execute_result"
    }
   ],
   "source": [
    "tips.groupby([\"sex\", \"day\"]).mean()"
   ]
  },
  {
   "cell_type": "code",
   "execution_count": 309,
   "metadata": {
    "collapsed": false
   },
   "outputs": [
    {
     "data": {
      "text/plain": [
       "             size                                                 tip  \\\n",
       "            count      mean       std  min  25%  50%   75%  max count   \n",
       "sex    day                                                              \n",
       "Female Fri    9.0  2.111111  0.333333  2.0  2.0  2.0  2.00  3.0   9.0   \n",
       "       Sat   28.0  2.250000  0.700529  1.0  2.0  2.0  2.25  4.0  28.0   \n",
       "       Sun   18.0  2.944444  0.937595  2.0  2.0  3.0  3.75  5.0  18.0   \n",
       "       Thur  32.0  2.468750  1.135480  1.0  2.0  2.0  2.00  6.0  32.0   \n",
       "Male   Fri   10.0  2.100000  0.737865  1.0  2.0  2.0  2.00  4.0  10.0   \n",
       "       Sat   59.0  2.644068  0.846142  2.0  2.0  2.0  3.00  5.0  59.0   \n",
       "       Sun   58.0  2.810345  1.033762  2.0  2.0  2.0  4.00  6.0  58.0   \n",
       "       Thur  30.0  2.433333  1.006302  2.0  2.0  2.0  2.00  6.0  30.0   \n",
       "\n",
       "                       ...                  total_bill                        \\\n",
       "                 mean  ...       75%    max      count       mean        std   \n",
       "sex    day             ...                                                     \n",
       "Female Fri   2.781111  ...    3.2500   4.30        9.0  14.145556   4.788547   \n",
       "       Sat   2.801786  ...    3.1025   6.50       28.0  19.680357   8.806470   \n",
       "       Sun   3.367222  ...    3.9375   5.20       18.0  19.872222   7.837513   \n",
       "       Thur  2.575625  ...    3.0575   5.17       32.0  16.715312   7.759764   \n",
       "Male   Fri   2.693000  ...    3.3750   4.73       10.0  19.857000  10.015847   \n",
       "       Sat   3.083898  ...    3.4000  10.00       59.0  20.802542   9.836306   \n",
       "       Sun   3.220345  ...    3.9800   6.50       58.0  21.887241   9.129142   \n",
       "       Thur  2.980333  ...    4.0000   6.70       30.0  18.714667   8.019728   \n",
       "\n",
       "                                                    \n",
       "              min      25%     50%      75%    max  \n",
       "sex    day                                          \n",
       "Female Fri   5.75  11.3500  15.380  16.2700  22.75  \n",
       "       Sat   3.07  14.0500  18.360  25.5625  44.30  \n",
       "       Sun   9.60  15.1750  17.410  24.8975  35.26  \n",
       "       Thur  8.35  12.1625  13.785  18.6750  43.11  \n",
       "Male   Fri   8.58  12.2350  17.215  26.0825  40.17  \n",
       "       Sat   7.74  13.9050  18.240  24.1650  50.81  \n",
       "       Sun   7.25  15.1350  20.725  26.5500  48.17  \n",
       "       Thur  7.51  13.6975  16.975  22.3600  41.19  \n",
       "\n",
       "[8 rows x 24 columns]"
      ]
     },
     "execution_count": 309,
     "metadata": {},
     "output_type": "execute_result"
    }
   ],
   "source": [
    "tips.groupby([\"sex\", \"day\"]).describe()"
   ]
  },
  {
   "cell_type": "code",
   "execution_count": 310,
   "metadata": {
    "collapsed": false
   },
   "outputs": [
    {
     "name": "stdout",
     "output_type": "stream",
     "text": [
      "('Female',      total_bill   tip     sex smoker   day    time  size\n",
      "0         16.99  1.01  Female     No   Sun  Dinner     2\n",
      "4         24.59  3.61  Female     No   Sun  Dinner     4\n",
      "11        35.26  5.00  Female     No   Sun  Dinner     4\n",
      "14        14.83  3.02  Female     No   Sun  Dinner     2\n",
      "16        10.33  1.67  Female     No   Sun  Dinner     3\n",
      "18        16.97  3.50  Female     No   Sun  Dinner     3\n",
      "21        20.29  2.75  Female     No   Sat  Dinner     2\n",
      "22        15.77  2.23  Female     No   Sat  Dinner     2\n",
      "29        19.65  3.00  Female     No   Sat  Dinner     2\n",
      "32        15.06  3.00  Female     No   Sat  Dinner     2\n",
      "33        20.69  2.45  Female     No   Sat  Dinner     4\n",
      "37        16.93  3.07  Female     No   Sat  Dinner     3\n",
      "51        10.29  2.60  Female     No   Sun  Dinner     2\n",
      "52        34.81  5.20  Female     No   Sun  Dinner     4\n",
      "57        26.41  1.50  Female     No   Sat  Dinner     2\n",
      "66        16.45  2.47  Female     No   Sat  Dinner     2\n",
      "67         3.07  1.00  Female    Yes   Sat  Dinner     1\n",
      "71        17.07  3.00  Female     No   Sat  Dinner     3\n",
      "72        26.86  3.14  Female    Yes   Sat  Dinner     2\n",
      "73        25.28  5.00  Female    Yes   Sat  Dinner     2\n",
      "74        14.73  2.20  Female     No   Sat  Dinner     2\n",
      "82        10.07  1.83  Female     No  Thur   Lunch     1\n",
      "85        34.83  5.17  Female     No  Thur   Lunch     4\n",
      "92         5.75  1.00  Female    Yes   Fri  Dinner     2\n",
      "93        16.32  4.30  Female    Yes   Fri  Dinner     2\n",
      "94        22.75  3.25  Female     No   Fri  Dinner     2\n",
      "100       11.35  2.50  Female    Yes   Fri  Dinner     2\n",
      "101       15.38  3.00  Female    Yes   Fri  Dinner     2\n",
      "102       44.30  2.50  Female    Yes   Sat  Dinner     3\n",
      "103       22.42  3.48  Female    Yes   Sat  Dinner     2\n",
      "..          ...   ...     ...    ...   ...     ...   ...\n",
      "155       29.85  5.14  Female     No   Sun  Dinner     5\n",
      "157       25.00  3.75  Female     No   Sun  Dinner     4\n",
      "158       13.39  2.61  Female     No   Sun  Dinner     2\n",
      "162       16.21  2.00  Female     No   Sun  Dinner     3\n",
      "164       17.51  3.00  Female    Yes   Sun  Dinner     2\n",
      "168       10.59  1.61  Female    Yes   Sat  Dinner     2\n",
      "169       10.63  2.00  Female    Yes   Sat  Dinner     2\n",
      "178        9.60  4.00  Female    Yes   Sun  Dinner     2\n",
      "186       20.90  3.50  Female    Yes   Sun  Dinner     3\n",
      "188       18.15  3.50  Female    Yes   Sun  Dinner     3\n",
      "191       19.81  4.19  Female    Yes  Thur   Lunch     2\n",
      "197       43.11  5.00  Female    Yes  Thur   Lunch     4\n",
      "198       13.00  2.00  Female    Yes  Thur   Lunch     2\n",
      "201       12.74  2.01  Female    Yes  Thur   Lunch     2\n",
      "202       13.00  2.00  Female    Yes  Thur   Lunch     2\n",
      "203       16.40  2.50  Female    Yes  Thur   Lunch     2\n",
      "205       16.47  3.23  Female    Yes  Thur   Lunch     3\n",
      "209       12.76  2.23  Female    Yes   Sat  Dinner     2\n",
      "213       13.27  2.50  Female    Yes   Sat  Dinner     2\n",
      "214       28.17  6.50  Female    Yes   Sat  Dinner     3\n",
      "215       12.90  1.10  Female    Yes   Sat  Dinner     2\n",
      "219       30.14  3.09  Female    Yes   Sat  Dinner     4\n",
      "221       13.42  3.48  Female    Yes   Fri   Lunch     2\n",
      "223       15.98  3.00  Female     No   Fri   Lunch     3\n",
      "225       16.27  2.50  Female    Yes   Fri   Lunch     2\n",
      "226       10.09  2.00  Female    Yes   Fri   Lunch     2\n",
      "229       22.12  2.88  Female    Yes   Sat  Dinner     2\n",
      "238       35.83  4.67  Female     No   Sat  Dinner     3\n",
      "240       27.18  2.00  Female    Yes   Sat  Dinner     2\n",
      "243       18.78  3.00  Female     No  Thur  Dinner     2\n",
      "\n",
      "[87 rows x 7 columns])\n",
      "('Male',      total_bill   tip   sex smoker   day    time  size\n",
      "1         10.34  1.66  Male     No   Sun  Dinner     3\n",
      "2         21.01  3.50  Male     No   Sun  Dinner     3\n",
      "3         23.68  3.31  Male     No   Sun  Dinner     2\n",
      "5         25.29  4.71  Male     No   Sun  Dinner     4\n",
      "6          8.77  2.00  Male     No   Sun  Dinner     2\n",
      "7         26.88  3.12  Male     No   Sun  Dinner     4\n",
      "8         15.04  1.96  Male     No   Sun  Dinner     2\n",
      "9         14.78  3.23  Male     No   Sun  Dinner     2\n",
      "10        10.27  1.71  Male     No   Sun  Dinner     2\n",
      "12        15.42  1.57  Male     No   Sun  Dinner     2\n",
      "13        18.43  3.00  Male     No   Sun  Dinner     4\n",
      "15        21.58  3.92  Male     No   Sun  Dinner     2\n",
      "17        16.29  3.71  Male     No   Sun  Dinner     3\n",
      "19        20.65  3.35  Male     No   Sat  Dinner     3\n",
      "20        17.92  4.08  Male     No   Sat  Dinner     2\n",
      "23        39.42  7.58  Male     No   Sat  Dinner     4\n",
      "24        19.82  3.18  Male     No   Sat  Dinner     2\n",
      "25        17.81  2.34  Male     No   Sat  Dinner     4\n",
      "26        13.37  2.00  Male     No   Sat  Dinner     2\n",
      "27        12.69  2.00  Male     No   Sat  Dinner     2\n",
      "28        21.70  4.30  Male     No   Sat  Dinner     2\n",
      "30         9.55  1.45  Male     No   Sat  Dinner     2\n",
      "31        18.35  2.50  Male     No   Sat  Dinner     4\n",
      "34        17.78  3.27  Male     No   Sat  Dinner     2\n",
      "35        24.06  3.60  Male     No   Sat  Dinner     3\n",
      "36        16.31  2.00  Male     No   Sat  Dinner     3\n",
      "38        18.69  2.31  Male     No   Sat  Dinner     3\n",
      "39        31.27  5.00  Male     No   Sat  Dinner     3\n",
      "40        16.04  2.24  Male     No   Sat  Dinner     3\n",
      "41        17.46  2.54  Male     No   Sun  Dinner     2\n",
      "..          ...   ...   ...    ...   ...     ...   ...\n",
      "195        7.56  1.44  Male     No  Thur   Lunch     2\n",
      "196       10.34  2.00  Male    Yes  Thur   Lunch     2\n",
      "199       13.51  2.00  Male    Yes  Thur   Lunch     2\n",
      "200       18.71  4.00  Male    Yes  Thur   Lunch     3\n",
      "204       20.53  4.00  Male    Yes  Thur   Lunch     4\n",
      "206       26.59  3.41  Male    Yes   Sat  Dinner     3\n",
      "207       38.73  3.00  Male    Yes   Sat  Dinner     4\n",
      "208       24.27  2.03  Male    Yes   Sat  Dinner     2\n",
      "210       30.06  2.00  Male    Yes   Sat  Dinner     3\n",
      "211       25.89  5.16  Male    Yes   Sat  Dinner     4\n",
      "212       48.33  9.00  Male     No   Sat  Dinner     4\n",
      "216       28.15  3.00  Male    Yes   Sat  Dinner     5\n",
      "217       11.59  1.50  Male    Yes   Sat  Dinner     2\n",
      "218        7.74  1.44  Male    Yes   Sat  Dinner     2\n",
      "220       12.16  2.20  Male    Yes   Fri   Lunch     2\n",
      "222        8.58  1.92  Male    Yes   Fri   Lunch     1\n",
      "224       13.42  1.58  Male    Yes   Fri   Lunch     2\n",
      "227       20.45  3.00  Male     No   Sat  Dinner     4\n",
      "228       13.28  2.72  Male     No   Sat  Dinner     2\n",
      "230       24.01  2.00  Male    Yes   Sat  Dinner     4\n",
      "231       15.69  3.00  Male    Yes   Sat  Dinner     3\n",
      "232       11.61  3.39  Male     No   Sat  Dinner     2\n",
      "233       10.77  1.47  Male     No   Sat  Dinner     2\n",
      "234       15.53  3.00  Male    Yes   Sat  Dinner     2\n",
      "235       10.07  1.25  Male     No   Sat  Dinner     2\n",
      "236       12.60  1.00  Male    Yes   Sat  Dinner     2\n",
      "237       32.83  1.17  Male    Yes   Sat  Dinner     2\n",
      "239       29.03  5.92  Male     No   Sat  Dinner     3\n",
      "241       22.67  2.00  Male    Yes   Sat  Dinner     2\n",
      "242       17.82  1.75  Male     No   Sat  Dinner     2\n",
      "\n",
      "[157 rows x 7 columns])\n"
     ]
    }
   ],
   "source": [
    "for e in tips.groupby(\"sex\"):\n",
    "    print(e)"
   ]
  },
  {
   "cell_type": "code",
   "execution_count": null,
   "metadata": {
    "collapsed": true
   },
   "outputs": [],
   "source": []
  }
 ],
 "metadata": {
  "anaconda-cloud": {},
  "kernelspec": {
   "display_name": "Python 3",
   "language": "python",
   "name": "python3"
  },
  "language_info": {
   "codemirror_mode": {
    "name": "ipython",
    "version": 3
   },
   "file_extension": ".py",
   "mimetype": "text/x-python",
   "name": "python",
   "nbconvert_exporter": "python",
   "pygments_lexer": "ipython3",
   "version": "3.5.4"
  }
 },
 "nbformat": 4,
 "nbformat_minor": 1
}
