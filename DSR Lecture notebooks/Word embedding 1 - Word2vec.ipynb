{
 "cells": [
  {
   "cell_type": "code",
   "execution_count": 1,
   "metadata": {},
   "outputs": [],
   "source": [
    "import logging\n",
    "import os.path\n",
    "import sys\n",
    "from gensim.models import Word2Vec\n"
   ]
  },
  {
   "cell_type": "code",
   "execution_count": 21,
   "metadata": {},
   "outputs": [],
   "source": [
    "class sentences_iter(object):\n",
    "    def __init__(self, dirname):\n",
    "        self.dirname = dirname\n",
    "    def __iter__(self):\n",
    "         for fname in os.listdir(self.dirname):\n",
    "            for line in open(os.path.join(self.dirname, fname,),encoding='ISO-8859-1'):\n",
    "                 yield line.split()"
   ]
  },
  {
   "cell_type": "code",
   "execution_count": 22,
   "metadata": {},
   "outputs": [],
   "source": [
    "data_path = r\"/home/batman/github/DSR-ZeroShot-Nour/notebooks/text_emb/eng_news_2005_100K\"\n",
    "sentences = sentences_iter(data_path)\n",
    "model = Word2Vec(sentences, size=int(100), window=20, min_count=5, hs=1)"
   ]
  },
  {
   "cell_type": "code",
   "execution_count": 23,
   "metadata": {},
   "outputs": [
    {
     "data": {
      "text/plain": [
       "[('world,', 0.6069973707199097),\n",
       " ('nation', 0.5898991823196411),\n",
       " ('Europe', 0.5786497592926025),\n",
       " ('greatest', 0.5568192601203918),\n",
       " ('best', 0.5409618616104126),\n",
       " ('reckons', 0.5407928228378296),\n",
       " ('history', 0.5178627967834473),\n",
       " ('globe.', 0.5162844657897949),\n",
       " ('II', 0.5160854458808899),\n",
       " ('perhaps', 0.513027012348175)]"
      ]
     },
     "execution_count": 23,
     "metadata": {},
     "output_type": "execute_result"
    }
   ],
   "source": [
    "model.most_similar('world')"
   ]
  },
  {
   "cell_type": "code",
   "execution_count": 24,
   "metadata": {},
   "outputs": [
    {
     "data": {
      "text/plain": [
       "(27956, 100)"
      ]
     },
     "execution_count": 24,
     "metadata": {},
     "output_type": "execute_result"
    }
   ],
   "source": [
    "model.wv.syn0.shape"
   ]
  },
  {
   "cell_type": "code",
   "execution_count": null,
   "metadata": {},
   "outputs": [],
   "source": []
  }
 ],
 "metadata": {
  "kernelspec": {
   "display_name": "Python 3",
   "language": "python",
   "name": "python3"
  },
  "language_info": {
   "codemirror_mode": {
    "name": "ipython",
    "version": 3
   },
   "file_extension": ".py",
   "mimetype": "text/x-python",
   "name": "python",
   "nbconvert_exporter": "python",
   "pygments_lexer": "ipython3",
   "version": "3.6.4"
  }
 },
 "nbformat": 4,
 "nbformat_minor": 2
}
