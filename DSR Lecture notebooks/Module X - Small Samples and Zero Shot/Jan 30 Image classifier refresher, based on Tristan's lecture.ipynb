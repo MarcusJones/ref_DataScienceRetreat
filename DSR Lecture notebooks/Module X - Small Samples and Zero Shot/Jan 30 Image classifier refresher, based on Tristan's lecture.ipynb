{
 "cells": [
  {
   "cell_type": "code",
   "execution_count": 5,
   "metadata": {},
   "outputs": [],
   "source": [
    "import numpy as np\n",
    "import pandas as pd\n",
    "import keras as ks\n",
    "\n",
    "import os\n",
    "from datetime import datetime\n",
    "import json\n",
    "\n",
    "\n",
    "%matplotlib inline\n",
    "import matplotlib.pyplot as plt\n",
    "import numpy as np\n",
    "from keras.preprocessing import image as ks_preprocessing_image\n",
    "import seaborn as sns"
   ]
  },
  {
   "cell_type": "code",
   "execution_count": 6,
   "metadata": {},
   "outputs": [],
   "source": [
    "# All paths to data\n",
    "root_data_dir = r\"/media/batman/Windows/Data TEMP/cats_dogs_small\"\n",
    "path_train =root_data_dir + r\"/train\"\n",
    "path_test = root_data_dir + r\"/test\"\n",
    "path_validation = root_data_dir + r\"/validation\"\n",
    "\n",
    "path_test_cats = root_data_dir + \"/test/cats\"\n",
    "path_test_dogs = root_data_dir + \"/test/dogs\"\n",
    "\n",
    "path_train_cats = root_data_dir + \"/train/cats\"\n",
    "path_train_cats = root_data_dir + \"/train/dogs\"\n",
    "\n",
    "path_validation_cats = root_data_dir + \"/validation/cats\"\n",
    "path_talidation_cats = root_data_dir + \"/validation/dogs\""
   ]
  },
  {
   "cell_type": "code",
   "execution_count": 7,
   "metadata": {},
   "outputs": [
    {
     "name": "stdout",
     "output_type": "stream",
     "text": [
      "Directory                                                                        Number files        \n",
      "/media/batman/Windows/Data TEMP/cats_dogs_small                                  0                   \n",
      "/media/batman/Windows/Data TEMP/cats_dogs_small/test                             0                   \n",
      "/media/batman/Windows/Data TEMP/cats_dogs_small/test/cats                        500                 \n",
      "/media/batman/Windows/Data TEMP/cats_dogs_small/test/dogs                        500                 \n",
      "/media/batman/Windows/Data TEMP/cats_dogs_small/train                            0                   \n",
      "/media/batman/Windows/Data TEMP/cats_dogs_small/train/cats                       1000                \n",
      "/media/batman/Windows/Data TEMP/cats_dogs_small/train/dogs                       1000                \n",
      "/media/batman/Windows/Data TEMP/cats_dogs_small/validation                       0                   \n",
      "/media/batman/Windows/Data TEMP/cats_dogs_small/validation/cats                  500                 \n",
      "/media/batman/Windows/Data TEMP/cats_dogs_small/validation/dogs                  500                 \n"
     ]
    }
   ],
   "source": [
    "# Inspect the data\n",
    "import os\n",
    " \n",
    "# Set the directory you want to start from\n",
    "rootDir = root_data_dir\n",
    "print(\"{:<80} {:<20}\".format( 'Directory', 'Number files'))\n",
    "for dirName, subdirList, fileList in os.walk(rootDir):\n",
    "    print(\"{:<80} {:<20}\".format( dirName, len(fileList)))\n",
    "    "
   ]
  },
  {
   "cell_type": "code",
   "execution_count": 14,
   "metadata": {
    "scrolled": true
   },
   "outputs": [
    {
     "name": "stdout",
     "output_type": "stream",
     "text": [
      "_________________________________________________________________\n",
      "Layer (type)                 Output Shape              Param #   \n",
      "=================================================================\n",
      "conv2d_5 (Conv2D)            (None, 222, 222, 32)      896       \n",
      "_________________________________________________________________\n",
      "max_pooling2d_5 (MaxPooling2 (None, 111, 111, 32)      0         \n",
      "_________________________________________________________________\n",
      "conv2d_6 (Conv2D)            (None, 109, 109, 64)      18496     \n",
      "_________________________________________________________________\n",
      "max_pooling2d_6 (MaxPooling2 (None, 54, 54, 64)        0         \n",
      "_________________________________________________________________\n",
      "conv2d_7 (Conv2D)            (None, 52, 52, 128)       73856     \n",
      "_________________________________________________________________\n",
      "max_pooling2d_7 (MaxPooling2 (None, 26, 26, 128)       0         \n",
      "_________________________________________________________________\n",
      "conv2d_8 (Conv2D)            (None, 24, 24, 128)       147584    \n",
      "_________________________________________________________________\n",
      "max_pooling2d_8 (MaxPooling2 (None, 12, 12, 128)       0         \n",
      "_________________________________________________________________\n",
      "flatten_2 (Flatten)          (None, 18432)             0         \n",
      "_________________________________________________________________\n",
      "dropout_2 (Dropout)          (None, 18432)             0         \n",
      "_________________________________________________________________\n",
      "dense_3 (Dense)              (None, 512)               9437696   \n",
      "_________________________________________________________________\n",
      "dense_4 (Dense)              (None, 1)                 513       \n",
      "=================================================================\n",
      "Total params: 9,679,041\n",
      "Trainable params: 9,679,041\n",
      "Non-trainable params: 0\n",
      "_________________________________________________________________\n"
     ]
    }
   ],
   "source": [
    "# The network architecture\n",
    "model = ks.models.Sequential()\n",
    "\n",
    "model.add(ks.layers.Conv2D(32, (3,3), activation = \"relu\", input_shape=(224,224,3)))\n",
    "model.add(ks.layers.MaxPooling2D(2,2))\n",
    "\n",
    "model.add(ks.layers.Conv2D(64, (3,3), activation = \"relu\"))\n",
    "model.add(ks.layers.MaxPooling2D(2,2))\n",
    "\n",
    "model.add(ks.layers.Conv2D(128, (3,3), activation = \"relu\"))\n",
    "model.add(ks.layers.MaxPooling2D(2,2))\n",
    "\n",
    "model.add(ks.layers.Conv2D(128, (3,3), activation = \"relu\"))\n",
    "model.add(ks.layers.MaxPooling2D(2,2))\n",
    "\n",
    "model.add(ks.layers.Flatten()) # This is just a reshape!\n",
    "\n",
    "model.add(ks.layers.Dropout(0.5))\n",
    "\n",
    "model.add(ks.layers.Dense(512,activation=\"relu\"))\n",
    "model.add(ks.layers.Dense(1,activation=\"sigmoid\"))\n",
    "\n",
    "model.summary()"
   ]
  },
  {
   "cell_type": "code",
   "execution_count": 15,
   "metadata": {},
   "outputs": [],
   "source": [
    "# Compile the network (Attached Optimizer, loss, Metrics)\n",
    "model.compile(   \n",
    "    optimizer = ks.optimizers.RMSprop(lr=0.0001),\n",
    "    loss= ks.losses.binary_crossentropy,\n",
    "    metrics= [\"accuracy\"],\n",
    ")"
   ]
  },
  {
   "cell_type": "code",
   "execution_count": 16,
   "metadata": {},
   "outputs": [],
   "source": [
    "# DATA GENERATORS\n",
    "# Specify training data generator 1 - pure images\n",
    "train_datagen1_pure = ks_preprocessing_image.ImageDataGenerator()\n",
    "\n",
    "# Specify training data generator 2- augmentation\n",
    "train_datagen2_aug = ks_preprocessing_image.ImageDataGenerator(rescale=1/255,\n",
    "                                              rotation_range = 40,\n",
    "                                              width_shift_range = 0.2,\n",
    "                                              height_shift_range = 0.2,\n",
    "                                              shear_range = 0.2,\n",
    "                                              zoom_range= 0.2,\n",
    "                                              horizontal_flip=True)\n",
    "\n",
    "# Specify validation data generator - pure images\n",
    "validation_datagen = ks.preprocessing.image.ImageDataGenerator()"
   ]
  },
  {
   "cell_type": "code",
   "execution_count": 17,
   "metadata": {},
   "outputs": [
    {
     "name": "stdout",
     "output_type": "stream",
     "text": [
      "Found 2000 images belonging to 2 classes.\n",
      "Training data: <keras.preprocessing.image.DirectoryIterator object at 0x7f06b02c2278> with 2000 images\n",
      "Found 1000 images belonging to 2 classes.\n",
      "Validation data: <keras.preprocessing.image.DirectoryIterator object at 0x7f06b02c2f98> with 1000 images\n"
     ]
    }
   ],
   "source": [
    "# \n",
    "this_train_datagen = train_datagen1_pure\n",
    "train_generator = this_train_datagen.flow_from_directory(\n",
    "    path_train,\n",
    "    target_size = (224,224),\n",
    "    batch_size = 20,\n",
    "    class_mode = \"binary\"\n",
    ")\n",
    "print(\"Training data: {} with {} images\".format(train_generator, train_generator.n))\n",
    "\n",
    "validation_generator = validation_datagen.flow_from_directory(\n",
    "    path_validation,\n",
    "    target_size = (224,224),\n",
    "    batch_size = 20,\n",
    "    class_mode = \"binary\"\n",
    ")\n",
    "print(\"Validation data: {} with {} images\".format(validation_generator, validation_generator.n))\n"
   ]
  },
  {
   "cell_type": "code",
   "execution_count": 18,
   "metadata": {},
   "outputs": [
    {
     "name": "stdout",
     "output_type": "stream",
     "text": [
      "Epoch 1/10\n",
      "10/10 [==============================] - 64s 6s/step - loss: 8.2178 - acc: 0.4700 - val_loss: 7.9712 - val_acc: 0.5000\n",
      "Epoch 2/10\n",
      "10/10 [==============================] - 105s 10s/step - loss: 7.7321 - acc: 0.5150 - val_loss: 7.9712 - val_acc: 0.5000\n",
      "Epoch 3/10\n",
      "10/10 [==============================] - 99s 10s/step - loss: 7.8915 - acc: 0.5050 - val_loss: 7.9712 - val_acc: 0.5000\n",
      "Epoch 4/10\n",
      "10/10 [==============================] - 76s 8s/step - loss: 7.7321 - acc: 0.5150 - val_loss: 7.9712 - val_acc: 0.5000\n",
      "Epoch 5/10\n",
      "10/10 [==============================] - 144s 14s/step - loss: 8.2900 - acc: 0.4800 - val_loss: 7.9712 - val_acc: 0.5000\n",
      "Epoch 6/10\n",
      "10/10 [==============================] - 83s 8s/step - loss: 8.0509 - acc: 0.4950 - val_loss: 7.9712 - val_acc: 0.5000\n",
      "Epoch 7/10\n",
      "10/10 [==============================] - 119s 12s/step - loss: 7.4929 - acc: 0.5300 - val_loss: 7.9712 - val_acc: 0.5000\n",
      "Epoch 8/10\n",
      "10/10 [==============================] - 70s 7s/step - loss: 8.3698 - acc: 0.4750 - val_loss: 7.9712 - val_acc: 0.5000\n",
      "Epoch 9/10\n",
      "10/10 [==============================] - 66s 7s/step - loss: 8.2103 - acc: 0.4850 - val_loss: 7.9712 - val_acc: 0.5000\n",
      "Epoch 10/10\n",
      "10/10 [==============================] - 72s 7s/step - loss: 7.9712 - acc: 0.5000 - val_loss: 7.9712 - val_acc: 0.5000\n"
     ]
    }
   ],
   "source": [
    "# Train the network\n",
    "if 1: # Quick training\n",
    "    history = model.fit_generator(\n",
    "        train_generator,\n",
    "        steps_per_epoch = 10,\n",
    "        epochs=10,\n",
    "        validation_data = validation_generator,\n",
    "        validation_steps = 50,\n",
    "        )\n",
    "\n",
    "if 0: # Full training\n",
    "    history = model.fit_generator(\n",
    "        train_generator,\n",
    "        steps_per_epoch = 100,\n",
    "        epochs=30,\n",
    "        validation_data = validation_generator,\n",
    "        validation_steps = 50,\n",
    "        )\n"
   ]
  },
  {
   "cell_type": "code",
   "execution_count": null,
   "metadata": {},
   "outputs": [],
   "source": []
  },
  {
   "cell_type": "code",
   "execution_count": 119,
   "metadata": {},
   "outputs": [],
   "source": [
    "%%script false\n",
    "# This is obselete - use the new function\n",
    "now_str = datetime.now().strftime('%m-%d-%H:%M:%S')\n",
    "this_hdf5weights_path = os.path.join(r\"./\", now_str + \" model.hd5\")\n",
    "this_json_definition_path = os.path.join(r\"./\", now_str + \" model_definition.json\")\n",
    "this_history_path = os.path.join(r\"./\", now_str + \" history.json\")\n",
    "# serialize model to JSON\n",
    "model_json = model.to_json()\n",
    "with open(this_json_definition_path, \"w\") as json_file:\n",
    "    json_file.write(model_json)\n",
    "print(\"Saved model definition to disk:\", this_json_definition_path)\n",
    "\n",
    "# serialize weights to HDF5\n",
    "model.save_weights(this_hdf5weights_path)\n",
    "print(\"Saved model weights to disk:\", this_hdf5weights_path)\n",
    "\n",
    "with open(this_history_path, 'w') as file_pi:\n",
    "    json.dump(history.history, file_pi)\n",
    "print(\"Saved history to disk:\", this_history_path)"
   ]
  },
  {
   "cell_type": "code",
   "execution_count": 120,
   "metadata": {},
   "outputs": [
    {
     "name": "stdout",
     "output_type": "stream",
     "text": [
      "Saved entire model to disk: ./01-30-15:39:05 saved_model.hd5\n"
     ]
    }
   ],
   "source": [
    "# SAVE\n",
    "# Save model HDF5 - architecture, weights, configuration, state\n",
    "now_str = datetime.now().strftime('%m-%d-%H:%M:%S')\n",
    "this_saved_model_path = os.path.join(r\"./\", now_str + \" saved_model.hd5\")\n",
    "model.save(this_saved_model_path)\n",
    "print(\"Saved entire model to disk:\", this_saved_model_path)"
   ]
  },
  {
   "cell_type": "code",
   "execution_count": 133,
   "metadata": {},
   "outputs": [
    {
     "name": "stdout",
     "output_type": "stream",
     "text": [
      "Loaded model from disk: \n",
      "\t./01-30-15:39:05 saved_model.hd5 --> <keras.models.Sequential object at 0x7f05b7ff7f60>\n"
     ]
    }
   ],
   "source": [
    "# Reload model\n",
    "load_model_path = this_saved_model_path\n",
    "loaded_model = ks.models.load_model(load_model_path)\n",
    "print(\"Loaded model from disk: \\n\\t{} --> {}\".format(load_model_path, loaded_model))\n",
    "for el in dir(loaded_model):\n",
    "    break\n",
    "    print(el)"
   ]
  },
  {
   "cell_type": "code",
   "execution_count": 128,
   "metadata": {},
   "outputs": [
    {
     "name": "stdout",
     "output_type": "stream",
     "text": [
      "Epoch 1/3\n",
      "10/10 [==============================] - 26s 3s/step - loss: 7.4929 - acc: 0.5300 - val_loss: 7.9712 - val_acc: 0.5000\n",
      "Epoch 2/3\n",
      "10/10 [==============================] - 26s 3s/step - loss: 7.5726 - acc: 0.5250 - val_loss: 7.9712 - val_acc: 0.5000\n",
      "Epoch 3/3\n",
      "10/10 [==============================] - 26s 3s/step - loss: 7.8118 - acc: 0.5100 - val_loss: 7.9712 - val_acc: 0.5000\n"
     ]
    }
   ],
   "source": [
    "history2 = loaded_model.fit_generator(\n",
    "        train_generator,\n",
    "        steps_per_epoch = 10,\n",
    "        epochs=3,\n",
    "        validation_data = validation_generator,\n",
    "        validation_steps = 50,\n",
    "        )"
   ]
  },
  {
   "cell_type": "code",
   "execution_count": 129,
   "metadata": {},
   "outputs": [],
   "source": [
    "# Documentation - Save\n",
    "# You can use model.save(filepath) to save a Keras model into a single HDF5 file which will contain:\n",
    "\n",
    "#     the architecture of the model, allowing to re-create the model\n",
    "#     the weights of the model\n",
    "#     the training configuration (loss, optimizer)\n",
    "#     the state of the optimizer, allowing to resume training exactly where you left off.\n",
    "# You can then use keras.models.load_model(filepath) to reinstantiate your model. \n",
    "# load_model will also take care of compiling the model using the saved training configuration \n",
    "# (unless the model was never compiled in the first place)."
   ]
  },
  {
   "cell_type": "code",
   "execution_count": 130,
   "metadata": {},
   "outputs": [],
   "source": [
    "%%script false\n",
    "load_json_path = this_json_definition_path\n",
    "with open(load_json_path, 'r') as json_file:\n",
    "    loaded_model_json = json_file.read()\n",
    "loaded_model = ks.models.model_from_json(loaded_model_json)\n",
    "#print(loaded_model.summary())\n",
    "print(\"Loaded model from disk: \\n\\t{} --> {}\".format(load_json_path, loaded_model))\n",
    "\n",
    "load_weights_path = this_hdf5weights_path\n",
    "loaded_model.load_weights(load_weights_path)\n",
    "print(\"Loaded weights from disk: \\n\\t{} --> {}\".format(this_hdf5weights_path, loaded_model))"
   ]
  },
  {
   "cell_type": "code",
   "execution_count": null,
   "metadata": {},
   "outputs": [],
   "source": []
  },
  {
   "cell_type": "code",
   "execution_count": 135,
   "metadata": {},
   "outputs": [
    {
     "data": {
      "text/plain": [
       "<matplotlib.figure.Figure at 0x7f05b7125f98>"
      ]
     },
     "metadata": {},
     "output_type": "display_data"
    },
    {
     "data": {
      "image/png": "[encoded data removed]",
      "text/plain": [
       "<matplotlib.figure.Figure at 0x7f05b71235f8>"
      ]
     },
     "metadata": {},
     "output_type": "display_data"
    }
   ],
   "source": [
    "def my_plot_hist(history, model_title = \"Default Title\"):\n",
    "    fig = plt.figure(figsize=(5,4))\n",
    "    f, (ax1, ax2) = plt.subplots(1, 2, figsize=(20, 5), sharey=False)\n",
    "\n",
    "    ax1.plot(history.epoch,  history.history['loss'], label=\"Train\")\n",
    "    ax1.plot(history.epoch,  history.history['val_loss'], label=\"CV\")\n",
    "    ax1.set_title(\"Loss function development - Training set vs CV set\")\n",
    "    ax1.legend(loc='upper right')\n",
    "    ax1.set_xlabel('Epochs')\n",
    "    ax1.set_ylabel('Values')\n",
    "\n",
    "    ax2.plot(history.epoch,  history.history['acc'],label=\"Train\")\n",
    "    ax2.plot(history.epoch,  history.history['val_acc'],label=\"CV\")\n",
    "    ax2.set_title(\"Accuracy development - Training set vs CV set\")\n",
    "    ax2.legend(loc='upper right')\n",
    "    ax2.set_xlabel('Epochs')\n",
    "    ax2.set_ylabel('Values')\n",
    "\n",
    "    plt.suptitle(model_title, fontsize=16)\n",
    "\n",
    "    plt.show()\n",
    "\n",
    "#history_dict = history.__dict__\n",
    "my_plot_hist(history2, \"This Title\")"
   ]
  },
  {
   "cell_type": "code",
   "execution_count": null,
   "metadata": {},
   "outputs": [],
   "source": []
  }
 ],
 "metadata": {
  "kernelspec": {
   "display_name": "Python 3",
   "language": "python",
   "name": "python3"
  },
  "language_info": {
   "codemirror_mode": {
    "name": "ipython",
    "version": 3
   },
   "file_extension": ".py",
   "mimetype": "text/x-python",
   "name": "python",
   "nbconvert_exporter": "python",
   "pygments_lexer": "ipython3",
   "version": "3.6.4"
  }
 },
 "nbformat": 4,
 "nbformat_minor": 2
}
