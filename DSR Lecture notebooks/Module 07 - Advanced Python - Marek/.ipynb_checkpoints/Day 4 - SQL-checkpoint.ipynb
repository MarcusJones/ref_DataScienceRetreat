{
 "cells": [
  {
   "cell_type": "code",
   "execution_count": 1,
   "metadata": {},
   "outputs": [],
   "source": [
    "%matplotlib inline\n",
    "import numpy as np\n",
    "import pandas as pd\n",
    "import matplotlib.pyplot as plt\n",
    "import seaborn as sns\n",
    "#pd.set_option(\"display.notebook_repr_html\", False)\n",
    "#pd.set_option(\"display.max_rows\",100)\n",
    "#pd.set_option(\"expand_frame_repr\", True)\n",
    "#pd.set_option('max_colwidth',80)\n",
    "\n",
    "\n",
    "weather = pd.read_csv(\n",
    "  \"http://www.gagolewski.com/resources/data/nycflights13_weather.csv.gz\",  \n",
    "  compression=\"gzip\",\n",
    "  comment=\"#\"\n",
    ")\n",
    "flights = pd.read_csv(\n",
    "  \"http://www.gagolewski.com/resources/data/nycflights13_flights.csv.gz\",  \n",
    "  compression=\"gzip\",\n",
    "  comment=\"#\"\n",
    ")\n",
    "airlines = pd.read_csv(\n",
    "  \"http://www.gagolewski.com/resources/data/nycflights13_airlines.csv.gz\",  \n",
    "  compression=\"gzip\",\n",
    "  comment=\"#\"\n",
    ")\n",
    "planes = pd.read_csv(\n",
    "  \"http://www.gagolewski.com/resources/data/nycflights13_planes.csv.gz\",  \n",
    "  compression=\"gzip\",\n",
    "  comment=\"#\"\n",
    ")\n",
    "airports = pd.read_csv(\n",
    "  \"http://www.gagolewski.com/resources/data/nycflights13_airports.csv.gz\",  \n",
    "  compression=\"gzip\",\n",
    "  comment=\"#\"\n",
    ")"
   ]
  },
  {
   "cell_type": "code",
   "execution_count": 2,
   "metadata": {},
   "outputs": [],
   "source": [
    "dfs = {'weather'   : weather,\n",
    "       'flights'   :  flights,\n",
    "       'airlines'  : airlines,\n",
    "       'planes'    :  planes,\n",
    "       'airports'  :   airports,\n",
    "      }"
   ]
  },
  {
   "cell_type": "code",
   "execution_count": null,
   "metadata": {},
   "outputs": [],
   "source": [
    "for k in dfs:\n",
    "    print(\"\\n DATA FRAME\")\n",
    "    print(k)\n",
    "    #print(dfs[k].head())"
   ]
  },
  {
   "cell_type": "code",
   "execution_count": 4,
   "metadata": {},
   "outputs": [
    {
     "name": "stderr",
     "output_type": "stream",
     "text": [
      "ERROR:root:Internal Python error in the inspect module.\n",
      "Below is the traceback from this internal error.\n",
      "\n"
     ]
    },
    {
     "name": "stdout",
     "output_type": "stream",
     "text": [
      "Traceback (most recent call last):\n",
      "  File \"C:\\anaconda3\\lib\\site-packages\\IPython\\core\\interactiveshell.py\", line 2910, in run_code\n",
      "    exec(code_obj, self.user_global_ns, self.user_ns)\n",
      "  File \"<ipython-input-4-393b4ccfc27b>\", line 15, in <module>\n",
      "    writer.save()\n",
      "  File \"C:\\anaconda3\\lib\\site-packages\\pandas\\io\\excel.py\", line 1602, in save\n",
      "    return self.book.close()\n",
      "  File \"C:\\anaconda3\\lib\\site-packages\\xlsxwriter\\workbook.py\", line 310, in close\n",
      "    self._store_workbook()\n",
      "  File \"C:\\anaconda3\\lib\\site-packages\\xlsxwriter\\workbook.py\", line 618, in _store_workbook\n",
      "    xml_files = packager._create_package()\n",
      "  File \"C:\\anaconda3\\lib\\site-packages\\xlsxwriter\\packager.py\", line 131, in _create_package\n",
      "    self._write_worksheet_files()\n",
      "  File \"C:\\anaconda3\\lib\\site-packages\\xlsxwriter\\packager.py\", line 189, in _write_worksheet_files\n",
      "    worksheet._assemble_xml_file()\n",
      "  File \"C:\\anaconda3\\lib\\site-packages\\xlsxwriter\\worksheet.py\", line 3505, in _assemble_xml_file\n",
      "    self._write_sheet_data()\n",
      "  File \"C:\\anaconda3\\lib\\site-packages\\xlsxwriter\\worksheet.py\", line 4979, in _write_sheet_data\n",
      "    self._write_rows()\n",
      "  File \"C:\\anaconda3\\lib\\site-packages\\xlsxwriter\\worksheet.py\", line 5165, in _write_rows\n",
      "    self._write_cell(row_num, col_num, col_ref)\n",
      "  File \"C:\\anaconda3\\lib\\site-packages\\xlsxwriter\\worksheet.py\", line 5355, in _write_cell\n",
      "    self._xml_string_element(string, attributes)\n",
      "  File \"C:\\anaconda3\\lib\\site-packages\\xlsxwriter\\xmlwriter.py\", line 110, in _xml_string_element\n",
      "    self.fh.write(\"\"\"<c%s t=\"s\"><v>%d</v></c>\"\"\" % (attr, index))\n",
      "  File \"C:\\anaconda3\\lib\\codecs.py\", line 720, in write\n",
      "    return self.writer.write(data)\n",
      "  File \"C:\\anaconda3\\lib\\codecs.py\", line 377, in write\n",
      "    self.stream.write(data)\n",
      "KeyboardInterrupt\n",
      "\n",
      "During handling of the above exception, another exception occurred:\n",
      "\n",
      "Traceback (most recent call last):\n",
      "  File \"C:\\anaconda3\\lib\\site-packages\\IPython\\core\\interactiveshell.py\", line 1828, in showtraceback\n",
      "    stb = value._render_traceback_()\n",
      "AttributeError: 'KeyboardInterrupt' object has no attribute '_render_traceback_'\n",
      "\n",
      "During handling of the above exception, another exception occurred:\n",
      "\n",
      "Traceback (most recent call last):\n",
      "  File \"C:\\anaconda3\\lib\\site-packages\\IPython\\core\\ultratb.py\", line 1090, in get_records\n",
      "    return _fixed_getinnerframes(etb, number_of_lines_of_context, tb_offset)\n",
      "  File \"C:\\anaconda3\\lib\\site-packages\\IPython\\core\\ultratb.py\", line 311, in wrapped\n",
      "    return f(*args, **kwargs)\n",
      "  File \"C:\\anaconda3\\lib\\site-packages\\IPython\\core\\ultratb.py\", line 345, in _fixed_getinnerframes\n",
      "    records = fix_frame_records_filenames(inspect.getinnerframes(etb, context))\n",
      "  File \"C:\\anaconda3\\lib\\inspect.py\", line 1483, in getinnerframes\n",
      "    frameinfo = (tb.tb_frame,) + getframeinfo(tb, context)\n",
      "  File \"C:\\anaconda3\\lib\\inspect.py\", line 1441, in getframeinfo\n",
      "    filename = getsourcefile(frame) or getfile(frame)\n",
      "  File \"C:\\anaconda3\\lib\\inspect.py\", line 696, in getsourcefile\n",
      "    if getattr(getmodule(object, filename), '__loader__', None) is not None:\n",
      "  File \"C:\\anaconda3\\lib\\inspect.py\", line 739, in getmodule\n",
      "    f = getabsfile(module)\n",
      "  File \"C:\\anaconda3\\lib\\inspect.py\", line 708, in getabsfile\n",
      "    _filename = getsourcefile(object) or getfile(object)\n",
      "  File \"C:\\anaconda3\\lib\\inspect.py\", line 693, in getsourcefile\n",
      "    if os.path.exists(filename):\n",
      "  File \"C:\\anaconda3\\lib\\genericpath.py\", line 19, in exists\n",
      "    os.stat(path)\n",
      "KeyboardInterrupt\n"
     ]
    },
    {
     "ename": "KeyboardInterrupt",
     "evalue": "",
     "output_type": "error",
     "traceback": [
      "\u001b[1;31m---------------------------------------------------------------------------\u001b[0m"
     ]
    }
   ],
   "source": [
    "# Create a Pandas Excel writer using XlsxWriter as the engine.\n",
    "writer = pd.ExcelWriter(r'c:\\pandas_multiple.xlsx', engine='xlsxwriter')\n",
    "\n",
    "# Write each dataframe to a different worksheet.\n",
    "\n",
    "for k in dfs:\n",
    "    df = dfs[k]\n",
    "    #print(\"\\n DATA FRAME\")\n",
    "    #print(k)\n",
    "    #print(dfs[k].head())\n",
    "\n",
    "    df.to_excel(writer, sheet_name=k)\n",
    "\n",
    "# Close the Pandas Excel writer and output the Excel file.\n",
    "writer.save()"
   ]
  },
  {
   "cell_type": "code",
   "execution_count": null,
   "metadata": {},
   "outputs": [],
   "source": []
  }
 ],
 "metadata": {
  "kernelspec": {
   "display_name": "Python 3",
   "language": "python",
   "name": "python3"
  },
  "language_info": {
   "codemirror_mode": {
    "name": "ipython",
    "version": 3
   },
   "file_extension": ".py",
   "mimetype": "text/x-python",
   "name": "python",
   "nbconvert_exporter": "python",
   "pygments_lexer": "ipython3",
   "version": "3.6.4"
  }
 },
 "nbformat": 4,
 "nbformat_minor": 2
}
