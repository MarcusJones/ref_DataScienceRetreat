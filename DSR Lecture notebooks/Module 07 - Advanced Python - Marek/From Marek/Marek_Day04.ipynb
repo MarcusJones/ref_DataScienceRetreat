{
 "cells": [
  {
   "cell_type": "markdown",
   "metadata": {},
   "source": [
    "# The Pandas Playin' Day"
   ]
  },
  {
   "cell_type": "code",
   "execution_count": 43,
   "metadata": {
    "collapsed": true
   },
   "outputs": [],
   "source": [
    "%matplotlib inline\n",
    "import numpy as np\n",
    "import pandas as pd\n",
    "import matplotlib.pyplot as plt\n",
    "import seaborn as sns\n",
    "pd.set_option(\"display.notebook_repr_html\", False)\n",
    "pd.set_option(\"display.max_rows\",100)\n",
    "pd.set_option(\"expand_frame_repr\", True)\n",
    "pd.set_option('max_colwidth',80)\n",
    "\n",
    "tips = pd.read_csv(\"http://gagolewski.com/resources/data/tips.csv\", comment=\"#\")\n",
    "iris = pd.read_csv(\"http://gagolewski.com/resources/data/iris.csv\", comment=\"#\")\n",
    "flights = pd.read_csv(\"http://gagolewski.com/resources/data/flights.csv\", comment=\"#\")\n",
    "\n",
    "weather = pd.read_csv(\n",
    "  \"http://www.gagolewski.com/resources/data/nycflights13_weather.csv.gz\",  \n",
    "  compression=\"gzip\",\n",
    "  comment=\"#\"\n",
    ")"
   ]
  },
  {
   "cell_type": "code",
   "execution_count": 44,
   "metadata": {
    "collapsed": false
   },
   "outputs": [
    {
     "data": {
      "text/plain": [
       "  origin  year  month  day  hour   temp   dewp  humid  wind_dir  wind_speed  \\\n",
       "0    EWR  2013      1    1     0  37.04  21.92  53.97     230.0    10.35702   \n",
       "1    EWR  2013      1    1     1  37.04  21.92  53.97     230.0    13.80936   \n",
       "2    EWR  2013      1    1     2  37.94  21.92  52.09     230.0    12.65858   \n",
       "3    EWR  2013      1    1     3  37.94  23.00  54.51     230.0    13.80936   \n",
       "4    EWR  2013      1    1     4  37.94  24.08  57.04     240.0    14.96014   \n",
       "\n",
       "   wind_gust  precip  pressure  visib            time_hour  \n",
       "0  11.918651     0.0    1013.9   10.0  2013-01-01 01:00:00  \n",
       "1  15.891535     0.0    1013.0   10.0  2013-01-01 02:00:00  \n",
       "2  14.567241     0.0    1012.6   10.0  2013-01-01 03:00:00  \n",
       "3  15.891535     0.0    1012.7   10.0  2013-01-01 04:00:00  \n",
       "4  17.215830     0.0    1012.8   10.0  2013-01-01 05:00:00  "
      ]
     },
     "execution_count": 44,
     "metadata": {},
     "output_type": "execute_result"
    }
   ],
   "source": [
    "weather.head()"
   ]
  },
  {
   "cell_type": "markdown",
   "metadata": {},
   "source": [
    "* Convert temperature to Celsius.\n",
    "* Compute daily mean temperatures for the `JFK` airport.\n",
    "If some hourly temperature measurement is missing,\n",
    "replace it with the average from the same hour in the\n",
    "preceding and the following day.\n",
    "* Present the daily mean temperatures on a plot.\n",
    "The x-axis labels should be human-readable and intuitive.\n",
    "* Choose days with greater mean temperature than in the preceding day.\n",
    "* Find 5 hottest days."
   ]
  },
  {
   "cell_type": "code",
   "execution_count": 45,
   "metadata": {
    "collapsed": true
   },
   "outputs": [],
   "source": [
    "# John F. Kennedy International Airport (JFK)\n",
    "# LaGuardia Airport (LGA)\n",
    "# Newark International Airport (EWR)"
   ]
  },
  {
   "cell_type": "code",
   "execution_count": 46,
   "metadata": {
    "collapsed": true
   },
   "outputs": [],
   "source": [
    "weather[\"tempC\"] = (weather[\"temp\"]-32.0)/1.8"
   ]
  },
  {
   "cell_type": "code",
   "execution_count": 50,
   "metadata": {
    "collapsed": false
   },
   "outputs": [
    {
     "data": {
      "text/plain": [
       "    year  month  day  hour            time_hour  tempC\n",
       "0   2013      1    1     0  2013-01-01 01:00:00    3.3\n",
       "1   2013      1    1     1  2013-01-01 02:00:00    3.3\n",
       "2   2013      1    1     2  2013-01-01 03:00:00    3.9\n",
       "3   2013      1    1     3  2013-01-01 04:00:00    3.9\n",
       "4   2013      1    1     4  2013-01-01 05:00:00    3.9\n",
       "5   2013      1    1     6  2013-01-01 07:00:00    3.9\n",
       "6   2013      1    1     7  2013-01-01 08:00:00    3.9\n",
       "7   2013      1    1     8  2013-01-01 09:00:00    4.4\n",
       "8   2013      1    1     9  2013-01-01 10:00:00    4.4\n",
       "9   2013      1    1    10  2013-01-01 11:00:00    3.9\n",
       "10  2013      1    1    11  2013-01-01 12:00:00    3.3\n",
       "11  2013      1    1    12  2013-01-01 13:00:00    3.9\n",
       "12  2013      1    1    13  2013-01-01 14:00:00    4.4\n",
       "13  2013      1    1    14  2013-01-01 15:00:00    4.4\n",
       "14  2013      1    1    15  2013-01-01 16:00:00    5.0\n",
       "15  2013      1    1    16  2013-01-01 17:00:00    5.0\n",
       "16  2013      1    1    17  2013-01-01 18:00:00    4.4\n",
       "17  2013      1    1    18  2013-01-01 19:00:00    3.0\n",
       "18  2013      1    1    19  2013-01-01 20:00:00    3.9\n",
       "19  2013      1    1    20  2013-01-01 21:00:00    3.9\n",
       "20  2013      1    1    21  2013-01-01 22:00:00    3.3\n",
       "21  2013      1    1    22  2013-01-01 23:00:00    2.8\n",
       "22  2013      1    1    23  2013-01-02 00:00:00    1.7\n",
       "23  2013      1    2     0  2013-01-02 01:00:00    0.6\n",
       "24  2013      1    2     1  2013-01-02 02:00:00    0.0"
      ]
     },
     "execution_count": 50,
     "metadata": {},
     "output_type": "execute_result"
    }
   ],
   "source": [
    "weather_JFK = weather.loc[weather.origin == \"JFK\",:].reset_index(drop=True)\n",
    "weather_JFK.iloc[:25, [1,2,3,4,-2, -1]]"
   ]
  },
  {
   "cell_type": "code",
   "execution_count": 52,
   "metadata": {
    "collapsed": false
   },
   "outputs": [],
   "source": [
    "weather_JFK[\"time_hour\"] = pd.to_datetime(weather_JFK[\"time_hour\"])"
   ]
  },
  {
   "cell_type": "code",
   "execution_count": 53,
   "metadata": {
    "collapsed": false
   },
   "outputs": [
    {
     "data": {
      "text/plain": [
       "  origin  year  month  day  hour   temp   dewp  humid  wind_dir  wind_speed  \\\n",
       "0    JFK  2013      1    1     0  37.94  23.00  54.51     240.0    16.11092   \n",
       "1    JFK  2013      1    1     1  37.94  24.08  57.04     250.0    17.26170   \n",
       "2    JFK  2013      1    1     2  39.02  24.98  56.77     240.0    19.56326   \n",
       "3    JFK  2013      1    1     3  39.02  26.06  59.37     240.0    18.41248   \n",
       "4    JFK  2013      1    1     4  39.02  24.98  56.77     260.0    14.96014   \n",
       "\n",
       "   wind_gust  precip  pressure  visib           time_hour  tempC  \n",
       "0  18.540125     0.0    1014.4   10.0 2013-01-01 01:00:00    3.3  \n",
       "1  19.864419     0.0    1013.5   10.0 2013-01-01 02:00:00    3.3  \n",
       "2  22.513008     0.0    1013.0   10.0 2013-01-01 03:00:00    3.9  \n",
       "3  21.188714     0.0    1013.2   10.0 2013-01-01 04:00:00    3.9  \n",
       "4  17.215830     0.0    1013.2   10.0 2013-01-01 05:00:00    3.9  "
      ]
     },
     "execution_count": 53,
     "metadata": {},
     "output_type": "execute_result"
    }
   ],
   "source": [
    "weather_JFK.head()"
   ]
  },
  {
   "cell_type": "code",
   "execution_count": 61,
   "metadata": {
    "collapsed": false
   },
   "outputs": [
    {
     "data": {
      "text/plain": [
       "<matplotlib.axes._subplots.AxesSubplot at 0x7fe2d7caafd0>"
      ]
     },
     "execution_count": 61,
     "metadata": {},
     "output_type": "execute_result"
    },
    {
     "data": {
      "image/png": "[encoded data removed]",
      "text/plain": [
       "<matplotlib.figure.Figure at 0x7fe2d7d72358>"
      ]
     },
     "metadata": {},
     "output_type": "display_data"
    }
   ],
   "source": [
    "i = pd.date_range(\"2013-01-01 00:00:00\", \"2013-12-31 23:00:00\", freq=\"1H\")\n",
    "weather_JFK.set_index(\"time_hour\").loc[:,\"tempC\"].reindex(i).interpolate().fillna(method='bfill').plot()"
   ]
  },
  {
   "cell_type": "code",
   "execution_count": 78,
   "metadata": {
    "collapsed": false
   },
   "outputs": [
    {
     "data": {
      "text/plain": [
       "2013-10-26 02:00:00   NaN\n",
       "2013-10-27 02:00:00   NaN\n",
       "Name: tempC, dtype: float64"
      ]
     },
     "execution_count": 78,
     "metadata": {},
     "output_type": "execute_result"
    }
   ],
   "source": [
    "i = pd.date_range(\"2013-01-01 00:00:00\", \"2013-12-31 23:00:00\", freq=\"1H\")\n",
    "x = weather_JFK.set_index(\"time_hour\").loc[:,\"tempC\"].reindex(i)\n",
    "for j in range(2):\n",
    "    imissing = np.where(x.isnull())[0]\n",
    "    imissing = imissing[(imissing >= 24) & (imissing < len(x)-24)]\n",
    "    x[imissing] = (x[imissing-24].values+x[imissing+24].values)/2\n",
    "\n",
    "x[imissing]\n",
    "x.tempC = my_fill_na(x.tempC)"
   ]
  },
  {
   "cell_type": "code",
   "execution_count": 29,
   "metadata": {
    "collapsed": false
   },
   "outputs": [
    {
     "data": {
      "text/plain": [
       "<matplotlib.axes._subplots.AxesSubplot at 0x7fe2d7eb4550>"
      ]
     },
     "execution_count": 29,
     "metadata": {},
     "output_type": "execute_result"
    },
    {
     "data": {
      "image/png": "[encoded data removed]",
      "text/plain": [
       "<matplotlib.figure.Figure at 0x7fe2d7ef7e10>"
      ]
     },
     "metadata": {},
     "output_type": "display_data"
    }
   ],
   "source": [
    "x = weather_JFK.loc[:,['year', 'month', 'day', 'tempC']].groupby(['year', 'month', 'day']).mean()\n",
    "x = x.reset_index()\n",
    "x.index = pd.to_datetime(x.loc[:,['year', 'month', 'day']])\n",
    "x.tempC.plot()"
   ]
  },
  {
   "cell_type": "code",
   "execution_count": 31,
   "metadata": {
    "collapsed": false
   },
   "outputs": [
    {
     "data": {
      "text/plain": [
       "<matplotlib.axes._subplots.AxesSubplot at 0x7fe2d7dab080>"
      ]
     },
     "execution_count": 31,
     "metadata": {},
     "output_type": "execute_result"
    },
    {
     "data": {
      "image/png": "[encoded data removed]",
      "text/plain": [
       "<matplotlib.figure.Figure at 0x7fe2d7ef7eb8>"
      ]
     },
     "metadata": {},
     "output_type": "display_data"
    }
   ],
   "source": [
    "weather_JFK.set_index('time_hour').loc[:,['tempC']].\\\n",
    "    groupby(pd.Grouper(freq=\"D\")).mean().plot()"
   ]
  },
  {
   "cell_type": "code",
   "execution_count": 22,
   "metadata": {
    "collapsed": false
   },
   "outputs": [
    {
     "data": {
      "text/plain": [
       "<matplotlib.axes._subplots.AxesSubplot at 0x7fe2d802fd68>"
      ]
     },
     "execution_count": 22,
     "metadata": {},
     "output_type": "execute_result"
    },
    {
     "data": {
      "image/png": "[encoded data removed]",
      "text/plain": [
       "<matplotlib.figure.Figure at 0x7fe2db97c748>"
      ]
     },
     "metadata": {},
     "output_type": "display_data"
    }
   ],
   "source": [
    "(\n",
    "weather_JFK\n",
    "    .set_index('time_hour')\n",
    "    .loc[:,['year', 'month', 'day', 'tempC']]\n",
    "    .groupby(pd.Grouper(freq=\"D\"))\n",
    "    .mean()\n",
    "    .loc[:,\"tempC\"]\n",
    "    .plot()\n",
    ")"
   ]
  },
  {
   "cell_type": "code",
   "execution_count": 80,
   "metadata": {
    "collapsed": false
   },
   "outputs": [
    {
     "data": {
      "text/plain": [
       "               tempC\n",
       "time_hour           \n",
       "2013-01-01  3.913636\n",
       "2013-01-02 -1.825000\n",
       "2013-01-03 -1.237500\n",
       "2013-01-04  1.012500\n",
       "2013-01-05  2.720833"
      ]
     },
     "execution_count": 80,
     "metadata": {},
     "output_type": "execute_result"
    }
   ],
   "source": [
    "x = weather_JFK.set_index('time_hour').loc[:,['tempC']].\\\n",
    "    groupby(pd.Grouper(freq=\"D\")).mean()\n",
    "x.head()"
   ]
  },
  {
   "cell_type": "code",
   "execution_count": 84,
   "metadata": {
    "collapsed": false
   },
   "outputs": [
    {
     "data": {
      "text/plain": [
       "DatetimeIndex(['2013-01-03', '2013-01-04', '2013-01-05', '2013-01-06',\n",
       "               '2013-01-07', '2013-01-09', '2013-01-10', '2013-01-12',\n",
       "               '2013-01-14', '2013-01-17',\n",
       "               ...\n",
       "               '2013-12-18', '2013-12-19', '2013-12-20', '2013-12-21',\n",
       "               '2013-12-22', '2013-12-23', '2013-12-26', '2013-12-27',\n",
       "               '2013-12-28', '2013-12-29'],\n",
       "              dtype='datetime64[ns]', name='time_hour', length=196, freq=None)"
      ]
     },
     "execution_count": 84,
     "metadata": {},
     "output_type": "execute_result"
    }
   ],
   "source": [
    "x[x.diff()>0].dropna().index"
   ]
  },
  {
   "cell_type": "code",
   "execution_count": 86,
   "metadata": {
    "collapsed": false
   },
   "outputs": [
    {
     "data": {
      "text/plain": [
       "time_hour\n",
       "2013-07-17    30.787500\n",
       "2013-07-16    30.483333\n",
       "2013-07-20    30.241667\n",
       "2013-07-18    30.195833\n",
       "2013-07-19    30.187500\n",
       "Name: tempC, dtype: float64"
      ]
     },
     "execution_count": 86,
     "metadata": {},
     "output_type": "execute_result"
    }
   ],
   "source": [
    "x.tempC.nlargest(5)"
   ]
  },
  {
   "cell_type": "code",
   "execution_count": 87,
   "metadata": {
    "collapsed": true
   },
   "outputs": [],
   "source": [
    "weather = pd.read_csv(\n",
    "  \"http://www.gagolewski.com/resources/data/nycflights13_weather.csv.gz\",  \n",
    "  compression=\"gzip\",\n",
    "  comment=\"#\"\n",
    ")\n",
    "flights = pd.read_csv(\n",
    "  \"http://www.gagolewski.com/resources/data/nycflights13_flights.csv.gz\",  \n",
    "  compression=\"gzip\",\n",
    "  comment=\"#\"\n",
    ")\n",
    "airlines = pd.read_csv(\n",
    "  \"http://www.gagolewski.com/resources/data/nycflights13_airlines.csv.gz\",  \n",
    "  compression=\"gzip\",\n",
    "  comment=\"#\"\n",
    ")\n",
    "planes = pd.read_csv(\n",
    "  \"http://www.gagolewski.com/resources/data/nycflights13_planes.csv.gz\",  \n",
    "  compression=\"gzip\",\n",
    "  comment=\"#\"\n",
    ")\n",
    "airports = pd.read_csv(\n",
    "  \"http://www.gagolewski.com/resources/data/nycflights13_airports.csv.gz\",  \n",
    "  compression=\"gzip\",\n",
    "  comment=\"#\"\n",
    ")"
   ]
  },
  {
   "cell_type": "code",
   "execution_count": 88,
   "metadata": {
    "collapsed": true
   },
   "outputs": [],
   "source": [
    "# .info(), shape, ... describe(), value_counts, ..."
   ]
  },
  {
   "cell_type": "code",
   "execution_count": 89,
   "metadata": {
    "collapsed": false
   },
   "outputs": [
    {
     "data": {
      "text/plain": [
       "   year  month  day  dep_time  sched_dep_time  dep_delay  arr_time  \\\n",
       "0  2013      1    1     517.0             515        2.0     830.0   \n",
       "1  2013      1    1     533.0             529        4.0     850.0   \n",
       "2  2013      1    1     542.0             540        2.0     923.0   \n",
       "3  2013      1    1     544.0             545       -1.0    1004.0   \n",
       "4  2013      1    1     554.0             600       -6.0     812.0   \n",
       "\n",
       "   sched_arr_time  arr_delay carrier  flight tailnum origin dest  air_time  \\\n",
       "0             819       11.0      UA    1545  N14228    EWR  IAH     227.0   \n",
       "1             830       20.0      UA    1714  N24211    LGA  IAH     227.0   \n",
       "2             850       33.0      AA    1141  N619AA    JFK  MIA     160.0   \n",
       "3            1022      -18.0      B6     725  N804JB    JFK  BQN     183.0   \n",
       "4             837      -25.0      DL     461  N668DN    LGA  ATL     116.0   \n",
       "\n",
       "   distance  hour  minute            time_hour  \n",
       "0      1400     5      15  2013-01-01 05:00:00  \n",
       "1      1416     5      29  2013-01-01 05:00:00  \n",
       "2      1089     5      40  2013-01-01 05:00:00  \n",
       "3      1576     5      45  2013-01-01 05:00:00  \n",
       "4       762     6       0  2013-01-01 06:00:00  "
      ]
     },
     "execution_count": 89,
     "metadata": {},
     "output_type": "execute_result"
    }
   ],
   "source": [
    "flights.head()"
   ]
  },
  {
   "cell_type": "code",
   "execution_count": 90,
   "metadata": {
    "collapsed": true
   },
   "outputs": [],
   "source": [
    "import sqlite3"
   ]
  },
  {
   "cell_type": "code",
   "execution_count": 91,
   "metadata": {
    "collapsed": false
   },
   "outputs": [
    {
     "data": {
      "text/plain": [
       "'/home/gagolews/Teaching/DSR/batch13'"
      ]
     },
     "execution_count": 91,
     "metadata": {},
     "output_type": "execute_result"
    }
   ],
   "source": [
    "import os, os.path\n",
    "os.getcwd()"
   ]
  },
  {
   "cell_type": "code",
   "execution_count": 92,
   "metadata": {
    "collapsed": true
   },
   "outputs": [],
   "source": [
    "conn = sqlite3.connect(\"nycflights13.db\")\n",
    "# ..........\n",
    "conn.close()\n",
    "conn = None"
   ]
  },
  {
   "cell_type": "code",
   "execution_count": 93,
   "metadata": {
    "collapsed": true
   },
   "outputs": [],
   "source": [
    "conn = sqlite3.connect(\"nycflights13.db\")"
   ]
  },
  {
   "cell_type": "code",
   "execution_count": 94,
   "metadata": {
    "collapsed": true
   },
   "outputs": [],
   "source": [
    "conn.execute(\"\"\"\n",
    "CREATE TABLE airlines(\n",
    "    carrier CHAR(2) PRIMARY KEY,\n",
    "    name VARCHAR(64)\n",
    ")\n",
    "\"\"\")\n",
    "conn.commit()"
   ]
  },
  {
   "cell_type": "code",
   "execution_count": 98,
   "metadata": {
    "collapsed": false
   },
   "outputs": [
    {
     "data": {
      "text/plain": [
       "[('9E', 'Endeavor Air Inc.'),\n",
       " ('AA', 'American Airlines Inc.'),\n",
       " ('AS', 'Alaska Airlines Inc.')]"
      ]
     },
     "execution_count": 98,
     "metadata": {},
     "output_type": "execute_result"
    }
   ],
   "source": [
    "a = list(airlines.to_records(index=False))\n",
    "a[:3]"
   ]
  },
  {
   "cell_type": "code",
   "execution_count": 99,
   "metadata": {
    "collapsed": true
   },
   "outputs": [],
   "source": [
    "conn.executemany(\"\"\"\n",
    "    INSERT INTO airlines(carrier, name) VALUES (?, ?)\n",
    "\"\"\", a)\n",
    "conn.commit()"
   ]
  },
  {
   "cell_type": "code",
   "execution_count": 100,
   "metadata": {
    "collapsed": true
   },
   "outputs": [],
   "source": [
    "cur = conn.execute(\"\"\"\n",
    "SELECT * FROM airlines WHERE name LIKE '%AMERICA%'\n",
    "\"\"\")"
   ]
  },
  {
   "cell_type": "code",
   "execution_count": 101,
   "metadata": {
    "collapsed": false
   },
   "outputs": [
    {
     "data": {
      "text/plain": [
       "[('AA', 'American Airlines Inc.'), ('VX', 'Virgin America')]"
      ]
     },
     "execution_count": 101,
     "metadata": {},
     "output_type": "execute_result"
    }
   ],
   "source": [
    "w = cur.fetchall()\n",
    "w"
   ]
  },
  {
   "cell_type": "code",
   "execution_count": 103,
   "metadata": {
    "collapsed": false
   },
   "outputs": [
    {
     "data": {
      "text/plain": [
       "    0                       1\n",
       "0  AA  American Airlines Inc.\n",
       "1  VX          Virgin America"
      ]
     },
     "execution_count": 103,
     "metadata": {},
     "output_type": "execute_result"
    }
   ],
   "source": [
    "pd.DataFrame.from_records(w)"
   ]
  },
  {
   "cell_type": "code",
   "execution_count": 104,
   "metadata": {
    "collapsed": true
   },
   "outputs": [],
   "source": [
    "conn.close()"
   ]
  },
  {
   "cell_type": "code",
   "execution_count": 106,
   "metadata": {
    "collapsed": true
   },
   "outputs": [],
   "source": [
    "if os.path.isfile(\"nycflights13.db\"):\n",
    "    os.remove(\"nycflights13.db\")\n",
    "conn = sqlite3.connect(\"nycflights13.db\")\n",
    "\n",
    "airports.to_sql(\"airports\", conn)\n",
    "planes.to_sql(\"planes\", conn)\n",
    "flights.to_sql(\"flights\", conn)\n",
    "airlines.to_sql(\"airlines\", conn)\n",
    "weather.to_sql(\"weather\", conn)"
   ]
  },
  {
   "cell_type": "code",
   "execution_count": 107,
   "metadata": {
    "collapsed": false
   },
   "outputs": [
    {
     "data": {
      "text/plain": [
       "   cid     name     type  notnull dflt_value  pk\n",
       "0    0    index  INTEGER        0       None   0\n",
       "1    1  carrier     TEXT        0       None   0\n",
       "2    2     name     TEXT        0       None   0"
      ]
     },
     "execution_count": 107,
     "metadata": {},
     "output_type": "execute_result"
    }
   ],
   "source": [
    "pd.read_sql_query(\"\"\"\n",
    "PRAGMA TABLE_INFO(airlines)\n",
    "\"\"\", conn)"
   ]
  },
  {
   "cell_type": "markdown",
   "metadata": {},
   "source": [
    "1. `SELECT DISTINCT engine FROM planes`\n",
    "2. `SELECT DISTINCT type, engine FROM planes`\n",
    "3. `SELECT COUNT(*), engine FROM planes GROUP BY engine`\n",
    "4. `SELECT COUNT(*), engine, type FROM planes GROUP BY engine, type`"
   ]
  },
  {
   "cell_type": "code",
   "execution_count": 108,
   "metadata": {
    "collapsed": false
   },
   "outputs": [
    {
     "data": {
      "text/plain": [
       "          engine\n",
       "0      Turbo-fan\n",
       "1      Turbo-jet\n",
       "2  Reciprocating\n",
       "3        4 Cycle\n",
       "4    Turbo-shaft\n",
       "5     Turbo-prop"
      ]
     },
     "execution_count": 108,
     "metadata": {},
     "output_type": "execute_result"
    }
   ],
   "source": [
    "pd.read_sql_query(\"SELECT DISTINCT engine FROM planes\", conn)"
   ]
  },
  {
   "cell_type": "code",
   "execution_count": 113,
   "metadata": {
    "collapsed": false
   },
   "outputs": [
    {
     "data": {
      "text/plain": [
       "          engine\n",
       "0      Turbo-fan\n",
       "1      Turbo-jet\n",
       "2  Reciprocating\n",
       "3        4 Cycle\n",
       "4    Turbo-shaft\n",
       "5     Turbo-prop"
      ]
     },
     "execution_count": 113,
     "metadata": {},
     "output_type": "execute_result"
    }
   ],
   "source": [
    "pd.DataFrame(planes.engine.drop_duplicates().reset_index(drop=True))"
   ]
  },
  {
   "cell_type": "code",
   "execution_count": 116,
   "metadata": {
    "collapsed": false
   },
   "outputs": [
    {
     "data": {
      "text/plain": [
       "          engine\n",
       "0      Turbo-fan\n",
       "1      Turbo-jet\n",
       "2  Reciprocating\n",
       "3        4 Cycle\n",
       "4    Turbo-shaft\n",
       "5     Turbo-prop"
      ]
     },
     "execution_count": 116,
     "metadata": {},
     "output_type": "execute_result"
    }
   ],
   "source": [
    "pd.DataFrame(planes.engine.unique(), columns=['engine'])"
   ]
  },
  {
   "cell_type": "code",
   "execution_count": 120,
   "metadata": {
    "collapsed": false
   },
   "outputs": [
    {
     "data": {
      "text/plain": [
       "          engine\n",
       "0      Turbo-fan\n",
       "1      Turbo-jet\n",
       "2  Reciprocating\n",
       "3        4 Cycle\n",
       "4    Turbo-shaft\n",
       "5     Turbo-prop"
      ]
     },
     "execution_count": 120,
     "metadata": {},
     "output_type": "execute_result"
    }
   ],
   "source": [
    "planes.loc[:,[\"engine\"]].drop_duplicates().reset_index(drop=True)"
   ]
  },
  {
   "cell_type": "code",
   "execution_count": 121,
   "metadata": {
    "collapsed": false
   },
   "outputs": [
    {
     "data": {
      "text/plain": [
       "          engine                      type\n",
       "0      Turbo-fan   Fixed wing multi engine\n",
       "1      Turbo-jet   Fixed wing multi engine\n",
       "2  Reciprocating  Fixed wing single engine\n",
       "3  Reciprocating   Fixed wing multi engine\n",
       "4        4 Cycle  Fixed wing single engine\n",
       "5    Turbo-shaft                Rotorcraft\n",
       "6     Turbo-prop   Fixed wing multi engine"
      ]
     },
     "execution_count": 121,
     "metadata": {},
     "output_type": "execute_result"
    }
   ],
   "source": [
    "planes.loc[:,[\"engine\", \"type\"]].drop_duplicates().reset_index(drop=True)"
   ]
  },
  {
   "cell_type": "code",
   "execution_count": 124,
   "metadata": {
    "collapsed": false
   },
   "outputs": [
    {
     "data": {
      "text/plain": [
       "          engine  COUNT\n",
       "0        4 Cycle      2\n",
       "1  Reciprocating     28\n",
       "2      Turbo-fan   2750\n",
       "3      Turbo-jet    535\n",
       "4     Turbo-prop      2\n",
       "5    Turbo-shaft      5"
      ]
     },
     "execution_count": 124,
     "metadata": {},
     "output_type": "execute_result"
    }
   ],
   "source": [
    "planes.groupby(\"engine\").size().reset_index().rename(columns={0:\"COUNT\"})"
   ]
  },
  {
   "cell_type": "code",
   "execution_count": 126,
   "metadata": {
    "collapsed": false
   },
   "outputs": [
    {
     "data": {
      "text/plain": [
       "          engine                      type  COUNT\n",
       "0        4 Cycle  Fixed wing single engine      2\n",
       "1  Reciprocating   Fixed wing multi engine      5\n",
       "2  Reciprocating  Fixed wing single engine     23\n",
       "3      Turbo-fan   Fixed wing multi engine   2750\n",
       "4      Turbo-jet   Fixed wing multi engine    535\n",
       "5     Turbo-prop   Fixed wing multi engine      2\n",
       "6    Turbo-shaft                Rotorcraft      5"
      ]
     },
     "execution_count": 126,
     "metadata": {},
     "output_type": "execute_result"
    }
   ],
   "source": [
    "planes.groupby([\"engine\",'type']).size().reset_index().rename(columns={0:\"COUNT\"})"
   ]
  },
  {
   "cell_type": "code",
   "execution_count": 129,
   "metadata": {
    "collapsed": false
   },
   "outputs": [
    {
     "data": {
      "text/plain": [
       "               engine\n",
       "Turbo-fan        2750\n",
       "Turbo-jet         535\n",
       "Reciprocating      28\n",
       "Turbo-shaft         5\n",
       "Turbo-prop          2\n",
       "4 Cycle             2"
      ]
     },
     "execution_count": 129,
     "metadata": {},
     "output_type": "execute_result"
    }
   ],
   "source": [
    "pd.DataFrame(planes.engine.value_counts())"
   ]
  },
  {
   "cell_type": "code",
   "execution_count": 130,
   "metadata": {
    "collapsed": false
   },
   "outputs": [
    {
     "data": {
      "text/plain": [
       "type           Fixed wing multi engine  Fixed wing single engine  Rotorcraft\n",
       "engine                                                                      \n",
       "4 Cycle                              0                         2           0\n",
       "Reciprocating                        5                        23           0\n",
       "Turbo-fan                         2750                         0           0\n",
       "Turbo-jet                          535                         0           0\n",
       "Turbo-prop                           2                         0           0\n",
       "Turbo-shaft                          0                         0           5"
      ]
     },
     "execution_count": 130,
     "metadata": {},
     "output_type": "execute_result"
    }
   ],
   "source": [
    "pd.crosstab(planes.engine, planes.type)"
   ]
  },
  {
   "cell_type": "code",
   "execution_count": 131,
   "metadata": {
    "collapsed": false
   },
   "outputs": [
    {
     "data": {
      "text/plain": [
       "type                      engine       \n",
       "Fixed wing multi engine   4 Cycle             0\n",
       "                          Reciprocating       5\n",
       "                          Turbo-fan        2750\n",
       "                          Turbo-jet         535\n",
       "                          Turbo-prop          2\n",
       "                          Turbo-shaft         0\n",
       "Fixed wing single engine  4 Cycle             2\n",
       "                          Reciprocating      23\n",
       "                          Turbo-fan           0\n",
       "                          Turbo-jet           0\n",
       "                          Turbo-prop          0\n",
       "                          Turbo-shaft         0\n",
       "Rotorcraft                4 Cycle             0\n",
       "                          Reciprocating       0\n",
       "                          Turbo-fan           0\n",
       "                          Turbo-jet           0\n",
       "                          Turbo-prop          0\n",
       "                          Turbo-shaft         5\n",
       "dtype: int64"
      ]
     },
     "execution_count": 131,
     "metadata": {},
     "output_type": "execute_result"
    }
   ],
   "source": [
    "pd.crosstab(planes.engine, planes.type).unstack() # and so on...."
   ]
  },
  {
   "cell_type": "markdown",
   "metadata": {},
   "source": [
    "5. `SELECT MIN(year), AVG(year), MAX(year), engine, manufacturer FROM planes GROUP BY engine, manufacturer`\n",
    "6. `SELECT * FROM planes WHERE speed IS NOT NULL`\n",
    "7. `SELECT tailnum FROM planes WHERE seats BETWEEN 150 AND 190 AND year >= 2012`\n",
    "8. `SELECT * FROM planes WHERE manufacturer IN (\"BOEING\", \"AIRBUS\", \"EMBRAER\") AND seats>390`"
   ]
  },
  {
   "cell_type": "code",
   "execution_count": 135,
   "metadata": {
    "collapsed": false
   },
   "outputs": [
    {
     "data": {
      "text/plain": [
       "          engine        manufacturer    year                     \n",
       "                                        amin         mean    amax\n",
       "0        4 Cycle              CESSNA  1975.0  1975.000000  1975.0\n",
       "3  Reciprocating  AVIAT AIRCRAFT INC  2007.0  2007.000000  2007.0\n",
       "5  Reciprocating              CESSNA  1959.0  1971.142857  1983.0\n",
       "6  Reciprocating  CIRRUS DESIGN CORP  2007.0  2007.000000  2007.0\n",
       "7  Reciprocating         DEHAVILLAND  1959.0  1959.000000  1959.0"
      ]
     },
     "execution_count": 135,
     "metadata": {},
     "output_type": "execute_result"
    }
   ],
   "source": [
    "x = planes.loc[:,['engine', 'manufacturer','year']].\\\n",
    "    groupby(['engine', 'manufacturer']).agg(({\"year\": [np.min, np.mean, np.max]})).\\\n",
    "    reset_index().dropna()\n",
    "x.head()"
   ]
  },
  {
   "cell_type": "code",
   "execution_count": 140,
   "metadata": {
    "collapsed": false
   },
   "outputs": [],
   "source": [
    "np.min.__name__ = \"min\""
   ]
  },
  {
   "cell_type": "code",
   "execution_count": 141,
   "metadata": {
    "collapsed": false
   },
   "outputs": [
    {
     "data": {
      "text/plain": [
       "          engine        manufacturer    year                     \n",
       "                                         min         mean    amax\n",
       "0        4 Cycle              CESSNA  1975.0  1975.000000  1975.0\n",
       "3  Reciprocating  AVIAT AIRCRAFT INC  2007.0  2007.000000  2007.0\n",
       "5  Reciprocating              CESSNA  1959.0  1971.142857  1983.0\n",
       "6  Reciprocating  CIRRUS DESIGN CORP  2007.0  2007.000000  2007.0\n",
       "7  Reciprocating         DEHAVILLAND  1959.0  1959.000000  1959.0"
      ]
     },
     "execution_count": 141,
     "metadata": {},
     "output_type": "execute_result"
    }
   ],
   "source": [
    "x = planes.loc[:,['engine', 'manufacturer','year']].\\\n",
    "    groupby(['engine', 'manufacturer']).agg(({\"year\": [np.min, np.mean, np.max]})).\\\n",
    "    reset_index().dropna()\n",
    "x.head()"
   ]
  },
  {
   "cell_type": "code",
   "execution_count": 143,
   "metadata": {
    "collapsed": false
   },
   "outputs": [
    {
     "data": {
      "text/plain": [
       "                                       year                \n",
       "                                        min    mean     max\n",
       "engine        manufacturer                                 \n",
       "4 Cycle       CESSNA                 1975.0  1975.0  1975.0\n",
       "              JOHN G HESS               NaN     NaN     NaN\n",
       "Reciprocating AMERICAN AIRCRAFT INC     NaN     NaN     NaN\n",
       "              AVIAT AIRCRAFT INC     2007.0  2007.0  2007.0\n",
       "              BARKER JACK L             NaN     NaN     NaN"
      ]
     },
     "execution_count": 143,
     "metadata": {},
     "output_type": "execute_result"
    }
   ],
   "source": [
    "planes.loc[:,['engine', 'manufacturer','year']].\\\n",
    "    groupby(['engine', 'manufacturer']).aggregate([\"min\", \"mean\", \"max\"]).head()"
   ]
  },
  {
   "cell_type": "code",
   "execution_count": 147,
   "metadata": {
    "collapsed": false
   },
   "outputs": [
    {
     "data": {
      "text/plain": [
       "           engine                   manufacturer         year                \n",
       "                                                         mean     min     max\n",
       "0         4 Cycle                         CESSNA  1975.000000  1975.0  1975.0\n",
       "1         4 Cycle                    JOHN G HESS          NaN     NaN     NaN\n",
       "2   Reciprocating          AMERICAN AIRCRAFT INC          NaN     NaN     NaN\n",
       "3   Reciprocating             AVIAT AIRCRAFT INC  2007.000000  2007.0  2007.0\n",
       "4   Reciprocating                  BARKER JACK L          NaN     NaN     NaN\n",
       "5   Reciprocating                         CESSNA  1971.142857  1959.0  1983.0\n",
       "6   Reciprocating             CIRRUS DESIGN CORP  2007.000000  2007.0  2007.0\n",
       "7   Reciprocating                    DEHAVILLAND  1959.000000  1959.0  1959.0\n",
       "8   Reciprocating                        DOUGLAS  1956.000000  1956.0  1956.0\n",
       "9   Reciprocating                 FRIEDEMANN JON  2007.000000  2007.0  2007.0\n",
       "10  Reciprocating             HURLEY JAMES LARRY          NaN     NaN     NaN\n",
       "11  Reciprocating                   KILDALL GARY  1985.000000  1985.0  1985.0\n",
       "12  Reciprocating                LAMBERT RICHARD          NaN     NaN     NaN\n",
       "13  Reciprocating                LEBLANC GLENN T  1985.000000  1985.0  1985.0\n",
       "14  Reciprocating                     MARZ BARRY  1993.000000  1993.0  1993.0\n",
       "15  Reciprocating                    PAIR MIKE E          NaN     NaN     NaN\n",
       "16  Reciprocating                          PIPER  1976.400000  1968.0  1980.0\n",
       "17  Reciprocating                   STEWART MACO  1985.000000  1985.0  1985.0\n",
       "18      Turbo-fan                         AIRBUS  2007.281734  2002.0  2013.0\n",
       "19      Turbo-fan               AIRBUS INDUSTRIE  1998.599251  1992.0  2013.0\n",
       "20      Turbo-fan         AVIONS MARCEL DASSAULT  1986.000000  1986.0  1986.0\n",
       "21      Turbo-fan                         BOEING  2001.210400  1965.0  2013.0\n",
       "22      Turbo-fan                 BOMBARDIER INC  2004.486188  1998.0  2013.0\n",
       "23      Turbo-fan                       CANADAIR  1997.333333  1997.0  1998.0\n",
       "24      Turbo-fan                         CESSNA  1979.000000  1979.0  1979.0\n",
       "25      Turbo-fan                        EMBRAER  2003.613014  1998.0  2013.0\n",
       "26      Turbo-fan           GULFSTREAM AEROSPACE  1992.000000  1992.0  1992.0\n",
       "27      Turbo-fan                    LEARJET INC          NaN     NaN     NaN\n",
       "28      Turbo-fan              MCDONNELL DOUGLAS  1989.704545  1986.0  1997.0\n",
       "29      Turbo-fan  MCDONNELL DOUGLAS AIRCRAFT CO  1989.737864  1987.0  1993.0\n",
       "30      Turbo-jet                         AIRBUS  2002.000000  2002.0  2002.0\n",
       "31      Turbo-jet               AIRBUS INDUSTRIE  1997.439024  1989.0  2004.0\n",
       "32      Turbo-jet                         BOEING  1996.368272  1984.0  2005.0\n",
       "33      Turbo-jet                   CANADAIR LTD  1974.000000  1974.0  1974.0\n",
       "34      Turbo-jet                        EMBRAER  1999.000000  1999.0  1999.0\n",
       "35      Turbo-jet           GULFSTREAM AEROSPACE  1976.000000  1976.0  1976.0\n",
       "36      Turbo-jet              MCDONNELL DOUGLAS  1990.714286  1975.0  1998.0\n",
       "37      Turbo-jet  MCDONNELL DOUGLAS CORPORATION  1991.928571  1991.0  1992.0\n",
       "38     Turbo-prop                          BEECH  1969.500000  1967.0  1972.0\n",
       "39    Turbo-shaft                     AGUSTA SPA  2001.000000  2001.0  2001.0\n",
       "40    Turbo-shaft                           BELL  1984.500000  1975.0  1994.0\n",
       "41    Turbo-shaft         ROBINSON HELICOPTER CO  2012.000000  2012.0  2012.0\n",
       "42    Turbo-shaft                       SIKORSKY  1985.000000  1985.0  1985.0"
      ]
     },
     "execution_count": 147,
     "metadata": {},
     "output_type": "execute_result"
    }
   ],
   "source": [
    "planes.loc[:,['engine', 'manufacturer','year']].\\\n",
    "    groupby(['engine', 'manufacturer']).describe().iloc[:,[1,3,7]].reset_index()"
   ]
  },
  {
   "cell_type": "code",
   "execution_count": 167,
   "metadata": {
    "collapsed": false
   },
   "outputs": [
    {
     "data": {
      "text/plain": [
       "(23, 9)"
      ]
     },
     "execution_count": 167,
     "metadata": {},
     "output_type": "execute_result"
    }
   ],
   "source": [
    "planes.loc[planes.speed.notnull(),:].shape #~speed.isnull()"
   ]
  },
  {
   "cell_type": "code",
   "execution_count": 160,
   "metadata": {
    "collapsed": false
   },
   "outputs": [
    {
     "data": {
      "text/plain": [
       "(23, 9)"
      ]
     },
     "execution_count": 160,
     "metadata": {},
     "output_type": "execute_result"
    }
   ],
   "source": [
    "planes.query('speed != \"NaN\"').shape# :/"
   ]
  },
  {
   "cell_type": "code",
   "execution_count": 161,
   "metadata": {
    "collapsed": false
   },
   "outputs": [
    {
     "data": {
      "text/plain": [
       "False"
      ]
     },
     "execution_count": 161,
     "metadata": {},
     "output_type": "execute_result"
    }
   ],
   "source": [
    "np.nan == np.nan"
   ]
  },
  {
   "cell_type": "code",
   "execution_count": 163,
   "metadata": {
    "collapsed": false
   },
   "outputs": [
    {
     "data": {
      "text/plain": [
       "(23, 9)"
      ]
     },
     "execution_count": 163,
     "metadata": {},
     "output_type": "execute_result"
    }
   ],
   "source": [
    "planes.query('speed == speed').shape"
   ]
  },
  {
   "cell_type": "code",
   "execution_count": 169,
   "metadata": {
    "collapsed": false
   },
   "outputs": [
    {
     "data": {
      "text/plain": [
       "     tailnum\n",
       "875   N361VA\n",
       "2745  N849VA\n",
       "2754  N851VA\n",
       "2757  N852VA\n",
       "2761  N853VA\n",
       "2766  N854VA\n",
       "2769  N855VA"
      ]
     },
     "execution_count": 169,
     "metadata": {},
     "output_type": "execute_result"
    }
   ],
   "source": [
    "planes.query('150 <= seats <= 190 and year >= 2012').loc[:,[\"tailnum\"]]"
   ]
  },
  {
   "cell_type": "code",
   "execution_count": 177,
   "metadata": {
    "collapsed": false
   },
   "outputs": [
    {
     "data": {
      "text/plain": [
       "     tailnum    year                     type manufacturer    model  engines  \\\n",
       "439   N206UA  1999.0  Fixed wing multi engine       BOEING  777-222        2   \n",
       "484   N228UA  2002.0  Fixed wing multi engine       BOEING  777-222        2   \n",
       "577   N272AT     NaN  Fixed wing multi engine       BOEING  777-200        2   \n",
       "1708  N57016  2000.0  Fixed wing multi engine       BOEING  777-224        2   \n",
       "2109  N670US  1990.0  Fixed wing multi engine       BOEING  747-451        4   \n",
       "2441  N77012  1999.0  Fixed wing multi engine       BOEING  777-224        2   \n",
       "2485  N777UA  1995.0  Fixed wing multi engine       BOEING  777-222        2   \n",
       "2494  N78003  1998.0  Fixed wing multi engine       BOEING  777-224        2   \n",
       "2495  N78013  1999.0  Fixed wing multi engine       BOEING  777-224        2   \n",
       "2519  N787UA  1997.0  Fixed wing multi engine       BOEING  777-222        2   \n",
       "2804  N862DA  1999.0  Fixed wing multi engine       BOEING  777-232        2   \n",
       "2806  N863DA  1999.0  Fixed wing multi engine       BOEING  777-232        2   \n",
       "2809  N865DA  1999.0  Fixed wing multi engine       BOEING  777-232        2   \n",
       "\n",
       "      seats  speed     engine  \n",
       "439     400    NaN  Turbo-fan  \n",
       "484     400    NaN  Turbo-fan  \n",
       "577     400    NaN  Turbo-jet  \n",
       "1708    400    NaN  Turbo-fan  \n",
       "2109    450    NaN  Turbo-jet  \n",
       "2441    400    NaN  Turbo-fan  \n",
       "2485    400    NaN  Turbo-fan  \n",
       "2494    400    NaN  Turbo-fan  \n",
       "2495    400    NaN  Turbo-fan  \n",
       "2519    400    NaN  Turbo-fan  \n",
       "2804    400    NaN  Turbo-jet  \n",
       "2806    400    NaN  Turbo-jet  \n",
       "2809    400    NaN  Turbo-jet  "
      ]
     },
     "execution_count": 177,
     "metadata": {},
     "output_type": "execute_result"
    }
   ],
   "source": [
    "planes.query('manufacturer in [\"BOEING\", \"AIRBUS\", \"EMBRAER\"] and seats > 390')\n",
    "#planes.loc[planes.manufacturer.isin([\"BOEING\", \"AIRBUS\", \"EMBRAER\"]) & (planes.seats>390), :]"
   ]
  },
  {
   "cell_type": "markdown",
   "metadata": {},
   "source": [
    "9. `SELECT DISTINCT year, seats  FROM planes WHERE year >= 2012 ORDER BY year ASC, seats DESC`\n",
    "10. `SELECT DISTINCT year, seats  FROM planes WHERE year >= 2012 ORDER BY seats DESC, year ASC`\n",
    "11. `SELECT manufacturer, COUNT(*) FROM planes WHERE seats > 200 GROUP BY manufacturer`\n",
    "12. `SELECT manufacturer, COUNT(*) FROM planes GROUP BY manufacturer HAVING COUNT(*) > 10`\n",
    "13. `SELECT manufacturer, COUNT(*) FROM planes WHERE seats > 200 GROUP BY manufacturer HAVING COUNT(*) > 10`\n",
    "14. `SELECT manufacturer, COUNT(*) AS howmany FROM planes GROUP BY manufacturer ORDER BY howmany DESC LIMIT 5`"
   ]
  },
  {
   "cell_type": "code",
   "execution_count": 181,
   "metadata": {
    "collapsed": false
   },
   "outputs": [
    {
     "data": {
      "text/plain": [
       "      year  seats\n",
       "0   2012.0    379\n",
       "1   2012.0    377\n",
       "2   2012.0    260\n",
       "3   2012.0    222\n",
       "4   2012.0    200\n",
       "5   2012.0    191\n",
       "6   2012.0    182\n",
       "7   2012.0    149\n",
       "8   2012.0    140\n",
       "9   2012.0     20\n",
       "10  2012.0      5\n",
       "11  2013.0    379\n",
       "12  2013.0    377\n",
       "13  2013.0    222\n",
       "14  2013.0    200\n",
       "15  2013.0    199\n",
       "16  2013.0    191\n",
       "17  2013.0    182\n",
       "18  2013.0    140\n",
       "19  2013.0     95\n",
       "20  2013.0     20"
      ]
     },
     "execution_count": 181,
     "metadata": {},
     "output_type": "execute_result"
    }
   ],
   "source": [
    "x = planes.query(\"year >= 2012\").loc[:,[\"year\", \"seats\"]].drop_duplicates().reset_index(drop=True)\n",
    "x.sort_values([\"year\", \"seats\"], ascending=[True, False]).reset_index(drop=True)"
   ]
  },
  {
   "cell_type": "code",
   "execution_count": 182,
   "metadata": {
    "collapsed": false
   },
   "outputs": [
    {
     "data": {
      "text/plain": [
       "      year  seats\n",
       "0   2012.0    379\n",
       "1   2013.0    379\n",
       "2   2012.0    377\n",
       "3   2013.0    377\n",
       "4   2012.0    260\n",
       "5   2012.0    222\n",
       "6   2013.0    222\n",
       "7   2012.0    200\n",
       "8   2013.0    200\n",
       "9   2013.0    199\n",
       "10  2012.0    191\n",
       "11  2013.0    191\n",
       "12  2012.0    182\n",
       "13  2013.0    182\n",
       "14  2012.0    149\n",
       "15  2012.0    140\n",
       "16  2013.0    140\n",
       "17  2013.0     95\n",
       "18  2012.0     20\n",
       "19  2013.0     20\n",
       "20  2012.0      5"
      ]
     },
     "execution_count": 182,
     "metadata": {},
     "output_type": "execute_result"
    }
   ],
   "source": [
    "x.sort_values([\"seats\", \"year\"], ascending=[False, True]).reset_index(drop=True)"
   ]
  },
  {
   "cell_type": "code",
   "execution_count": 186,
   "metadata": {
    "collapsed": false
   },
   "outputs": [
    {
     "data": {
      "text/plain": [
       "       manufacturer  COUNT\n",
       "0            AIRBUS     66\n",
       "1  AIRBUS INDUSTRIE      4\n",
       "2            BOEING    225"
      ]
     },
     "execution_count": 186,
     "metadata": {},
     "output_type": "execute_result"
    }
   ],
   "source": [
    "#3:\n",
    "planes.query(\"seats>200\").groupby(\"manufacturer\").size().reset_index().\\\n",
    "    rename(columns={0: \"COUNT\"})"
   ]
  },
  {
   "cell_type": "code",
   "execution_count": 187,
   "metadata": {
    "collapsed": false
   },
   "outputs": [
    {
     "data": {
      "text/plain": [
       "  manufacturer  COUNT\n",
       "0       AIRBUS     66\n",
       "2       BOEING    225"
      ]
     },
     "execution_count": 187,
     "metadata": {},
     "output_type": "execute_result"
    }
   ],
   "source": [
    "#5:\n",
    "planes.query(\"seats>200\").groupby(\"manufacturer\").size().reset_index().\\\n",
    "    rename(columns={0: \"COUNT\"}).query(\"COUNT>10\").reset_index(drop=True)"
   ]
  },
  {
   "cell_type": "code",
   "execution_count": 188,
   "metadata": {
    "collapsed": false
   },
   "outputs": [
    {
     "data": {
      "text/plain": [
       "                    manufacturer  COUNT\n",
       "0                         AIRBUS    336\n",
       "1               AIRBUS INDUSTRIE    400\n",
       "2                         BOEING   1630\n",
       "3                 BOMBARDIER INC    368\n",
       "4                        EMBRAER    299\n",
       "5              MCDONNELL DOUGLAS    120\n",
       "6  MCDONNELL DOUGLAS AIRCRAFT CO    103\n",
       "7  MCDONNELL DOUGLAS CORPORATION     14"
      ]
     },
     "execution_count": 188,
     "metadata": {},
     "output_type": "execute_result"
    }
   ],
   "source": [
    "#4:\n",
    "planes.groupby(\"manufacturer\").size().reset_index().\\\n",
    "    rename(columns={0: \"COUNT\"}).query(\"COUNT>10\").reset_index(drop=True)"
   ]
  },
  {
   "cell_type": "code",
   "execution_count": 190,
   "metadata": {
    "collapsed": false
   },
   "outputs": [
    {
     "data": {
      "text/plain": [
       "                     manufacturer  COUNT\n",
       "1                          AIRBUS    336\n",
       "2                AIRBUS INDUSTRIE    400\n",
       "9                          BOEING   1630\n",
       "10                 BOMBARDIER INC    368\n",
       "17                        EMBRAER    299\n",
       "27              MCDONNELL DOUGLAS    120\n",
       "28  MCDONNELL DOUGLAS AIRCRAFT CO    103\n",
       "29  MCDONNELL DOUGLAS CORPORATION     14"
      ]
     },
     "execution_count": 190,
     "metadata": {},
     "output_type": "execute_result"
    }
   ],
   "source": [
    "x = planes.groupby(\"manufacturer\").size().reset_index().\\\n",
    "    rename(columns={0: \"COUNT\"})\n",
    "x.loc[x.COUNT>10]"
   ]
  },
  {
   "cell_type": "code",
   "execution_count": 193,
   "metadata": {
    "collapsed": false
   },
   "outputs": [
    {
     "data": {
      "text/plain": [
       "       manufacturer  howmany\n",
       "0            BOEING     1630\n",
       "1  AIRBUS INDUSTRIE      400\n",
       "2    BOMBARDIER INC      368\n",
       "3            AIRBUS      336\n",
       "4           EMBRAER      299"
      ]
     },
     "execution_count": 193,
     "metadata": {},
     "output_type": "execute_result"
    }
   ],
   "source": [
    "# SELECT manufacturer, COUNT(*) AS howmany \n",
    "#    FROM planes GROUP BY manufacturer ORDER BY howmany DESC LIMIT 5\n",
    "planes.groupby(\"manufacturer\").size().reset_index().rename(columns={0:\"howmany\"}).\\\n",
    "    sort_values(\"howmany\", ascending=False).reset_index(drop=True).head(5)"
   ]
  },
  {
   "cell_type": "code",
   "execution_count": 194,
   "metadata": {
    "collapsed": true
   },
   "outputs": [],
   "source": [
    "A = pd.DataFrame({\n",
    " \"x\": [\"a0\", \"a1\", \"a2\", \"a3\"],\n",
    " \"y\": [\"b0\", \"b1\", \"b2\", \"b3\"]\n",
    " })\n",
    "\n",
    "B = pd.DataFrame({\n",
    " \"x\": [\"a0\", \"a2\", \"a2\", \"a4\"],\n",
    " \"z\": [\"c0\", \"c1\", \"c2\", \"c3\"]\n",
    " })\n"
   ]
  },
  {
   "cell_type": "code",
   "execution_count": 195,
   "metadata": {
    "collapsed": false
   },
   "outputs": [
    {
     "data": {
      "text/plain": [
       "    x   y\n",
       "0  a0  b0\n",
       "1  a1  b1\n",
       "2  a2  b2\n",
       "3  a3  b3"
      ]
     },
     "execution_count": 195,
     "metadata": {},
     "output_type": "execute_result"
    }
   ],
   "source": [
    "A"
   ]
  },
  {
   "cell_type": "code",
   "execution_count": 196,
   "metadata": {
    "collapsed": false
   },
   "outputs": [
    {
     "data": {
      "text/plain": [
       "    x   z\n",
       "0  a0  c0\n",
       "1  a2  c1\n",
       "2  a2  c2\n",
       "3  a4  c3"
      ]
     },
     "execution_count": 196,
     "metadata": {},
     "output_type": "execute_result"
    }
   ],
   "source": [
    "B"
   ]
  },
  {
   "cell_type": "code",
   "execution_count": 197,
   "metadata": {
    "collapsed": true
   },
   "outputs": [],
   "source": [
    "# See \"normal forms\" in https://en.wikipedia.org/wiki/Database_normalization"
   ]
  },
  {
   "cell_type": "code",
   "execution_count": 198,
   "metadata": {
    "collapsed": false
   },
   "outputs": [
    {
     "data": {
      "text/plain": [
       "    x   y   z\n",
       "0  a0  b0  c0\n",
       "1  a2  b2  c1\n",
       "2  a2  b2  c2"
      ]
     },
     "execution_count": 198,
     "metadata": {},
     "output_type": "execute_result"
    }
   ],
   "source": [
    "# INNER JOIN (NATURAL)\n",
    "# SELECT A.*, B.* FROM A INNER JOIN B ON A.x = B.x\n",
    "# SELECT A.*, B.* FROM A, B WHERE A.x=B.x\n",
    "pd.merge(A, B, on='x', how='inner')"
   ]
  },
  {
   "cell_type": "code",
   "execution_count": 199,
   "metadata": {
    "collapsed": false
   },
   "outputs": [
    {
     "data": {
      "text/plain": [
       "    x   y    z\n",
       "0  a0  b0   c0\n",
       "1  a1  b1  NaN\n",
       "2  a2  b2   c1\n",
       "3  a2  b2   c2\n",
       "4  a3  b3  NaN"
      ]
     },
     "execution_count": 199,
     "metadata": {},
     "output_type": "execute_result"
    }
   ],
   "source": [
    "# LEFT JOIN\n",
    "pd.merge(A, B, on='x', how='left')"
   ]
  },
  {
   "cell_type": "code",
   "execution_count": 200,
   "metadata": {
    "collapsed": false
   },
   "outputs": [
    {
     "data": {
      "text/plain": [
       "    x    y   z\n",
       "0  a0   b0  c0\n",
       "1  a2   b2  c1\n",
       "2  a2   b2  c2\n",
       "3  a4  NaN  c3"
      ]
     },
     "execution_count": 200,
     "metadata": {},
     "output_type": "execute_result"
    }
   ],
   "source": [
    "# RIGHT JOIN\n",
    "pd.merge(A, B, on='x', how='right')"
   ]
  },
  {
   "cell_type": "code",
   "execution_count": 202,
   "metadata": {
    "collapsed": false
   },
   "outputs": [
    {
     "data": {
      "text/plain": [
       "    x    y    z\n",
       "0  a0   b0   c0\n",
       "1  a1   b1  NaN\n",
       "2  a2   b2   c1\n",
       "3  a2   b2   c2\n",
       "4  a3   b3  NaN\n",
       "5  a4  NaN   c3"
      ]
     },
     "execution_count": 202,
     "metadata": {},
     "output_type": "execute_result"
    }
   ],
   "source": [
    "# FULL OUTER JOIN\n",
    "pd.merge(A, B, on='x', how='outer')"
   ]
  },
  {
   "cell_type": "markdown",
   "metadata": {},
   "source": [
    "15. `SELECT * FROM flights LEFT JOIN planes ON flights.tailnum=planes.tailnum`\n",
    "\n",
    "16.\n",
    "  ```\n",
    "  SELECT planes.*, airlines.* FROM\n",
    "   (SELECT DISTINCT carrier, tailnum FROM flights) AS cartail\n",
    "  INNER JOIN planes ON cartail.tailnum=planes.tailnum\n",
    "  INNER JOIN airlines ON cartail.carrier=airlines.carrier\n",
    "  ```\n",
    "  \n",
    "17.\n",
    "  ```\n",
    "  SELECT flights2.*, weather2.atemp, weather2.ahumid, weather2.apressure FROM\n",
    "     (SELECT * FROM flights WHERE origin='EWR') AS flights2\n",
    "  LEFT JOIN\n",
    "     (SELECT year, month, day, AVG(temp) AS atemp,\n",
    "       AVG(humid) AS ahumid, AVG(pressure) AS apressure\n",
    "      FROM weather WHERE origin='EWR' GROUP BY year, month, day) AS weather2\n",
    "  ON flights2.year=weather2.year\n",
    "    AND flights2.month=weather2.month\n",
    "    AND flights2.day=weather2.day\n",
    "  ```"
   ]
  },
  {
   "cell_type": "code",
   "execution_count": 238,
   "metadata": {
    "collapsed": false
   },
   "outputs": [
    {
     "data": {
      "text/plain": [
       "(336776, 27)"
      ]
     },
     "execution_count": 238,
     "metadata": {},
     "output_type": "execute_result"
    }
   ],
   "source": [
    "pd.merge(flights, planes, how=\"left\", on=\"tailnum\").shape"
   ]
  },
  {
   "cell_type": "code",
   "execution_count": 242,
   "metadata": {
    "collapsed": false
   },
   "outputs": [
    {
     "data": {
      "text/plain": [
       "(3339, 11)"
      ]
     },
     "execution_count": 242,
     "metadata": {},
     "output_type": "execute_result"
    }
   ],
   "source": [
    "cartail = flights.loc[:,[\"carrier\",\"tailnum\"]].drop_duplicates().reset_index(drop=True)\n",
    "pd.merge(\n",
    "    pd.merge(cartail, planes, on=\"tailnum\"),\n",
    "    airlines, on=\"carrier\").shape"
   ]
  },
  {
   "cell_type": "code",
   "execution_count": 251,
   "metadata": {
    "collapsed": false
   },
   "outputs": [
    {
     "data": {
      "text/plain": [
       "(120835, 22)"
      ]
     },
     "execution_count": 251,
     "metadata": {},
     "output_type": "execute_result"
    }
   ],
   "source": [
    "flights2 = flights.query(\"origin=='EWR'\")\n",
    "weather2 = weather.query(\"origin=='EWR'\").groupby([\"year\", \"month\", \"day\"]).\\\n",
    "    mean().loc[:,[\"temp\", \"humid\", \"pressure\"]].reset_index().\\\n",
    "    rename(columns=dict(temp=\"atemp\", humid=\"ahumid\", pressure=\"apressure\"))\n",
    "pd.merge(flights2, weather2, on=[\"year\", \"month\", \"day\"], how=\"left\").shape"
   ]
  },
  {
   "cell_type": "markdown",
   "metadata": {},
   "source": [
    "5. Given `fueleconomy::vehicles`, convert the values in\n",
    "`cty` (city-) and `hwy` (highway-fuel economy -- given in mpg)\n",
    "to l/100 km. Then add  new columns `z_cty` and `z_hwy`,\n",
    "that give z-scores of `cty` and `hwy` relative to (grouped by) `class`."
   ]
  },
  {
   "cell_type": "code",
   "execution_count": 230,
   "metadata": {
    "collapsed": true
   },
   "outputs": [],
   "source": [
    "vehicles = pd.read_csv(\"http://www.gagolewski.com/resources/data/fueleconomy_vehicles.csv.gz\",\n",
    "                      comment=\"#\")"
   ]
  },
  {
   "cell_type": "code",
   "execution_count": 231,
   "metadata": {
    "collapsed": false
   },
   "outputs": [
    {
     "data": {
      "text/plain": [
       "      id        make                model  year                        class  \\\n",
       "0  27550  AM General    DJ Po Vehicle 2WD  1984  Special Purpose Vehicle 2WD   \n",
       "1  28426  AM General    DJ Po Vehicle 2WD  1984  Special Purpose Vehicle 2WD   \n",
       "2  27549  AM General     FJ8c Post Office  1984  Special Purpose Vehicle 2WD   \n",
       "3  28425  AM General     FJ8c Post Office  1984  Special Purpose Vehicle 2WD   \n",
       "4   1032  AM General  Post Office DJ5 2WD  1985  Special Purpose Vehicle 2WD   \n",
       "\n",
       "             trans             drive  cyl  displ     fuel  hwy  cty  \n",
       "0  Automatic 3-spd     2-Wheel Drive  4.0    2.5  Regular   17   18  \n",
       "1  Automatic 3-spd     2-Wheel Drive  4.0    2.5  Regular   17   18  \n",
       "2  Automatic 3-spd     2-Wheel Drive  6.0    4.2  Regular   13   13  \n",
       "3  Automatic 3-spd     2-Wheel Drive  6.0    4.2  Regular   13   13  \n",
       "4  Automatic 3-spd  Rear-Wheel Drive  4.0    2.5  Regular   17   16  "
      ]
     },
     "execution_count": 231,
     "metadata": {},
     "output_type": "execute_result"
    }
   ],
   "source": [
    "vehicles.head()"
   ]
  },
  {
   "cell_type": "code",
   "execution_count": null,
   "metadata": {
    "collapsed": true
   },
   "outputs": [],
   "source": []
  },
  {
   "cell_type": "code",
   "execution_count": 234,
   "metadata": {
    "collapsed": false
   },
   "outputs": [
    {
     "name": "stderr",
     "output_type": "stream",
     "text": [
      "/opt/anaconda3/lib/python3.5/site-packages/scipy/stats/stats.py:2248: RuntimeWarning: invalid value encountered in true_divide\n",
      "  return (a - mns) / sstd\n"
     ]
    },
    {
     "data": {
      "text/plain": [
       "(      id        make                model  year                        class  \\\n",
       " 0  27550  AM General    DJ Po Vehicle 2WD  1984  Special Purpose Vehicle 2WD   \n",
       " 1  28426  AM General    DJ Po Vehicle 2WD  1984  Special Purpose Vehicle 2WD   \n",
       " 2  27549  AM General     FJ8c Post Office  1984  Special Purpose Vehicle 2WD   \n",
       " 3  28425  AM General     FJ8c Post Office  1984  Special Purpose Vehicle 2WD   \n",
       " 4   1032  AM General  Post Office DJ5 2WD  1985  Special Purpose Vehicle 2WD   \n",
       " \n",
       "              trans             drive  cyl  displ     fuel  hwy  cty  \\\n",
       " 0  Automatic 3-spd     2-Wheel Drive  4.0    2.5  Regular   17   18   \n",
       " 1  Automatic 3-spd     2-Wheel Drive  4.0    2.5  Regular   17   18   \n",
       " 2  Automatic 3-spd     2-Wheel Drive  6.0    4.2  Regular   13   13   \n",
       " 3  Automatic 3-spd     2-Wheel Drive  6.0    4.2  Regular   13   13   \n",
       " 4  Automatic 3-spd  Rear-Wheel Drive  4.0    2.5  Regular   17   16   \n",
       " \n",
       "         fhwy       fcty      zhwy      zcty  \n",
       " 0  13.836176  13.067500  0.548950 -0.743067  \n",
       " 1  13.836176  13.067500  0.548950 -0.743067  \n",
       " 2  18.093462  18.093462  1.967552  0.802063  \n",
       " 3  18.093462  18.093462  1.967552  0.802063  \n",
       " 4  13.836176  14.700938  0.548950 -0.240900  ,\n",
       "           id   make                              model  year        class  \\\n",
       " 33437  33305  smart  fortwo electric drive convertible  2013  Two Seaters   \n",
       " 33438  34393  smart  fortwo electric drive convertible  2014  Two Seaters   \n",
       " 33439  31065  smart        fortwo electric drive coupe  2011  Two Seaters   \n",
       " 33440  33306  smart        fortwo electric drive coupe  2013  Two Seaters   \n",
       " 33441  34394  smart        fortwo electric drive coupe  2014  Two Seaters   \n",
       " \n",
       "                 trans             drive  cyl  displ         fuel  hwy  cty  \\\n",
       " 33437  Automatic (A1)  Rear-Wheel Drive  NaN    NaN  Electricity   93  122   \n",
       " 33438  Automatic (A1)  Rear-Wheel Drive  NaN    NaN  Electricity   93  122   \n",
       " 33439  Automatic (A1)  Rear-Wheel Drive  NaN    NaN  Electricity   79   94   \n",
       " 33440  Automatic (A1)  Rear-Wheel Drive  NaN    NaN  Electricity   93  122   \n",
       " 33441  Automatic (A1)  Rear-Wheel Drive  NaN    NaN  Electricity   93  122   \n",
       " \n",
       "            fhwy      fcty      zhwy      zcty  \n",
       " 33437  2.529194  1.927992 -2.699804 -2.603001  \n",
       " 33438  2.529194  1.927992 -2.699804 -2.603001  \n",
       " 33439  2.977405  2.502287 -2.549217 -2.491647  \n",
       " 33440  2.529194  1.927992 -2.699804 -2.603001  \n",
       " 33441  2.529194  1.927992 -2.699804 -2.603001  )"
      ]
     },
     "execution_count": 234,
     "metadata": {},
     "output_type": "execute_result"
    }
   ],
   "source": [
    "import scipy.stats\n",
    "vehicles[\"fhwy\"] = 235.215/vehicles.hwy\n",
    "vehicles[\"fcty\"] = 235.215/vehicles.cty\n",
    "x = pd.concat([vehicles,\n",
    "      vehicles.loc[:,[\"fhwy\",\"fcty\",\"class\"]].groupby(\"class\").transform(scipy.stats.zscore).\\\n",
    "    rename(columns=dict(fhwy=\"zhwy\", fcty=\"zcty\"))\n",
    "  ], axis=1)\n",
    "x.head(), x.tail()"
   ]
  },
  {
   "cell_type": "code",
   "execution_count": null,
   "metadata": {
    "collapsed": true
   },
   "outputs": [],
   "source": []
  },
  {
   "cell_type": "markdown",
   "metadata": {},
   "source": [
    "5. Cleanse the `warsaw_weather` dataframe."
   ]
  },
  {
   "cell_type": "code",
   "execution_count": 210,
   "metadata": {
    "collapsed": false
   },
   "outputs": [
    {
     "data": {
      "text/plain": [
       "   Unnamed: 0                                                            0  \\\n",
       "0           0  Climate data for Warsaw (1981–2010) Extremes (1951–present)   \n",
       "1           1                                                        Month   \n",
       "2           2                                          Record high °C (°F)   \n",
       "3           3                                         Average high °C (°F)   \n",
       "4           4                                           Daily mean °C (°F)   \n",
       "\n",
       "             1            2            3            4            5  \\\n",
       "0          NaN          NaN          NaN          NaN          NaN   \n",
       "1          Jan          Feb          Mar          Apr          May   \n",
       "2  13.8 (56.8)    17.2 (63)  22.9 (73.2)  30.5 (86.9)    32.8 (91)   \n",
       "3   0.6 (33.1)   1.9 (35.4)   6.6 (43.9)  13.6 (56.5)  19.5 (67.1)   \n",
       "4  −1.8 (28.8)  −0.6 (30.9)     2.8 (37)   8.7 (47.7)  14.2 (57.6)   \n",
       "\n",
       "             6            7            8            9           10  \\\n",
       "0          NaN          NaN          NaN          NaN          NaN   \n",
       "1          Jun          Jul          Aug          Sep          Oct   \n",
       "2  35.1 (95.2)  36.0 (96.8)  37.1 (98.8)  34.5 (94.1)  25.9 (78.6)   \n",
       "3  21.9 (71.4)  24.4 (75.9)    23.9 (75)  18.4 (65.1)  12.7 (54.9)   \n",
       "4  17.0 (62.6)  19.2 (66.6)  18.3 (64.9)  13.5 (56.3)   8.5 (47.3)   \n",
       "\n",
       "           11           12           13  \n",
       "0         NaN          NaN          NaN  \n",
       "1         Nov          Dec         Year  \n",
       "2   18.9 (66)  15.4 (59.7)  37.1 (98.8)  \n",
       "3  5.9 (42.6)   1.6 (34.9)  12.6 (54.7)  \n",
       "4  3.3 (37.9)  −0.7 (30.7)   8.5 (47.3)  "
      ]
     },
     "execution_count": 210,
     "metadata": {},
     "output_type": "execute_result"
    }
   ],
   "source": [
    "w = pd.read_csv(\"http://www.gagolewski.com/resources/data/warsaw_weather.csv\",\n",
    "                      comment=\"#\")\n",
    "w.head()"
   ]
  },
  {
   "cell_type": "code",
   "execution_count": null,
   "metadata": {
    "collapsed": true
   },
   "outputs": [],
   "source": [
    "https://pandas.pydata.org/pandas-docs/stable/text.html"
   ]
  }
 ],
 "metadata": {
  "anaconda-cloud": {},
  "kernelspec": {
   "display_name": "Python 3",
   "language": "python",
   "name": "python3"
  },
  "language_info": {
   "codemirror_mode": {
    "name": "ipython",
    "version": 3
   },
   "file_extension": ".py",
   "mimetype": "text/x-python",
   "name": "python",
   "nbconvert_exporter": "python",
   "pygments_lexer": "ipython3",
   "version": "3.5.4"
  }
 },
 "nbformat": 4,
 "nbformat_minor": 1
}
