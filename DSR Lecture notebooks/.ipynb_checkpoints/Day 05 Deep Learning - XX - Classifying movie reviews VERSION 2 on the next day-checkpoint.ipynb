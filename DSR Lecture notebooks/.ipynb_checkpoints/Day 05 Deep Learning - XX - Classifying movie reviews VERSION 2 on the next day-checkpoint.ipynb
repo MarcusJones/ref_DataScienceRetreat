{
 "cells": [
  {
   "cell_type": "code",
   "execution_count": 1,
   "metadata": {
    "collapsed": true
   },
   "outputs": [],
   "source": [
    "%matplotlib inline"
   ]
  },
  {
   "cell_type": "code",
   "execution_count": 2,
   "metadata": {
    "collapsed": true
   },
   "outputs": [],
   "source": [
    "(train_data, train_labels), (test_data,test_labels) = ks.datasets.imdb.load_data(num_words = 10000)"
   ]
  },
  {
   "cell_type": "code",
   "execution_count": 3,
   "metadata": {},
   "outputs": [
    {
     "name": "stdout",
     "output_type": "stream",
     "text": [
      "(25000,)\n",
      "(25000,)\n"
     ]
    }
   ],
   "source": [
    "print(train_data.shape)\n",
    "print(train_data.shape)"
   ]
  },
  {
   "cell_type": "code",
   "execution_count": 4,
   "metadata": {},
   "outputs": [
    {
     "name": "stdout",
     "output_type": "stream",
     "text": [
      "9995\n"
     ]
    }
   ],
   "source": [
    "print(np.max(np.max(train_data)))"
   ]
  },
  {
   "cell_type": "code",
   "execution_count": 6,
   "metadata": {},
   "outputs": [],
   "source": [
    "word_index = ks.datasets.imdb.get_word_index()"
   ]
  },
  {
   "cell_type": "code",
   "execution_count": 7,
   "metadata": {
    "collapsed": true
   },
   "outputs": [],
   "source": [
    "#print(word_index[])\n",
    "reverse_word_index = dict([(value, key) for (key,value) in word_index.items()])"
   ]
  },
  {
   "cell_type": "code",
   "execution_count": 8,
   "metadata": {},
   "outputs": [
    {
     "data": {
      "text/plain": [
       "\"the when is played waiting nowhere on from waste then could any just as states wanted nowhere and and critic this managed to one an beach br okay and of amount it horrific noir movie of diana twist and some br owner and trip girl been think eliminate okay scared are of lot br of films that it see no of system brave folks were queen for of forced films lost polar animation and ripped steve role and and of you waste ing of 1959 br of and comments movie curse this of and and to and many br of work doing only excellent cut this and bomb kids' it for was rather is mostly completely br and pierce what think horrible there your song still touching evil cheadle not drugs and it's and saw in for always several about he's of i've actress br and like fan after tears better is vicious stack jokes ice only scale\""
      ]
     },
     "execution_count": 8,
     "metadata": {},
     "output_type": "execute_result"
    }
   ],
   "source": [
    "decoded_review = \" \".join([reverse_word_index.get(i, \"?\") for i in train_data[0]])\n",
    "decoded_review"
   ]
  },
  {
   "cell_type": "code",
   "execution_count": 9,
   "metadata": {
    "collapsed": true
   },
   "outputs": [],
   "source": [
    "def vectorize_sequence(sequences, dimension=10000):\n",
    "    results = np.zeros((len(sequences),dimension))\n",
    "    for i,sequence in enumerate(sequences):\n",
    "        results[i, sequence] = 1\n",
    "    return results"
   ]
  },
  {
   "cell_type": "code",
   "execution_count": 10,
   "metadata": {
    "collapsed": true
   },
   "outputs": [],
   "source": [
    "x_train = vectorize_sequence(train_data)"
   ]
  },
  {
   "cell_type": "code",
   "execution_count": 11,
   "metadata": {
    "scrolled": true
   },
   "outputs": [
    {
     "data": {
      "text/plain": [
       "array([[ 0.,  1.,  1., ...,  0.,  0.,  0.],\n",
       "       [ 0.,  1.,  1., ...,  0.,  0.,  0.],\n",
       "       [ 0.,  1.,  1., ...,  0.,  0.,  0.],\n",
       "       ..., \n",
       "       [ 0.,  1.,  1., ...,  0.,  0.,  0.],\n",
       "       [ 0.,  1.,  1., ...,  0.,  0.,  0.],\n",
       "       [ 0.,  1.,  0., ...,  0.,  0.,  0.]])"
      ]
     },
     "execution_count": 11,
     "metadata": {},
     "output_type": "execute_result"
    }
   ],
   "source": [
    "x_train"
   ]
  },
  {
   "cell_type": "code",
   "execution_count": 12,
   "metadata": {},
   "outputs": [
    {
     "name": "stdout",
     "output_type": "stream",
     "text": [
      "[1 1 0 ..., 1 0 0]\n"
     ]
    }
   ],
   "source": [
    "print(train_labels)"
   ]
  },
  {
   "cell_type": "markdown",
   "metadata": {},
   "source": [
    "The labels show if the review is good or bad. Good is 1, bad is 0.\n",
    "The data is balanced, 50% good, 50% bad labels. (Not skewed.)"
   ]
  },
  {
   "cell_type": "code",
   "execution_count": 13,
   "metadata": {
    "collapsed": true
   },
   "outputs": [],
   "source": [
    "y_train = np.asarray(train_labels).astype(\"float32\")\n",
    "y_test = np.asarray(test_labels).astype(\"float32\")"
   ]
  },
  {
   "cell_type": "code",
   "execution_count": 14,
   "metadata": {},
   "outputs": [
    {
     "name": "stdout",
     "output_type": "stream",
     "text": [
      "[ 1.  1.  0. ...,  1.  0.  0.]\n",
      "[ 0.  0.  1. ...,  0.  0.  0.]\n"
     ]
    }
   ],
   "source": [
    "print(y_train)\n",
    "print(y_test)\n"
   ]
  },
  {
   "cell_type": "code",
   "execution_count": 96,
   "metadata": {},
   "outputs": [
    {
     "name": "stdout",
     "output_type": "stream",
     "text": [
      "Input units: 16 Hidden units: 16, with Dropout\n"
     ]
    }
   ],
   "source": [
    "number_input_units = 16\n",
    "number_hidden_units = 16\n",
    "model = ks.models.Sequential()\n",
    "model.add(ks.layers.Dense(number_input_units, activation=\"relu\", input_shape=(10000,)))\n",
    "model.add(ks.layers.Dropout(0.5))\n",
    "model.add(ks.layers.Dense(number_hidden_units, activation=\"relu\"))\n",
    "model.add(ks.layers.Dropout(0.5))\n",
    "model.add(ks.layers.Dense(1, activation=\"sigmoid\"))\n",
    "model_title = \"Input units: {} Hidden units: {}, with Dropout\".format(number_input_units,number_hidden_units)\n",
    "print(model_title)"
   ]
  },
  {
   "cell_type": "code",
   "execution_count": 88,
   "metadata": {},
   "outputs": [
    {
     "name": "stdout",
     "output_type": "stream",
     "text": [
      "_________________________________________________________________\n",
      "Layer (type)                 Output Shape              Param #   \n",
      "=================================================================\n",
      "dense_16 (Dense)             (None, 16)                160016    \n",
      "_________________________________________________________________\n",
      "dropout_1 (Dropout)          (None, 16)                0         \n",
      "_________________________________________________________________\n",
      "dense_17 (Dense)             (None, 16)                272       \n",
      "_________________________________________________________________\n",
      "dropout_2 (Dropout)          (None, 16)                0         \n",
      "_________________________________________________________________\n",
      "dense_18 (Dense)             (None, 1)                 17        \n",
      "=================================================================\n",
      "Total params: 160,305\n",
      "Trainable params: 160,305\n",
      "Non-trainable params: 0\n",
      "_________________________________________________________________\n"
     ]
    }
   ],
   "source": [
    "model.summary()"
   ]
  },
  {
   "cell_type": "code",
   "execution_count": 89,
   "metadata": {
    "collapsed": true
   },
   "outputs": [],
   "source": [
    "model.compile(\n",
    "    optimizer = ks.optimizers.RMSprop(lr=0.001),\n",
    "    loss= ks.losses.binary_crossentropy,\n",
    "    metrics=[ks.metrics.binary_accuracy],\n",
    "    )"
   ]
  },
  {
   "cell_type": "code",
   "execution_count": 90,
   "metadata": {},
   "outputs": [
    {
     "name": "stdout",
     "output_type": "stream",
     "text": [
      "<keras.models.Sequential object at 0x000001A6434907B8>\n"
     ]
    }
   ],
   "source": [
    "print(model)"
   ]
  },
  {
   "cell_type": "code",
   "execution_count": 91,
   "metadata": {
    "collapsed": true
   },
   "outputs": [],
   "source": [
    "x_val = x_train[:10000]\n",
    "partial_x_train = x_train[10000:]\n",
    "\n",
    "y_val = y_train[:10000]\n",
    "partial_y_train = y_train[10000:]"
   ]
  },
  {
   "cell_type": "code",
   "execution_count": 92,
   "metadata": {},
   "outputs": [
    {
     "name": "stdout",
     "output_type": "stream",
     "text": [
      "Train on 15000 samples, validate on 10000 samples\n",
      "Epoch 1/10\n",
      "15000/15000 [==============================] - 3s 179us/step - loss: 0.6164 - binary_accuracy: 0.6599 - val_loss: 0.4783 - val_binary_accuracy: 0.8517\n",
      "Epoch 2/10\n",
      "15000/15000 [==============================] - 2s 133us/step - loss: 0.4898 - binary_accuracy: 0.7811 - val_loss: 0.3843 - val_binary_accuracy: 0.8741\n",
      "Epoch 3/10\n",
      "15000/15000 [==============================] - 2s 132us/step - loss: 0.4114 - binary_accuracy: 0.8276 - val_loss: 0.3209 - val_binary_accuracy: 0.8835\n",
      "Epoch 4/10\n",
      "15000/15000 [==============================] - 2s 132us/step - loss: 0.3494 - binary_accuracy: 0.8599 - val_loss: 0.2923 - val_binary_accuracy: 0.8865\n",
      "Epoch 5/10\n",
      "15000/15000 [==============================] - 2s 139us/step - loss: 0.3048 - binary_accuracy: 0.8867 - val_loss: 0.3132 - val_binary_accuracy: 0.8757\n",
      "Epoch 6/10\n",
      "15000/15000 [==============================] - 2s 132us/step - loss: 0.2648 - binary_accuracy: 0.9070 - val_loss: 0.2749 - val_binary_accuracy: 0.8888\n",
      "Epoch 7/10\n",
      "15000/15000 [==============================] - 2s 134us/step - loss: 0.2382 - binary_accuracy: 0.9175 - val_loss: 0.2796 - val_binary_accuracy: 0.8882\n",
      "Epoch 8/10\n",
      "15000/15000 [==============================] - 2s 133us/step - loss: 0.2073 - binary_accuracy: 0.9321 - val_loss: 0.2851 - val_binary_accuracy: 0.8918\n",
      "Epoch 9/10\n",
      "15000/15000 [==============================] - 2s 135us/step - loss: 0.1876 - binary_accuracy: 0.9391 - val_loss: 0.3094 - val_binary_accuracy: 0.8875\n",
      "Epoch 10/10\n",
      "15000/15000 [==============================] - 2s 133us/step - loss: 0.1642 - binary_accuracy: 0.9473 - val_loss: 0.3329 - val_binary_accuracy: 0.8876\n"
     ]
    }
   ],
   "source": [
    "history = model.fit(\n",
    "    partial_x_train,partial_y_train,\n",
    "    epochs = 10,\n",
    "    batch_size = 512,\n",
    "    validation_data = (x_val,y_val),\n",
    ")"
   ]
  },
  {
   "cell_type": "code",
   "execution_count": 93,
   "metadata": {
    "collapsed": true
   },
   "outputs": [],
   "source": [
    "history_dict = history.history\n",
    "loss_values = history_dict['loss']\n",
    "val_loss_values = history_dict['val_loss']\n",
    "epochs = range(1, len(loss_values)+1)"
   ]
  },
  {
   "cell_type": "code",
   "execution_count": 97,
   "metadata": {
    "collapsed": true
   },
   "outputs": [],
   "source": [
    "def plot_hist(history_dict):\n",
    "    fig = plt.figure(figsize=(5,4))\n",
    "    f, (ax1, ax2) = plt.subplots(1, 2, figsize=(20, 5),sharey=False)\n",
    "    \n",
    "    ax1.plot(epochs,  history_dict['loss'],label=\"Train\")\n",
    "    ax1.plot(epochs,  history_dict['val_loss'],label=\"CV\")\n",
    "    ax1.set_title(\"Loss function development - Training set vs CV set\")\n",
    "    ax1.legend(loc='upper right')\n",
    "    ax1.set_xlabel('Epochs')\n",
    "    ax1.set_ylabel('Values')\n",
    "    \n",
    "    ax2.plot(epochs,  history_dict['binary_accuracy'],label=\"Train\")\n",
    "    ax2.plot(epochs,  history_dict['val_binary_accuracy'],label=\"CV\")\n",
    "    ax2.set_title(\"Accuracy development - Training set vs CV set\")\n",
    "    ax2.legend(loc='upper right')\n",
    "    ax2.set_xlabel('Epochs')\n",
    "    ax2.set_ylabel('Values')\n",
    "    \n",
    "    plt.suptitle(model_title, fontsize=16)\n",
    "    \n",
    "    plt.show()"
   ]
  },
  {
   "cell_type": "code",
   "execution_count": 98,
   "metadata": {},
   "outputs": [
    {
     "data": {
      "text/plain": [
       "<matplotlib.figure.Figure at 0x1a645295160>"
      ]
     },
     "metadata": {},
     "output_type": "display_data"
    },
    {
     "data": {
      "image/png": "[encoded data removed]",
      "text/plain": [
       "<matplotlib.figure.Figure at 0x1a645295828>"
      ]
     },
     "metadata": {},
     "output_type": "display_data"
    }
   ],
   "source": [
    "plot_hist(history_dict)"
   ]
  },
  {
   "cell_type": "code",
   "execution_count": null,
   "metadata": {
    "collapsed": true
   },
   "outputs": [],
   "source": []
  },
  {
   "cell_type": "code",
   "execution_count": null,
   "metadata": {
    "collapsed": true
   },
   "outputs": [],
   "source": []
  }
 ],
 "metadata": {
  "kernelspec": {
   "display_name": "Python 3",
   "language": "python",
   "name": "python3"
  },
  "language_info": {
   "codemirror_mode": {
    "name": "ipython",
    "version": 3
   },
   "file_extension": ".py",
   "mimetype": "text/x-python",
   "name": "python",
   "nbconvert_exporter": "python",
   "pygments_lexer": "ipython3",
   "version": "3.6.4"
  }
 },
 "nbformat": 4,
 "nbformat_minor": 2
}
