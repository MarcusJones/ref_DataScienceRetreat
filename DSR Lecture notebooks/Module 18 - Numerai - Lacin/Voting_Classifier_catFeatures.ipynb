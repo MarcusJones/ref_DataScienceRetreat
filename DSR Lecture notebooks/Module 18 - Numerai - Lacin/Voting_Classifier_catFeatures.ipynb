{
 "cells": [
  {
   "cell_type": "code",
   "execution_count": 19,
   "metadata": {
    "collapsed": true
   },
   "outputs": [],
   "source": [
    "import pandas as pd\n",
    "import numpy as np\n",
    "from sklearn.ensemble import RandomForestClassifier, RandomTreesEmbedding, VotingClassifier\n",
    "from sklearn.model_selection import cross_val_score\n",
    "from sklearn.metrics import log_loss\n",
    "from sklearn.model_selection import GridSearchCV\n",
    "from sklearn.neural_network import MLPClassifier\n",
    "from sklearn.pipeline import make_union, make_pipeline\n",
    "from sklearn.preprocessing import FunctionTransformer,OneHotEncoder\n",
    "from xgboost import XGBClassifier\n",
    "from sklearn.linear_model import SGDClassifier, LogisticRegression"
   ]
  },
  {
   "cell_type": "code",
   "execution_count": 72,
   "metadata": {
    "collapsed": true
   },
   "outputs": [],
   "source": [
    "datadir= '/home/db2inst1/task/'\n",
    "df_train = pd.read_csv( datadir + 'trainData.csv')   \n",
    "df_test = pd.read_csv( datadir + 'testData.csv')\n",
    "df_s = df_train.sample(frac=0.5,random_state=5)\n",
    "\n",
    "feature_cols = df_train.columns[0:-1]\n",
    "target_col = df_train.columns[-1]\n",
    "\n",
    "X_tr=df_train[feature_cols].values\n",
    "y_tr=df_train[target_col].values-1\n",
    "\n",
    "X=df_s[feature_cols].values\n",
    "y=df_s[target_col].values-1\n",
    "\n",
    "X_test=df_test[feature_cols].values"
   ]
  },
  {
   "cell_type": "markdown",
   "metadata": {},
   "source": [
    "# categorical features creation"
   ]
  },
  {
   "cell_type": "code",
   "execution_count": 25,
   "metadata": {
    "collapsed": true
   },
   "outputs": [],
   "source": [
    "transformation = make_union(\n",
    "    FunctionTransformer(),\n",
    "    RandomTreesEmbedding(),\n",
    "     make_pipeline(\n",
    "         FunctionTransformer(func=lambda x: (x.round(1) * 10)),\n",
    "         OneHotEncoder()\n",
    "     )\n",
    ")\n",
    "model = make_pipeline(\n",
    "    transformation,\n",
    "    VotingClassifier(\n",
    "        [\n",
    "            ('LR', LogisticRegression(multi_class='multinomial',n_jobs=-1,solver='newton-cg')),\n",
    "            ('sgd', GridSearchCV(SGDClassifier(loss='log',tol=1e-3,max_iter=1000,n_jobs=-1),\n",
    "                                 param_grid={'alpha': [0.1, 0.03, 0.01, 0.003],\n",
    "                                            'class_weight':['balanced',None]\n",
    "                                             #'loss':['log','hinge']\n",
    "                                            },\n",
    "                                 scoring='neg_log_loss',\n",
    "                                 n_jobs=-1)),\n",
    "            ('rf1',\n",
    "             RandomForestClassifier(n_estimators=700,\n",
    "                                    criterion=\"gini\", max_features=20,                              \n",
    "                                    min_samples_split=7, n_jobs=-1)),\n",
    "            \n",
    "            ('mlp1', MLPClassifier()),\n",
    "            ('mlp2', MLPClassifier(hidden_layer_sizes=(50,))),\n",
    "            ('xgb', XGBClassifier(max_depth=7, nthread=6,n_jobs=-1)),\n",
    "            ('gsearch2', GridSearchCV(XGBClassifier( learning_rate=0.1, \n",
    "  gamma=0, colsample_bytree=0.8,\n",
    " objective= 'multi:softprob', scale_pos_weight=1,seed=27), \n",
    " param_grid = param_test2, scoring='neg_log_loss',n_jobs=-1,iid=False, cv=5)\n",
    "            )], \n",
    "             voting='soft'\n",
    "    )\n",
    ")"
   ]
  }
 ],
 "metadata": {
  "kernelspec": {
   "display_name": "Python [default]",
   "language": "python",
   "name": "python3"
  },
  "language_info": {
   "codemirror_mode": {
    "name": "ipython",
    "version": 3
   },
   "file_extension": ".py",
   "mimetype": "text/x-python",
   "name": "python",
   "nbconvert_exporter": "python",
   "pygments_lexer": "ipython3",
   "version": "3.6.4"
  }
 },
 "nbformat": 4,
 "nbformat_minor": 2
}
