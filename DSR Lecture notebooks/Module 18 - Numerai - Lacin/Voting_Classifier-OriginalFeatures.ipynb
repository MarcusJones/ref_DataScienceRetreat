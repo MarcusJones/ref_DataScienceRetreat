{
 "cells": [
  {
   "cell_type": "code",
   "execution_count": null,
   "metadata": {
    "collapsed": true
   },
   "outputs": [],
   "source": [
    "from IPython.display import Image\n",
    "Image(\"img/picture.png\")"
   ]
  },
  {
   "cell_type": "code",
   "execution_count": 1,
   "metadata": {
    "collapsed": true
   },
   "outputs": [],
   "source": [
    "import pandas as pd\n",
    "import numpy as np\n",
    "from sklearn.ensemble import RandomForestClassifier, RandomTreesEmbedding, VotingClassifier\n",
    "from sklearn.model_selection import cross_val_score\n",
    "from sklearn.metrics import log_loss\n",
    "from sklearn.model_selection import GridSearchCV\n",
    "from sklearn.neural_network import MLPClassifier\n",
    "from sklearn.pipeline import make_union, make_pipeline\n",
    "from sklearn.preprocessing import FunctionTransformer,OneHotEncoder\n",
    "from xgboost import XGBClassifier\n",
    "from sklearn.linear_model import SGDClassifier, LogisticRegression"
   ]
  },
  {
   "cell_type": "code",
   "execution_count": 5,
   "metadata": {
    "collapsed": true
   },
   "outputs": [],
   "source": [
    "datadir= '/home/db2inst1/task/'\n",
    "df_train = pd.read_csv( datadir + 'trainData.csv')   \n",
    "df_test = pd.read_csv( datadir + 'testData.csv')\n",
    "df_s = df_train.sample(frac=0.5,random_state=5)\n",
    "\n",
    "feature_cols = df_train.columns[0:-1]\n",
    "target_col = df_train.columns[-1]\n",
    "\n",
    "X_tr=df_train[feature_cols].values\n",
    "y_tr=df_train[target_col].values\n",
    "\n",
    "X=df_s[feature_cols].values\n",
    "y=df_s[target_col].values -1\n",
    "\n",
    "X_test=df_test[feature_cols].values"
   ]
  },
  {
   "cell_type": "code",
   "execution_count": 10,
   "metadata": {
    "collapsed": true
   },
   "outputs": [],
   "source": [
    "model2 = make_pipeline(\n",
    "    VotingClassifier(\n",
    "        [\n",
    "            ('LR', LogisticRegression(multi_class='multinomial',n_jobs=-1,solver='newton-cg')),\n",
    "            ('sgd', GridSearchCV(SGDClassifier(loss='log',tol=1e-3,max_iter=1000,n_jobs=-1),\n",
    "                                     param_grid={'alpha': [0.1, 0.03, 0.01, 0.003],\n",
    "                                                'class_weight':['balanced',None]                                             \n",
    "                                                },\n",
    "                                     scoring='neg_log_loss',\n",
    "                                     n_jobs=-1)\n",
    "            ),\n",
    "            ('rf1', RandomForestClassifier(n_estimators=700,\n",
    "                                    criterion=\"gini\", max_features=20,                              \n",
    "                                    min_samples_split=7, n_jobs=-1)\n",
    "            ),\n",
    "            \n",
    "            ('gsearch2', GridSearchCV(XGBClassifier( learning_rate=0.1, \n",
    "                                    gamma=0, colsample_bytree=0.8,\n",
    "                                    objective= 'multi:softprob', scale_pos_weight=1,seed=27), \n",
    "                                    param_grid = {\n",
    "                                    'max_depth':[6,7],\n",
    "                                    'min_child_weight':[3,4],\n",
    "                                    'n_estimators':[400,600]}, \n",
    "                                    scoring='neg_log_loss',n_jobs=-1,iid=False, cv=3)\n",
    "            )\n",
    "        ], voting='soft'\n",
    "    )\n",
    ")\n",
    "scores = cross_val_score(model2,X,y,scoring='neg_log_loss',cv=2)\n",
    "#model2.fit(X, y)"
   ]
  },
  {
   "cell_type": "code",
   "execution_count": 11,
   "metadata": {},
   "outputs": [
    {
     "data": {
      "text/plain": [
       "array([-0.60043949, -0.59585416])"
      ]
     },
     "execution_count": 11,
     "metadata": {},
     "output_type": "execute_result"
    }
   ],
   "source": [
    "scores"
   ]
  }
 ],
 "metadata": {
  "kernelspec": {
   "display_name": "Python 3",
   "language": "python",
   "name": "python3"
  },
  "language_info": {
   "codemirror_mode": {
    "name": "ipython",
    "version": 3
   },
   "file_extension": ".py",
   "mimetype": "text/x-python",
   "name": "python",
   "nbconvert_exporter": "python",
   "pygments_lexer": "ipython3",
   "version": "3.6.3"
  }
 },
 "nbformat": 4,
 "nbformat_minor": 2
}
