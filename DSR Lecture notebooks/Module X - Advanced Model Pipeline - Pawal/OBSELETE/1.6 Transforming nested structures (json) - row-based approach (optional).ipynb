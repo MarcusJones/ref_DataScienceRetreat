{
 "cells": [
  {
   "cell_type": "markdown",
   "metadata": {},
   "source": [
    "Sometimes your input data can be nested with more difficult structure than a simple table or a matrix.\n",
    "\n",
    "In such cases it is sometime useful to shift mental orientation to analyze and extract information froms rows rather then non-defined columns."
   ]
  },
  {
   "cell_type": "code",
   "execution_count": null,
   "metadata": {},
   "outputs": [],
   "source": [
    "from utils import css_from_file\n",
    "css_from_file('style/style.css')"
   ]
  },
  {
   "cell_type": "code",
   "execution_count": null,
   "metadata": {},
   "outputs": [],
   "source": [
    "#!pip install nltk"
   ]
  },
  {
   "cell_type": "code",
   "execution_count": 2,
   "metadata": {},
   "outputs": [
    {
     "name": "stdout",
     "output_type": "stream",
     "text": [
      "[nltk_data] Downloading package punkt to /home/batman/nltk_data...\n",
      "[nltk_data]   Package punkt is already up-to-date!\n"
     ]
    },
    {
     "data": {
      "text/plain": [
       "True"
      ]
     },
     "execution_count": 2,
     "metadata": {},
     "output_type": "execute_result"
    }
   ],
   "source": [
    "import json\n",
    "import numpy as np\n",
    "import pprint\n",
    "from nltk import download, word_tokenize\n",
    "\n",
    "download('punkt')"
   ]
  },
  {
   "cell_type": "code",
   "execution_count": 3,
   "metadata": {},
   "outputs": [],
   "source": [
    "with open(\"data/companies/companies.json\") as dataf:\n",
    "    data = [json.loads(line) for line in dataf]"
   ]
  },
  {
   "cell_type": "markdown",
   "metadata": {},
   "source": [
    "An example of deeply nested data with various data types:\n",
    "\n",
    "Exercise:\n",
    "\n",
    "1. Name variable types\n",
    "2. What do you do with lists, geo location?\n",
    "3. What do you do with counts?"
   ]
  },
  {
   "cell_type": "code",
   "execution_count": 4,
   "metadata": {},
   "outputs": [
    {
     "name": "stdout",
     "output_type": "stream",
     "text": [
      "{'address': {'city': 'Seattle',\n",
      "             'country': 'United States',\n",
      "             'postalCode': '98134',\n",
      "             'raw': '624 South Lander St\\n'\n",
      "                    'Suite 28\\n'\n",
      "                    'Seattle,\\n'\n",
      "                    'WA\\n'\n",
      "                    '98134\\n'\n",
      "                    'United States',\n",
      "             'region': 'WA',\n",
      "             'street': '624 South Lander St'},\n",
      " 'description': 'At 36th avenue design|build we are committed to total client '\n",
      "                'satisfaction. We believe that strong and lasting '\n",
      "                'relationships built on integrity and trust, earned through '\n",
      "                'the remodel, is as important as the renovation of your home. '\n",
      "                'We consider every project an opportunity to participate with '\n",
      "                'our clients in a unique and artful, design and construction '\n",
      "                'process. To each of our clients, our commitment remains '\n",
      "                'consistent: concise communication, integrity, and pride in '\n",
      "                'workmanship of incomparable quality. Grounded in quality, '\n",
      "                '36th avenue design|build thrives on variety and working with '\n",
      "                'homeowners to create relaxing and inviting atmospheres from '\n",
      "                'traditional to modern. For the discriminating homeowner who '\n",
      "                'expects incomparable quality and unparalleled service, trust '\n",
      "                'in 36th avenue design|build.',\n",
      " 'domain': '36designbuild.com',\n",
      " 'extension': {'address': 'Greater Seattle Area',\n",
      "               'geo_location': {'country': 'United States',\n",
      "                                'formatted_address': 'Seattle, WA, USA',\n",
      "                                'location': [47.6062095, -122.3320708],\n",
      "                                'raw': 'Greater Seattle Area',\n",
      "                                'timezone': 'America/Los_Angeles'},\n",
      "               'geo_location_triple': {'administrative_area': 'Washington',\n",
      "                                       'city': 'Seattle',\n",
      "                                       'country': 'United States'},\n",
      "               'industries': [{'count': 3, 'industry': 'Construction'}],\n",
      "               'job_positions': [{'count': 2, 'job_position': 'Owner'},\n",
      "                                 {'count': 1,\n",
      "                                  'job_position': 'Project Manager'}],\n",
      "               'name': '36th Avenue Design Build',\n",
      "               'persons_in_database': 3,\n",
      "               'skills': [{'count': 3, 'skill': 'Construction'},\n",
      "                          {'count': 3, 'skill': 'Project Management'},\n",
      "                          {'count': 2, 'skill': 'Construction Management'},\n",
      "                          {'count': 2, 'skill': 'Renovation'},\n",
      "                          {'count': 2, 'skill': 'Project Estimation'},\n",
      "                          {'count': 1, 'skill': 'LEED'},\n",
      "                          {'count': 1, 'skill': 'Customer Service'},\n",
      "                          {'count': 1, 'skill': 'Team Leadership'},\n",
      "                          {'count': 1, 'skill': 'Design Research'},\n",
      "                          {'count': 1, 'skill': 'CPM Scheduling'},\n",
      "                          {'count': 1, 'skill': 'Contract Management'},\n",
      "                          {'count': 1, 'skill': 'Volunteering'},\n",
      "                          {'count': 1, 'skill': 'LEED AP'},\n",
      "                          {'count': 1, 'skill': 'Contractors'},\n",
      "                          {'count': 1, 'skill': 'Custom Homes'},\n",
      "                          {'count': 1, 'skill': 'Change Orders'},\n",
      "                          {'count': 1, 'skill': 'Exterior Restoration'},\n",
      "                          {'count': 1, 'skill': 'Home Renovations'},\n",
      "                          {'count': 1, 'skill': 'Comprehensive Planning'},\n",
      "                          {'count': 1, 'skill': 'Submittals'},\n",
      "                          {'count': 1, 'skill': 'Process Scheduler'},\n",
      "                          {'count': 1, 'skill': 'Leadership'},\n",
      "                          {'count': 1, 'skill': 'Project Planning'},\n",
      "                          {'count': 1, 'skill': 'Design Consulting'},\n",
      "                          {'count': 1, 'skill': 'Process Improvement'},\n",
      "                          {'count': 1, 'skill': 'Pre-construction'},\n",
      "                          {'count': 1, 'skill': 'Value Engineering'},\n",
      "                          {'count': 1, 'skill': 'Home Improvement'},\n",
      "                          {'count': 1, 'skill': 'Budgets'},\n",
      "                          {'count': 1, 'skill': 'Custom Furniture'}],\n",
      "               'url': 'linkedin.com/company/36th-avenue-design-build'},\n",
      " 'founded_year': 2010,\n",
      " 'industries': ['Construction'],\n",
      " 'metadata': {'documents': [{'ids': ['377494fe2c345c77806c89a9a9c5653f'],\n",
      "                             'path': 'linkedin'},\n",
      "                            {'ids': ['f995ef118faf56c9a2b574fe018ca1bb'],\n",
      "                             'path': 'built_with'}],\n",
      "              'urls': []},\n",
      " 'name': '36th Avenue Design Build',\n",
      " 'public_url': 'http://www.linkedin.com/company/6629242',\n",
      " 'raw_text': 'At 36th avenue design|build we are committed to total client '\n",
      "             'satisfaction. We believe that strong and lasting relationships '\n",
      "             'built on integrity and trust, earned through the remodel, is as '\n",
      "             'important as the renovation of your home. We consider every '\n",
      "             'project an opportunity to participate with our clients in a '\n",
      "             'unique and artful, design and construction process. To each of '\n",
      "             'our clients, our commitment remains consistent: concise '\n",
      "             'communication, integrity, and pride in workmanship of '\n",
      "             'incomparable quality. Grounded in quality, 36th avenue '\n",
      "             'design|build thrives on variety and working with homeowners to '\n",
      "             'create relaxing and inviting atmospheres from traditional to '\n",
      "             'modern. For the discriminating homeowner who expects '\n",
      "             'incomparable quality and unparalleled service, trust in 36th '\n",
      "             'avenue design|build.',\n",
      " 'size_begin': 1,\n",
      " 'size_end': 10,\n",
      " 'specialties': [],\n",
      " 'technologies': ['Apache',\n",
      "                  'Unslider',\n",
      "                  '1and1',\n",
      "                  'Viewport Meta',\n",
      "                  'Pingback Support',\n",
      "                  'Wordpress 4.5',\n",
      "                  '1and1 Email Solutions',\n",
      "                  'Wordpress Plugins',\n",
      "                  '1and1 DNS',\n",
      "                  'jQuery',\n",
      "                  'FlexSlider',\n",
      "                  'Google Font API',\n",
      "                  'Font Awesome',\n",
      "                  'Really Simple Discovery',\n",
      "                  'PHP',\n",
      "                  'WordPress',\n",
      "                  'RSS',\n",
      "                  'WordPress Grid',\n",
      "                  'Modernizr',\n",
      "                  'JetPack',\n",
      "                  'Live Writer Support',\n",
      "                  'Gravatar Profiles'],\n",
      " 'uuid': '377494fe2c345c77806c89a9a9c5653f',\n",
      " 'website': 'http://www.36designbuild.com'}\n"
     ]
    }
   ],
   "source": [
    "pprint.pprint(data[7])"
   ]
  },
  {
   "cell_type": "markdown",
   "metadata": {},
   "source": [
    "With such data you can be sure that you'll need a sparse matrix.\n",
    "\n",
    "Remember `DictVectorizer` class? It accepts a dictionary and returns a sparse matrix.\n",
    "\n",
    "So the only thing we need is a function such that \n",
    "\n",
    "```f(Json) => Dict```\n",
    "\n",
    "First we need a function `deep_select` to retrieve nested values"
   ]
  },
  {
   "cell_type": "code",
   "execution_count": null,
   "metadata": {},
   "outputs": [],
   "source": [
    "### write your deep_select class here\n",
    "\n",
    "jsondata = {'a': \n",
    "    {'b': \n",
    "         {'c': 1}\n",
    "    }\n",
    "}\n",
    "\n",
    "class DeepSelect():\n",
    "    def __init__(self, path, default):\n",
    "        self.path = path\n",
    "        self.default = default\n",
    "    \n",
    "    def _helper(self, row, path):\n",
    "        if len(path) == 1:\n",
    "            return row.get(path[0], self.default)\n",
    "        elif path[0] in row:\n",
    "            return self._helper(row[path[0]], path[1:])\n",
    "        else:\n",
    "            return self.default\n",
    "\n",
    "    def __call__(self, row):\n",
    "        return self._helper(row, self.path)\n",
    "\n",
    "# tests\n",
    "assert DeepSelect([\"a\",\"b\",\"c\"], None)(jsondata) == 1\n",
    "assert DeepSelect([\"a\",\"b\"], None)(jsondata) == {'c': 1}\n",
    "assert DeepSelect([\"x\"], None)(jsondata) == None"
   ]
  },
  {
   "cell_type": "markdown",
   "metadata": {},
   "source": [
    "Click here to see the DeepSelect solution\n",
    "<div class=\"spoiler\">\n",
    "\n",
    "class DeepSelect():\n",
    "    def __init__(self, path, default):\n",
    "        self.path = path\n",
    "        self.default = default\n",
    "    \n",
    "    def _helper(self, row, path):\n",
    "        if len(path) == 1:\n",
    "            return row.get(path[0], self.default)\n",
    "        elif path[0] in row:\n",
    "            return self._helper(row[path[0]], path[1:])\n",
    "        else:\n",
    "            return self.default\n",
    "\n",
    "    def __call__(self, row):\n",
    "        return self._helper(row, self.path)\n",
    "\n",
    "</a>"
   ]
  },
  {
   "cell_type": "code",
   "execution_count": null,
   "metadata": {},
   "outputs": [],
   "source": [
    "def create_skills_features(row):\n",
    "    features = {}\n",
    "    for tech in DeepSelect(['extension','skills'],[])(row):\n",
    "        features[tech['skill']] = tech[\"count\"]\n",
    "    return features\n",
    "\n",
    "create_skills_features(data[4])"
   ]
  },
  {
   "cell_type": "markdown",
   "metadata": {},
   "source": [
    "So far so good what about text?"
   ]
  },
  {
   "cell_type": "code",
   "execution_count": null,
   "metadata": {},
   "outputs": [],
   "source": [
    "def create_description_features(row):\n",
    "    features = {}\n",
    "    for word in word_tokenize(row['description']):\n",
    "        features[\"description=\" + word.lower()] = 1\n",
    "    return features\n",
    "\n",
    "create_description_features(data[0])"
   ]
  },
  {
   "cell_type": "markdown",
   "metadata": {},
   "source": [
    "Let's create a more generic way to transform text"
   ]
  },
  {
   "cell_type": "code",
   "execution_count": null,
   "metadata": {},
   "outputs": [],
   "source": [
    "class TransformText():\n",
    "    def __init__(self, field, tokenizer=word_tokenize):\n",
    "        self.field = field\n",
    "        self.tokenizer = tokenizer\n",
    "    \n",
    "    def __call__(self, row):\n",
    "        features = {}\n",
    "        for word in self.tokenizer(DeepSelect(self.field,\"\")(row)):\n",
    "            word = word.lower()\n",
    "            features[word] = 1\n",
    "        return features\n",
    "    \n",
    "text_transformer = TransformText(['extension','address'], tokenizer=lambda x: [x])\n",
    "text_transformer(data[6])"
   ]
  },
  {
   "cell_type": "markdown",
   "metadata": {},
   "source": [
    "Exercise:\n",
    "-------------\n",
    "    \n",
    "1. Write function or classes that transform other features? You'll need a function to retrieve nested values. \n",
    "2. There are some fields which you can treat as a categorical feature or a text features. What is best and why?\n",
    "3. Write a function / class that will accept a list of transforming functions and creates a concatenation of the features\n",
    "4. Wrap previous function in a scikit-learn transformer class so we can use it in a pipeline"
   ]
  },
  {
   "cell_type": "code",
   "execution_count": null,
   "metadata": {},
   "outputs": [],
   "source": [
    "def combine_features(fs):\n",
    "\n",
    "    def helper(row):\n",
    "        all_features = {}\n",
    "        for name, f in fs:\n",
    "            for k,v in f(row).items():\n",
    "                all_features[name + \"_\" + k] = v\n",
    "        return all_features\n",
    "\n",
    "    return helper\n",
    "\n",
    "company_data = {\n",
    "    'description': 'Fortune 500 hundred company',\n",
    "    'skills': [{'skill': 'waste disposal', 'count': 1},\n",
    "               {'skill': 'data science', 'count': 2}]\n",
    "}\n",
    "\n",
    "\n",
    "features_generator = combine_features([('description', TransformText(['description'])),\n",
    "                                       ('skills', create_skills_features)]) \n",
    "\n",
    "features_generator(company_data)"
   ]
  },
  {
   "cell_type": "code",
   "execution_count": null,
   "metadata": {},
   "outputs": [],
   "source": [
    "from sklearn.base import BaseEstimator, TransformerMixin\n",
    "from sklearn.pipeline import make_pipeline\n",
    "from sklearn.feature_extraction import DictVectorizer\n",
    "\n",
    "class JsonTransformer(BaseEstimator, TransformerMixin):\n",
    "    \n",
    "    def __init__(self, fs):\n",
    "        self.fs = fs\n",
    "        \n",
    "    def fit(self, X, y=None):\n",
    "        return self\n",
    "    \n",
    "    def transform(self, X, y=None):\n",
    "        out = []\n",
    "        for x in X:\n",
    "            out.append(combine_features(self.fs)(x))\n",
    "        return out\n",
    "    \n",
    "pipeline = make_pipeline(\n",
    "    JsonTransformer([('description', TransformText(['description'])), \n",
    "                     ('skills', create_skills_features)]),\n",
    "    DictVectorizer()\n",
    ")\n",
    "\n",
    "pipeline.fit_transform(data)"
   ]
  },
  {
   "cell_type": "code",
   "execution_count": null,
   "metadata": {},
   "outputs": [],
   "source": [
    "X = pipeline.fit_transform(data)\n",
    "X.shape"
   ]
  },
  {
   "cell_type": "markdown",
   "metadata": {},
   "source": [
    "Number of features is really high. We need to reduce this. We can remove too sparse values.\n",
    "To check the sparsity of the data we can use a method\n",
    "\n",
    "X.getnnz (number of non-zero values)"
   ]
  },
  {
   "cell_type": "code",
   "execution_count": null,
   "metadata": {},
   "outputs": [],
   "source": [
    "X.getnnz(0)"
   ]
  },
  {
   "cell_type": "markdown",
   "metadata": {},
   "source": [
    "Exercise\n",
    "===============\n",
    "\n",
    "1. Write a transformation class called SparsityFilter that accepts a minimum frequency. Watch out for fit function - this class has some state that you must save\n",
    "\n",
    "```\n",
    "class SparsityFilter(BaseEstimator, TransformerMixin):\n",
    "    def __init__(self, min_nnz=None):\n",
    "        self.min_nnz = min_nnz\n",
    "\n",
    "    def fit(self, X, y=None):\n",
    "        ???\n",
    "        return self\n",
    "\n",
    "    def transform(self, X):\n",
    "        return ???\n",
    "```"
   ]
  },
  {
   "cell_type": "code",
   "execution_count": null,
   "metadata": {},
   "outputs": [],
   "source": [
    "# write sparsity class here\n",
    "class SparsityFilter(BaseEstimator, TransformerMixin):\n",
    "    def __init__(self, min_nnz=None):\n",
    "        self.min_nnz = min_nnz\n",
    "\n",
    "    def fit(self, X, y=None):\n",
    "        self.sparsity = X.getnnz(0)\n",
    "        return self\n",
    "\n",
    "    def transform(self, X):\n",
    "        return X[:, self.sparsity >= self.min_nnz]"
   ]
  },
  {
   "cell_type": "markdown",
   "metadata": {},
   "source": [
    "Double click to see the solution \n",
    "\n",
    "<div class=\"spoiler\">\n",
    "\n",
    "class SparsityFilter(BaseEstimator, TransformerMixin):\n",
    "    def __init__(self, min_nnz=None):\n",
    "        self.min_nnz = min_nnz\n",
    "\n",
    "    def fit(self, X, y=None):\n",
    "        self.sparsity = X.getnnz(0)\n",
    "        return self\n",
    "\n",
    "    def transform(self, X):\n",
    "        return X[:, self.sparsity >= self.min_nnz]\n",
    "</div>"
   ]
  },
  {
   "cell_type": "code",
   "execution_count": null,
   "metadata": {},
   "outputs": [],
   "source": [
    "pipeline = make_pipeline(\n",
    "    JsonTransformer([('description', TransformText(['description'])), \n",
    "                     ('skills', create_skills_features)]),\n",
    "    DictVectorizer(),\n",
    "    SparsityFilter(min_nnz=25)\n",
    ")\n",
    "\n",
    "X = pipeline.fit_transform(data)\n",
    "X.shape"
   ]
  },
  {
   "cell_type": "markdown",
   "metadata": {},
   "source": [
    "You should see a shape that is much smaller than the original"
   ]
  },
  {
   "cell_type": "markdown",
   "metadata": {},
   "source": [
    "Exercise\n",
    "================\n",
    "\n",
    "1. Build a model - try to predict the industry.\n",
    "2. Evaluate its results using cross validation - what would be the best measure for this problem?"
   ]
  },
  {
   "cell_type": "code",
   "execution_count": null,
   "metadata": {},
   "outputs": [],
   "source": [
    "# write solution here"
   ]
  },
  {
   "cell_type": "markdown",
   "metadata": {},
   "source": [
    "Click to see the solution\n",
    "\n",
    "<div class=\"spoiler\">\n",
    "\n",
    "from xgboost import XGBClassifier\n",
    "from sklearn.cross_validation import cross_val_predict\n",
    "\n",
    "pipeline = make_pipeline(\n",
    "    JsonTransformer([('description', TransformText('description')), \n",
    "                     ('technologies', create_technologies_features)]),\n",
    "    DictVectorizer(),\n",
    "    SparsityFilter(min_nnz=25),\n",
    "    XGBClassifier()\n",
    ")\n",
    "\n",
    "X = data\n",
    "y = [row['industries'][0] if len(row['industries']) else \"\" for row in data]\n",
    "\n",
    "predictions = cross_val_predict(pipeline, X, y)\n",
    "\n",
    "print(\"Accuracy = {}\".format((predictions == np.array(y)).mean()))\n",
    "\n",
    "</div>"
   ]
  },
  {
   "cell_type": "code",
   "execution_count": null,
   "metadata": {},
   "outputs": [],
   "source": [
    "from sklearn.cross_validation import cross_val_predict\n",
    "from sklearn.naive_bayes import MultinomialNB\n",
    "\n",
    "def makelist(x):\n",
    "    return [x]\n",
    "    \n",
    "pipeline = make_pipeline(\n",
    "    JsonTransformer([('description', TransformText(['description'])),\n",
    "                     ('country', TransformText(['extension','geo_location','country'], makelist)),\n",
    "                     ('skills', create_skills_features)]),\n",
    "    DictVectorizer(),\n",
    "    SparsityFilter(min_nnz=25),\n",
    "    MultinomialNB()\n",
    ")\n",
    "\n",
    "X = data\n",
    "y = [row['industries'][0] if len(row['industries']) else \"\" for row in data]\n",
    "\n",
    "predictions = cross_val_predict(pipeline, X, y)\n",
    "\n",
    "print(\"Accuracy = {}\".format((predictions == np.array(y)).mean()))"
   ]
  },
  {
   "cell_type": "code",
   "execution_count": null,
   "metadata": {},
   "outputs": [],
   "source": [
    "len(set(y))"
   ]
  },
  {
   "cell_type": "code",
   "execution_count": null,
   "metadata": {},
   "outputs": [],
   "source": []
  }
 ],
 "metadata": {
  "kernelspec": {
   "display_name": "Python [default]",
   "language": "python",
   "name": "python3"
  },
  "language_info": {
   "codemirror_mode": {
    "name": "ipython",
    "version": 3
   },
   "file_extension": ".py",
   "mimetype": "text/x-python",
   "name": "python",
   "nbconvert_exporter": "python",
   "pygments_lexer": "ipython3",
   "version": "3.6.4"
  }
 },
 "nbformat": 4,
 "nbformat_minor": 2
}
