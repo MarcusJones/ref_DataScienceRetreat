{
 "cells": [
  {
   "cell_type": "markdown",
   "metadata": {},
   "source": [
    "# Image classification\n",
    "### Extract features from images (convert from 2D image into a NN representation), save as .npy\n",
    "### Reload and make predictions"
   ]
  },
  {
   "cell_type": "markdown",
   "metadata": {},
   "source": [
    "See: https://blog.keras.io/building-powerful-image-classification-models-using-very-little-data.html\n",
    " \n",
    "See: https://gist.github.com/fchollet/f35fbc80e066a49d65f1688a7e99f069"
   ]
  },
  {
   "cell_type": "code",
   "execution_count": null,
   "metadata": {},
   "outputs": [],
   "source": [
    "import numpy as np\n",
    "import pandas as pd\n",
    "import keras as ks\n",
    "\n",
    "import os\n",
    "\n",
    "%matplotlib inline\n",
    "import matplotlib.pyplot as plt\n",
    "import numpy as np\n",
    "from keras.preprocessing import image as ks_preprocessing_image"
   ]
  },
  {
   "cell_type": "code",
   "execution_count": null,
   "metadata": {},
   "outputs": [],
   "source": [
    "# Download the VGG pre-trained network\n",
    "from keras.applications import vgg16 as vgg16\n",
    "my_vgg16_model_topped = vgg16.VGG16(include_top=True, weights='imagenet', input_tensor=None, input_shape=None, pooling=None, classes=1000)\n",
    "my_vgg16_model_not_topped = vgg16.VGG16(include_top=False, weights='imagenet', input_tensor=None, input_shape=None, pooling=None, classes=1000)\n",
    "#print(vgg16)\n",
    "for el in dir(my_vgg16_model_not_topped):\n",
    "    break\n",
    "    print(el)"
   ]
  },
  {
   "cell_type": "code",
   "execution_count": null,
   "metadata": {},
   "outputs": [],
   "source": [
    "print(\"Loadded my_vgg16_model_topped:\",type(my_vgg16_model_topped))\n",
    "#my_vgg16_model_topped.summary()\n",
    "print(\"Loadded my_vgg16_model_not_topped:\",type(my_vgg16_model_not_topped))\n",
    "#my_vgg16_model_not_topped.summary()"
   ]
  },
  {
   "cell_type": "code",
   "execution_count": null,
   "metadata": {},
   "outputs": [],
   "source": [
    "# All paths to data\n",
    "root_data_dir = r\"/media/batman/Windows/Data TEMP/cats_dogs_small\"\n",
    "path_train =root_data_dir + r\"/train\"\n",
    "path_test = root_data_dir + r\"/test\"\n",
    "path_validation = root_data_dir + r\"/validation\"\n",
    "\n",
    "path_test_cats = root_data_dir + \"/test/cats\"\n",
    "path_test_dogs = root_data_dir + \"/test/dogs\"\n",
    "\n",
    "path_train_cats = root_data_dir + \"/train/cats\"\n",
    "path_train_dogs = root_data_dir + \"/train/dogs\"\n",
    "\n",
    "path_validation_cats = root_data_dir + \"/validation/cats\"\n",
    "path_validation_dogs = root_data_dir + \"/validation/dogs\""
   ]
  },
  {
   "cell_type": "code",
   "execution_count": null,
   "metadata": {},
   "outputs": [],
   "source": [
    "path_learned_features_train = './bottleneck_features_train.npy'\n",
    "path_learned_features_validation = './bottleneck_features_validation.npy'"
   ]
  },
  {
   "cell_type": "code",
   "execution_count": null,
   "metadata": {},
   "outputs": [],
   "source": [
    "# EXTRACT FEATURES\n",
    "# This is the data generator\n",
    "# Rescale, since Google did!\n",
    "my_datagen = ks_preprocessing_image.ImageDataGenerator(rescale = 1. / 255)\n",
    "\n",
    "print(my_datagen)\n",
    "\n",
    "\n",
    "# Here's the model again\n",
    "model = my_vgg16_model_not_topped\n",
    "\n",
    "batch_size = 16\n",
    "#imgx, imgy = (244, 244)\n",
    "\n",
    "\n",
    "\n",
    "# Training data\n",
    "generator = my_datagen.flow_from_directory(\n",
    "        path_train,\n",
    "        target_size=(224, 224),\n",
    "        batch_size=batch_size,\n",
    "        class_mode=None,  # this means our generator will only yield batches of data, no labels\n",
    "        shuffle=False)  # our data will be in order, so all first 1000 images will be cats, then 1000 dogs\n",
    "# the predict_generator method returns the output of a model, given\n",
    "# a generator that yields batches of numpy data\n",
    "bottleneck_features_train = model.predict_generator(generator, steps=2, verbose=1)\n",
    "# save the output \n",
    "with open(path_learned_features_train, 'wb') as fname:\n",
    "    np.save(fname, bottleneck_features_train)\n",
    "print(\"Saved\",path_learned_features_train)\n",
    "\n",
    "\n",
    "\n",
    "# Validation data\n",
    "generator = my_datagen.flow_from_directory(\n",
    "        path_validation,\n",
    "        target_size=(224, 224),\n",
    "        batch_size=batch_size,\n",
    "        class_mode=None,\n",
    "        shuffle=False)\n",
    "bottleneck_features_validation = model.predict_generator(generator, steps=2, verbose=1)\n",
    "with open(path_learned_features_validation, 'wb') as fname:\n",
    "    np.save(fname, bottleneck_features_train)\n",
    "print(\"Saved\",path_learned_features_validation)\n",
    "print(\"Done feature extraction\")"
   ]
  }
 ],
 "metadata": {
  "kernelspec": {
   "display_name": "Python 3",
   "language": "python",
   "name": "python3"
  },
  "language_info": {
   "codemirror_mode": {
    "name": "ipython",
    "version": 3
   },
   "file_extension": ".py",
   "mimetype": "text/x-python",
   "name": "python",
   "nbconvert_exporter": "python",
   "pygments_lexer": "ipython3",
   "version": "3.6.4"
  }
 },
 "nbformat": 4,
 "nbformat_minor": 2
}
