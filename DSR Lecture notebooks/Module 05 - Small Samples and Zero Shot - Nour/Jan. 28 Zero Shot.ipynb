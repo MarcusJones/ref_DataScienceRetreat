{
 "cells": [
  {
   "cell_type": "code",
   "execution_count": 1,
   "metadata": {},
   "outputs": [],
   "source": [
    "import scipy.io as spio\n",
    "import numpy as np\n",
    "import datetime\n",
    "import random\n",
    "from collections import Counter"
   ]
  },
  {
   "cell_type": "code",
   "execution_count": 2,
   "metadata": {},
   "outputs": [],
   "source": [
    "def l2_norm(x):\n",
    "    return x / (np.linalg.norm(x) + 10e-6)"
   ]
  },
  {
   "cell_type": "code",
   "execution_count": 3,
   "metadata": {},
   "outputs": [],
   "source": [
    "path=\"/media/batman/Windows/linuxshared/xlsa17/data/\""
   ]
  },
  {
   "cell_type": "code",
   "execution_count": 4,
   "metadata": {},
   "outputs": [],
   "source": [
    "image_info = spio.loadmat(r\"/media/batman/Windows/linuxshared/xlsa17/data/AWA2/res101.mat\")\n",
    "class_info = spio.loadmat(r\"/media/batman/Windows/linuxshared/xlsa17/data/AWA2/att_splits.mat\")"
   ]
  },
  {
   "cell_type": "code",
   "execution_count": 5,
   "metadata": {},
   "outputs": [],
   "source": [
    "for k in image_info:\n",
    "    break\n",
    "    print(k, \" -> \", image_info[k])"
   ]
  },
  {
   "cell_type": "code",
   "execution_count": 6,
   "metadata": {},
   "outputs": [
    {
     "name": "stdout",
     "output_type": "stream",
     "text": [
      "image_info['features'].shape: (2048, 37322)\n",
      "[0.12702841 0.         0.38334134 ... 0.0167553  0.12140134 0.2434606 ]\n",
      "image_info['labels'].shape: (37322, 1)\n"
     ]
    },
    {
     "data": {
      "text/plain": [
       "array([[11061],\n",
       "       [ 6271],\n",
       "       [17298],\n",
       "       ...,\n",
       "       [ 4014],\n",
       "       [20615],\n",
       "       [33202]], dtype=uint16)"
      ]
     },
     "execution_count": 6,
     "metadata": {},
     "output_type": "execute_result"
    }
   ],
   "source": [
    "print(\"image_info['features'].shape:\",image_info['features'].shape)\n",
    "print(image_info['features'][0])\n",
    "print(\"image_info['labels'].shape:\",image_info['labels'].shape)\n",
    "image_info['labels']\n",
    "\n",
    "class_info['att'] # Class embeddings\n",
    "class_info['train_loc'] # Seen class images (trg)\n",
    "\n",
    "class_info['val_loc'] # Seen class images, (validation)\n",
    "class_info['test_unseen_loc'] # Seen classes, test\n",
    "class_info['test_seen_loc'] # DON'T NEED NOW\n",
    "\n",
    "#print()"
   ]
  },
  {
   "cell_type": "code",
   "execution_count": 7,
   "metadata": {},
   "outputs": [],
   "source": [
    "# training_images = image_info['features'][:,class_info['train_loc']-1]\n",
    "# training_labels = image_info['labels'][class_info['train_loc']-1]\n",
    "\n",
    "# val_images = image_info['features'][:,class_info['val_loc']-1]\n",
    "# val_labels = image_info['labels'][class_info['val_loc']-1]\n",
    "\n",
    "# test_images = image_info['features'][:,class_info['test_unseen_loc']-1]\n",
    "# test_labels = image_info['labels'][class_info['test_unseen_loc']-1]\n"
   ]
  },
  {
   "cell_type": "code",
   "execution_count": 8,
   "metadata": {},
   "outputs": [],
   "source": [
    "# print(\"training_images.shape, training_labels.shape\",training_images.shape, training_labels.shape)\n",
    "# print(\"val_images.shape, val_labels.shape\",training_images.shape, training_labels.shape)\n",
    "# print(\"test_images.shape, test_labels.shape\",training_images.shape, training_labels.shape)"
   ]
  },
  {
   "cell_type": "code",
   "execution_count": 9,
   "metadata": {},
   "outputs": [
    {
     "name": "stdout",
     "output_type": "stream",
     "text": [
      "(2048, 37322)\n"
     ]
    },
    {
     "data": {
      "text/plain": [
       "0.30810879527732815"
      ]
     },
     "execution_count": 9,
     "metadata": {},
     "output_type": "execute_result"
    }
   ],
   "source": [
    "#print(image_info['features'])\n",
    "print(image_info['features'].shape)\n",
    "np.mean(image_info['features'][0])\n",
    "#[0-1]\n",
    "#raise"
   ]
  },
  {
   "cell_type": "code",
   "execution_count": 10,
   "metadata": {},
   "outputs": [],
   "source": [
    "### Prepare data\n",
    "tr_labels, val_labels, test_labels = [], [], []\n",
    "# training data\n",
    "X, Y = [], []\n",
    "for idx in class_info['train_loc']:\n",
    "   X.append(l2_norm(image_info['features'].transpose()[idx[0]-1]))\n",
    "   Y.append(image_info['labels'][idx[0]-1][0]-1)\n",
    "   if not image_info['labels'][idx[0]-1][0]-1 in tr_labels:\n",
    "       tr_labels.append(image_info['labels'][idx[0]-1][0]-1)\n",
    "# val data\n",
    "val_X, val_Y = [], []\n",
    "for idx in class_info['val_loc']:\n",
    "   val_X.append(l2_norm(image_info['features'].transpose()[idx[0]-1]))\n",
    "   val_Y.append(image_info['labels'][idx[0]-1][0]-1)\n",
    "   if not image_info['labels'][idx[0]-1][0]-1 in val_labels:\n",
    "       val_labels.append(image_info['labels'][idx[0]-1][0]-1)\n",
    "# test data\n",
    "test_X, test_Y = [], []\n",
    "for idx in class_info['test_unseen_loc']:\n",
    "   test_X.append(l2_norm(image_info['features'].transpose()[idx[0]-1]))\n",
    "   test_Y.append(image_info['labels'][idx[0]-1][0]-1)\n",
    "   if not image_info['labels'][idx[0]-1][0]-1 in test_labels:\n",
    "       test_labels.append(image_info['labels'][idx[0]-1][0]-1)\n",
    "\n",
    "# get all classes embeddings\n",
    "class_embeddings = class_info['att'].transpose()\n",
    "# dims of image features and class embeddings\n",
    "x_dim, yEmb_dim = len(X[0]), len(class_embeddings[0])"
   ]
  },
  {
   "cell_type": "markdown",
   "metadata": {},
   "source": [
    "print(type(X))\n",
    "print(len(X))\n",
    "print(X[0])\n",
    "print(X[0].shape)\n",
    "print(len(Y))\n",
    "print(Y[0:100])\n",
    "print(np.mean(Y))\n",
    "#print(Y)\n",
    "#print(X)\n",
    "\n",
    "print(class_info['allclasses_names'][0][0])"
   ]
  },
  {
   "cell_type": "markdown",
   "metadata": {},
   "source": [
    "training_images=np.array(X)\n",
    "training_labels=np.array(Y)\n",
    "val_images=np.array(val_X)\n",
    "val_labels=np.array(val_Y)\n",
    "test_images=np.array(test_X)\n",
    "test_labels=np.array(test_Y)\n",
    "print(\"training_images.shape, training_labels.shape\",training_images.shape, training_labels.shape)\n",
    "print(\"val_images.shape, val_labels.shape\",training_images.shape, training_labels.shape)\n",
    "print(\"test_images.shape, test_labels.shape\",training_images.shape, training_labels.shape)"
   ]
  },
  {
   "cell_type": "code",
   "execution_count": null,
   "metadata": {},
   "outputs": [],
   "source": []
  },
  {
   "cell_type": "code",
   "execution_count": 11,
   "metadata": {},
   "outputs": [
    {
     "name": "stdout",
     "output_type": "stream",
     "text": [
      "training classes:\n",
      "dolphin  otter  wolf  polar+bear  raccoon  humpback+whale  ox  horse  antelope  tiger  spider+monkey  grizzly+bear  pig  lion  weasel  dalmatian  bobcat  mouse  squirrel  blue+whale  siamese+cat  moose  hamster  mole  rat  giraffe  buffalo  \n",
      "validation classes:\n",
      "killer+whale  seal  beaver  giant+panda  zebra  elephant  chimpanzee  hippopotamus  skunk  leopard  gorilla  rhinoceros  walrus  \n",
      "test classes:\n",
      "rabbit  german+shepherd  deer  cow  bat  persian+cat  chihuahua  sheep  fox  collie  "
     ]
    }
   ],
   "source": [
    "# class split\n",
    "tr_classes, val_classes, test_classes= [], [], []\n",
    "print(\"training classes:\")\n",
    "for idx in tr_labels:\n",
    "   tr_classes.append(class_info['allclasses_names'][idx-1][0][0])\n",
    "   print (class_info['allclasses_names'][idx-1][0][0],\" \",end=\"\")\n",
    "print (\"\\nvalidation classes:\")\n",
    "for idx in val_labels:\n",
    "   val_classes.append(class_info['allclasses_names'][idx-1][0][0])\n",
    "   print (class_info['allclasses_names'][idx-1][0][0],\" \",end=\"\")\n",
    "print (\"\\ntest classes:\")\n",
    "for idx in test_labels:\n",
    "    test_classes.append(class_info['allclasses_names'][idx-1][0][0])\n",
    "    print (class_info['allclasses_names'][idx-1][0][0],\" \",end=\"\")\n",
    "    #print(class_info['allclasses_names'][idx-1][0][0], ',',-1][0][0]))\n",
    "    #print(class_info['allclasses_names'][idx-1][0][0], ',',)"
   ]
  },
  {
   "cell_type": "code",
   "execution_count": 12,
   "metadata": {},
   "outputs": [],
   "source": [
    "%%script false \n",
    "# Alternative way to list classes! \n",
    "mj_tr_classes = [class_info['allclasses_names'][idx-1][0][0] for idx in tr_labels]\n",
    "print(\"mj_tr_classes:\\n\", \", \".join(mj_tr_classes))\n",
    "\n",
    "mj_val_classes = [class_info['allclasses_names'][idx-1][0][0] for idx in val_labels]\n",
    "print(\"mj_val_classes:\\n\", \", \".join(mj_val_classes))\n",
    "\n",
    "mj_test_classes = [class_info['allclasses_names'][idx-1][0][0] for idx in test_labels]\n",
    "print(\"mj_test_classes:\\n\", \", \".join(mj_test_classes))"
   ]
  },
  {
   "cell_type": "code",
   "execution_count": null,
   "metadata": {},
   "outputs": [],
   "source": []
  }
 ],
 "metadata": {
  "kernelspec": {
   "display_name": "Python 3",
   "language": "python",
   "name": "python3"
  },
  "language_info": {
   "codemirror_mode": {
    "name": "ipython",
    "version": 3
   },
   "file_extension": ".py",
   "mimetype": "text/x-python",
   "name": "python",
   "nbconvert_exporter": "python",
   "pygments_lexer": "ipython3",
   "version": "3.6.4"
  }
 },
 "nbformat": 4,
 "nbformat_minor": 2
}
