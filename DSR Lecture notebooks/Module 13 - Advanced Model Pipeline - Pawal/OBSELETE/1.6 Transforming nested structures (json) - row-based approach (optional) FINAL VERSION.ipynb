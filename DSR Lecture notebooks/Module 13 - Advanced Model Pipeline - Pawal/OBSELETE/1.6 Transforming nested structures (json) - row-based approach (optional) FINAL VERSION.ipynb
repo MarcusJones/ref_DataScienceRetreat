{
 "cells": [
  {
   "cell_type": "markdown",
   "metadata": {},
   "source": [
    "Sometimes your input data can be nested with more difficult structure than a simple table or a matrix.\n",
    "\n",
    "In such cases it is sometime useful to shift mental orientation to analyze and extract information froms rows rather then non-defined columns."
   ]
  },
  {
   "cell_type": "code",
   "execution_count": 1,
   "metadata": {},
   "outputs": [
    {
     "data": {
      "text/html": [
       "<style>/*@font-face {\n",
       "\tfont-family: \"Computer Modern\";\n",
       "\tsrc: url('http://9dbb143991406a7c655e-aa5fcb0a5a4ec34cff238a2d56ca4144.r56.cf5.rackcdn.com/cmunss.otf');\n",
       "}\n",
       "@font-face {\n",
       "\tfont-family: \"Computer Modern\";\n",
       "\tfont-weight: bold;\n",
       "\tsrc: url('http://9dbb143991406a7c655e-aa5fcb0a5a4ec34cff238a2d56ca4144.r56.cf5.rackcdn.com/cmunsx.otf');\n",
       "}\n",
       "@font-face {\n",
       "\tfont-family: \"Computer Modern\";\n",
       "\tfont-style: oblique;\n",
       "\tsrc: url('http://9dbb143991406a7c655e-aa5fcb0a5a4ec34cff238a2d56ca4144.r56.cf5.rackcdn.com/cmunsi.otf');\n",
       "}\n",
       "@font-face {\n",
       "\tfont-family: \"Computer Modern\";\n",
       "\tfont-weight: bold;\n",
       "\tfont-style: oblique;\n",
       "\tsrc: url('http://9dbb143991406a7c655e-aa5fcb0a5a4ec34cff238a2d56ca4144.r56.cf5.rackcdn.com/cmunso.otf');\n",
       "}*/\n",
       "\n",
       ".navbar-brand, .current_kernel_logo {display:none}\n",
       ".container {\n",
       "    width:80%;    \n",
       "}\n",
       "\n",
       "h1 {\n",
       "\tfont-family: Helvetica, serif;\n",
       "}\n",
       "h4{\n",
       "\tmargin-top:12px;\n",
       "\tmargin-bottom: 3px;\n",
       "   }\n",
       "div.text_cell_render{\n",
       "\tfont-family: Computer Modern, \"Helvetica Neue\", Arial, Helvetica, Geneva, sans-serif;\n",
       "\tline-height: 145%;\n",
       "\tfont-size: 100%;\n",
       "\twidth:100%;\n",
       "\tmargin-left:auto;\n",
       "\tmargin-right:auto;\n",
       "}\n",
       ".CodeMirror{\n",
       "\t\tfont-family: \"Source Code Pro\", source-code-pro,Consolas, monospace;\n",
       "}\n",
       ".text_cell_render h5 {\n",
       "\tfont-weight: 300;\n",
       "\tfont-size: 22pt;\n",
       "\t/*color: #4057A1;*/\n",
       "\tfont-style: italic;\n",
       "\tmargin-bottom: .5em;\n",
       "\tmargin-top: 0.5em;\n",
       "\tdisplay: block;\n",
       "}\n",
       "\n",
       ".warning{\n",
       "\tcolor: rgb( 240, 20, 20 )\n",
       "\t}   \n",
       "\n",
       "div.spoiler {\n",
       "\tdisplay: none;\n",
       "}\n",
       "\n",
       ".rendered_html code {\n",
       "\tborder: 0;\n",
       "\t/*background-color: #eee;*/\n",
       "\tfont-size: 100%;\n",
       "\tpadding: 1px 2px;\n",
       "}\n",
       "</style>"
      ],
      "text/plain": [
       "<IPython.core.display.HTML object>"
      ]
     },
     "execution_count": 1,
     "metadata": {},
     "output_type": "execute_result"
    }
   ],
   "source": [
    "from utils import css_from_file\n",
    "css_from_file('style/style.css')"
   ]
  },
  {
   "cell_type": "code",
   "execution_count": null,
   "metadata": {},
   "outputs": [],
   "source": [
    "!pip install nltk"
   ]
  },
  {
   "cell_type": "code",
   "execution_count": 2,
   "metadata": {},
   "outputs": [
    {
     "name": "stdout",
     "output_type": "stream",
     "text": [
      "[nltk_data] Downloading package punkt to /home/pawel/nltk_data...\n",
      "[nltk_data]   Package punkt is already up-to-date!\n"
     ]
    },
    {
     "data": {
      "text/plain": [
       "True"
      ]
     },
     "execution_count": 2,
     "metadata": {},
     "output_type": "execute_result"
    }
   ],
   "source": [
    "import json\n",
    "import numpy as np\n",
    "import pprint\n",
    "from nltk import download, word_tokenize\n",
    "\n",
    "download('punkt')"
   ]
  },
  {
   "cell_type": "code",
   "execution_count": 3,
   "metadata": {},
   "outputs": [],
   "source": [
    "with open(\"data/companies/companies.json\") as dataf:\n",
    "    data = [json.loads(line) for line in dataf]"
   ]
  },
  {
   "cell_type": "markdown",
   "metadata": {},
   "source": [
    "An example of deeply nested data with various data types:\n",
    "\n",
    "Exercise:\n",
    "\n",
    "1. Name variable types\n",
    "2. What do you do with lists, geo location?\n",
    "3. What do you do with counts?"
   ]
  },
  {
   "cell_type": "code",
   "execution_count": 4,
   "metadata": {},
   "outputs": [
    {
     "name": "stdout",
     "output_type": "stream",
     "text": [
      "{'address': {'city': 'Seattle',\n",
      "             'country': 'United States',\n",
      "             'postalCode': '98134',\n",
      "             'raw': '624 South Lander St\\n'\n",
      "                    'Suite 28\\n'\n",
      "                    'Seattle,\\n'\n",
      "                    'WA\\n'\n",
      "                    '98134\\n'\n",
      "                    'United States',\n",
      "             'region': 'WA',\n",
      "             'street': '624 South Lander St'},\n",
      " 'description': 'At 36th avenue design|build we are committed to total client '\n",
      "                'satisfaction. We believe that strong and lasting '\n",
      "                'relationships built on integrity and trust, earned through '\n",
      "                'the remodel, is as important as the renovation of your home. '\n",
      "                'We consider every project an opportunity to participate with '\n",
      "                'our clients in a unique and artful, design and construction '\n",
      "                'process. To each of our clients, our commitment remains '\n",
      "                'consistent: concise communication, integrity, and pride in '\n",
      "                'workmanship of incomparable quality. Grounded in quality, '\n",
      "                '36th avenue design|build thrives on variety and working with '\n",
      "                'homeowners to create relaxing and inviting atmospheres from '\n",
      "                'traditional to modern. For the discriminating homeowner who '\n",
      "                'expects incomparable quality and unparalleled service, trust '\n",
      "                'in 36th avenue design|build.',\n",
      " 'domain': '36designbuild.com',\n",
      " 'extension': {'address': 'Greater Seattle Area',\n",
      "               'geo_location': {'country': 'United States',\n",
      "                                'formatted_address': 'Seattle, WA, USA',\n",
      "                                'location': [47.6062095, -122.3320708],\n",
      "                                'raw': 'Greater Seattle Area',\n",
      "                                'timezone': 'America/Los_Angeles'},\n",
      "               'geo_location_triple': {'administrative_area': 'Washington',\n",
      "                                       'city': 'Seattle',\n",
      "                                       'country': 'United States'},\n",
      "               'industries': [{'count': 3, 'industry': 'Construction'}],\n",
      "               'job_positions': [{'count': 2, 'job_position': 'Owner'},\n",
      "                                 {'count': 1,\n",
      "                                  'job_position': 'Project Manager'}],\n",
      "               'name': '36th Avenue Design Build',\n",
      "               'persons_in_database': 3,\n",
      "               'skills': [{'count': 3, 'skill': 'Construction'},\n",
      "                          {'count': 3, 'skill': 'Project Management'},\n",
      "                          {'count': 2, 'skill': 'Construction Management'},\n",
      "                          {'count': 2, 'skill': 'Renovation'},\n",
      "                          {'count': 2, 'skill': 'Project Estimation'},\n",
      "                          {'count': 1, 'skill': 'LEED'},\n",
      "                          {'count': 1, 'skill': 'Customer Service'},\n",
      "                          {'count': 1, 'skill': 'Team Leadership'},\n",
      "                          {'count': 1, 'skill': 'Design Research'},\n",
      "                          {'count': 1, 'skill': 'CPM Scheduling'},\n",
      "                          {'count': 1, 'skill': 'Contract Management'},\n",
      "                          {'count': 1, 'skill': 'Volunteering'},\n",
      "                          {'count': 1, 'skill': 'LEED AP'},\n",
      "                          {'count': 1, 'skill': 'Contractors'},\n",
      "                          {'count': 1, 'skill': 'Custom Homes'},\n",
      "                          {'count': 1, 'skill': 'Change Orders'},\n",
      "                          {'count': 1, 'skill': 'Exterior Restoration'},\n",
      "                          {'count': 1, 'skill': 'Home Renovations'},\n",
      "                          {'count': 1, 'skill': 'Comprehensive Planning'},\n",
      "                          {'count': 1, 'skill': 'Submittals'},\n",
      "                          {'count': 1, 'skill': 'Process Scheduler'},\n",
      "                          {'count': 1, 'skill': 'Leadership'},\n",
      "                          {'count': 1, 'skill': 'Project Planning'},\n",
      "                          {'count': 1, 'skill': 'Design Consulting'},\n",
      "                          {'count': 1, 'skill': 'Process Improvement'},\n",
      "                          {'count': 1, 'skill': 'Pre-construction'},\n",
      "                          {'count': 1, 'skill': 'Value Engineering'},\n",
      "                          {'count': 1, 'skill': 'Home Improvement'},\n",
      "                          {'count': 1, 'skill': 'Budgets'},\n",
      "                          {'count': 1, 'skill': 'Custom Furniture'}],\n",
      "               'url': 'linkedin.com/company/36th-avenue-design-build'},\n",
      " 'founded_year': 2010,\n",
      " 'industries': ['Construction'],\n",
      " 'metadata': {'documents': [{'ids': ['377494fe2c345c77806c89a9a9c5653f'],\n",
      "                             'path': 'linkedin'},\n",
      "                            {'ids': ['f995ef118faf56c9a2b574fe018ca1bb'],\n",
      "                             'path': 'built_with'}],\n",
      "              'urls': []},\n",
      " 'name': '36th Avenue Design Build',\n",
      " 'public_url': 'http://www.linkedin.com/company/6629242',\n",
      " 'raw_text': 'At 36th avenue design|build we are committed to total client '\n",
      "             'satisfaction. We believe that strong and lasting relationships '\n",
      "             'built on integrity and trust, earned through the remodel, is as '\n",
      "             'important as the renovation of your home. We consider every '\n",
      "             'project an opportunity to participate with our clients in a '\n",
      "             'unique and artful, design and construction process. To each of '\n",
      "             'our clients, our commitment remains consistent: concise '\n",
      "             'communication, integrity, and pride in workmanship of '\n",
      "             'incomparable quality. Grounded in quality, 36th avenue '\n",
      "             'design|build thrives on variety and working with homeowners to '\n",
      "             'create relaxing and inviting atmospheres from traditional to '\n",
      "             'modern. For the discriminating homeowner who expects '\n",
      "             'incomparable quality and unparalleled service, trust in 36th '\n",
      "             'avenue design|build.',\n",
      " 'size_begin': 1,\n",
      " 'size_end': 10,\n",
      " 'specialties': [],\n",
      " 'technologies': ['Apache',\n",
      "                  'Unslider',\n",
      "                  '1and1',\n",
      "                  'Viewport Meta',\n",
      "                  'Pingback Support',\n",
      "                  'Wordpress 4.5',\n",
      "                  '1and1 Email Solutions',\n",
      "                  'Wordpress Plugins',\n",
      "                  '1and1 DNS',\n",
      "                  'jQuery',\n",
      "                  'FlexSlider',\n",
      "                  'Google Font API',\n",
      "                  'Font Awesome',\n",
      "                  'Really Simple Discovery',\n",
      "                  'PHP',\n",
      "                  'WordPress',\n",
      "                  'RSS',\n",
      "                  'WordPress Grid',\n",
      "                  'Modernizr',\n",
      "                  'JetPack',\n",
      "                  'Live Writer Support',\n",
      "                  'Gravatar Profiles'],\n",
      " 'uuid': '377494fe2c345c77806c89a9a9c5653f',\n",
      " 'website': 'http://www.36designbuild.com'}\n"
     ]
    }
   ],
   "source": [
    "pprint.pprint(data[7])"
   ]
  },
  {
   "cell_type": "markdown",
   "metadata": {},
   "source": [
    "Exercise\n",
    "--------------\n",
    "\n",
    "Write a pipeline to transform company records.\n",
    "1. Select 3 types of features you want to transform (like descrpition, list of skills, technologies, address etc)\n",
    "2. Create a pipeline in this format:\n",
    "```python\n",
    "make_union(\n",
    "    make_pipeline(TechnologyFeatures(), DictVectorizer()),\n",
    "    make_pipeline(AddressFeatures(), DictVectorizer()),\n",
    "    make_pipeline(ExtractDescription(), CountVectorizer())\n",
    ")\n",
    "```\n",
    "3. Classify industry (like in the previous exercise)"
   ]
  },
  {
   "cell_type": "markdown",
   "metadata": {},
   "source": [
    "Exercise\n",
    "===============\n",
    "\n",
    "1. Write a transformation class called SparsityFilter that accepts a minimum frequency. Watch out for fit function - this class has some state that you must save\n",
    "\n",
    "```\n",
    "class SparsityFilter(BaseEstimator, TransformerMixin):\n",
    "    def __init__(self, min_nnz=None):\n",
    "        self.min_nnz = min_nnz\n",
    "\n",
    "    def fit(self, X, y=None):\n",
    "        ???\n",
    "        return self\n",
    "\n",
    "    def transform(self, X):\n",
    "        return ???\n",
    "```"
   ]
  },
  {
   "cell_type": "code",
   "execution_count": null,
   "metadata": {},
   "outputs": [],
   "source": [
    "# write sparsity class here"
   ]
  },
  {
   "cell_type": "markdown",
   "metadata": {},
   "source": [
    "Double click to see the solution \n",
    "\n",
    "<div class=\"spoiler\">\n",
    "\n",
    "class SparsityFilter(BaseEstimator, TransformerMixin):\n",
    "    def __init__(self, min_nnz=None):\n",
    "        self.min_nnz = min_nnz\n",
    "\n",
    "    def fit(self, X, y=None):\n",
    "        self.sparsity = X.getnnz(0)\n",
    "        return self\n",
    "\n",
    "    def transform(self, X):\n",
    "        return X[:, self.sparsity >= self.min_nnz]\n",
    "</div>"
   ]
  }
 ],
 "metadata": {
  "kernelspec": {
   "display_name": "Python 3",
   "language": "python",
   "name": "python3"
  },
  "language_info": {
   "codemirror_mode": {
    "name": "ipython",
    "version": 3
   },
   "file_extension": ".py",
   "mimetype": "text/x-python",
   "name": "python",
   "nbconvert_exporter": "python",
   "pygments_lexer": "ipython3",
   "version": "3.6.1"
  }
 },
 "nbformat": 4,
 "nbformat_minor": 1
}
