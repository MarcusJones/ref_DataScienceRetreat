{
 "cells": [
  {
   "cell_type": "markdown",
   "metadata": {},
   "source": [
    "About me\n",
    "------------\n",
    "\n",
    "My name is Paweł Jankiewicz\n",
    "\n",
    "Kaggle enthusiast with 6 money prizes ($140k in prices in teams)\n",
    "\n",
    "Most major: 1st in Mercari competition (2 weeks ago)\n",
    "\n",
    "8 top 10 results (1,1,2,3,3,4,5,6 respectively)"
   ]
  }
 ],
 "metadata": {
  "kernelspec": {
   "display_name": "Python 3",
   "language": "python",
   "name": "python3"
  },
  "language_info": {
   "codemirror_mode": {
    "name": "ipython",
    "version": 3
   },
   "file_extension": ".py",
   "mimetype": "text/x-python",
   "name": "python",
   "nbconvert_exporter": "python",
   "pygments_lexer": "ipython3",
   "version": "3.6.3"
  }
 },
 "nbformat": 4,
 "nbformat_minor": 1
}
