{
 "cells": [
  {
   "cell_type": "markdown",
   "metadata": {},
   "source": [
    "Sometimes your input data can be nested with more difficult structure than a simple table or a matrix.\n",
    "\n",
    "In such cases it is sometime useful to shift mental orientation to analyze and extract information froms rows rather then non-defined columns."
   ]
  },
  {
   "cell_type": "code",
   "execution_count": 1,
   "metadata": {},
   "outputs": [],
   "source": [
    "from utils import css_from_file\n",
    "css_from_file('style/style.css');"
   ]
  },
  {
   "cell_type": "code",
   "execution_count": 2,
   "metadata": {},
   "outputs": [],
   "source": [
    "#!pip install nltk"
   ]
  },
  {
   "cell_type": "code",
   "execution_count": 3,
   "metadata": {},
   "outputs": [
    {
     "name": "stdout",
     "output_type": "stream",
     "text": [
      "[nltk_data] Downloading package punkt to /home/batman/nltk_data...\n",
      "[nltk_data]   Package punkt is already up-to-date!\n"
     ]
    },
    {
     "data": {
      "text/plain": [
       "True"
      ]
     },
     "execution_count": 3,
     "metadata": {},
     "output_type": "execute_result"
    }
   ],
   "source": [
    "import json\n",
    "import numpy as np\n",
    "from pprint import pprint\n",
    "from nltk import download, word_tokenize\n",
    "\n",
    "download('punkt')"
   ]
  },
  {
   "cell_type": "code",
   "execution_count": 4,
   "metadata": {},
   "outputs": [],
   "source": [
    "with open(\"data/companies/companies.json\") as dataf:\n",
    "    data = [json.loads(line) for line in dataf]"
   ]
  },
  {
   "cell_type": "markdown",
   "metadata": {},
   "source": [
    "An example of deeply nested data with various data types:\n",
    "\n",
    "Exercise:\n",
    "\n",
    "1. Name variable types\n",
    "2. What do you do with lists, geo location?\n",
    "3. What do you do with counts?"
   ]
  },
  {
   "cell_type": "code",
   "execution_count": 5,
   "metadata": {},
   "outputs": [
    {
     "name": "stdout",
     "output_type": "stream",
     "text": [
      "{'address': {'city': 'Seattle',\n",
      "             'country': 'United States',\n",
      "             'postalCode': '98134',\n",
      "             'raw': '624 South Lander St\\n'\n",
      "                    'Suite 28\\n'\n",
      "                    'Seattle,\\n'\n",
      "                    'WA\\n'\n",
      "                    '98134\\n'\n",
      "                    'United States',\n",
      "             'region': 'WA',\n",
      "             'street': '624 South Lander St'},\n",
      " 'description': 'At 36th avenue design|build we are committed to total client '\n",
      "                'satisfaction. We believe that strong and lasting '\n",
      "                'relationships built on integrity and trust, earned through '\n",
      "                'the remodel, is as important as the renovation of your home. '\n",
      "                'We consider every project an opportunity to participate with '\n",
      "                'our clients in a unique and artful, design and construction '\n",
      "                'process. To each of our clients, our commitment remains '\n",
      "                'consistent: concise communication, integrity, and pride in '\n",
      "                'workmanship of incomparable quality. Grounded in quality, '\n",
      "                '36th avenue design|build thrives on variety and working with '\n",
      "                'homeowners to create relaxing and inviting atmospheres from '\n",
      "                'traditional to modern. For the discriminating homeowner who '\n",
      "                'expects incomparable quality and unparalleled service, trust '\n",
      "                'in 36th avenue design|build.',\n",
      " 'domain': '36designbuild.com',\n",
      " 'extension': {'address': 'Greater Seattle Area',\n",
      "               'geo_location': {'country': 'United States',\n",
      "                                'formatted_address': 'Seattle, WA, USA',\n",
      "                                'location': [47.6062095, -122.3320708],\n",
      "                                'raw': 'Greater Seattle Area',\n",
      "                                'timezone': 'America/Los_Angeles'},\n",
      "               'geo_location_triple': {'administrative_area': 'Washington',\n",
      "                                       'city': 'Seattle',\n",
      "                                       'country': 'United States'},\n",
      "               'industries': [{'count': 3, 'industry': 'Construction'}],\n",
      "               'job_positions': [{'count': 2, 'job_position': 'Owner'},\n",
      "                                 {'count': 1,\n",
      "                                  'job_position': 'Project Manager'}],\n",
      "               'name': '36th Avenue Design Build',\n",
      "               'persons_in_database': 3,\n",
      "               'skills': [{'count': 3, 'skill': 'Construction'},\n",
      "                          {'count': 3, 'skill': 'Project Management'},\n",
      "                          {'count': 2, 'skill': 'Construction Management'},\n",
      "                          {'count': 2, 'skill': 'Renovation'},\n",
      "                          {'count': 2, 'skill': 'Project Estimation'},\n",
      "                          {'count': 1, 'skill': 'LEED'},\n",
      "                          {'count': 1, 'skill': 'Customer Service'},\n",
      "                          {'count': 1, 'skill': 'Team Leadership'},\n",
      "                          {'count': 1, 'skill': 'Design Research'},\n",
      "                          {'count': 1, 'skill': 'CPM Scheduling'},\n",
      "                          {'count': 1, 'skill': 'Contract Management'},\n",
      "                          {'count': 1, 'skill': 'Volunteering'},\n",
      "                          {'count': 1, 'skill': 'LEED AP'},\n",
      "                          {'count': 1, 'skill': 'Contractors'},\n",
      "                          {'count': 1, 'skill': 'Custom Homes'},\n",
      "                          {'count': 1, 'skill': 'Change Orders'},\n",
      "                          {'count': 1, 'skill': 'Exterior Restoration'},\n",
      "                          {'count': 1, 'skill': 'Home Renovations'},\n",
      "                          {'count': 1, 'skill': 'Comprehensive Planning'},\n",
      "                          {'count': 1, 'skill': 'Submittals'},\n",
      "                          {'count': 1, 'skill': 'Process Scheduler'},\n",
      "                          {'count': 1, 'skill': 'Leadership'},\n",
      "                          {'count': 1, 'skill': 'Project Planning'},\n",
      "                          {'count': 1, 'skill': 'Design Consulting'},\n",
      "                          {'count': 1, 'skill': 'Process Improvement'},\n",
      "                          {'count': 1, 'skill': 'Pre-construction'},\n",
      "                          {'count': 1, 'skill': 'Value Engineering'},\n",
      "                          {'count': 1, 'skill': 'Home Improvement'},\n",
      "                          {'count': 1, 'skill': 'Budgets'},\n",
      "                          {'count': 1, 'skill': 'Custom Furniture'}],\n",
      "               'url': 'linkedin.com/company/36th-avenue-design-build'},\n",
      " 'founded_year': 2010,\n",
      " 'industries': ['Construction'],\n",
      " 'metadata': {'documents': [{'ids': ['377494fe2c345c77806c89a9a9c5653f'],\n",
      "                             'path': 'linkedin'},\n",
      "                            {'ids': ['f995ef118faf56c9a2b574fe018ca1bb'],\n",
      "                             'path': 'built_with'}],\n",
      "              'urls': []},\n",
      " 'name': '36th Avenue Design Build',\n",
      " 'public_url': 'http://www.linkedin.com/company/6629242',\n",
      " 'raw_text': 'At 36th avenue design|build we are committed to total client '\n",
      "             'satisfaction. We believe that strong and lasting relationships '\n",
      "             'built on integrity and trust, earned through the remodel, is as '\n",
      "             'important as the renovation of your home. We consider every '\n",
      "             'project an opportunity to participate with our clients in a '\n",
      "             'unique and artful, design and construction process. To each of '\n",
      "             'our clients, our commitment remains consistent: concise '\n",
      "             'communication, integrity, and pride in workmanship of '\n",
      "             'incomparable quality. Grounded in quality, 36th avenue '\n",
      "             'design|build thrives on variety and working with homeowners to '\n",
      "             'create relaxing and inviting atmospheres from traditional to '\n",
      "             'modern. For the discriminating homeowner who expects '\n",
      "             'incomparable quality and unparalleled service, trust in 36th '\n",
      "             'avenue design|build.',\n",
      " 'size_begin': 1,\n",
      " 'size_end': 10,\n",
      " 'specialties': [],\n",
      " 'technologies': ['Apache',\n",
      "                  'Unslider',\n",
      "                  '1and1',\n",
      "                  'Viewport Meta',\n",
      "                  'Pingback Support',\n",
      "                  'Wordpress 4.5',\n",
      "                  '1and1 Email Solutions',\n",
      "                  'Wordpress Plugins',\n",
      "                  '1and1 DNS',\n",
      "                  'jQuery',\n",
      "                  'FlexSlider',\n",
      "                  'Google Font API',\n",
      "                  'Font Awesome',\n",
      "                  'Really Simple Discovery',\n",
      "                  'PHP',\n",
      "                  'WordPress',\n",
      "                  'RSS',\n",
      "                  'WordPress Grid',\n",
      "                  'Modernizr',\n",
      "                  'JetPack',\n",
      "                  'Live Writer Support',\n",
      "                  'Gravatar Profiles'],\n",
      " 'uuid': '377494fe2c345c77806c89a9a9c5653f',\n",
      " 'website': 'http://www.36designbuild.com'}\n"
     ]
    }
   ],
   "source": [
    "this_json_row = data[7]\n",
    "pprint(this_json_row)"
   ]
  },
  {
   "cell_type": "code",
   "execution_count": 6,
   "metadata": {},
   "outputs": [],
   "source": [
    "#Does this work???\n",
    "from pandas.io.json import json_normalize\n",
    "new_json = json_normalize(this_json_row).to_json()\n",
    "#pprint(new_json)"
   ]
  },
  {
   "cell_type": "code",
   "execution_count": 7,
   "metadata": {},
   "outputs": [],
   "source": [
    "import numpy as np\n",
    "from sklearn.base import BaseEstimator, TransformerMixin"
   ]
  },
  {
   "cell_type": "code",
   "execution_count": null,
   "metadata": {},
   "outputs": [],
   "source": [
    "import logging.config\n",
    "print(ABSOLUTE_LOGGING_PATH)\n",
    "logging.config.fileConfig(ABSOLUTE_LOGGING_PATH)\n",
    "myLogger = logging.getLogger()\n",
    "myLogger.setLevel(\"DEBUG\")\n"
   ]
  },
  {
   "cell_type": "code",
   "execution_count": 68,
   "metadata": {},
   "outputs": [
    {
     "name": "stdout",
     "output_type": "stream",
     "text": [
      "TechnologyFeatures Init \n",
      "Transforming 9 rows\n"
     ]
    }
   ],
   "source": [
    "class TechnologyFeatures(BaseEstimator, TransformerMixin):\n",
    "    def __init__(self):\n",
    "        # SEND IN PARAMETERS FOR TRANSFOMER\n",
    "        # DO NOT SEND IN DATA HERE\n",
    "        #self.data = data\n",
    "        #print(data)\n",
    "        print(self.__class__.__name__,\"Init \")\n",
    "        \n",
    "    def fit(self, x, y = None): \n",
    "        return self\n",
    "    \n",
    "    def transform(self,data):\n",
    "        print(\"Transforming\",len(data),\"rows\")\n",
    "        out = list()\n",
    "        for row in data:\n",
    "            if 'technologies' in row.keys():\n",
    "                these_techs=[name for name in row['technologies']]\n",
    "                these_tech_dicts = dict((tech, 1) for tech in these_techs)\n",
    "                if 0:\n",
    "                    print(\"Found\",len(these_tech_dicts), \"techs\")\n",
    "            else:\n",
    "                these_tech_dicts = dict()\n",
    "            out.append(these_tech_dicts)\n",
    "        return out\n",
    "\n",
    "tech_trf = TechnologyFeatures()\n",
    "\n",
    "tech_trf.transform(data[0:9]);"
   ]
  },
  {
   "cell_type": "code",
   "execution_count": 79,
   "metadata": {},
   "outputs": [
    {
     "name": "stdout",
     "output_type": "stream",
     "text": [
      "AddressFeatures Init\n",
      "0 Auckland, New Zealand\n",
      "1 Cyprus\n",
      "2 Huntsville, Alabama Area\n",
      "3 Düsseldorf\n",
      "4 Nijmegen Area, Netherlands\n",
      "5 Ukraine\n",
      "6 Sydney Area, Australia\n",
      "7 Seattle\n",
      "8 Kolding\n",
      "9 Greater Minneapolis-St. Paul Area\n",
      "10 Philippines\n",
      "11 Barcelona\n",
      "12 United States\n",
      "13 Saint Cloud, Florida\n",
      "14 Colorado Springs, Colorado Area\n",
      "15 Malta\n",
      "16 Liverpool\n",
      "17 None\n",
      "18 None\n",
      "19 Austin, Texas\n",
      "20 None\n",
      "21 None\n",
      "22 Johannesburg Area, South Africa\n",
      "23 Santa Barbara, California\n",
      "24 Chester, United Kingdom\n",
      "25 Saint-Jerome, Quebec, Canada\n",
      "26 Aberdeen, United Kingdom\n",
      "27 Hull, United Kingdom\n",
      "28 Greater Boston Area\n",
      "29 Dallas/Fort Worth Area\n",
      "30 Greater Los Angeles Area\n",
      "31 Greater Atlanta Area\n",
      "32 Goiânia, Goiás, Brazil\n",
      "33 None\n",
      "34 Calgary, Alberta, Canada\n",
      "35 Reading, United Kingdom\n",
      "36 London, United Kingdom\n",
      "37 Canoga Park\n",
      "38 Washington D.C. Metro Area\n",
      "39 San Antonio, Texas Area\n",
      "40 Palm Springs, California\n",
      "41 Brno\n",
      "42 Cotia, São Paulo, Brazil\n",
      "43 None\n",
      "44 United States\n",
      "45 Mumbai Area, India\n",
      "46 Jakarta\n",
      "47 İstanbul\n",
      "48 None\n",
      "49 Gent Area, Belgium\n",
      "50 Leipzig Area, Germany\n",
      "51 Greater New York City Area\n",
      "52 Paredes\n",
      "53 Dayton, Ohio\n",
      "54 None\n",
      "55 None\n",
      "56 Corby\n",
      "57 Milan Area, Italy\n",
      "58 United States\n",
      "59 None\n",
      "60 None\n",
      "61 None\n",
      "62 None\n",
      "63 Ireland\n",
      "64 Sacramento, California Area\n",
      "65 Bornem\n",
      "66 Singapore\n",
      "67 Beaumont/Port Arthur, Texas Area\n",
      "68 Pompano Beach, Florida\n",
      "69 Region IVA - Calabarzon, Philippines\n",
      "70 Cape Town Area, South Africa\n",
      "71 Liège Area, Belgium\n",
      "72 Greater New York City Area\n",
      "73 Reims Area, France\n",
      "74 None\n",
      "75 Darmstadt Area, Germany\n",
      "76 None\n",
      "77 Paris Area, France\n",
      "78 Els Hostalets de Balenyà\n",
      "79 None\n",
      "80 Oslo, Oslo, Norway\n",
      "81 Las Vegas, Nevada Area\n",
      "82 Zürich Area, Switzerland\n",
      "83 Great Barrington, Massachusetts\n",
      "84 Mumbai Area, India\n",
      "85 Anniston, Alabama\n",
      "86 Greater Chicago Area\n",
      "87 None\n",
      "88 Perth, Australia\n",
      "89 San Francisco Bay Area\n",
      "90 Greater Chicago Area\n",
      "91 Turkey\n",
      "92 Netherlands\n",
      "93 France\n",
      "94 Pakistan\n",
      "95 Berlin Area, Germany\n",
      "96 Alachua, Florida\n",
      "97 Greater Philadelphia Area\n",
      "98 Bath, United Kingdom\n",
      "99 Greece\n"
     ]
    }
   ],
   "source": [
    "class AddressFeatures(BaseEstimator, TransformerMixin):\n",
    "    def __init__(self):\n",
    "        print(self.__class__.__name__,\"Init\")\n",
    "        \n",
    "    def fit(self, x, y = None): \n",
    "        return self\n",
    "    \n",
    "    def transform(self,this_data):\n",
    "        for i,row in enumerate(this_data):\n",
    "            res = row.get('address',{}).get('city',None)\n",
    "            if not res:\n",
    "                res = row.get('extension',{}).get('address',{})\n",
    "                #pprint(res)\n",
    "                if not res:\n",
    "                    #pprint(row)\n",
    "                    #print('NOPE')\n",
    "                    #raise\n",
    "                    res = None\n",
    "            \n",
    "            print(i,res)\n",
    "\n",
    "        return self\n",
    "\n",
    "address_trf = AddressFeatures()\n",
    "address_trf.transform(data[0:100]);\n"
   ]
  },
  {
   "cell_type": "code",
   "execution_count": 30,
   "metadata": {},
   "outputs": [
    {
     "name": "stdout",
     "output_type": "stream",
     "text": [
      "ExtractDescription Init with size 2\n"
     ]
    }
   ],
   "source": [
    "class ExtractDescription(BaseEstimator, TransformerMixin):\n",
    "    def __init__(self,data):\n",
    "        self.data = data\n",
    "        print(self.__class__.__name__,\"Init with size\",len(data))\n",
    "        \n",
    "    def fit(self, x, y = None): \n",
    "        return self\n",
    "    \n",
    "    def transform(self):\n",
    "\n",
    "        return self\n",
    "description_trf = ExtractDescription(data[7:9])\n",
    "description_trf.transform();"
   ]
  },
  {
   "cell_type": "code",
   "execution_count": 57,
   "metadata": {},
   "outputs": [],
   "source": [
    "#%%timeit\n",
    "#this_sample = data[0:10]"
   ]
  },
  {
   "cell_type": "code",
   "execution_count": null,
   "metadata": {},
   "outputs": [],
   "source": []
  },
  {
   "cell_type": "code",
   "execution_count": 49,
   "metadata": {},
   "outputs": [
    {
     "name": "stdout",
     "output_type": "stream",
     "text": [
      "Init with size 16\n",
      "{'city': 'Seattle',\n",
      " 'country': 'United States',\n",
      " 'postalCode': '98134',\n",
      " 'raw': '624 South Lander St\\nSuite 28\\nSeattle,\\nWA\\n98134\\nUnited States',\n",
      " 'region': 'WA',\n",
      " 'street': '624 South Lander St'}\n"
     ]
    },
    {
     "data": {
      "text/plain": [
       "AddressFeatures(data={'domain': '36designbuild.com', 'uuid': '377494fe2c345c77806c89a9a9c5653f', 'public_url': 'http://www.linkedin.com/company/6629242', 'name': '36th Avenue Design Build', 'website': 'http://www.36designbuild.com', 'industries': ['Construction'], 'description': 'At 36th avenue design|build we are ...tion_triple': {'city': 'Seattle', 'administrative_area': 'Washington', 'country': 'United States'}}})"
      ]
     },
     "execution_count": 49,
     "metadata": {},
     "output_type": "execute_result"
    }
   ],
   "source": [
    "# TEST ADDRESS\n",
    "feat_trf = AddressFeatures(this_sample[7])\n",
    "#pprint(feat_trf)\n",
    "feat_trf.transform()"
   ]
  },
  {
   "cell_type": "markdown",
   "metadata": {},
   "source": [
    "Exercise\n",
    "--------------\n",
    "\n",
    "Write a pipeline to transform company records.\n",
    "1. Select 3 types of features you want to transform (like descrpition, list of skills, technologies, address etc)\n",
    "2. Create a pipeline in this format:\n",
    "```python\n",
    "make_union(\n",
    "    make_pipeline(TechnologyFeatures(), DictVectorizer()),\n",
    "    make_pipeline(AddressFeatures(), DictVectorizer()),\n",
    "    make_pipeline(ExtractDescription(), CountVectorizer())\n",
    ")\n",
    "```\n",
    "3. Classify industry (like in the previous exercise)"
   ]
  },
  {
   "cell_type": "markdown",
   "metadata": {},
   "source": [
    "Exercise\n",
    "===============\n",
    "\n",
    "1. Write a transformation class called SparsityFilter that accepts a minimum frequency. Watch out for fit function - this class has some state that you must save\n",
    "\n",
    "```\n",
    "class SparsityFilter(BaseEstimator, TransformerMixin):\n",
    "    def __init__(self, min_nnz=None):\n",
    "        self.min_nnz = min_nnz\n",
    "\n",
    "    def fit(self, X, y=None):\n",
    "        ???\n",
    "        return self\n",
    "\n",
    "    def transform(self, X):\n",
    "        return ???\n",
    "```"
   ]
  },
  {
   "cell_type": "code",
   "execution_count": 61,
   "metadata": {},
   "outputs": [],
   "source": [
    "# write sparsity class here"
   ]
  },
  {
   "cell_type": "markdown",
   "metadata": {},
   "source": [
    "Double click to see the solution \n",
    "\n",
    "<div class=\"spoiler\">\n",
    "\n",
    "class SparsityFilter(BaseEstimator, TransformerMixin):\n",
    "    def __init__(self, min_nnz=None):\n",
    "        self.min_nnz = min_nnz\n",
    "\n",
    "    def fit(self, X, y=None):\n",
    "        self.sparsity = X.getnnz(0)\n",
    "        return self\n",
    "\n",
    "    def transform(self, X):\n",
    "        return X[:, self.sparsity >= self.min_nnz]\n",
    "</div>"
   ]
  },
  {
   "cell_type": "code",
   "execution_count": null,
   "metadata": {},
   "outputs": [],
   "source": []
  }
 ],
 "metadata": {
  "kernelspec": {
   "display_name": "Python [conda env:anaconda3]",
   "language": "python",
   "name": "conda-env-anaconda3-py"
  },
  "language_info": {
   "codemirror_mode": {
    "name": "ipython",
    "version": 3
   },
   "file_extension": ".py",
   "mimetype": "text/x-python",
   "name": "python",
   "nbconvert_exporter": "python",
   "pygments_lexer": "ipython3",
   "version": "3.6.4"
  }
 },
 "nbformat": 4,
 "nbformat_minor": 2
}
