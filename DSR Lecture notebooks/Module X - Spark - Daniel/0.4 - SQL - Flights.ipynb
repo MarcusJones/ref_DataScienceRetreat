{
 "cells": [
  {
   "cell_type": "code",
   "execution_count": 1,
   "metadata": {
    "collapsed": true
   },
   "outputs": [],
   "source": [
    "import pyspark\n",
    "sc = pyspark.SparkContext('local[*]')"
   ]
  },
  {
   "cell_type": "markdown",
   "metadata": {},
   "source": [
    "# Spark SQLContext"
   ]
  },
  {
   "cell_type": "markdown",
   "metadata": {},
   "source": [
    "## Documentation: https://spark.apache.org/docs/latest/api/python/pyspark.sql.html"
   ]
  },
  {
   "cell_type": "markdown",
   "metadata": {},
   "source": [
    "Initilizing SQLContext"
   ]
  },
  {
   "cell_type": "code",
   "execution_count": 4,
   "metadata": {
    "collapsed": true
   },
   "outputs": [],
   "source": [
    "!rm -rf metastore_db/\n",
    "from pyspark.sql import SQLContext\n",
    "sqlContext = SQLContext(sc)"
   ]
  },
  {
   "cell_type": "markdown",
   "metadata": {},
   "source": [
    "## Creating user-defined functions"
   ]
  },
  {
   "cell_type": "markdown",
   "metadata": {},
   "source": [
    "To use RDD in SQLContext, RDD lines have to be converted into a Row format"
   ]
  },
  {
   "cell_type": "code",
   "execution_count": 5,
   "metadata": {
    "collapsed": true
   },
   "outputs": [],
   "source": [
    "import re\n",
    "from pyspark.sql import Row\n",
    "# Read from CSV\n",
    "def load_csv(line):\n",
    "    return re.split(\"\\\"?,\\\"?\", line)\n",
    "        \n",
    "def readInt(x):\n",
    "    try:\n",
    "        return int(x)\n",
    "    except:\n",
    "        return x\n",
    "\n",
    "def parseElement(e):\n",
    "    return Row(year=readInt(e[0]),\n",
    "    month=readInt(e[1]),\n",
    "    day=readInt(e[2]),\n",
    "    dep_time=readInt(e[3]),\n",
    "    dep_delay=readInt(e[4]),\n",
    "    arr_time=readInt(e[5]),\n",
    "    arr_delay=readInt(e[6]),\n",
    "    cancelled=e[7],\n",
    "    carrier=e[8],\n",
    "    tailnum=e[9],\n",
    "    flight=readInt(e[10]),\n",
    "    origin=e[11],\n",
    "    dest=e[12],\n",
    "    air_time=readInt(e[13]),\n",
    "    distance=readInt(e[14]),\n",
    "    hour=readInt(e[15]),\n",
    "    min=readInt(e[16])\n",
    "    )"
   ]
  },
  {
   "cell_type": "code",
   "execution_count": 6,
   "metadata": {
    "collapsed": false
   },
   "outputs": [],
   "source": [
    "#!wget https://dsr-data.s3.amazonaws.com/flights/flights14.csv"
   ]
  },
  {
   "cell_type": "code",
   "execution_count": 7,
   "metadata": {
    "collapsed": true
   },
   "outputs": [],
   "source": [
    "flights = sc.textFile(\"flights14.csv\").map(load_csv).filter(lambda e: not e[0] == \"year\").map(parseElement).cache()\n",
    "#flights = sc.textFile(\"f1dhhjnzjwxmy2c1ys2whvrgz05d1pui.csv\").map(load_csv).filter(lambda e: not e[0] == \"year\").map(parseElement).cache()"
   ]
  },
  {
   "cell_type": "markdown",
   "metadata": {},
   "source": [
    "Now the schema and the RDD have to be registered with the sqlContext:"
   ]
  },
  {
   "cell_type": "code",
   "execution_count": 8,
   "metadata": {
    "collapsed": true,
    "scrolled": false
   },
   "outputs": [],
   "source": [
    "flightsDF = sqlContext.createDataFrame(flights)"
   ]
  },
  {
   "cell_type": "code",
   "execution_count": 9,
   "metadata": {
    "collapsed": true
   },
   "outputs": [],
   "source": [
    "flightsDF.createOrReplaceTempView(\"flight\")"
   ]
  },
  {
   "cell_type": "code",
   "execution_count": 10,
   "metadata": {
    "collapsed": false
   },
   "outputs": [
    {
     "data": {
      "text/plain": [
       "[Row(air_time=359, arr_delay=13, arr_time=1238, cancelled='0', carrier='AA', day=1, dep_delay=14, dep_time=914, dest='LAX', distance=2475, flight=1, hour=9, min=14, month=1, origin='JFK', tailnum='N338AA', year=2014),\n",
       " Row(air_time=363, arr_delay=13, arr_time=1523, cancelled='0', carrier='AA', day=1, dep_delay=-3, dep_time=1157, dest='LAX', distance=2475, flight=3, hour=11, min=57, month=1, origin='JFK', tailnum='N335AA', year=2014),\n",
       " Row(air_time=351, arr_delay=9, arr_time=2224, cancelled='0', carrier='AA', day=1, dep_delay=2, dep_time=1902, dest='LAX', distance=2475, flight=21, hour=19, min=2, month=1, origin='JFK', tailnum='N327AA', year=2014),\n",
       " Row(air_time=350, arr_delay=1, arr_time=1706, cancelled='0', carrier='AA', day=1, dep_delay=2, dep_time=1347, dest='LAX', distance=2475, flight=117, hour=13, min=47, month=1, origin='JFK', tailnum='N319AA', year=2014),\n",
       " Row(air_time=339, arr_delay=0, arr_time=2145, cancelled='0', carrier='AA', day=1, dep_delay=4, dep_time=1824, dest='LAX', distance=2454, flight=119, hour=18, min=24, month=1, origin='EWR', tailnum='N3DEAA', year=2014)]"
      ]
     },
     "execution_count": 10,
     "metadata": {},
     "output_type": "execute_result"
    }
   ],
   "source": [
    "sqlContext.sql(\"select * from flight where dest = 'LAX'\").take(5)"
   ]
  },
  {
   "cell_type": "code",
   "execution_count": 15,
   "metadata": {},
   "outputs": [
    {
     "name": "stdout",
     "output_type": "stream",
     "text": [
      "+--------+---------+--------+---------+-------+---+---------+--------+----+--------+------+----+---+-----+------+-------+----+\n",
      "|air_time|arr_delay|arr_time|cancelled|carrier|day|dep_delay|dep_time|dest|distance|flight|hour|min|month|origin|tailnum|year|\n",
      "+--------+---------+--------+---------+-------+---+---------+--------+----+--------+------+----+---+-----+------+-------+----+\n",
      "|     359|       13|    1238|        0|     AA|  1|       14|     914| LAX|    2475|     1|   9| 14|    1|   JFK| N338AA|2014|\n",
      "|     363|       13|    1523|        0|     AA|  1|       -3|    1157| LAX|    2475|     3|  11| 57|    1|   JFK| N335AA|2014|\n",
      "|     351|        9|    2224|        0|     AA|  1|        2|    1902| LAX|    2475|    21|  19|  2|    1|   JFK| N327AA|2014|\n",
      "|     157|      -26|    1014|        0|     AA|  1|       -8|     722| PBI|    1035|    29|   7| 22|    1|   LGA| N3EHAA|2014|\n",
      "|     350|        1|    1706|        0|     AA|  1|        2|    1347| LAX|    2475|   117|  13| 47|    1|   JFK| N319AA|2014|\n",
      "+--------+---------+--------+---------+-------+---+---------+--------+----+--------+------+----+---+-----+------+-------+----+\n",
      "only showing top 5 rows\n",
      "\n",
      "['air_time', 'arr_delay', 'arr_time', 'cancelled', 'carrier', 'day', 'dep_delay', 'dep_time', 'dest', 'distance', 'flight', 'hour', 'min', 'month', 'origin', 'tailnum', 'year']\n"
     ]
    }
   ],
   "source": [
    "flightsDF.show(5)\n",
    "print(flightsDF.columns)"
   ]
  },
  {
   "cell_type": "code",
   "execution_count": 11,
   "metadata": {
    "collapsed": false
   },
   "outputs": [
    {
     "data": {
      "text/plain": [
       "2750"
      ]
     },
     "execution_count": 11,
     "metadata": {},
     "output_type": "execute_result"
    }
   ],
   "source": [
    "flightsDF.where(\"origin = 'JFK' AND dest = 'MIA'\").count()"
   ]
  },
  {
   "cell_type": "code",
   "execution_count": 12,
   "metadata": {
    "collapsed": false
   },
   "outputs": [
    {
     "data": {
      "text/plain": [
       "[Row(air_time=161, arr_delay=-17, arr_time=1828, cancelled='0', carrier='AA', day=1, dep_delay=-1, dep_time=1509, dest='MIA', distance=1089, flight=145, hour=15, min=9, month=1, origin='JFK', tailnum='N5FJAA', year=2014),\n",
       " Row(air_time=166, arr_delay=-8, arr_time=1227, cancelled='0', carrier='AA', day=1, dep_delay=7, dep_time=917, dest='MIA', distance=1089, flight=1085, hour=9, min=17, month=1, origin='JFK', tailnum='N5DWAA', year=2014)]"
      ]
     },
     "execution_count": 12,
     "metadata": {},
     "output_type": "execute_result"
    }
   ],
   "source": [
    "flightsDF.where(\"origin = 'JFK' AND dest = 'MIA'\").limit(2).collect()"
   ]
  },
  {
   "cell_type": "markdown",
   "metadata": {},
   "source": [
    "### Count the flights that departed early and arrived late"
   ]
  },
  {
   "cell_type": "code",
   "execution_count": null,
   "metadata": {},
   "outputs": [],
   "source": []
  },
  {
   "cell_type": "markdown",
   "metadata": {},
   "source": [
    "### Find the flightwith the longest arrival delay"
   ]
  },
  {
   "cell_type": "code",
   "execution_count": null,
   "metadata": {},
   "outputs": [],
   "source": []
  },
  {
   "cell_type": "markdown",
   "metadata": {},
   "source": [
    "### Find the top 10 destinations ordered by the number of flights"
   ]
  },
  {
   "cell_type": "code",
   "execution_count": null,
   "metadata": {},
   "outputs": [],
   "source": []
  },
  {
   "cell_type": "markdown",
   "metadata": {},
   "source": [
    "### Find top 10 destinations with the worst avg arrival delay, ignoring flights that arrived early"
   ]
  },
  {
   "cell_type": "code",
   "execution_count": null,
   "metadata": {},
   "outputs": [],
   "source": []
  },
  {
   "cell_type": "markdown",
   "metadata": {},
   "source": [
    "### Take a sample of 1% of the flights and then calculate the average departure delay for that sample"
   ]
  },
  {
   "cell_type": "code",
   "execution_count": null,
   "metadata": {},
   "outputs": [],
   "source": []
  },
  {
   "cell_type": "markdown",
   "metadata": {},
   "source": [
    "### For all flights from JFK during June, show the average departure delay for each destination"
   ]
  },
  {
   "cell_type": "code",
   "execution_count": null,
   "metadata": {},
   "outputs": [],
   "source": []
  },
  {
   "cell_type": "markdown",
   "metadata": {},
   "source": [
    "### For every origin/dest pair, count the number of flights"
   ]
  },
  {
   "cell_type": "code",
   "execution_count": null,
   "metadata": {
    "collapsed": true
   },
   "outputs": [],
   "source": []
  }
 ],
 "metadata": {
  "anaconda-cloud": {},
  "kernelspec": {
   "display_name": "Python (spark)\n",
   "language": "python",
   "name": "spark"
  },
  "language_info": {
   "codemirror_mode": {
    "name": "ipython",
    "version": 3
   },
   "file_extension": ".py",
   "mimetype": "text/x-python",
   "name": "python",
   "nbconvert_exporter": "python",
   "pygments_lexer": "ipython3",
   "version": "3.6.4"
  }
 },
 "nbformat": 4,
 "nbformat_minor": 2
}
