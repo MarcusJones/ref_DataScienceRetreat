{
 "cells": [
  {
   "cell_type": "markdown",
   "metadata": {},
   "source": [
    "<h3>Run spark only from terminal!!!</h3>\n",
    "\n",
    "source activate spark\n",
    "\n",
    "jupyter-lab"
   ]
  },
  {
   "cell_type": "code",
   "execution_count": 1,
   "metadata": {},
   "outputs": [],
   "source": [
    "%%script false\n",
    "import os\n",
    "#os.environ[\"JAVA_HOME\"]"
   ]
  },
  {
   "cell_type": "code",
   "execution_count": 2,
   "metadata": {},
   "outputs": [],
   "source": [
    "%%script false\n",
    "import os\n",
    "\n",
    "os.environ[\"JAVA_HOME\"] = r\"/usr/lib/jvm/java-8-oracle\"\n",
    "os.environ[\"SPARK_HOME\"] = r\"/home/ubuntu/spark\"\n",
    "import sys\n",
    "sys.path.insert(0, os.environ[\"SPARK_HOME\"])\n",
    "\n",
    "\n",
    "os.environ[\"PYSPARK_PYTHON\"] = r\"/home/batman/miniconda3/envs/spark/bin/python\"\n",
    "os.environ[\"PYSPARK_DRIVER_PYTHON\"] = r\"/home/batman/miniconda3/envs/spark/bin/python\"\n",
    "\n",
    "for i in os.environ:\n",
    "    print(i, \"=\", os.environ[i])\n",
    "    \n",
    "#os.environ[\"PATH\"].append()"
   ]
  },
  {
   "cell_type": "code",
   "execution_count": 3,
   "metadata": {
    "collapsed": true
   },
   "outputs": [],
   "source": [
    "import pyspark\n",
    "sc = pyspark.SparkContext('local[*]') # asdf"
   ]
  },
  {
   "cell_type": "code",
   "execution_count": 4,
   "metadata": {},
   "outputs": [
    {
     "name": "stdout",
     "output_type": "stream",
     "text": [
      "<SparkContext master=local[*] appName=pyspark-shell>\n"
     ]
    }
   ],
   "source": [
    "print(sc)"
   ]
  },
  {
   "cell_type": "markdown",
   "metadata": {},
   "source": [
    "Sample output"
   ]
  },
  {
   "cell_type": "code",
   "execution_count": 5,
   "metadata": {},
   "outputs": [
    {
     "name": "stdout",
     "output_type": "stream",
     "text": [
      "124787\n",
      "﻿The Project Gutenberg EBook of The Complete Works of William Shakespeare, by\n",
      "\n",
      "William Shakespeare\n",
      "\n",
      "\n",
      "\n",
      "This eBook is for the use of anyone anywhere at no cost and with\n",
      "\n",
      "almost no restrictions whatsoever.  You may copy it, give it away or\n",
      "\n"
     ]
    }
   ],
   "source": [
    "fname = \"macbeth.txt\"\n",
    "\n",
    "with open(fname) as f:\n",
    "    my_lines = f.readlines()\n",
    "\n",
    "#for l in my_lines:\n",
    "#    print(l)\n",
    "\n",
    "print(len(my_lines))\n",
    "\n",
    "for l in my_lines[:5]:\n",
    "    print(l)\n",
    "\n"
   ]
  },
  {
   "cell_type": "code",
   "execution_count": 6,
   "metadata": {
    "collapsed": false
   },
   "outputs": [
    {
     "name": "stdout",
     "output_type": "stream",
     "text": [
      "macbeth.txt MapPartitionsRDD[1] at textFile at NativeMethodAccessorImpl.java:0\n",
      "<class 'pyspark.rdd.RDD'>\n"
     ]
    }
   ],
   "source": [
    "#!script = falsse\n",
    "# load text of macbeth from s3\n",
    "#!wget https://dsr-notebooks.s3.amazonaws.com/macbeth.txt\n",
    "shakespeare = sc.textFile(\"macbeth.txt\")\n",
    "\n",
    "print(shakespeare)\n",
    "\n",
    "print(type(shakespeare))"
   ]
  },
  {
   "cell_type": "code",
   "execution_count": 7,
   "metadata": {
    "collapsed": true
   },
   "outputs": [
    {
     "name": "stdout",
     "output_type": "stream",
     "text": [
      "PythonRDD[2] at RDD at PythonRDD.scala:48\n",
      "<class 'pyspark.rdd.PipelinedRDD'>\n"
     ]
    }
   ],
   "source": [
    "lines_all = shakespeare.map(lambda line: line.lower())\n",
    "print(lines_all)\n",
    "#print(len(lines))\n",
    "print(type(lines_all))"
   ]
  },
  {
   "cell_type": "code",
   "execution_count": 8,
   "metadata": {},
   "outputs": [
    {
     "data": {
      "text/plain": [
       "['The Project Gutenberg EBook of The Complete Works of William Shakespeare, by',\n",
       " 'William Shakespeare',\n",
       " '',\n",
       " 'This eBook is for the use of anyone anywhere at no cost and with',\n",
       " 'almost no restrictions whatsoever.  You may copy it, give it away or']"
      ]
     },
     "execution_count": 8,
     "metadata": {},
     "output_type": "execute_result"
    }
   ],
   "source": [
    "shakespeare.take(5)"
   ]
  },
  {
   "cell_type": "code",
   "execution_count": 9,
   "metadata": {},
   "outputs": [
    {
     "data": {
      "text/plain": [
       "124787"
      ]
     },
     "execution_count": 9,
     "metadata": {},
     "output_type": "execute_result"
    }
   ],
   "source": [
    "shakespeare.count()"
   ]
  },
  {
   "cell_type": "markdown",
   "metadata": {},
   "source": [
    "Now, this is stored in memory"
   ]
  },
  {
   "cell_type": "code",
   "execution_count": 10,
   "metadata": {
    "collapsed": false
   },
   "outputs": [
    {
     "data": {
      "text/plain": [
       "PythonRDD[2] at RDD at PythonRDD.scala:48"
      ]
     },
     "execution_count": 10,
     "metadata": {},
     "output_type": "execute_result"
    }
   ],
   "source": [
    "lines_all.cache()"
   ]
  },
  {
   "cell_type": "markdown",
   "metadata": {},
   "source": [
    "Find the lines containing 'macbeth'"
   ]
  },
  {
   "cell_type": "code",
   "execution_count": 11,
   "metadata": {
    "collapsed": false
   },
   "outputs": [
    {
     "name": "stdout",
     "output_type": "stream",
     "text": [
      "PythonRDD[5] at RDD at PythonRDD.scala:48\n"
     ]
    }
   ],
   "source": [
    "lines_macbeth = lines_all.filter(lambda l: l.find(\"macbeth\") >= 0)\n",
    "#import sys\n",
    "print(lines_macbeth)"
   ]
  },
  {
   "cell_type": "code",
   "execution_count": 12,
   "metadata": {
    "collapsed": false
   },
   "outputs": [
    {
     "data": {
      "text/plain": [
       "283"
      ]
     },
     "execution_count": 12,
     "metadata": {},
     "output_type": "execute_result"
    }
   ],
   "source": [
    "lines_macbeth.count()"
   ]
  },
  {
   "cell_type": "code",
   "execution_count": 13,
   "metadata": {
    "collapsed": false
   },
   "outputs": [
    {
     "data": {
      "text/plain": [
       "['the tragedy of macbeth',\n",
       " \"  macbeth, thane of glamis and cawdor, a general in the king's army\",\n",
       " '  lady macbeth, his wife',\n",
       " '  seyton, attendant to macbeth',\n",
       " '  gentlewoman attending on lady macbeth']"
      ]
     },
     "execution_count": 13,
     "metadata": {},
     "output_type": "execute_result"
    }
   ],
   "source": [
    "lines_macbeth.take(5)"
   ]
  },
  {
   "cell_type": "code",
   "execution_count": 21,
   "metadata": {
    "collapsed": true
   },
   "outputs": [],
   "source": [
    "#lines_macbeth_and_macduff = lines_all.filter(lambda l: l.find(\"macduff\") >= 0)\n",
    "lines_macbeth_and_macduff = lines_macbeth.filter(lambda l: l.find(\"macduff\") >= 0)"
   ]
  },
  {
   "cell_type": "code",
   "execution_count": 22,
   "metadata": {
    "collapsed": false
   },
   "outputs": [
    {
     "name": "stdout",
     "output_type": "stream",
     "text": [
      "PythonRDD[11] at RDD at PythonRDD.scala:48\n"
     ]
    },
    {
     "data": {
      "text/plain": [
       "['  macduff. those that macbeth hath slain.',\n",
       " \"  macbeth. how say'st thou, that macduff denies his person\",\n",
       " '  first apparition. macbeth! macbeth! macbeth! beware macduff,',\n",
       " '  macbeth. then live, macduff. what need i fear of thee?',\n",
       " \"             re-enter macduff, with macbeth's head.\"]"
      ]
     },
     "execution_count": 22,
     "metadata": {},
     "output_type": "execute_result"
    }
   ],
   "source": [
    "print(lines_macbeth_and_macduff)\n",
    "lines_macbeth_and_macduff.collect()"
   ]
  },
  {
   "cell_type": "code",
   "execution_count": 23,
   "metadata": {
    "collapsed": false
   },
   "outputs": [
    {
     "name": "stdout",
     "output_type": "stream",
     "text": [
      "b'(2) PythonRDD[11] at RDD at PythonRDD.scala:48 []\\n |  PythonRDD[2] at RDD at PythonRDD.scala:48 []\\n |      CachedPartitions: 2; MemorySize: 4.0 MB; ExternalBlockStoreSize: 0.0 B; DiskSize: 0.0 B\\n |  macbeth.txt MapPartitionsRDD[1] at textFile at NativeMethodAccessorImpl.java:0 []\\n |  macbeth.txt HadoopRDD[0] at textFile at NativeMethodAccessorImpl.java:0 []'\n"
     ]
    }
   ],
   "source": [
    "print(lines_macbeth_and_macduff.toDebugString())\n",
    "#print(macbeth_and_macdufflines.toDebugString())"
   ]
  },
  {
   "cell_type": "markdown",
   "metadata": {},
   "source": [
    "Get all words"
   ]
  },
  {
   "cell_type": "code",
   "execution_count": 24,
   "metadata": {
    "collapsed": true
   },
   "outputs": [
    {
     "data": {
      "text/plain": [
       "['the', 'project', 'gutenberg']"
      ]
     },
     "execution_count": 24,
     "metadata": {},
     "output_type": "execute_result"
    }
   ],
   "source": [
    "import re\n",
    "words = lines_all.flatMap(lambda l: re.split(r'\\W+', l))\n",
    "words.take(3)"
   ]
  },
  {
   "cell_type": "markdown",
   "metadata": {},
   "source": [
    "Convert each word into a tuple"
   ]
  },
  {
   "cell_type": "code",
   "execution_count": 27,
   "metadata": {
    "collapsed": false
   },
   "outputs": [
    {
     "name": "stdout",
     "output_type": "stream",
     "text": [
      "PythonRDD[16] at RDD at PythonRDD.scala:48\n"
     ]
    },
    {
     "data": {
      "text/plain": [
       "[('the', 1), ('project', 1), ('gutenberg', 1)]"
      ]
     },
     "execution_count": 27,
     "metadata": {},
     "output_type": "execute_result"
    }
   ],
   "source": [
    "groupedWords = words.map(lambda w: (w, 1))\n",
    "print(groupedWords)\n",
    "groupedWords.take(3)"
   ]
  },
  {
   "cell_type": "markdown",
   "metadata": {},
   "source": [
    "Now, sum the counts (reduce)"
   ]
  },
  {
   "cell_type": "code",
   "execution_count": 30,
   "metadata": {},
   "outputs": [
    {
     "name": "stdout",
     "output_type": "stream",
     "text": [
      "PythonRDD[33] at RDD at PythonRDD.scala:48\n",
      "[('project', 331), ('gutenberg', 326), ('ebook', 17)]\n"
     ]
    }
   ],
   "source": [
    "unsorted = groupedWords.reduceByKey(lambda a, b: a + b)\n",
    "print(unsorted)\n",
    "print(unsorted.take(3))"
   ]
  },
  {
   "cell_type": "code",
   "execution_count": 33,
   "metadata": {},
   "outputs": [
    {
     "name": "stdout",
     "output_type": "stream",
     "text": [
      "<bound method RDD.collect of PythonRDD[33] at RDD at PythonRDD.scala:48>\n",
      "('project', 331)\n",
      "('gutenberg', 326)\n",
      "('ebook', 17)\n",
      "('of', 18307)\n",
      "('shakespeare', 272)\n",
      "('', 197060)\n",
      "('this', 6900)\n",
      "('is', 9808)\n",
      "('use', 562)\n",
      "('anyone', 7)\n"
     ]
    }
   ],
   "source": [
    "print(unsorted.collect)\n",
    "values = unsorted.collect()[:10]\n",
    "for v in values:\n",
    "    print(v)"
   ]
  },
  {
   "cell_type": "markdown",
   "metadata": {},
   "source": [
    "All in one"
   ]
  },
  {
   "cell_type": "code",
   "execution_count": 37,
   "metadata": {
    "collapsed": false
   },
   "outputs": [
    {
     "name": "stdout",
     "output_type": "stream",
     "text": [
      "PythonRDD[43] at RDD at PythonRDD.scala:48\n",
      "[(331, 'project'), (326, 'gutenberg'), (17, 'ebook')]\n"
     ]
    }
   ],
   "source": [
    "swapped_unsorted = unsorted.map(lambda t: (t[1], t[0]))\n",
    "print(swapped_unsorted)\n",
    "print(swapped_unsorted.take(3))"
   ]
  },
  {
   "cell_type": "code",
   "execution_count": 38,
   "metadata": {},
   "outputs": [
    {
     "data": {
      "text/plain": [
       "[(197060, ''),\n",
       " (27843, 'the'),\n",
       " (26847, 'and'),\n",
       " (22538, 'i'),\n",
       " (19882, 'to'),\n",
       " (18307, 'of'),\n",
       " (14800, 'a'),\n",
       " (13928, 'you'),\n",
       " (12490, 'my'),\n",
       " (11563, 'that')]"
      ]
     },
     "execution_count": 38,
     "metadata": {},
     "output_type": "execute_result"
    }
   ],
   "source": [
    "swapped_unsorted.sortByKey(False).collect()[:10]"
   ]
  },
  {
   "cell_type": "code",
   "execution_count": 39,
   "metadata": {
    "collapsed": true
   },
   "outputs": [],
   "source": [
    "sc.stop()"
   ]
  },
  {
   "cell_type": "code",
   "execution_count": null,
   "metadata": {
    "collapsed": true
   },
   "outputs": [],
   "source": []
  }
 ],
 "metadata": {
  "anaconda-cloud": {},
  "kernelspec": {
   "display_name": "Python (spark)\n",
   "language": "python",
   "name": "spark"
  },
  "language_info": {
   "codemirror_mode": {
    "name": "ipython",
    "version": 3
   },
   "file_extension": ".py",
   "mimetype": "text/x-python",
   "name": "python",
   "nbconvert_exporter": "python",
   "pygments_lexer": "ipython3",
   "version": "3.6.4"
  }
 },
 "nbformat": 4,
 "nbformat_minor": 2
}
