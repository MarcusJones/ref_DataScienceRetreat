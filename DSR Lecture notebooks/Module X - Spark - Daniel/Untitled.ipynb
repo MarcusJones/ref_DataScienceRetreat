{
 "cells": [
  {
   "cell_type": "code",
   "execution_count": 1,
   "metadata": {},
   "outputs": [
    {
     "name": "stdout",
     "output_type": "stream",
     "text": [
      "Loaded modules:\n",
      "Numpy                np              1.12.1\n",
      "Pandas               pd              0.22.0\n",
      "Keras                ks              2.0.6\n",
      "Matplotlib           NOT LOADED      No version specified\n",
      "matplotlib.pyplot    NOT LOADED      No version specified\n",
      "matplotlib.image     NOT LOADED      No version specified\n",
      "PIL                  PIL             5.0.0\n",
      "ExergyUtilities      exergy          2.0.\n",
      "pyspark              NOT LOADED      No version specified\n"
     ]
    }
   ],
   "source": [
    "print_imports()"
   ]
  },
  {
   "cell_type": "code",
   "execution_count": null,
   "metadata": {},
   "outputs": [],
   "source": []
  }
 ],
 "metadata": {
  "kernelspec": {
   "display_name": "Python 3",
   "language": "python",
   "name": "python3"
  },
  "language_info": {
   "codemirror_mode": {
    "name": "ipython",
    "version": 3
   },
   "file_extension": ".py",
   "mimetype": "text/x-python",
   "name": "python",
   "nbconvert_exporter": "python",
   "pygments_lexer": "ipython3",
   "version": "3.6.3"
  }
 },
 "nbformat": 4,
 "nbformat_minor": 2
}
