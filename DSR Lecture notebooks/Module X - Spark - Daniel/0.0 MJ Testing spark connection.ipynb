{
 "cells": [
  {
   "cell_type": "markdown",
   "metadata": {},
   "source": [
    "### Ensure pyspark is loaded, see below"
   ]
  },
  {
   "cell_type": "code",
   "execution_count": 1,
   "metadata": {},
   "outputs": [
    {
     "name": "stdout",
     "output_type": "stream",
     "text": [
      "Loaded modules:\n",
      "Numpy                np              1.14.1\n",
      "Pandas               pd              0.22.0\n",
      "Keras                NOT LOADED      N/A\n",
      "\n",
      "Matplotlib           NOT LOADED      N/A\n",
      "matplotlib.pyplot    NOT LOADED      N/A\n",
      "matplotlib.image     NOT LOADED      N/A\n",
      "Seaborn              NOT LOADED      N/A\n",
      "PIL                  NOT LOADED      N/A\n",
      "\n",
      "ExergyUtilities      exergy          2.0.\n",
      "\n",
      "pyspark              pyspark         2.2.0\n"
     ]
    }
   ],
   "source": [
    "print_imports()"
   ]
  },
  {
   "cell_type": "markdown",
   "metadata": {},
   "source": [
    "### Set the paths here, dynamically, for testing purposes"
   ]
  },
  {
   "cell_type": "code",
   "execution_count": 10,
   "metadata": {},
   "outputs": [
    {
     "name": "stdout",
     "output_type": "stream",
     "text": [
      "/home/batman/anaconda3/envs/spark/bin/python \n",
      " /home/batman/anaconda3/envs/spark/bin/python\n"
     ]
    }
   ],
   "source": [
    "#%%script false\n",
    "import os\n",
    "\n",
    "os.environ[\"JAVA_HOME\"] = r\"/usr/lib/jvm/java-8-oracle\"\n",
    "os.environ[\"SPARK_HOME\"] = r\"/home/batman/spark\"\n",
    "import sys\n",
    "sys.path.insert(0, os.environ[\"SPARK_HOME\"])\n",
    "\n",
    "os.environ[\"PYSPARK_PYTHON\"] = r\"/home/batman/anaconda3/envs/spark/bin/python\"\n",
    "os.environ[\"PYSPARK_DRIVER_PYTHON\"] = r\"/home/batman/anaconda3/envs/spark/bin/python\"\n",
    "\n",
    "#for i in os.environ:\n",
    "#    print(i, \"=\", os.environ[i])\n",
    "print(\n",
    "os.environ['PYSPARK_PYTHON'],'\\n', os.environ['PYSPARK_DRIVER_PYTHON']\n",
    ")"
   ]
  },
  {
   "cell_type": "code",
   "execution_count": 3,
   "metadata": {},
   "outputs": [],
   "source": [
    "import pyspark\n",
    "sc = pyspark.SparkContext('local[*]') # asdf"
   ]
  },
  {
   "cell_type": "code",
   "execution_count": 4,
   "metadata": {},
   "outputs": [
    {
     "data": {
      "text/plain": [
       "'1,Maj,123'"
      ]
     },
     "execution_count": 4,
     "metadata": {},
     "output_type": "execute_result"
    }
   ],
   "source": [
    "People=[\"1,Maj,123\",\"2,Pvt,333\",\"3,Col,999\"]\n",
    "rrd1=sc.parallelize(People)\n",
    "rrd1.first()"
   ]
  },
  {
   "cell_type": "code",
   "execution_count": null,
   "metadata": {},
   "outputs": [],
   "source": []
  }
 ],
 "metadata": {
  "kernelspec": {
   "display_name": "Python [conda env:spark]",
   "language": "python",
   "name": "conda-env-spark-py"
  },
  "language_info": {
   "codemirror_mode": {
    "name": "ipython",
    "version": 3
   },
   "file_extension": ".py",
   "mimetype": "text/x-python",
   "name": "python",
   "nbconvert_exporter": "python",
   "pygments_lexer": "ipython3",
   "version": "3.6.4"
  }
 },
 "nbformat": 4,
 "nbformat_minor": 2
}
