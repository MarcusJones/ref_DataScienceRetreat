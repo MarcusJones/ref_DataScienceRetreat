{ 
 "cells": [
  {
   "cell_type": "code",
   "execution_count": 16,
   "metadata": {
    "collapsed": true
   },
   "outputs": [],
   "source": [
    "from pprint import pprint"
   ]
  },
  {
   "cell_type": "code",
   "execution_count": 19,
   "metadata": {},
   "outputs": [
    {
     "name": "stdout",
     "output_type": "stream",
     "text": [
      "[{'class_name': 'Conv2D',\n",
      "  'config': {'activation': 'relu',\n",
      "             'activity_regularizer': None,\n",
      "             'batch_input_shape': (None, 28, 28, 1),\n",
      "             'bias_constraint': None,\n",
      "             'bias_initializer': {'class_name': 'Zeros', 'config': {}},\n",
      "             'bias_regularizer': None,\n",
      "             'data_format': 'channels_last',\n",
      "             'dilation_rate': (1, 1),\n",
      "             'dtype': 'float32',\n",
      "             'filters': 32,\n",
      "             'kernel_constraint': None,\n",
      "             'kernel_initializer': {'class_name': 'VarianceScaling',\n",
      "                                    'config': {'distribution': 'uniform',\n",
      "                                               'mode': 'fan_avg',\n",
      "                                               'scale': 1.0,\n",
      "                                               'seed': None}},\n",
      "             'kernel_regularizer': None,\n",
      "             'kernel_size': (3, 3),\n",
      "             'name': 'conv2d_33',\n",
      "             'padding': 'valid',\n",
      "             'strides': (1, 1),\n",
      "             'trainable': True,\n",
      "             'use_bias': True}},\n",
      " {'class_name': 'MaxPooling2D',\n",
      "  'config': {'data_format': 'channels_last',\n",
      "             'name': 'max_pooling2d_22',\n",
      "             'padding': 'valid',\n",
      "             'pool_size': (2, 2),\n",
      "             'strides': (2, 2),\n",
      "             'trainable': True}},\n",
      " {'class_name': 'Conv2D',\n",
      "  'config': {'activation': 'relu',\n",
      "             'activity_regularizer': None,\n",
      "             'bias_constraint': None,\n",
      "             'bias_initializer': {'class_name': 'Zeros', 'config': {}},\n",
      "             'bias_regularizer': None,\n",
      "             'data_format': 'channels_last',\n",
      "             'dilation_rate': (1, 1),\n",
      "             'filters': 64,\n",
      "             'kernel_constraint': None,\n",
      "             'kernel_initializer': {'class_name': 'VarianceScaling',\n",
      "                                    'config': {'distribution': 'uniform',\n",
      "                                               'mode': 'fan_avg',\n",
      "                                               'scale': 1.0,\n",
      "                                               'seed': None}},\n",
      "             'kernel_regularizer': None,\n",
      "             'kernel_size': (3, 3),\n",
      "             'name': 'conv2d_34',\n",
      "             'padding': 'valid',\n",
      "             'strides': (1, 1),\n",
      "             'trainable': True,\n",
      "             'use_bias': True}},\n",
      " {'class_name': 'MaxPooling2D',\n",
      "  'config': {'data_format': 'channels_last',\n",
      "             'name': 'max_pooling2d_23',\n",
      "             'padding': 'valid',\n",
      "             'pool_size': (2, 2),\n",
      "             'strides': (2, 2),\n",
      "             'trainable': True}},\n",
      " {'class_name': 'Conv2D',\n",
      "  'config': {'activation': 'relu',\n",
      "             'activity_regularizer': None,\n",
      "             'bias_constraint': None,\n",
      "             'bias_initializer': {'class_name': 'Zeros', 'config': {}},\n",
      "             'bias_regularizer': None,\n",
      "             'data_format': 'channels_last',\n",
      "             'dilation_rate': (1, 1),\n",
      "             'filters': 64,\n",
      "             'kernel_constraint': None,\n",
      "             'kernel_initializer': {'class_name': 'VarianceScaling',\n",
      "                                    'config': {'distribution': 'uniform',\n",
      "                                               'mode': 'fan_avg',\n",
      "                                               'scale': 1.0,\n",
      "                                               'seed': None}},\n",
      "             'kernel_regularizer': None,\n",
      "             'kernel_size': (3, 3),\n",
      "             'name': 'conv2d_35',\n",
      "             'padding': 'valid',\n",
      "             'strides': (1, 1),\n",
      "             'trainable': True,\n",
      "             'use_bias': True}}]\n",
      "{'class_name': 'Conv2D', 'config': {'name': 'conv2d_33', 'trainable': True, 'batch_input_shape': (None, 28, 28, 1), 'dtype': 'float32', 'filters': 32, 'kernel_size': (3, 3), 'strides': (1, 1), 'padding': 'valid', 'data_format': 'channels_last', 'dilation_rate': (1, 1), 'activation': 'relu', 'use_bias': True, 'kernel_initializer': {'class_name': 'VarianceScaling', 'config': {'scale': 1.0, 'mode': 'fan_avg', 'distribution': 'uniform', 'seed': None}}, 'bias_initializer': {'class_name': 'Zeros', 'config': {}}, 'kernel_regularizer': None, 'bias_regularizer': None, 'activity_regularizer': None, 'kernel_constraint': None, 'bias_constraint': None}}\n"
     ]
    },
    {
     "ename": "TypeError",
     "evalue": "list indices must be integers or slices, not dict",
     "output_type": "error",
     "traceback": [
      "\u001b[1;31m---------------------------------------------------------------------------\u001b[0m",
      "\u001b[1;31mTypeError\u001b[0m                                 Traceback (most recent call last)",
      "\u001b[1;32m<ipython-input-19-eb884bf3e076>\u001b[0m in \u001b[0;36m<module>\u001b[1;34m()\u001b[0m\n\u001b[0;32m     15\u001b[0m \u001b[1;32mfor\u001b[0m \u001b[0mk\u001b[0m \u001b[1;32min\u001b[0m \u001b[0mconfig_dict\u001b[0m\u001b[1;33m:\u001b[0m\u001b[1;33m\u001b[0m\u001b[0m\n\u001b[0;32m     16\u001b[0m     \u001b[0mprint\u001b[0m\u001b[1;33m(\u001b[0m\u001b[0mk\u001b[0m\u001b[1;33m)\u001b[0m\u001b[1;33m\u001b[0m\u001b[0m\n\u001b[1;32m---> 17\u001b[1;33m     \u001b[0mprint\u001b[0m\u001b[1;33m(\u001b[0m\u001b[0mk\u001b[0m\u001b[1;33m,\u001b[0m \u001b[0mconfig_dict\u001b[0m\u001b[1;33m[\u001b[0m\u001b[0mk\u001b[0m\u001b[1;33m]\u001b[0m\u001b[1;33m)\u001b[0m\u001b[1;33m\u001b[0m\u001b[0m\n\u001b[0m\u001b[0;32m     18\u001b[0m \u001b[1;31m#print(config_dict)\u001b[0m\u001b[1;33m\u001b[0m\u001b[1;33m\u001b[0m\u001b[0m\n",
      "\u001b[1;31mTypeError\u001b[0m: list indices must be integers or slices, not dict"
     ]
    }
   ],
   "source": [
    "\n",
    "\n",
    "model = ks.models.Sequential()\n",
    "# Filters, kernal shape, activation, input shape\n",
    "model.add(ks.layers.Conv2D(32, (3,3),activation = \"relu\", input_shape=(28,28,1)))\n",
    "model.add(ks.layers.MaxPooling2D((2,2)))\n",
    "model.add(ks.layers.Conv2D(64, (3,3),activation = \"relu\"))\n",
    "model.add(ks.layers.MaxPooling2D((2,2)))\n",
    "model.add(ks.layers.Conv2D(64, (3,3),activation = \"relu\"))\n",
    "#sum_str = model.summary()\n",
    "config_dict = model.get_config()\n",
    "\n",
    "pprint(config_dict)\n",
    "\n",
    "for k in config_dict:\n",
    "    print(k)\n",
    "    print(k, config_dict[k])\n",
    "#print(config_dict)"
   ]
  },
  {
   "cell_type": "code",
   "execution_count": null,
   "metadata": {
    "collapsed": true
   },
   "outputs": [],
   "source": []
  },
  {
   "cell_type": "code",
   "execution_count": null,
   "metadata": {
    "collapsed": true
   },
   "outputs": [],
   "source": []
  }
 ],
 "metadata": {
  "kernelspec": {
   "display_name": "Python 3",
   "language": "python",
   "name": "python3"
  },
  "language_info": {
   "codemirror_mode": {
    "name": "ipython",
    "version": 3
   },
   "file_extension": ".py",
   "mimetype": "text/x-python",
   "name": "python",
   "nbconvert_exporter": "python",
   "pygments_lexer": "ipython3",
   "version": "3.6.4"
  }
 },
 "nbformat": 4,
 "nbformat_minor": 2
}
