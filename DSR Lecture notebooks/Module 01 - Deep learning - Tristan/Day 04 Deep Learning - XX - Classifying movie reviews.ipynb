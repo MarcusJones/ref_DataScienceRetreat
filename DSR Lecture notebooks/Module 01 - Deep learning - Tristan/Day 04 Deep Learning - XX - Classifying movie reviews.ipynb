{
 "cells": [
  {
   "cell_type": "code",
   "execution_count": 38,
   "metadata": {
    "collapsed": true
   },
   "outputs": [],
   "source": [
    "import numpy as np\n",
    "import pandas as pd\n",
    "\n",
    "import keras as ks\n",
    "#from keras.datasets import mnist\n",
    "from keras import models\n",
    "from keras import layers\n",
    "from keras.utils import to_categorical\n",
    "import tensorflow as tn\n",
    "from scipy import stats\n",
    "import matplotlib as mpl\n",
    "import matplotlib.pyplot as plt\n",
    "%matplotlib inline\n",
    "from keras.datasets import imdb"
   ]
  },
  {
   "cell_type": "code",
   "execution_count": 3,
   "metadata": {
    "collapsed": true
   },
   "outputs": [],
   "source": [
    "(train_data, train_labels), (test_data,test_labels) = imdb.load_data(num_words = 10000)"
   ]
  },
  {
   "cell_type": "code",
   "execution_count": 7,
   "metadata": {},
   "outputs": [
    {
     "name": "stdout",
     "output_type": "stream",
     "text": [
      "(25000,)\n",
      "(25000,)\n"
     ]
    }
   ],
   "source": [
    "print(train_data.shape)\n",
    "print(train_data.shape)"
   ]
  },
  {
   "cell_type": "code",
   "execution_count": 8,
   "metadata": {},
   "outputs": [
    {
     "name": "stdout",
     "output_type": "stream",
     "text": [
      "9995\n"
     ]
    }
   ],
   "source": [
    "print(np.max(np.max(train_data)))"
   ]
  },
  {
   "cell_type": "code",
   "execution_count": 9,
   "metadata": {},
   "outputs": [
    {
     "name": "stdout",
     "output_type": "stream",
     "text": [
      "Downloading data from https://s3.amazonaws.com/text-datasets/imdb_word_index.json\n",
      "1646592/1641221 [==============================] - 2s 1us/step\n"
     ]
    }
   ],
   "source": [
    "word_index = imdb.get_word_index()"
   ]
  },
  {
   "cell_type": "code",
   "execution_count": 12,
   "metadata": {
    "collapsed": true
   },
   "outputs": [],
   "source": [
    "#print(word_index[])\n",
    "reverse_word_index = dict([(value, key) for (key,value) in word_index.items()])"
   ]
  },
  {
   "cell_type": "code",
   "execution_count": 15,
   "metadata": {},
   "outputs": [
    {
     "data": {
      "text/plain": [
       "\"the no was stupid great for was mystery characters movie is and of how 10 from why it when people have two br should to should on more he is stars br words scene greedy more it of and lack for always his life that to marriage was universal only sorts classes was after follows of on this 20 comedy and for if look were asks shotgun was after at dead hilarity in character her from well fat only middle marriage was same except superman new of johansson really it of went br you was story answers used dead of moves not travel in typical scene and of hunter most as genuine commercial fact it has movie hero movie is setting br and i i incredible much doom dressed of johansson quest are is herself br said during doing al are is considered in so unconvincing johansson are is blonde in also sharks seeking to encounter and not guys best lead when involved couple is save br and brendan exceedingly forgiven or of and like battlefield in glad of production better by who by this need fact on busy into think br any breaks to up hanks fantastic have can't still seems in ad has i i of see 10 for larger of johansson or never is rate hope br my it of enough for soldiers it had finds as and exactly film of ahead br and super versions movie is and outside film so shadowy tcm hank if anything movies spend in at christ aliens of stage and like find and les but even everything of hard and explains favorites for george no have lost is stage not when had language that movie is fact it of enough for have well barry stupid no play it part in wanting some to also and essentially not which what from than looks was these tom for that story another brendan exceedingly compare of went br could she smart can this of babes of ride and day ever tells had for hero of miniseries 10 has as on had it for show didn't br stevenson eyes as is apocalypse simple was let was does if makes not was potential boredom only packed in at shooting always me up played this is profound i i of johansson interesting had is fact on movie should if up br is must fact just hero on it's email br of performances not poor value they that john br film that was detective big wonderful as in horse type of whole br of down to ended not which them was tom time get eyed use that was then use of her do for if very soon was sexy might for what of you accent big at network in imho is julie them was chinese wartime is angst looks in character that title if is do you to title from had real one kept line to bit back up and is and pie but despite of year setting there seen hadn't and by but and absence to is goldberg hadn't br and not that with aunt but and to for real stupid have dvd have kids in does has as and 8 and do genre fall what have people just that not of johansson had it is till br and film's\""
      ]
     },
     "execution_count": 15,
     "metadata": {},
     "output_type": "execute_result"
    }
   ],
   "source": [
    "decoded_review = \" \".join([reverse_word_index.get(i, \"?\") for i in train_data[0]])\n",
    "decoded_review"
   ]
  },
  {
   "cell_type": "code",
   "execution_count": 27,
   "metadata": {
    "collapsed": true
   },
   "outputs": [],
   "source": [
    "def vectorize_sequence(sequences, dimension=10000):\n",
    "    results = np.zeros((len(sequences),dimension))\n",
    "    for i,sequence in enumerate(sequences):\n",
    "        results[i, sequence] = 1\n",
    "    return results"
   ]
  },
  {
   "cell_type": "code",
   "execution_count": 28,
   "metadata": {
    "collapsed": true
   },
   "outputs": [],
   "source": [
    "x_train = vectorize_sequence(train_data)"
   ]
  },
  {
   "cell_type": "code",
   "execution_count": 31,
   "metadata": {
    "scrolled": true
   },
   "outputs": [
    {
     "data": {
      "text/plain": [
       "array([[ 0.,  1.,  1., ...,  0.,  0.,  0.],\n",
       "       [ 0.,  1.,  1., ...,  0.,  0.,  0.],\n",
       "       [ 0.,  1.,  1., ...,  0.,  0.,  0.],\n",
       "       ..., \n",
       "       [ 0.,  1.,  1., ...,  0.,  0.,  0.],\n",
       "       [ 0.,  1.,  1., ...,  0.,  0.,  0.],\n",
       "       [ 0.,  1.,  1., ...,  0.,  0.,  0.]])"
      ]
     },
     "execution_count": 31,
     "metadata": {},
     "output_type": "execute_result"
    }
   ],
   "source": [
    "x_train"
   ]
  },
  {
   "cell_type": "code",
   "execution_count": 32,
   "metadata": {},
   "outputs": [
    {
     "name": "stdout",
     "output_type": "stream",
     "text": [
      "[0 1 1 ..., 0 1 1]\n"
     ]
    }
   ],
   "source": [
    "print(train_labels)"
   ]
  },
  {
   "cell_type": "markdown",
   "metadata": {},
   "source": [
    "The labels show if the review is good or bad. Good is 1, bad is 0.\n",
    "The data is balanced, 50% good, 50% bad labels. (Not skewed.)"
   ]
  },
  {
   "cell_type": "code",
   "execution_count": 34,
   "metadata": {
    "collapsed": true
   },
   "outputs": [],
   "source": [
    "y_train = np.asarray(train_labels).astype(\"float32\")\n",
    "y_test = np.asarray(test_labels).astype(\"float32\")"
   ]
  },
  {
   "cell_type": "code",
   "execution_count": 36,
   "metadata": {},
   "outputs": [
    {
     "name": "stdout",
     "output_type": "stream",
     "text": [
      "[ 0.  1.  1. ...,  0.  1.  1.]\n",
      "[ 0.  0.  0. ...,  1.  0.  0.]\n"
     ]
    }
   ],
   "source": [
    "print(y_train)\n",
    "print(y_test)\n"
   ]
  },
  {
   "cell_type": "code",
   "execution_count": 45,
   "metadata": {
    "collapsed": true
   },
   "outputs": [],
   "source": [
    "model = ks.models.Sequential()\n",
    "model.add(layers.Dense(16, activation=\"relu\", input_shape=(10000,)))\n",
    "model.add(layers.Dense(16, activation=\"relu\"))\n",
    "model.add(layers.Dense(1, activation=\"sigmoid\"))"
   ]
  },
  {
   "cell_type": "code",
   "execution_count": 72,
   "metadata": {
    "collapsed": true
   },
   "outputs": [],
   "source": [
    "#ks.losses\n",
    "#ks.\n",
    "\n",
    "model.compile(\n",
    "    optimizer = \"rmsprop\",\n",
    "    loss= \"binary_crossentropy\",\n",
    "    metric=[\"accuracy\"]\n",
    "    )\n",
    "\n",
    "\n",
    "model.compile(\n",
    "    optimizer = ks.optimizers.RMSprop(lr=0.001),\n",
    "    loss= ks.losses.binary_crossentropy,\n",
    "    metrics=[ks.metrics.binary_accuracy],\n",
    "    )"
   ]
  },
  {
   "cell_type": "code",
   "execution_count": 73,
   "metadata": {},
   "outputs": [
    {
     "name": "stdout",
     "output_type": "stream",
     "text": [
      "<keras.models.Sequential object at 0x000001DDBA365F60>\n"
     ]
    }
   ],
   "source": [
    "print(model)"
   ]
  },
  {
   "cell_type": "code",
   "execution_count": 74,
   "metadata": {
    "collapsed": true
   },
   "outputs": [],
   "source": [
    "x_val = x_train[:10000]\n",
    "partial_x_train = x_train[10000:]\n",
    "\n",
    "y_val = y_train[:10000]\n",
    "partial_y_train = y_train[10000:]"
   ]
  },
  {
   "cell_type": "code",
   "execution_count": 75,
   "metadata": {},
   "outputs": [
    {
     "name": "stdout",
     "output_type": "stream",
     "text": [
      "Train on 15000 samples, validate on 10000 samples\n",
      "Epoch 1/20\n",
      "15000/15000 [==============================] - 5s 309us/step - loss: 0.4975 - binary_accuracy: 0.7922 - val_loss: 0.3693 - val_binary_accuracy: 0.8805\n",
      "Epoch 2/20\n",
      "15000/15000 [==============================] - 2s 161us/step - loss: 0.2932 - binary_accuracy: 0.9033 - val_loss: 0.3091 - val_binary_accuracy: 0.8821\n",
      "Epoch 3/20\n",
      "15000/15000 [==============================] - 2s 158us/step - loss: 0.2139 - binary_accuracy: 0.9305 - val_loss: 0.3001 - val_binary_accuracy: 0.8800\n",
      "Epoch 4/20\n",
      "15000/15000 [==============================] - 2s 156us/step - loss: 0.1737 - binary_accuracy: 0.9442 - val_loss: 0.2818 - val_binary_accuracy: 0.8891\n",
      "Epoch 5/20\n",
      "15000/15000 [==============================] - 2s 155us/step - loss: 0.1394 - binary_accuracy: 0.9567 - val_loss: 0.3114 - val_binary_accuracy: 0.8791\n",
      "Epoch 6/20\n",
      "15000/15000 [==============================] - 2s 154us/step - loss: 0.1168 - binary_accuracy: 0.9641 - val_loss: 0.3256 - val_binary_accuracy: 0.8796\n",
      "Epoch 7/20\n",
      "15000/15000 [==============================] - 2s 144us/step - loss: 0.0958 - binary_accuracy: 0.9720 - val_loss: 0.3287 - val_binary_accuracy: 0.8819\n",
      "Epoch 8/20\n",
      "15000/15000 [==============================] - 2s 148us/step - loss: 0.0807 - binary_accuracy: 0.9777 - val_loss: 0.3411 - val_binary_accuracy: 0.8793\n",
      "Epoch 9/20\n",
      "15000/15000 [==============================] - 2s 156us/step - loss: 0.0692 - binary_accuracy: 0.9807 - val_loss: 0.3648 - val_binary_accuracy: 0.8802\n",
      "Epoch 10/20\n",
      "15000/15000 [==============================] - 2s 162us/step - loss: 0.0541 - binary_accuracy: 0.9869 - val_loss: 0.3877 - val_binary_accuracy: 0.8754\n",
      "Epoch 11/20\n",
      "15000/15000 [==============================] - 2s 148us/step - loss: 0.0438 - binary_accuracy: 0.9893 - val_loss: 0.4154 - val_binary_accuracy: 0.8732\n",
      "Epoch 12/20\n",
      "15000/15000 [==============================] - 2s 146us/step - loss: 0.0354 - binary_accuracy: 0.9925 - val_loss: 0.4470 - val_binary_accuracy: 0.8731\n",
      "Epoch 13/20\n",
      "15000/15000 [==============================] - 2s 151us/step - loss: 0.0309 - binary_accuracy: 0.9931 - val_loss: 0.4779 - val_binary_accuracy: 0.8707\n",
      "Epoch 14/20\n",
      "15000/15000 [==============================] - 2s 154us/step - loss: 0.0226 - binary_accuracy: 0.9961 - val_loss: 0.5138 - val_binary_accuracy: 0.8693\n",
      "Epoch 15/20\n",
      "15000/15000 [==============================] - 2s 144us/step - loss: 0.0204 - binary_accuracy: 0.9961 - val_loss: 0.5467 - val_binary_accuracy: 0.8671\n",
      "Epoch 16/20\n",
      "15000/15000 [==============================] - 2s 151us/step - loss: 0.0156 - binary_accuracy: 0.9975 - val_loss: 0.5800 - val_binary_accuracy: 0.8650\n",
      "Epoch 17/20\n",
      "15000/15000 [==============================] - 2s 154us/step - loss: 0.0095 - binary_accuracy: 0.9993 - val_loss: 0.6153 - val_binary_accuracy: 0.8657\n",
      "Epoch 18/20\n",
      "15000/15000 [==============================] - 2s 155us/step - loss: 0.0103 - binary_accuracy: 0.9987 - val_loss: 0.6845 - val_binary_accuracy: 0.8632\n",
      "Epoch 19/20\n",
      "15000/15000 [==============================] - 2s 145us/step - loss: 0.0057 - binary_accuracy: 0.9996 - val_loss: 0.6779 - val_binary_accuracy: 0.8655\n",
      "Epoch 20/20\n",
      "15000/15000 [==============================] - 2s 143us/step - loss: 0.0068 - binary_accuracy: 0.9991 - val_loss: 0.7291 - val_binary_accuracy: 0.8598\n"
     ]
    }
   ],
   "source": [
    "history = model.fit(\n",
    "    partial_x_train,partial_y_train,\n",
    "    epochs = 20,\n",
    "    batch_size = 512,\n",
    "    validation_data = (x_val,y_val)\n",
    ")"
   ]
  },
  {
   "cell_type": "code",
   "execution_count": 82,
   "metadata": {
    "collapsed": true
   },
   "outputs": [],
   "source": [
    "history_dict = history.history\n",
    "loss_values = history_dict['loss']\n",
    "val_loss_values = history_dict['val_loss']\n",
    "epochs = range(1, len(loss_values)+1)"
   ]
  },
  {
   "cell_type": "code",
   "execution_count": 84,
   "metadata": {},
   "outputs": [
    {
     "data": {
      "text/plain": [
       "[<matplotlib.lines.Line2D at 0x1ddbe5290f0>]"
      ]
     },
     "execution_count": 84,
     "metadata": {},
     "output_type": "execute_result"
    },
    {
     "data": {
      "image/png": "[encoded data removed]",
      "text/plain": [
       "<matplotlib.figure.Figure at 0x1ddbe529080>"
      ]
     },
     "metadata": {},
     "output_type": "display_data"
    }
   ],
   "source": [
    "plt.plot(epochs, loss_values,)\n",
    "plt.plot(epochs, val_loss_values,)"
   ]
  },
  {
   "cell_type": "code",
   "execution_count": 91,
   "metadata": {},
   "outputs": [
    {
     "name": "stdout",
     "output_type": "stream",
     "text": [
      "val_loss\n",
      "val_binary_accuracy\n",
      "loss\n",
      "binary_accuracy\n"
     ]
    }
   ],
   "source": [
    "for k in history.history:\n",
    "    print(k)"
   ]
  },
  {
   "cell_type": "code",
   "execution_count": 95,
   "metadata": {},
   "outputs": [
    {
     "data": {
      "text/plain": [
       "[<matplotlib.lines.Line2D at 0x1ddbea0de10>]"
      ]
     },
     "execution_count": 95,
     "metadata": {},
     "output_type": "execute_result"
    },
    {
     "data": {
      "image/png": "[encoded data removed]",
      "text/plain": [
       "<matplotlib.figure.Figure at 0x1ddbea464e0>"
      ]
     },
     "metadata": {},
     "output_type": "display_data"
    }
   ],
   "source": [
    "plt.clf()\n",
    "history_dict = history.history\n",
    "plt.plot(epochs,  history_dict['binary_accuracy'])\n",
    "plt.plot(epochs,  history_dict['val_binary_accuracy'])"
   ]
  },
  {
   "cell_type": "markdown",
   "metadata": {},
   "source": [
    "# Test 1: Number of hidden layers"
   ]
  },
  {
   "cell_type": "code",
   "execution_count": 115,
   "metadata": {
    "scrolled": false
   },
   "outputs": [
    {
     "name": "stdout",
     "output_type": "stream",
     "text": [
      "Train on 15000 samples, validate on 10000 samples\n",
      "Epoch 1/20\n",
      "15000/15000 [==============================] - 4s 249us/step - loss: 0.5330 - binary_accuracy: 0.7724 - val_loss: 0.3772 - val_binary_accuracy: 0.8772\n",
      "Epoch 2/20\n",
      "15000/15000 [==============================] - 2s 166us/step - loss: 0.2984 - binary_accuracy: 0.9010 - val_loss: 0.2934 - val_binary_accuracy: 0.8901\n",
      "Epoch 3/20\n",
      "15000/15000 [==============================] - 2s 166us/step - loss: 0.2044 - binary_accuracy: 0.9304 - val_loss: 0.3036 - val_binary_accuracy: 0.8824\n",
      "Epoch 4/20\n",
      "15000/15000 [==============================] - 2s 162us/step - loss: 0.1629 - binary_accuracy: 0.9433 - val_loss: 0.3165 - val_binary_accuracy: 0.8827\n",
      "Epoch 5/20\n",
      "15000/15000 [==============================] - 2s 155us/step - loss: 0.1171 - binary_accuracy: 0.9627 - val_loss: 0.3755 - val_binary_accuracy: 0.8694\n",
      "Epoch 6/20\n",
      "15000/15000 [==============================] - 2s 160us/step - loss: 0.1023 - binary_accuracy: 0.9667 - val_loss: 0.4458 - val_binary_accuracy: 0.8567\n",
      "Epoch 7/20\n",
      "15000/15000 [==============================] - 2s 165us/step - loss: 0.0740 - binary_accuracy: 0.9781 - val_loss: 0.4359 - val_binary_accuracy: 0.8698\n",
      "Epoch 8/20\n",
      "15000/15000 [==============================] - 3s 167us/step - loss: 0.0640 - binary_accuracy: 0.9812 - val_loss: 0.4368 - val_binary_accuracy: 0.8734\n",
      "Epoch 9/20\n",
      "15000/15000 [==============================] - 2s 164us/step - loss: 0.0567 - binary_accuracy: 0.9829 - val_loss: 0.4662 - val_binary_accuracy: 0.8725\n",
      "Epoch 10/20\n",
      "15000/15000 [==============================] - 2s 154us/step - loss: 0.0446 - binary_accuracy: 0.9875 - val_loss: 0.4963 - val_binary_accuracy: 0.8741\n",
      "Epoch 11/20\n",
      "15000/15000 [==============================] - 2s 156us/step - loss: 0.0390 - binary_accuracy: 0.9887 - val_loss: 0.5304 - val_binary_accuracy: 0.8728\n",
      "Epoch 12/20\n",
      "15000/15000 [==============================] - 2s 161us/step - loss: 0.0228 - binary_accuracy: 0.9948 - val_loss: 0.6420 - val_binary_accuracy: 0.8588\n",
      "Epoch 13/20\n",
      "15000/15000 [==============================] - 3s 173us/step - loss: 0.0283 - binary_accuracy: 0.9914 - val_loss: 0.6021 - val_binary_accuracy: 0.8690\n",
      "Epoch 14/20\n",
      "15000/15000 [==============================] - 2s 166us/step - loss: 0.0107 - binary_accuracy: 0.9985 - val_loss: 0.8324 - val_binary_accuracy: 0.8422\n",
      "Epoch 15/20\n",
      "15000/15000 [==============================] - 2s 156us/step - loss: 0.0222 - binary_accuracy: 0.9933 - val_loss: 0.6673 - val_binary_accuracy: 0.8660\n",
      "Epoch 16/20\n",
      "15000/15000 [==============================] - 2s 155us/step - loss: 0.0256 - binary_accuracy: 0.9921 - val_loss: 0.7227 - val_binary_accuracy: 0.8655\n",
      "Epoch 17/20\n",
      "15000/15000 [==============================] - 2s 157us/step - loss: 0.0043 - binary_accuracy: 0.9995 - val_loss: 0.7403 - val_binary_accuracy: 0.8662\n",
      "Epoch 18/20\n",
      "15000/15000 [==============================] - 2s 163us/step - loss: 0.0032 - binary_accuracy: 0.9996 - val_loss: 0.8055 - val_binary_accuracy: 0.8650\n",
      "Epoch 19/20\n",
      "15000/15000 [==============================] - 2s 166us/step - loss: 0.0215 - binary_accuracy: 0.9945 - val_loss: 0.8499 - val_binary_accuracy: 0.8636\n",
      "Epoch 20/20\n",
      "15000/15000 [==============================] - 2s 160us/step - loss: 0.0016 - binary_accuracy: 0.9997 - val_loss: 0.8707 - val_binary_accuracy: 0.8633\n"
     ]
    }
   ],
   "source": [
    "model = ks.models.Sequential()\n",
    "model.add(layers.Dense(16, activation=\"relu\", input_shape=(10000,)))\n",
    "model.add(layers.Dense(16, activation=\"relu\"))\n",
    "model.add(layers.Dense(16, activation=\"relu\"))\n",
    "model.add(layers.Dense(16, activation=\"relu\"))\n",
    "model.add(layers.Dense(1, activation=\"sigmoid\"))\n",
    "\n",
    "model.compile(\n",
    "    optimizer = ks.optimizers.RMSprop(lr=0.001),\n",
    "    loss= ks.losses.binary_crossentropy,\n",
    "    metrics=[ks.metrics.binary_accuracy],\n",
    "    )\n",
    "\n",
    "\n",
    "history = model.fit(\n",
    "    partial_x_train,partial_y_train,\n",
    "    epochs = 20,\n",
    "    batch_size = 512,\n",
    "    validation_data = (x_val,y_val)\n",
    ")\n"
   ]
  },
  {
   "cell_type": "code",
   "execution_count": 116,
   "metadata": {},
   "outputs": [
    {
     "data": {
      "text/plain": [
       "Text(0.5,0.98,'Hidden layers = 3, width = 16')"
      ]
     },
     "execution_count": 116,
     "metadata": {},
     "output_type": "execute_result"
    },
    {
     "data": {
      "text/plain": [
       "<matplotlib.figure.Figure at 0x1ddc3d685c0>"
      ]
     },
     "metadata": {},
     "output_type": "display_data"
    },
    {
     "data": {
      "image/png": "[encoded data removed]",
      "text/plain": [
       "<matplotlib.figure.Figure at 0x1ddc3d682e8>"
      ]
     },
     "metadata": {},
     "output_type": "display_data"
    }
   ],
   "source": [
    "fig = plt.figure(figsize=(5,4))\n",
    "f, (ax1, ax2) = plt.subplots(1, 2, figsize=(20, 5),sharey=True)\n",
    "ax1.plot(epochs,  history_dict['loss'])\n",
    "ax1.plot(epochs,  history_dict['val_loss'])\n",
    "ax1.set_title(\"Loss - Training set vs CV set\")\n",
    "ax2.plot(epochs,  history_dict['binary_accuracy'])\n",
    "ax2.plot(epochs,  history_dict['val_binary_accuracy'])\n",
    "ax2.set_title(\"Accuracy - Training set vs CV set\")\n",
    "plt.suptitle('Hidden layers = 3, width = 16', fontsize=16)\n"
   ]
  },
  {
   "cell_type": "markdown",
   "metadata": {},
   "source": [
    "# Test 2: Number of hidden layers"
   ]
  },
  {
   "cell_type": "code",
   "execution_count": 113,
   "metadata": {},
   "outputs": [
    {
     "name": "stdout",
     "output_type": "stream",
     "text": [
      "Train on 15000 samples, validate on 10000 samples\n",
      "Epoch 1/20\n",
      "15000/15000 [==============================] - 3s 214us/step - loss: 0.5146 - binary_accuracy: 0.7805 - val_loss: 0.3675 - val_binary_accuracy: 0.8728\n",
      "Epoch 2/20\n",
      "15000/15000 [==============================] - 2s 157us/step - loss: 0.2822 - binary_accuracy: 0.9060 - val_loss: 0.2918 - val_binary_accuracy: 0.8879\n",
      "Epoch 3/20\n",
      "15000/15000 [==============================] - 2s 163us/step - loss: 0.1999 - binary_accuracy: 0.9330 - val_loss: 0.2774 - val_binary_accuracy: 0.8909\n",
      "Epoch 4/20\n",
      "15000/15000 [==============================] - 3s 175us/step - loss: 0.1556 - binary_accuracy: 0.9467 - val_loss: 0.2941 - val_binary_accuracy: 0.8856\n",
      "Epoch 5/20\n",
      "15000/15000 [==============================] - 2s 159us/step - loss: 0.1213 - binary_accuracy: 0.9609 - val_loss: 0.3192 - val_binary_accuracy: 0.8825\n",
      "Epoch 6/20\n",
      "15000/15000 [==============================] - 2s 156us/step - loss: 0.1038 - binary_accuracy: 0.9657 - val_loss: 0.3730 - val_binary_accuracy: 0.8718\n",
      "Epoch 7/20\n",
      "15000/15000 [==============================] - 2s 166us/step - loss: 0.0820 - binary_accuracy: 0.9751 - val_loss: 0.3658 - val_binary_accuracy: 0.8769\n",
      "Epoch 8/20\n",
      "15000/15000 [==============================] - 2s 158us/step - loss: 0.0644 - binary_accuracy: 0.9805 - val_loss: 0.3868 - val_binary_accuracy: 0.8784\n",
      "Epoch 9/20\n",
      "15000/15000 [==============================] - 2s 163us/step - loss: 0.0505 - binary_accuracy: 0.9871 - val_loss: 0.4229 - val_binary_accuracy: 0.8754\n",
      "Epoch 10/20\n",
      "15000/15000 [==============================] - 2s 161us/step - loss: 0.0385 - binary_accuracy: 0.9903 - val_loss: 0.4589 - val_binary_accuracy: 0.8738\n",
      "Epoch 11/20\n",
      "15000/15000 [==============================] - 2s 153us/step - loss: 0.0332 - binary_accuracy: 0.9905 - val_loss: 0.4997 - val_binary_accuracy: 0.8733\n",
      "Epoch 12/20\n",
      "15000/15000 [==============================] - 2s 154us/step - loss: 0.0184 - binary_accuracy: 0.9967 - val_loss: 0.5448 - val_binary_accuracy: 0.8715\n",
      "Epoch 13/20\n",
      "15000/15000 [==============================] - 2s 161us/step - loss: 0.0285 - binary_accuracy: 0.9915 - val_loss: 0.5864 - val_binary_accuracy: 0.8709\n",
      "Epoch 14/20\n",
      "15000/15000 [==============================] - 2s 166us/step - loss: 0.0086 - binary_accuracy: 0.9992 - val_loss: 0.6171 - val_binary_accuracy: 0.8685\n",
      "Epoch 15/20\n",
      "15000/15000 [==============================] - 2s 162us/step - loss: 0.0181 - binary_accuracy: 0.9946 - val_loss: 0.6544 - val_binary_accuracy: 0.8667\n",
      "Epoch 16/20\n",
      "15000/15000 [==============================] - 2s 157us/step - loss: 0.0045 - binary_accuracy: 0.9997 - val_loss: 0.6858 - val_binary_accuracy: 0.8665\n",
      "Epoch 17/20\n",
      "15000/15000 [==============================] - 3s 169us/step - loss: 0.0114 - binary_accuracy: 0.9971 - val_loss: 0.7188 - val_binary_accuracy: 0.8652\n",
      "Epoch 18/20\n",
      "15000/15000 [==============================] - 2s 161us/step - loss: 0.0025 - binary_accuracy: 0.9998 - val_loss: 0.7546 - val_binary_accuracy: 0.8638\n",
      "Epoch 19/20\n",
      "15000/15000 [==============================] - 2s 166us/step - loss: 0.0107 - binary_accuracy: 0.9967 - val_loss: 0.8465 - val_binary_accuracy: 0.8571\n",
      "Epoch 20/20\n",
      "15000/15000 [==============================] - 3s 167us/step - loss: 0.0014 - binary_accuracy: 1.0000 - val_loss: 0.8256 - val_binary_accuracy: 0.8631\n"
     ]
    }
   ],
   "source": [
    "model = ks.models.Sequential()\n",
    "model.add(layers.Dense(16, activation=\"relu\", input_shape=(10000,)))\n",
    "model.add(layers.Dense(64, activation=\"relu\"))\n",
    "model.add(layers.Dense(1, activation=\"sigmoid\"))\n",
    "\n",
    "model.compile(\n",
    "    optimizer = ks.optimizers.RMSprop(lr=0.001),\n",
    "    loss= ks.losses.binary_crossentropy,\n",
    "    metrics=[ks.metrics.binary_accuracy],\n",
    "    )\n",
    "\n",
    "\n",
    "history = model.fit(\n",
    "    partial_x_train,partial_y_train,\n",
    "    epochs = 20,\n",
    "    batch_size = 512,\n",
    "    validation_data = (x_val,y_val)\n",
    ")"
   ]
  },
  {
   "cell_type": "code",
   "execution_count": 114,
   "metadata": {},
   "outputs": [
    {
     "data": {
      "text/plain": [
       "Text(0.5,0.98,'Hidden layers = 1, width = 64')"
      ]
     },
     "execution_count": 114,
     "metadata": {},
     "output_type": "execute_result"
    },
    {
     "data": {
      "text/plain": [
       "<matplotlib.figure.Figure at 0x1ddc3daa710>"
      ]
     },
     "metadata": {},
     "output_type": "display_data"
    },
    {
     "data": {
      "image/png": "[encoded data removed]",
      "text/plain": [
       "<matplotlib.figure.Figure at 0x1ddc3cdbf98>"
      ]
     },
     "metadata": {},
     "output_type": "display_data"
    }
   ],
   "source": [
    "fig = plt.figure(figsize=(5,4))\n",
    "f, (ax1, ax2) = plt.subplots(1, 2, figsize=(20, 5),sharey=True)\n",
    "ax1.plot(epochs,  history_dict['loss'])\n",
    "ax1.plot(epochs,  history_dict['val_loss'])\n",
    "ax1.set_title(\"Loss - Training set vs CV set\")\n",
    "ax2.plot(epochs,  history_dict['binary_accuracy'])\n",
    "ax2.plot(epochs,  history_dict['val_binary_accuracy'])\n",
    "ax2.set_title(\"Accuracy - Training set vs CV set\")\n",
    "plt.suptitle('Hidden layers = 1, width = 64', fontsize=16)"
   ]
  },
  {
   "cell_type": "code",
   "execution_count": null,
   "metadata": {
    "collapsed": true
   },
   "outputs": [],
   "source": []
  }
 ],
 "metadata": {
  "kernelspec": {
   "display_name": "Python [default]",
   "language": "python",
   "name": "python3"
  },
  "language_info": {
   "codemirror_mode": {
    "name": "ipython",
    "version": 3
   },
   "file_extension": ".py",
   "mimetype": "text/x-python",
   "name": "python",
   "nbconvert_exporter": "python",
   "pygments_lexer": "ipython3",
   "version": "3.6.4"
  }
 },
 "nbformat": 4,
 "nbformat_minor": 2
}
