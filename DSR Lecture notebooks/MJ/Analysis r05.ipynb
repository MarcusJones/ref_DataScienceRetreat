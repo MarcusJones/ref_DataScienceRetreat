{
 "cells": [
  {
   "cell_type": "code",
   "execution_count": 1,
   "metadata": {},
   "outputs": [
    {
     "name": "stdout",
     "output_type": "stream",
     "text": [
      "Loaded modules:\n",
      "numpy                np              1.14.0\n",
      "pandas               pd              0.22.0\n",
      "sklearn              sk              0.19.1\n",
      "keras                ks              2.1.4\n",
      "\n",
      "matplotlib           mpl             2.1.2\n",
      "matplotlib.pyplot    plt             N/A\n",
      "matplotlib.image     mpimg           N/A\n",
      "seaborn              sns             0.8.1\n",
      "PIL                  PIL             5.0.0\n",
      "\n",
      "ExergyUtilities      exergy          2.0.\n",
      "\n",
      "pyspark              pyspark         2.2.1\n"
     ]
    }
   ],
   "source": [
    "print_imports()"
   ]
  },
  {
   "cell_type": "markdown",
   "metadata": {},
   "source": [
    "### Imports"
   ]
  },
  {
   "cell_type": "code",
   "execution_count": 2,
   "metadata": {},
   "outputs": [],
   "source": [
    "import os, re, logging, json\n",
    "from pprint import pprint\n",
    "from keras import backend as K"
   ]
  },
  {
   "cell_type": "code",
   "execution_count": 3,
   "metadata": {},
   "outputs": [],
   "source": [
    "mod_path = r\"/home/batman/git/ai_drive/src\"\n",
    "sys.path.append(mod_path)\n",
    "logging.debug(\"ADDED TO PATH: \".format(mod_path))"
   ]
  },
  {
   "cell_type": "code",
   "execution_count": 4,
   "metadata": {},
   "outputs": [],
   "source": [
    "import drive.analysis_offline as analysis"
   ]
  },
  {
   "cell_type": "markdown",
   "metadata": {},
   "source": [
    "### Paths"
   ]
  },
  {
   "cell_type": "code",
   "execution_count": 5,
   "metadata": {},
   "outputs": [],
   "source": [
    "this_project_path = r\"/media/batman/USB STICK\"\n",
    "project_name = r'catdog1'"
   ]
  },
  {
   "cell_type": "markdown",
   "metadata": {},
   "source": [
    "### Plotting function"
   ]
  },
  {
   "cell_type": "code",
   "execution_count": 6,
   "metadata": {},
   "outputs": [],
   "source": [
    "model_title = \"10 Epochs\"\n",
    "def plot_hist(history_dict):\n",
    "    #fig = plt.figure(figsize=(5,4))\n",
    "    #fig=plt.figure(figsize=(20, 10),facecolor='white')\n",
    "\n",
    "    #f, (ax1, ax2) = plt.subplots(1, 2, figsize=(20, 5),sharey=False,facecolor='white')\n",
    "    f, (ax1, ax2) = plt.subplots(1, 2, figsize=(20, 5),sharey=False,facecolor='0.15')\n",
    "    \n",
    "    ax1.plot(history_dict['epoch'],  history_dict['history']['loss'],label=\"Train\")\n",
    "    ax1.plot(history_dict['epoch'],  history_dict['history']['val_loss'],label=\"CV\")\n",
    "    ax1.set_title(\"Loss function development - Training set vs CV set\")\n",
    "    ax1.legend(loc='upper right')\n",
    "    ax1.set_xlabel('Epochs')\n",
    "    ax1.set_ylabel('Values')\n",
    "    \n",
    "    ax2.plot(history_dict['epoch'],  history_dict['history']['acc'],label=\"Train\")\n",
    "    ax2.plot(history_dict['epoch'],  history_dict['history']['val_acc'],label=\"CV\")\n",
    "    ax2.set_title(\"Accuracy development - Training set vs CV set\")\n",
    "    ax2.legend(loc='upper right')\n",
    "    ax2.set_xlabel('Epochs')\n",
    "    ax2.set_ylabel('Values')\n",
    "    \n",
    "    plt.suptitle(model_title, fontsize=16)\n",
    "    \n",
    "    plt.show()\n",
    "\n",
    "#plot_hist(history_dict)"
   ]
  },
  {
   "cell_type": "markdown",
   "metadata": {},
   "source": [
    "```total_params = (filter_height * filter_width * input_image_channels + 1) * number_of_filters```"
   ]
  },
  {
   "cell_type": "markdown",
   "metadata": {},
   "source": [
    "### Each loaded layer has a summary string"
   ]
  },
  {
   "cell_type": "code",
   "execution_count": 10,
   "metadata": {},
   "outputs": [],
   "source": [
    "def Conv2D(params):\n",
    "    #print(params['class_name'])\n",
    "    #pprint(params['config'])\n",
    "    kernel_dim = (params['config']['kernel_size'][0])\n",
    "    filters = (params['config']['filters'])\n",
    "    return \"{}, kernel {}, filters {}\".format(params['class_name'],kernel_dim,filters)\n",
    "\n",
    "def MaxPooling2D(params):\n",
    "    #print(params['class_name'])    \n",
    "    #pprint(params['config'])\n",
    "    pool_size = (params['config']['pool_size'][0])\n",
    "    \n",
    "    return \"{}, pool {}\".format(params['class_name'],pool_size)\n",
    "def Flatten(params):\n",
    "    #print(params['class_name'])\n",
    "    return \"{}\".format(params['class_name'])\n",
    "\n",
    "def Dropout(params):\n",
    "    #print(params['class_name'])\n",
    "    #pprint(params['config'])\n",
    "    drp_rate = (params['config']['rate'])\n",
    "    return \"{}, dropout {}\".format(params['class_name'],drp_rate)\n",
    "    \n",
    "    \n",
    "    #raise\n",
    "def Dense(params):\n",
    "    #print(params['class_name'])\n",
    "    return \"{}\".format(params['class_name'])\n",
    "\n",
    "layer_funcs = {\n",
    "        'Conv2D':Conv2D,\n",
    "        'MaxPooling2D':MaxPooling2D,\n",
    "        'Flatten':Flatten,\n",
    "        'Dropout':Dropout,\n",
    "        'Dense':Dense,\n",
    "}"
   ]
  },
  {
   "cell_type": "markdown",
   "metadata": {},
   "source": [
    "### Main"
   ]
  },
  {
   "cell_type": "code",
   "execution_count": 11,
   "metadata": {},
   "outputs": [],
   "source": [
    "def count_params(model):\n",
    "    trainable_count = int(\n",
    "        np.sum([K.count_params(p) for p in set(model.trainable_weights)]))\n",
    "    non_trainable_count = int(\n",
    "        np.sum([K.count_params(p) for p in set(model.non_trainable_weights)]))\n",
    "    return {'Total':trainable_count + non_trainable_count,'Trainable':trainable_count,'Non-trainable':non_trainable_count}\n",
    "    #print('Total params: {:,}'.format(trainable_count + non_trainable_count))\n",
    "    #print('Trainable params: {:,}'.format(trainable_count))\n",
    "    #print('Non-trainable params: {:,}'.format(non_trainable_count))"
   ]
  },
  {
   "cell_type": "code",
   "execution_count": 17,
   "metadata": {},
   "outputs": [
    {
     "name": "stdout",
     "output_type": "stream",
     "text": [
      "root  - 10  - <ipython-input-17-4579f88942c5>  <module>                      : **** RUN run078 ****\n",
      "root  - 10  - analysis_offline      get_weights                   : Found 25 weights files, total 660 MB = 26.4 MB per file\n",
      "{'Total': 3453121, 'Trainable': 3453121, 'Non-trainable': 0}\n",
      "{'epoch': 50, 'fname': 'weights-epoch50-0.91.hdf5', 'path': '/media/batman/USB STICK/catdog1/run078/weights-epoch50-0.91.hdf5', 'size': 26.384925842285156}\n",
      "0 Conv2D, kernel 3, filters 32\n",
      "1 MaxPooling2D, pool 2\n",
      "2 Conv2D, kernel 3, filters 64\n",
      "3 MaxPooling2D, pool 2\n",
      "4 Conv2D, kernel 3, filters 128\n",
      "5 MaxPooling2D, pool 2\n",
      "6 Conv2D, kernel 3, filters 128\n",
      "7 MaxPooling2D, pool 2\n",
      "8 Flatten\n",
      "9 Dropout, dropout 0.5\n",
      "10 Dense\n",
      "11 Dense\n",
      "/media/batman/USB STICK/catdog1/run078/history run078.txt\n",
      "Epochs 50\n",
      "Steps 400.0\n"
     ]
    },
    {
     "ename": "RuntimeError",
     "evalue": "No active exception to reraise",
     "output_type": "error",
     "traceback": [
      "\u001b[0;31m---------------------------------------------------------------------------\u001b[0m",
      "\u001b[0;31mRuntimeError\u001b[0m                              Traceback (most recent call last)",
      "\u001b[0;32m<ipython-input-17-4579f88942c5>\u001b[0m in \u001b[0;36m<module>\u001b[0;34m()\u001b[0m\n\u001b[1;32m     38\u001b[0m     \u001b[0;31m#plot_hist(hist_dict)\u001b[0m\u001b[0;34m\u001b[0m\u001b[0;34m\u001b[0m\u001b[0m\n\u001b[1;32m     39\u001b[0m     \u001b[0;32mdel\u001b[0m \u001b[0mmodel\u001b[0m\u001b[0;34m\u001b[0m\u001b[0m\n\u001b[0;32m---> 40\u001b[0;31m     \u001b[0;32mraise\u001b[0m\u001b[0;34m\u001b[0m\u001b[0m\n\u001b[0m",
      "\u001b[0;31mRuntimeError\u001b[0m: No active exception to reraise"
     ]
    }
   ],
   "source": [
    "root_path = os.path.join(this_project_path,project_name)\n",
    "run_folders = [dir for dir in os.listdir(root_path) if re.match('run',dir)]\n",
    "run_folders.sort()\n",
    "\n",
    "# Loop run folders\n",
    "for rfolder in run_folders:\n",
    "    this_run_path = os.path.join(root_path,rfolder)\n",
    "    logging.debug('**** RUN {} ****'.format(rfolder))\n",
    "    \n",
    "    ###### Weights ######\n",
    "    wts = analysis.get_weights(this_run_path)\n",
    "    if wts: best_wt = wts[-1] # BEST weight (last weight)\n",
    "\n",
    "    ###### Architecture ######\n",
    "    model = analysis.load_model(this_run_path)\n",
    "    arch_dict = analysis.read_model_json(this_run_path)\n",
    "    \n",
    "    #model.summary()\n",
    "    print(count_params(model))\n",
    "    \n",
    "    ##### Reload weights #####\n",
    "    if wts:\n",
    "        print(best_wt)\n",
    "        model.load_weights(best_wt['path'])\n",
    "    #raise\n",
    "    ###### Loop layers ######\n",
    "    for i,layer in enumerate(arch_dict['config']):\n",
    "        layer_str = layer_funcs[layer['class_name']](layer)\n",
    "        print(i,layer_str)\n",
    "\n",
    "    ###### History ######\n",
    "    path_hist = analysis.get_history(this_run_path)    \n",
    "    with open(path_hist) as hist_file:\n",
    "        hist_dict = json.load(hist_file)\n",
    "    print(\"Epochs\",hist_dict['params']['epochs'])\n",
    "    print(\"Steps\",hist_dict['params']['steps'])\n",
    "    \n",
    "    #plot_hist(hist_dict)\n",
    "    del model\n",
    "    raise\n"
   ]
  },
  {
   "cell_type": "code",
   "execution_count": 18,
   "metadata": {},
   "outputs": [
    {
     "ename": "NameError",
     "evalue": "name 'model' is not defined",
     "output_type": "error",
     "traceback": [
      "\u001b[0;31m---------------------------------------------------------------------------\u001b[0m",
      "\u001b[0;31mNameError\u001b[0m                                 Traceback (most recent call last)",
      "\u001b[0;32m<ipython-input-18-1f8a688cae5d>\u001b[0m in \u001b[0;36m<module>\u001b[0;34m()\u001b[0m\n\u001b[0;32m----> 1\u001b[0;31m \u001b[0mmodel\u001b[0m\u001b[0;34m\u001b[0m\u001b[0m\n\u001b[0m",
      "\u001b[0;31mNameError\u001b[0m: name 'model' is not defined"
     ]
    }
   ],
   "source": []
  },
  {
   "cell_type": "code",
   "execution_count": null,
   "metadata": {},
   "outputs": [],
   "source": []
  }
 ],
 "metadata": {
  "kernelspec": {
   "display_name": "Python [default]",
   "language": "python",
   "name": "python3"
  },
  "language_info": {
   "codemirror_mode": {
    "name": "ipython",
    "version": 3
   },
   "file_extension": ".py",
   "mimetype": "text/x-python",
   "name": "python",
   "nbconvert_exporter": "python",
   "pygments_lexer": "ipython3",
   "version": "3.6.4"
  }
 },
 "nbformat": 4,
 "nbformat_minor": 2
}
