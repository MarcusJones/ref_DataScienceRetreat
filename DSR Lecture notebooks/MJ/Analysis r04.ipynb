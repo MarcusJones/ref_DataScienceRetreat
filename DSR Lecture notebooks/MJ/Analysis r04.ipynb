{
 "cells": [
  {
   "cell_type": "code",
   "execution_count": 1,
   "metadata": {},
   "outputs": [
    {
     "name": "stdout",
     "output_type": "stream",
     "text": [
      "Loaded modules:\n",
      "numpy                np              1.14.0\n",
      "pandas               pd              0.22.0\n",
      "sklearn              sk              0.19.1\n",
      "keras                ks              2.1.4\n",
      "\n",
      "matplotlib           mpl             2.1.2\n",
      "matplotlib.pyplot    plt             N/A\n",
      "matplotlib.image     mpimg           N/A\n",
      "seaborn              sns             0.8.1\n",
      "PIL                  PIL             5.0.0\n",
      "\n",
      "ExergyUtilities      exergy          2.0.\n",
      "\n",
      "pyspark              pyspark         2.2.1\n"
     ]
    }
   ],
   "source": [
    "print_imports()"
   ]
  },
  {
   "cell_type": "code",
   "execution_count": 2,
   "metadata": {},
   "outputs": [],
   "source": [
    "import os, re, logging, json\n",
    "from pprint import pprint"
   ]
  },
  {
   "cell_type": "code",
   "execution_count": 3,
   "metadata": {},
   "outputs": [],
   "source": [
    "mod_path = r\"/home/batman/git/ai_drive/src\"\n",
    "sys.path.append(mod_path)\n",
    "logging.debug(\"ADDED TO PATH: \".format(mod_path))"
   ]
  },
  {
   "cell_type": "code",
   "execution_count": 4,
   "metadata": {},
   "outputs": [],
   "source": [
    "import drive.analysis_offline as analysis"
   ]
  },
  {
   "cell_type": "code",
   "execution_count": 5,
   "metadata": {},
   "outputs": [],
   "source": [
    "this_project_path = r\"/media/batman/USB STICK\"\n",
    "project_name = r'catdog1'"
   ]
  },
  {
   "cell_type": "code",
   "execution_count": 6,
   "metadata": {},
   "outputs": [],
   "source": [
    "model_title = \"10 Epochs\"\n",
    "def plot_hist(history_dict):\n",
    "    #fig = plt.figure(figsize=(5,4))\n",
    "    #fig=plt.figure(figsize=(20, 10),facecolor='white')\n",
    "\n",
    "    #f, (ax1, ax2) = plt.subplots(1, 2, figsize=(20, 5),sharey=False,facecolor='white')\n",
    "    f, (ax1, ax2) = plt.subplots(1, 2, figsize=(20, 5),sharey=False,facecolor='0.15')\n",
    "    \n",
    "    ax1.plot(history_dict['epoch'],  history_dict['history']['loss'],label=\"Train\")\n",
    "    ax1.plot(history_dict['epoch'],  history_dict['history']['val_loss'],label=\"CV\")\n",
    "    ax1.set_title(\"Loss function development - Training set vs CV set\")\n",
    "    ax1.legend(loc='upper right')\n",
    "    ax1.set_xlabel('Epochs')\n",
    "    ax1.set_ylabel('Values')\n",
    "    \n",
    "    ax2.plot(history_dict['epoch'],  history_dict['history']['acc'],label=\"Train\")\n",
    "    ax2.plot(history_dict['epoch'],  history_dict['history']['val_acc'],label=\"CV\")\n",
    "    ax2.set_title(\"Accuracy development - Training set vs CV set\")\n",
    "    ax2.legend(loc='upper right')\n",
    "    ax2.set_xlabel('Epochs')\n",
    "    ax2.set_ylabel('Values')\n",
    "    \n",
    "    plt.suptitle(model_title, fontsize=16)\n",
    "    \n",
    "    plt.show()\n",
    "\n",
    "#plot_hist(history_dict)"
   ]
  },
  {
   "cell_type": "markdown",
   "metadata": {},
   "source": [
    "```total_params = (filter_height * filter_width * input_image_channels + 1) * number_of_filters```"
   ]
  },
  {
   "cell_type": "code",
   "execution_count": 7,
   "metadata": {},
   "outputs": [],
   "source": [
    "def get_last_weight(wts):\n",
    "    print(wts)"
   ]
  },
  {
   "cell_type": "code",
   "execution_count": 8,
   "metadata": {},
   "outputs": [],
   "source": [
    "def Conv2D(params):\n",
    "    #print(params['class_name'])\n",
    "    #pprint(params['config'])\n",
    "    kernel_dim = (params['config']['kernel_size'][0])\n",
    "    filters = (params['config']['filters'])\n",
    "    return \"{}, kernel {}, filters {}\".format(params['class_name'],kernel_dim,filters)\n",
    "\n",
    "def MaxPooling2D(params):\n",
    "    #print(params['class_name'])    \n",
    "    #pprint(params['config'])\n",
    "    pool_size = (params['config']['pool_size'][0])\n",
    "    \n",
    "    return \"{}, pool {}\".format(params['class_name'],pool_size)\n",
    "def Flatten(params):\n",
    "    #print(params['class_name'])\n",
    "    return \"{}\".format(params['class_name'])\n",
    "\n",
    "def Dropout(params):\n",
    "    #print(params['class_name'])\n",
    "    #pprint(params['config'])\n",
    "    drp_rate = (params['config']['rate'])\n",
    "    return \"{}, dropout {}\".format(params['class_name'],drp_rate)\n",
    "    \n",
    "    \n",
    "    #raise\n",
    "def Dense(params):\n",
    "    #print(params['class_name'])\n",
    "    return \"{}\".format(params['class_name'])\n",
    "\n",
    "layer_funcs = {\n",
    "        'Conv2D':Conv2D,\n",
    "        'MaxPooling2D':MaxPooling2D,\n",
    "        'Flatten':Flatten,\n",
    "        'Dropout':Dropout,\n",
    "        'Dense':Dense,\n",
    "}"
   ]
  },
  {
   "cell_type": "code",
   "execution_count": null,
   "metadata": {},
   "outputs": [],
   "source": []
  },
  {
   "cell_type": "code",
   "execution_count": 17,
   "metadata": {},
   "outputs": [
    {
     "name": "stdout",
     "output_type": "stream",
     "text": [
      "root  - 10  - <ipython-input-17-538af1c64b5b>  <module>                      : RUN run078 ****\n",
      "root  - 10  - analysis_offline      get_weights                   : Found 25 weights files, total 660 MB = 26.4 MB per file\n",
      "weights-epoch03-0.80.hdf5\n",
      "['03']\n",
      "weights-epoch15-0.88.hdf5\n",
      "['15']\n",
      "weights-epoch48-0.91.hdf5\n",
      "['48']\n",
      "weights-epoch32-0.90.hdf5\n",
      "['32']\n",
      "weights-epoch19-0.89.hdf5\n",
      "['19']\n",
      "weights-epoch17-0.89.hdf5\n",
      "['17']\n",
      "weights-epoch41-0.90.hdf5\n",
      "['41']\n",
      "weights-epoch40-0.90.hdf5\n",
      "['40']\n",
      "weights-epoch26-0.90.hdf5\n",
      "['26']\n",
      "weights-epoch04-0.80.hdf5\n",
      "['04']\n",
      "weights-epoch08-0.85.hdf5\n",
      "['08']\n",
      "weights-epoch01-0.71.hdf5\n",
      "['01']\n",
      "weights-epoch24-0.89.hdf5\n",
      "['24']\n",
      "weights-epoch02-0.77.hdf5\n",
      "['02']\n",
      "weights-epoch10-0.86.hdf5\n",
      "['10']\n",
      "weights-epoch23-0.89.hdf5\n",
      "['23']\n",
      "weights-epoch31-0.90.hdf5\n",
      "['31']\n",
      "weights-epoch06-0.83.hdf5\n",
      "['06']\n",
      "weights-epoch14-0.87.hdf5\n",
      "['14']\n",
      "weights-epoch05-0.82.hdf5\n",
      "['05']\n",
      "weights-epoch09-0.86.hdf5\n",
      "['09']\n",
      "weights-epoch46-0.90.hdf5\n",
      "['46']\n",
      "weights-epoch07-0.85.hdf5\n",
      "['07']\n",
      "weights-epoch50-0.91.hdf5\n",
      "['50']\n",
      "weights-epoch36-0.90.hdf5\n",
      "['36']\n"
     ]
    },
    {
     "ename": "RuntimeError",
     "evalue": "No active exception to reraise",
     "output_type": "error",
     "traceback": [
      "\u001b[0;31m---------------------------------------------------------------------------\u001b[0m",
      "\u001b[0;31mRuntimeError\u001b[0m                              Traceback (most recent call last)",
      "\u001b[0;32m<ipython-input-17-538af1c64b5b>\u001b[0m in \u001b[0;36m<module>\u001b[0;34m()\u001b[0m\n\u001b[1;32m     16\u001b[0m         \u001b[0mepoch_num\u001b[0m \u001b[0;34m=\u001b[0m \u001b[0mre\u001b[0m\u001b[0;34m.\u001b[0m\u001b[0mfindall\u001b[0m\u001b[0;34m(\u001b[0m\u001b[0;34mr'\\d+'\u001b[0m\u001b[0;34m,\u001b[0m \u001b[0mepoch_num\u001b[0m\u001b[0;34m[\u001b[0m\u001b[0;36m0\u001b[0m\u001b[0;34m]\u001b[0m\u001b[0;34m)\u001b[0m\u001b[0;34m\u001b[0m\u001b[0m\n\u001b[1;32m     17\u001b[0m         \u001b[0mprint\u001b[0m\u001b[0;34m(\u001b[0m\u001b[0mepoch_num\u001b[0m\u001b[0;34m)\u001b[0m\u001b[0;34m\u001b[0m\u001b[0m\n\u001b[0;32m---> 18\u001b[0;31m     \u001b[0;32mraise\u001b[0m\u001b[0;34m\u001b[0m\u001b[0m\n\u001b[0m\u001b[1;32m     19\u001b[0m     \u001b[0mget_last_weight\u001b[0m\u001b[0;34m(\u001b[0m\u001b[0mwts\u001b[0m\u001b[0;34m)\u001b[0m\u001b[0;34m\u001b[0m\u001b[0m\n\u001b[1;32m     20\u001b[0m \u001b[0;34m\u001b[0m\u001b[0m\n",
      "\u001b[0;31mRuntimeError\u001b[0m: No active exception to reraise"
     ]
    }
   ],
   "source": [
    "root_path = os.path.join(this_project_path,project_name)\n",
    "run_folders = [dir for dir in os.listdir(root_path) if re.match('run',dir)]\n",
    "run_folders.sort()\n",
    "\n",
    "# Loop run folders\n",
    "for rfolder in run_folders:\n",
    "    this_run_path = os.path.join(root_path,rfolder)\n",
    "    logging.debug('RUN {} ****'.format(rfolder))\n",
    "    \n",
    "    ###### Weights ######\n",
    "    wts = analysis.get_weights(this_run_path)\n",
    "    for wt in wts:\n",
    "        wt_name = wt[0][0]\n",
    "        print(wt_name)\n",
    "        epoch_num = re.findall(r'epoch\\d+', wt_name)\n",
    "        epoch_num = re.findall(r'\\d+', epoch_num[0])\n",
    "        print(epoch_num)\n",
    "    raise\n",
    "    get_last_weight(wts)\n",
    "    \n",
    "    ###### Architecture ######\n",
    "    path_arch = analysis.get_architecture(this_run_path)\n",
    "    from keras.models import model_from_json    \n",
    "    with open(path_arch,'r') as arch_file:\n",
    "        arch_dict = json.load(arch_file)\n",
    "    with open(path_arch,'r') as arch_file:\n",
    "        loaded_model_json = arch_file.read()\n",
    "        model = model_from_json(loaded_model_json)\n",
    "    #model.summary()\n",
    "    \n",
    "    # Loop layers\n",
    "    for i,layer in enumerate(arch_dict['config']):\n",
    "        #this_layer = arch_dict['config'][k]\n",
    "        #pprint(layer)\n",
    "        #print(layer['class_name'])\n",
    "        layer_str = layer_funcs[layer['class_name']](layer)\n",
    "        print(i,layer_str)\n",
    "\n",
    "        #raise\n",
    "    ###### History ######\n",
    "    path_hist = analysis.get_history(this_run_path)    \n",
    "    #print('hist',path_hist)\n",
    "    with open(path_hist) as hist_file:\n",
    "        hist_dict = json.load(hist_file)\n",
    "    #print(hist_dict)\n",
    "    print(\"Epochs\",hist_dict['params']['epochs'])\n",
    "    print(\"Steps\",hist_dict['params']['steps'])\n",
    "    \n",
    "    plot_hist(hist_dict)\n",
    "    #raise\n"
   ]
  },
  {
   "cell_type": "code",
   "execution_count": null,
   "metadata": {},
   "outputs": [],
   "source": [
    "root_path = os.path.join(this_project_path,project_name)\n",
    "run_folders = [dir for dir in os.listdir(root_path) if re.match('run',dir)]\n",
    "run_folders.sort()\n",
    "for rfolder in run_folders:\n",
    "    this_run_path = os.path.join(root_path,rfolder)\n",
    "    print('RUN ****', rfolder)\n",
    "\n",
    "    ###### Weights ######\n",
    "    analysis.get_weights(this_run_path)    \n",
    "    \n",
    "    ###### Architecture ######\n",
    "    path_arch = analysis.get_architecture(this_run_path)\n",
    "    print('arch',arch)\n",
    "    from keras.models import model_from_json    \n",
    "    with open(path_arch,'r') as arch_file:\n",
    "        arch_dict = json.load(arch_file)\n",
    "    with open(path_arch,'r') as arch_file:\n",
    "        loaded_model_json = arch_file.read()\n",
    "        model = model_from_json(loaded_model_json)\n",
    "    model.summary\n",
    "    #print(arch_dict)\n",
    "    #json_file = open('model.json', 'r')\n",
    "    #loaded_model_json = json_file.read()\n",
    "    #json_file.close()\n",
    "    #loaded_model = model_from_json(loaded_model_json)\n",
    "    \n",
    "    raise\n",
    "    for layer in arch_dict['config']:\n",
    "        #this_layer = arch_dict['config'][k]\n",
    "        pprint(layer)\n",
    "        #print(layer['class_name'])\n",
    "        layer_str = layer_funcs[layer['class_name']](layer)\n",
    "        print(layer_str)\n",
    "\n",
    "    raise\n",
    "    ###### History ######\n",
    "    path_hist = analysis.get_history(this_run_path)    \n",
    "    #print('hist',path_hist)\n",
    "    with open(path_hist) as hist_file:\n",
    "        hist_dict = json.load(hist_file)\n",
    "    #print(hist_dict)\n",
    "    print(\"Epochs\",hist_dict['params']['epochs'])\n",
    "    print(\"Steps\",hist_dict['params']['steps'])\n",
    "    \n",
    "    plot_hist(hist_dict)\n",
    "    #raise\n"
   ]
  },
  {
   "cell_type": "code",
   "execution_count": null,
   "metadata": {},
   "outputs": [],
   "source": []
  }
 ],
 "metadata": {
  "kernelspec": {
   "display_name": "Python [default]",
   "language": "python",
   "name": "python3"
  },
  "language_info": {
   "codemirror_mode": {
    "name": "ipython",
    "version": 3
   },
   "file_extension": ".py",
   "mimetype": "text/x-python",
   "name": "python",
   "nbconvert_exporter": "python",
   "pygments_lexer": "ipython3",
   "version": "3.6.4"
  }
 },
 "nbformat": 4,
 "nbformat_minor": 2
}
