{
 "cells": [
  {
   "cell_type": "markdown",
   "metadata": {},
   "source": [
    "geometric mean can outperform a pl"
   ]
  },
  {
   "cell_type": "code",
   "execution_count": 1,
   "metadata": {},
   "outputs": [
    {
     "name": "stdout",
     "output_type": "stream",
     "text": [
      "Saved: predictions_ensemble_1511126991.csv\n"
     ]
    }
   ],
   "source": [
    "import time\n",
    "import numpy as np\n",
    "import pandas as pd\n",
    "\n",
    "paths = [\n",
    "    './predictions_1511827863_691674199882.csv',\n",
    "    './predictions_1511828184_691645119602.csv']\n",
    "t_id = []\n",
    "probs = []\n",
    "\n",
    "for path in paths:\n",
    "    \n",
    "    df = pd.read_csv(path)\n",
    "    t_id = df['id'].values\n",
    "    probs.append(df['probability'].values)\n",
    "\n",
    "probability = np.power(np.prod(probs, axis=0), 1.0 / len(paths))\n",
    "assert(len(probability) == len(t_id))\n",
    "\n",
    "df_pred = pd.DataFrame({\n",
    "    'id': t_id,\n",
    "    'probability': probability,\n",
    "})\n",
    "csv_path = 'predictions_ensemble_{}.csv'.format(int(time.time()))\n",
    "df_pred.to_csv(csv_path, columns=('id', 'probability'), index=None)\n",
    "print('Saved: {}'.format(csv_path))"
   ]
  },
  {
   "cell_type": "code",
   "execution_count": 2,
   "metadata": {
    "collapsed": true
   },
   "outputs": [],
   "source": [
    "pd = pd.read_csv(\"predictions_ensemble_1511126991.csv\",header=0)"
   ]
  },
  {
   "cell_type": "code",
   "execution_count": 3,
   "metadata": {},
   "outputs": [
    {
     "data": {
      "text/html": [
       "<div>\n",
       "<table border=\"1\" class=\"dataframe\">\n",
       "  <thead>\n",
       "    <tr style=\"text-align: right;\">\n",
       "      <th></th>\n",
       "      <th>id</th>\n",
       "      <th>probability</th>\n",
       "    </tr>\n",
       "  </thead>\n",
       "  <tbody>\n",
       "    <tr>\n",
       "      <th>0</th>\n",
       "      <td>n00e1d5ebcf3d4d5</td>\n",
       "      <td>0.526230</td>\n",
       "    </tr>\n",
       "    <tr>\n",
       "      <th>1</th>\n",
       "      <td>nb0b4cce48b78471</td>\n",
       "      <td>0.537037</td>\n",
       "    </tr>\n",
       "    <tr>\n",
       "      <th>2</th>\n",
       "      <td>n7aae3361b330439</td>\n",
       "      <td>0.510227</td>\n",
       "    </tr>\n",
       "    <tr>\n",
       "      <th>3</th>\n",
       "      <td>neca221c2e9374fe</td>\n",
       "      <td>0.514078</td>\n",
       "    </tr>\n",
       "    <tr>\n",
       "      <th>4</th>\n",
       "      <td>nf7f52c87d740439</td>\n",
       "      <td>0.496751</td>\n",
       "    </tr>\n",
       "  </tbody>\n",
       "</table>\n",
       "</div>"
      ],
      "text/plain": [
       "                 id  probability\n",
       "0  n00e1d5ebcf3d4d5     0.526230\n",
       "1  nb0b4cce48b78471     0.537037\n",
       "2  n7aae3361b330439     0.510227\n",
       "3  neca221c2e9374fe     0.514078\n",
       "4  nf7f52c87d740439     0.496751"
      ]
     },
     "execution_count": 3,
     "metadata": {},
     "output_type": "execute_result"
    }
   ],
   "source": [
    "pd.head()"
   ]
  }
 ],
 "metadata": {
  "kernelspec": {
   "display_name": "Python 3",
   "language": "python",
   "name": "python3"
  },
  "language_info": {
   "codemirror_mode": {
    "name": "ipython",
    "version": 3
   },
   "file_extension": ".py",
   "mimetype": "text/x-python",
   "name": "python",
   "nbconvert_exporter": "python",
   "pygments_lexer": "ipython3",
   "version": "3.6.3"
  }
 },
 "nbformat": 4,
 "nbformat_minor": 2
}
