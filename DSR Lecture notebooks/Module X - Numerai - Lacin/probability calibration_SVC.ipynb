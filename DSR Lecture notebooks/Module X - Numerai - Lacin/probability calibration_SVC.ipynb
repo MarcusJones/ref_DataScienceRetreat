{
 "cells": [
  {
   "cell_type": "markdown",
   "metadata": {},
   "source": [
    "# probability calibration_SVC"
   ]
  },
  {
   "cell_type": "markdown",
   "metadata": {},
   "source": []
  },
  {
   "cell_type": "code",
   "execution_count": 1,
   "metadata": {},
   "outputs": [],
   "source": [
    "#Since the competitors are expected to predict probabilities, focusing to specific models to calculate the probability better.\n",
    "#The plot at below if a line fits similarly with the empirical line with black dashes \n",
    "#then it means the model calculates the probability better, \n",
    "#namely it is well calibrated for probability prediction. \n",
    "#The plot is from sklearn and sklearn has a built in classifier for probability calibration. \n",
    "#The plot below shows the performance of 3 ML models, SVC, LR and Naive Bayes. \n",
    "#You can pick 3 different models from here. Namely isotonic + sigmoid for SVC and LR. "
   ]
  },
  {
   "cell_type": "code",
   "execution_count": 2,
   "metadata": {
    "collapsed": true
   },
   "outputs": [],
   "source": [
    "import matplotlib.pyplot as plt\n",
    "import numpy as np\n",
    "from time import time\n",
    "from sklearn import svm, pipeline\n",
    "from sklearn.kernel_approximation import (RBFSampler,Nystroem)\n",
    "from sklearn.decomposition import PCA\n",
    "import pandas as pd\n",
    "from sklearn.calibration import CalibratedClassifierCV\n",
    "from sklearn.model_selection import GroupKFold, StratifiedKFold, train_test_split, KFold\n",
    "from sklearn.metrics import log_loss"
   ]
  },
  {
   "cell_type": "code",
   "execution_count": 5,
   "metadata": {
    "collapsed": true
   },
   "outputs": [],
   "source": [
    "#import data\n",
    "\n",
    "datadir =\"../../Notebooks/24March18/numerai_dataset_99/\"\n",
    "df_train = pd.read_csv(datadir + \"numerai_training_data.csv\")\n",
    "df_tournament = pd.read_csv(datadir + \"numerai_tournament_data.csv\")\n",
    "df_valid = df_tournament[df_tournament['data_type'].isin(['validation'])]\n",
    "\n",
    "feature_cols = [f for f in df_train.columns if \"feature\" in f]\n",
    "target_col = df_train.columns[-1]"
   ]
  },
  {
   "cell_type": "code",
   "execution_count": 6,
   "metadata": {
    "collapsed": true
   },
   "outputs": [],
   "source": [
    "data_train = df_train[feature_cols].values\n",
    "data_test = df_valid[feature_cols].values\n",
    "df_train.era = df_train.era.factorize()[0]"
   ]
  },
  {
   "cell_type": "markdown",
   "metadata": {},
   "source": [
    "# Sampling Numerai Data set"
   ]
  },
  {
   "cell_type": "markdown",
   "metadata": {},
   "source": [
    "to create a meaningful sample data set\n",
    "data should be equally distributed both in target labels\n",
    "and training data should present each era, \n",
    "one can use pandas sample feature or sklearn traintestsplit is fine."
   ]
  },
  {
   "cell_type": "code",
   "execution_count": 74,
   "metadata": {
    "collapsed": true
   },
   "outputs": [],
   "source": [
    "df_train_s = df_train.sample(frac=0.5,random_state=5)"
   ]
  },
  {
   "cell_type": "code",
   "execution_count": 75,
   "metadata": {
    "collapsed": true
   },
   "outputs": [],
   "source": [
    "x_tr,x_te,y_tr,y_te = train_test_split(df_train, df_train.target,test_size =0.5)"
   ]
  },
  {
   "cell_type": "code",
   "execution_count": 76,
   "metadata": {},
   "outputs": [
    {
     "data": {
      "text/plain": [
       "0    98430\n",
       "1    98376\n",
       "Name: target, dtype: int64"
      ]
     },
     "execution_count": 76,
     "metadata": {},
     "output_type": "execute_result"
    }
   ],
   "source": [
    "df_train_s.target.value_counts() # almost equally distributed"
   ]
  },
  {
   "cell_type": "code",
   "execution_count": 77,
   "metadata": {},
   "outputs": [
    {
     "data": {
      "text/plain": [
       "0    98425\n",
       "1    98382\n",
       "Name: target, dtype: int64"
      ]
     },
     "execution_count": 77,
     "metadata": {},
     "output_type": "execute_result"
    }
   ],
   "source": [
    "x_te.target.value_counts() # almost equally distributed"
   ]
  },
  {
   "cell_type": "code",
   "execution_count": 78,
   "metadata": {
    "collapsed": true
   },
   "outputs": [
    {
     "data": {
      "text/plain": [
       "era     target\n",
       "era1    1          400\n",
       "        0          397\n",
       "era10   0          628\n",
       "        1          615\n",
       "era100  1          953\n",
       "        0          945\n",
       "era101  0          945\n",
       "        1          944\n",
       "era102  1         1005\n",
       "        0          984\n",
       "era103  1          927\n",
       "        0          923\n",
       "era104  0          936\n",
       "        1          930\n",
       "era105  1          966\n",
       "        0          935\n",
       "era106  0          947\n",
       "        1          913\n",
       "era107  0          944\n",
       "        1          928\n",
       "era108  1          785\n",
       "        0          755\n",
       "era109  1          912\n",
       "        0          885\n",
       "era11   1          646\n",
       "        0          594\n",
       "era110  0          940\n",
       "        1          934\n",
       "era111  0          959\n",
       "        1          932\n",
       "                  ... \n",
       "era86   1          863\n",
       "        0          847\n",
       "era87   1          914\n",
       "        0          886\n",
       "era88   1          921\n",
       "        0          897\n",
       "era89   0          917\n",
       "        1          881\n",
       "era9    0          602\n",
       "        1          593\n",
       "era90   0          949\n",
       "        1          901\n",
       "era91   0          858\n",
       "        1          851\n",
       "era92   1          872\n",
       "        0          844\n",
       "era93   1          908\n",
       "        0          890\n",
       "era94   0          912\n",
       "        1          905\n",
       "era95   1          926\n",
       "        0          889\n",
       "era96   0          834\n",
       "        1          827\n",
       "era97   1          987\n",
       "        0          952\n",
       "era98   0          972\n",
       "        1          963\n",
       "era99   0         1023\n",
       "        1          957\n",
       "Name: target, Length: 240, dtype: int64"
      ]
     },
     "execution_count": 78,
     "metadata": {},
     "output_type": "execute_result"
    }
   ],
   "source": [
    "x_te.groupby(\"era\").target.value_counts()"
   ]
  },
  {
   "cell_type": "code",
   "execution_count": 79,
   "metadata": {
    "collapsed": true
   },
   "outputs": [
    {
     "data": {
      "text/plain": [
       "era     target\n",
       "era1    1         410\n",
       "        0         398\n",
       "era10   0         639\n",
       "        1         632\n",
       "era100  1         954\n",
       "        0         921\n",
       "era101  0         971\n",
       "        1         954\n",
       "era102  1         991\n",
       "        0         972\n",
       "era103  0         952\n",
       "        1         908\n",
       "era104  0         967\n",
       "        1         933\n",
       "era105  0         982\n",
       "        1         899\n",
       "era106  0         982\n",
       "        1         936\n",
       "era107  1         945\n",
       "        0         913\n",
       "era108  0         789\n",
       "        1         765\n",
       "era109  1         914\n",
       "        0         905\n",
       "era11   0         638\n",
       "        1         598\n",
       "era110  0         965\n",
       "        1         917\n",
       "era111  0         971\n",
       "        1         950\n",
       "                 ... \n",
       "era86   1         873\n",
       "        0         834\n",
       "era87   0         931\n",
       "        1         893\n",
       "era88   0         942\n",
       "        1         879\n",
       "era89   0         941\n",
       "        1         927\n",
       "era9    0         626\n",
       "        1         606\n",
       "era90   0         905\n",
       "        1         849\n",
       "era91   0         843\n",
       "        1         840\n",
       "era92   0         879\n",
       "        1         849\n",
       "era93   0         924\n",
       "        1         923\n",
       "era94   1         949\n",
       "        0         856\n",
       "era95   1         920\n",
       "        0         874\n",
       "era96   0         798\n",
       "        1         778\n",
       "era97   1         945\n",
       "        0         944\n",
       "era98   0         958\n",
       "        1         926\n",
       "era99   1         963\n",
       "        0         937\n",
       "Name: target, Length: 240, dtype: int64"
      ]
     },
     "execution_count": 79,
     "metadata": {},
     "output_type": "execute_result"
    }
   ],
   "source": [
    "df_train_s.groupby(\"era\").target.value_counts()"
   ]
  },
  {
   "cell_type": "markdown",
   "metadata": {},
   "source": [
    "# Probability Calibration with isotonic and sigmoid method"
   ]
  },
  {
   "cell_type": "markdown",
   "metadata": {},
   "source": [
    "try which folding method results better log loss"
   ]
  },
  {
   "cell_type": "code",
   "execution_count": 8,
   "metadata": {},
   "outputs": [
    {
     "name": "stdout",
     "output_type": "stream",
     "text": [
      "Classifier: Lsvm\n",
      "\tLogLoss: 0.723624\n",
      "Classifier: sigmoid_calibrated_Lsvm_gkfcv\n",
      "\tLogLoss: 0.692757\n",
      "Classifier: sigmoid_calibrated_Lsvm_cv\n",
      "\tLogLoss: 0.692756\n",
      "Classifier: sigmoid_calibrated_Lsvm_skfcv\n",
      "\tLogLoss: 0.692844\n",
      "Classifier: isotonic_calibrated_Lsvm_gkfcv\n",
      "\tLogLoss: 0.692842\n",
      "Classifier: isotonic_calibrated_Lsvm_cv\n",
      "\tLogLoss: 0.692799\n",
      "Classifier: isotonic_calibrated_Lsvm_skfcv\n",
      "\tLogLoss: 0.692942\n"
     ]
    }
   ],
   "source": [
    "gkfcv = GroupKFold(n_splits=10)\n",
    "skfcv = StratifiedKFold(n_splits=10,random_state=27,shuffle=True)\n",
    "\n",
    "Lsvm = svm.LinearSVC(C=1e-2)\n",
    "\n",
    "sigmoid_calibrated_Lsvm_gkfcv = CalibratedClassifierCV(svm.LinearSVC(C=1e-2), \\\n",
    "                                                 cv=gkfcv.split(data_train,df_train.target,groups=df_train.era), \\\n",
    "                                                method='sigmoid')\n",
    "\n",
    "sigmoid_calibrated_Lsvm_cv = CalibratedClassifierCV(svm.LinearSVC(C=1e-2),cv=10,method='sigmoid')\n",
    "\n",
    "sigmoid_calibrated_Lsvm_skfcv = CalibratedClassifierCV(svm.LinearSVC(C=1e-2), \\\n",
    "                                                 cv=skfcv.split(data_train,df_train.target,groups=df_train.era), \\\n",
    "                                                method='sigmoid')\n",
    "\n",
    "isotonic_calibrated_Lsvm_gkfcv = CalibratedClassifierCV(svm.LinearSVC(C=1e-2), \\\n",
    "                                                 cv=gkfcv.split(data_train,df_train.target,groups=df_train.era), \\\n",
    "                                                method='isotonic')\n",
    "\n",
    "isotonic_calibrated_Lsvm_cv = CalibratedClassifierCV(svm.LinearSVC(C=1e-2),cv=10,method='isotonic')\n",
    "\n",
    "isotonic_calibrated_Lsvm_skfcv = CalibratedClassifierCV(svm.LinearSVC(C=1e-2), \\\n",
    "                                                 cv=skfcv.split(data_train,df_train.target,groups=df_train.era), \\\n",
    "                                                method='isotonic')\n",
    "\n",
    "clfs = [Lsvm,sigmoid_calibrated_Lsvm_gkfcv, sigmoid_calibrated_Lsvm_cv,sigmoid_calibrated_Lsvm_skfcv,\n",
    "         isotonic_calibrated_Lsvm_gkfcv, isotonic_calibrated_Lsvm_cv,isotonic_calibrated_Lsvm_skfcv]\n",
    "clf_names = [\"Lsvm\",\"sigmoid_calibrated_Lsvm_gkfcv\", \"sigmoid_calibrated_Lsvm_cv\",\n",
    "         \"sigmoid_calibrated_Lsvm_skfcv\", \"isotonic_calibrated_Lsvm_gkfcv\",\\\n",
    "             \"isotonic_calibrated_Lsvm_cv\",\"isotonic_calibrated_Lsvm_skfcv\"]\n",
    "i=0\n",
    "for clf in clfs:\n",
    "  \n",
    "    clf.fit(data_train,df_train.target)\n",
    "    y_pred = clf.predict(data_test)\n",
    "    if hasattr(clf, \"predict_proba\"):\n",
    "        prob_pos = clf.predict_proba(data_test)[:, 1]\n",
    "    else:  # use decision function\n",
    "        prob_pos = clf.decision_function(data_test)\n",
    "        prob_pos = (prob_pos - prob_pos.min()) / (prob_pos.max() - prob_pos.min())\n",
    "        \n",
    "    print(\"Classifier:\",clf_names[i])\n",
    "    print(\"\\tLogLoss: %1.6f\" % log_loss(df_valid.target, prob_pos))\n",
    "    i = i + 1"
   ]
  }
 ],
 "metadata": {
  "kernelspec": {
   "display_name": "Python [default]",
   "language": "python",
   "name": "python3"
  },
  "language_info": {
   "codemirror_mode": {
    "name": "ipython",
    "version": 3
   },
   "file_extension": ".py",
   "mimetype": "text/x-python",
   "name": "python",
   "nbconvert_exporter": "python",
   "pygments_lexer": "ipython3",
   "version": "3.6.4"
  }
 },
 "nbformat": 4,
 "nbformat_minor": 2
}
