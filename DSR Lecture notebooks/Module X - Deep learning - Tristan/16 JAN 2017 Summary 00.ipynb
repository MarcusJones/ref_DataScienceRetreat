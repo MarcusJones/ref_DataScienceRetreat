{
 "cells": [
  {
   "cell_type": "markdown",
   "metadata": {},
   "source": [
    "Python scientific stack:\n",
    "* Numpy\n",
    "* Pandas\n",
    "* Scipy\n",
    "* Matplotlib\n",
    "\n",
    "Machine learning modules:\n",
    "* Scikit-Learn\n",
    "* Keras (Tensorflow)"
   ]
  },
  {
   "cell_type": "markdown",
   "metadata": {},
   "source": [
    "Types of models in keras:\n",
    "   * `Sequential` class, for sequences of layers\n",
    "   * `Model` class, a functional API, used for non-sequential networks\n",
    "   \n",
    "Until now, we have used only `Sequential`. It is recommended to learn the Functional API method, as it is only slightly more complicated but more flexible. "
   ]
  },
  {
   "cell_type": "code",
   "execution_count": 1,
   "metadata": {},
   "outputs": [
    {
     "data": {
      "text/plain": [
       "keras.models.Sequential"
      ]
     },
     "execution_count": 1,
     "metadata": {},
     "output_type": "execute_result"
    }
   ],
   "source": [
    "model = ks.models.Sequential\n",
    "model"
   ]
  },
  {
   "cell_type": "markdown",
   "metadata": {},
   "source": [
    "The `Sequential` model is created by sequentially adding `layers`"
   ]
  },
  {
   "cell_type": "code",
   "execution_count": 6,
   "metadata": {
    "scrolled": true
   },
   "outputs": [
    {
     "data": {
      "text/plain": [
       "<module 'keras.layers' from 'C:\\\\anaconda3\\\\lib\\\\site-packages\\\\keras\\\\layers\\\\__init__.py'>"
      ]
     },
     "execution_count": 6,
     "metadata": {},
     "output_type": "execute_result"
    }
   ],
   "source": [
    "ks.layers"
   ]
  },
  {
   "cell_type": "code",
   "execution_count": 11,
   "metadata": {},
   "outputs": [],
   "source": [
    "ks.engine.topology\n",
    "for i in dir(ks.engine.topology.Layer):\n",
    "    #print(i)\n",
    "    pass"
   ]
  },
  {
   "cell_type": "markdown",
   "metadata": {},
   "source": [
    "# Layers\n",
    "Within the layers sub-package, there are many layers defined. The layers sub-package organizes the layers into modules. \n",
    "\n",
    "The `Layer` class is defined in the `engine` sub-package, `topology` module. Typically, for i.e. Dense layers, you specify the;\n",
    "* Number of output channels (units, neurons)\n",
    "* The Activation function\n",
    "\n",
    "** `def __init__` **\n",
    "* input_shape=None\n",
    "* batch_size=None\n",
    "* batch_input_shape=None (On input layer only\n",
    "* dtype=None\n",
    "* input_tensor=None\n",
    "* sparse=False\n",
    "* name=None\n",
    "\n",
    "## `core` module\n",
    "Basic and 'helper' layers\n",
    "1. _`Masking(Layer)` - Mask timesteps_\n",
    "1. ** `Dropout(Layer)` - Apply dropout**\n",
    "1. _`SpatialDropout1D(Droput)` / 2D / 3D - Apply dropout _\n",
    "1. _`Activation(Layer)` - Activation function _\n",
    "1. _`Reshape(Layer)` - _\n",
    "1. _`Permute(Layer)` - _\n",
    "1. ** `Flatten(Layer)` - Reshape N-dimension to a single dimension **\n",
    "1. _`RepeatVector(Layer)` - _\n",
    "1. _`Lambda(Layer)` - _\n",
    "1. ** `Dense(Layer)` - The 'basic' layer, fully connected neurons **\n",
    "1. _`ActivityRegularization(Layer)` - _\n",
    "\n",
    "## `convolutional` module\n",
    "Convolutional layers, based on the `_Conv` superclass\n",
    "1. _ Class `Conv1D(_Conv)` / 2D / 3D _\n",
    "1. ** Class `Conv2DTranspose` **\n",
    "1. _ Seperable convolutional layers, based on the `_SeperableConv(_Conv)` superclass _\n",
    "    1. _Class `SeperableConv1D`_\n",
    "    1. _Class `SeperableConv2D`_\n",
    "1. _`UpSampling1D(Layer)` / 2D / 3D_\n",
    "1. _`ZeroPadding1D(Layer)` / 2D / 3D_\n",
    "1. _`Cropping1D(Layer)` / 2D / 3D _\n",
    "\n",
    "## `pooling` module\n",
    "Pooling layers for CNN\n",
    "1. _Pooling1D(Layer) - Base class _\n",
    "    1. _ MaxPooling1D(_Pooling1D) - Take the maximum _\n",
    "    1. _ AveragePooling1D(_Pooling1D) - Take the average _\n",
    "1. **Pooling2D(Layer) - Base class **\n",
    "    1. ** MaxPooling2D(_Pooling2D) - Take the maximum **\n",
    "    1. _ AveragePooling2D(_Pooling2D) - Take the average _\n",
    "1. _Pooling3D(Layer) - Base class _\n",
    "    1. _ MaxPooling3D(_Pooling3D) - Take the maximum _\n",
    "    1. _ AveragePooling3D(_Pooling3D) - Take the average _\n",
    "1. _GlobalPooling1D(Layer) - Base class _\n",
    "    1. _Max 1/2/3D_\n",
    "    1. _Average 1/2/3D_\n",
    "\n",
    "\n",
    "## `recurrent` module\n",
    "Recurrent layers for CNN\n",
    "1. ** RNN(Layer) - Base class for recurrent layers. **\n",
    "    1. ** SimpleRNN(RNN) - Basic  **\n",
    "    1. _ GRU(RNN) - Gated Recurrent Unit - Cho et al. 2014. _\n",
    "1. _GRUCell(Layer) - Base class. _\n",
    "1. _LSTMCell(Layer) - Base class. _\n",
    "\n",
    "Utility:\n",
    "* def _generate_dropout_mask\n",
    "\n",
    "## `convolutional_recurrent` module\n",
    "\n",
    "## `advanced_activations` module\n",
    "\n",
    "## `cudnn_recurrent` module\n",
    "\n",
    "## `embeddings` module\n",
    "\n",
    "## `local` module\n",
    "\n",
    "## `merge` module\n",
    "\n",
    "## `noise` module\n",
    "\n",
    "## `normalization` module\n",
    "\n",
    "## `wrappers` module"
   ]
  },
  {
   "cell_type": "markdown",
   "metadata": {},
   "source": [
    "# Activations\n",
    "<p>Activations can either be used through an <code>Activation</code> layer, or through the <code>activation</code> argument supported by all forward layers:</p>\n",
    "    <pre><code class=\"python hljs\"><span class=\"hljs-keyword\">from</span> keras.layers <span class=\"hljs-keyword\">import</span> Activation, Dense\n",
    "\n",
    "model.add(Dense(<span class=\"hljs-number\">64</span>))\n",
    "model.add(Activation(<span class=\"hljs-string\">'tanh'</span>))\n",
    "</code></pre>\n",
    "\n",
    "<p>This is equivalent to:</p>\n",
    "    \n",
    "<pre><code class=\"python hljs\">model.add(Dense(<span class=\"hljs-number\">64</span>, activation=<span class=\"hljs-string\">'tanh'</span>))\n",
    "</code></pre>\n",
    "\n",
    "<p>You can also pass an element-wise TensorFlow/Theano/CNTK function as an activation:</p>\n",
    "\n",
    "<pre><code class=\"python hljs\"><span class=\"hljs-keyword\">from</span> keras <span class=\"hljs-keyword\">import</span> backend <span class=\"hljs-keyword\">as</span> K\n",
    "\n",
    "model.add(Dense(<span class=\"hljs-number\">64</span>, activation=K.tanh))\n",
    "model.add(Activation(K.tanh))\n",
    "</code></pre>"
   ]
  },
  {
   "cell_type": "code",
   "execution_count": null,
   "metadata": {},
   "outputs": [],
   "source": []
  },
  {
   "cell_type": "code",
   "execution_count": null,
   "metadata": {},
   "outputs": [],
   "source": []
  },
  {
   "cell_type": "code",
   "execution_count": null,
   "metadata": {},
   "outputs": [],
   "source": [
    "https://github.com/utstikkar/IntroPythonForDS"
   ]
  },
  {
   "cell_type": "code",
   "execution_count": 1,
   "metadata": {
    "scrolled": true
   },
   "outputs": [
    {
     "name": "stdout",
     "output_type": "stream",
     "text": [
      "<module 'numpy' from 'C:\\\\anaconda3\\\\lib\\\\site-packages\\\\numpy\\\\__init__.py'>\n"
     ]
    }
   ],
   "source": [
    "print(np)"
   ]
  },
  {
   "cell_type": "code",
   "execution_count": null,
   "metadata": {},
   "outputs": [],
   "source": []
  }
 ],
 "metadata": {
  "kernelspec": {
   "display_name": "Python [default]",
   "language": "python",
   "name": "python3"
  },
  "language_info": {
   "codemirror_mode": {
    "name": "ipython",
    "version": 3
   },
   "file_extension": ".py",
   "mimetype": "text/x-python",
   "name": "python",
   "nbconvert_exporter": "python",
   "pygments_lexer": "ipython3",
   "version": "3.6.4"
  }
 },
 "nbformat": 4,
 "nbformat_minor": 2
}
