{
 "cells": [
  {
   "cell_type": "markdown",
   "metadata": {},
   "source": [
    "#  Notes on code style"
   ]
  },
  {
   "cell_type": "code",
   "execution_count": 34,
   "metadata": {},
   "outputs": [],
   "source": [
    "#  note the use of a default argument in the function below\n",
    "\n",
    "def myfunc(arg, opt_arg=None):  #  no space between the equals sign in a function/class definition\n",
    "    output = arg * 3  #  space between operators here\n",
    "    return output"
   ]
  },
  {
   "cell_type": "markdown",
   "metadata": {},
   "source": [
    "#  Don't use mutable objects as default args"
   ]
  },
  {
   "cell_type": "code",
   "execution_count": 63,
   "metadata": {},
   "outputs": [
    {
     "data": {
      "text/plain": [
       "(10, [10])"
      ]
     },
     "execution_count": 63,
     "metadata": {},
     "output_type": "execute_result"
    }
   ],
   "source": [
    "def myfunc(parameter, optional_arg=[]):\n",
    "    optional_arg.append(parameter)\n",
    "    return parameter, optional_arg\n",
    "\n",
    "#  when we first call this function we get functionality as expect\n",
    "myfunc(10)"
   ]
  },
  {
   "cell_type": "code",
   "execution_count": 64,
   "metadata": {},
   "outputs": [
    {
     "data": {
      "text/plain": [
       "(20, [10, 20])"
      ]
     },
     "execution_count": 64,
     "metadata": {},
     "output_type": "execute_result"
    }
   ],
   "source": [
    "#  the issue occurs when we call this function again\n",
    "#  the append we did in the first call changed the default argument!\n",
    "myfunc(20)"
   ]
  },
  {
   "cell_type": "code",
   "execution_count": 68,
   "metadata": {},
   "outputs": [
    {
     "data": {
      "text/plain": [
       "(10, [10])"
      ]
     },
     "execution_count": 68,
     "metadata": {},
     "output_type": "execute_result"
    }
   ],
   "source": [
    "#  you can get around this by using None\n",
    "\n",
    "def myfunc(parameter, optional_arg=None):\n",
    "    if optional_arg:\n",
    "        out_list = []\n",
    "        out_list.append(parameter)\n",
    "    return parameter, out_list\n",
    "\n",
    "#  when we first call this function we get functionality as expect\n",
    "myfunc(10, 5)"
   ]
  },
  {
   "cell_type": "code",
   "execution_count": 69,
   "metadata": {},
   "outputs": [
    {
     "data": {
      "text/plain": [
       "(20, [20])"
      ]
     },
     "execution_count": 69,
     "metadata": {},
     "output_type": "execute_result"
    }
   ],
   "source": [
    "myfunc(20, 50)"
   ]
  },
  {
   "cell_type": "markdown",
   "metadata": {},
   "source": [
    "# Introduction to classes"
   ]
  },
  {
   "cell_type": "code",
   "execution_count": 35,
   "metadata": {},
   "outputs": [],
   "source": [
    "class MyClass(object):  #  capitalize class definitions\n",
    "\n",
    "    def __init__(self, parameter):  #  pass the object itself in as the first parameter\n",
    "        \"\"\"\n",
    "        The init method runs when the object is created\n",
    "        \"\"\"\n",
    "        self.parameter = parameter  #  we can add attributes to our class\n",
    "        \n",
    "    def functionality(self, other_parameter):  #  we can define functions attached to this class (a method)\n",
    "        return self.parameter * other_parameter"
   ]
  },
  {
   "cell_type": "code",
   "execution_count": 36,
   "metadata": {},
   "outputs": [
    {
     "data": {
      "text/plain": [
       "20"
      ]
     },
     "execution_count": 36,
     "metadata": {},
     "output_type": "execute_result"
    }
   ],
   "source": [
    "#  now we create an instance of our class\n",
    "model = MyClass(10)\n",
    "#  and we can access the functionality of the class\n",
    "model.functionality(2)"
   ]
  },
  {
   "cell_type": "markdown",
   "metadata": {},
   "source": [
    "#  The config dictionary - a useful paradigm for building models\n",
    "\n",
    "Often we want to setup models with different hyperparameters.  A useful strucutre I use is that of a config dictionary"
   ]
  },
  {
   "cell_type": "code",
   "execution_count": 40,
   "metadata": {},
   "outputs": [
    {
     "name": "stdout",
     "output_type": "stream",
     "text": [
      "making model convolution with 10 layers\n"
     ]
    }
   ],
   "source": [
    "#  if we have a function that accepts various arguments\n",
    "def create_model(model_name, num_layers):\n",
    "    #  here would go functionality - I include only a print statement \n",
    "    print('making model {} with {} layers'.format(model_name, num_layers))\n",
    "    \n",
    "#  below I specify the model in the usual way\n",
    "create_model('convolution', 10)"
   ]
  },
  {
   "cell_type": "code",
   "execution_count": 43,
   "metadata": {},
   "outputs": [
    {
     "name": "stdout",
     "output_type": "stream",
     "text": [
      "making model recurrent with 5 layers\n"
     ]
    }
   ],
   "source": [
    "#  but I also could just put in a dictionary\n",
    "config = {'model_name': 'recurrent', 'num_layers': 5}\n",
    "#  the ** operator unpacks the dictionary for me\n",
    "create_model(**config)"
   ]
  },
  {
   "cell_type": "code",
   "execution_count": 48,
   "metadata": {},
   "outputs": [
    {
     "name": "stdout",
     "output_type": "stream",
     "text": [
      "model_name recurrent\n",
      "num_layers 5\n"
     ]
    }
   ],
   "source": [
    "#  having all my model config parameters in a dictionary means I can eaisly print them all out\n",
    "#  it is also easy to create a text file with these parameters - very useful when you are training multiple models\n",
    "for k, v in config.items():  print(k, v)"
   ]
  },
  {
   "cell_type": "markdown",
   "metadata": {},
   "source": [
    "# Python looping tricks"
   ]
  },
  {
   "cell_type": "code",
   "execution_count": 50,
   "metadata": {},
   "outputs": [],
   "source": [
    "mylist = [10, 20, 30]"
   ]
  },
  {
   "cell_type": "code",
   "execution_count": 53,
   "metadata": {},
   "outputs": [
    {
     "name": "stdout",
     "output_type": "stream",
     "text": [
      "naive approach\n",
      "10\n",
      "20\n",
      "30\n",
      "list comp\n",
      "10\n",
      "20\n",
      "30\n"
     ]
    }
   ],
   "source": [
    "#  list comprehensions are a cleaner and faster way to loop in a single list\n",
    "\n",
    "print('naive approach')\n",
    "for item in mylist:\n",
    "    print(item)\n",
    "    \n",
    "print('list comp')\n",
    "# . [operation for iteration in iterable]\n",
    "_ = [print(item) for item in mylist]"
   ]
  },
  {
   "cell_type": "code",
   "execution_count": 55,
   "metadata": {},
   "outputs": [
    {
     "name": "stdout",
     "output_type": "stream",
     "text": [
      "0 10\n",
      "1 20\n",
      "2 30\n"
     ]
    }
   ],
   "source": [
    "#  enumerate gives you a counter for free\n",
    "for counter, item in enumerate(mylist):\n",
    "    print(counter, item)"
   ]
  },
  {
   "cell_type": "code",
   "execution_count": 58,
   "metadata": {},
   "outputs": [
    {
     "name": "stdout",
     "output_type": "stream",
     "text": [
      "10 5\n",
      "20 15\n",
      "30 25\n"
     ]
    }
   ],
   "source": [
    "#  zip allows you to iterate over two lists at the same time\n",
    "#  care must be taken for lists of different lengths\n",
    "#  the collections libary has a more complex zip iteration (iziplongest)\n",
    "otherlist = [5, 15, 25, 35]\n",
    "\n",
    "for item, otheritem in zip(mylist, otherlist):\n",
    "    print(item, otheritem)"
   ]
  },
  {
   "cell_type": "markdown",
   "metadata": {
    "collapsed": true
   },
   "source": [
    "# Discretizing continuous action spaces"
   ]
  },
  {
   "cell_type": "code",
   "execution_count": 8,
   "metadata": {},
   "outputs": [
    {
     "data": {
      "text/plain": [
       "array([ 0,  1,  2,  3,  4,  5,  6,  7,  8,  9, 10, 11, 12, 13, 14, 15, 16,\n",
       "       17, 18, 19, 20, 21, 22, 23, 24, 25, 26, 27, 28, 29, 30, 31, 32, 33,\n",
       "       34, 35, 36, 37, 38, 39, 40, 41, 42, 43, 44, 45, 46, 47, 48, 49, 50,\n",
       "       51, 52, 53, 54, 55, 56, 57, 58, 59, 60, 61, 62, 63, 64, 65, 66, 67,\n",
       "       68, 69, 70, 71, 72, 73, 74, 75, 76, 77, 78, 79, 80, 81, 82, 83, 84,\n",
       "       85, 86, 87, 88, 89, 90])"
      ]
     },
     "execution_count": 8,
     "metadata": {},
     "output_type": "execute_result"
    }
   ],
   "source": [
    "#  a robot arm operating in three dimensions with a 90 degree range\n",
    "single_dimension = np.arange(91)\n",
    "single_dimension"
   ]
  },
  {
   "cell_type": "code",
   "execution_count": 32,
   "metadata": {},
   "outputs": [
    {
     "name": "stdout",
     "output_type": "stream",
     "text": [
      "num actions are 753571\n",
      "expected_num_actions are 753571\n"
     ]
    },
    {
     "data": {
      "text/plain": [
       "[(0, 0, 0),\n",
       " (0, 0, 1),\n",
       " (0, 0, 2),\n",
       " (0, 0, 3),\n",
       " (0, 0, 4),\n",
       " (0, 0, 5),\n",
       " (0, 0, 6),\n",
       " (0, 0, 7),\n",
       " (0, 0, 8),\n",
       " (0, 0, 9)]"
      ]
     },
     "execution_count": 32,
     "metadata": {},
     "output_type": "execute_result"
    }
   ],
   "source": [
    "#  we can use the combinations tool from the Python standard library\n",
    "from itertools import product\n",
    "all_dims = [single_dimension.tolist() for _ in range(3)]\n",
    "all_actions = list(product(*all_dims))\n",
    "print('num actions are {}'.format(len(all_actions)))\n",
    "print('expected_num_actions are {}'.format(len(single_dimension)**3))\n",
    "\n",
    "#  we can look at the first few combinations of actions\n",
    "all_actions[0:10]"
   ]
  },
  {
   "cell_type": "code",
   "execution_count": 33,
   "metadata": {},
   "outputs": [
    {
     "data": {
      "text/plain": [
       "[(90, 90, 81),\n",
       " (90, 90, 82),\n",
       " (90, 90, 83),\n",
       " (90, 90, 84),\n",
       " (90, 90, 85),\n",
       " (90, 90, 86),\n",
       " (90, 90, 87),\n",
       " (90, 90, 88),\n",
       " (90, 90, 89),\n",
       " (90, 90, 90)]"
      ]
     },
     "execution_count": 33,
     "metadata": {},
     "output_type": "execute_result"
    }
   ],
   "source": [
    "#  and the last few\n",
    "all_actions[-10:]"
   ]
  },
  {
   "cell_type": "code",
   "execution_count": null,
   "metadata": {},
   "outputs": [],
   "source": []
  }
 ],
 "metadata": {
  "kernelspec": {
   "display_name": "Python 3",
   "language": "python",
   "name": "python3"
  },
  "language_info": {
   "codemirror_mode": {
    "name": "ipython",
    "version": 3
   },
   "file_extension": ".py",
   "mimetype": "text/x-python",
   "name": "python",
   "nbconvert_exporter": "python",
   "pygments_lexer": "ipython3",
   "version": "3.5.4"
  }
 },
 "nbformat": 4,
 "nbformat_minor": 2
}
