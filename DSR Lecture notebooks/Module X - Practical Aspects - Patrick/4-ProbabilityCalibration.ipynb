{
 "cells": [
  {
   "cell_type": "markdown",
   "metadata": {},
   "source": [
    "### Load data"
   ]
  },
  {
   "cell_type": "code",
   "execution_count": 1,
   "metadata": {},
   "outputs": [
    {
     "data": {
      "text/html": [
       "<div>\n",
       "<style scoped>\n",
       "    .dataframe tbody tr th:only-of-type {\n",
       "        vertical-align: middle;\n",
       "    }\n",
       "\n",
       "    .dataframe tbody tr th {\n",
       "        vertical-align: top;\n",
       "    }\n",
       "\n",
       "    .dataframe thead th {\n",
       "        text-align: right;\n",
       "    }\n",
       "</style>\n",
       "<table border=\"1\" class=\"dataframe\">\n",
       "  <thead>\n",
       "    <tr style=\"text-align: right;\">\n",
       "      <th></th>\n",
       "      <th>label</th>\n",
       "      <th>predGbt</th>\n",
       "      <th>predReg</th>\n",
       "      <th>predReg_up</th>\n",
       "    </tr>\n",
       "  </thead>\n",
       "  <tbody>\n",
       "    <tr>\n",
       "      <th>0</th>\n",
       "      <td>0</td>\n",
       "      <td>0.017032</td>\n",
       "      <td>0.096103</td>\n",
       "      <td>0.254430</td>\n",
       "    </tr>\n",
       "    <tr>\n",
       "      <th>1</th>\n",
       "      <td>0</td>\n",
       "      <td>0.016458</td>\n",
       "      <td>0.085870</td>\n",
       "      <td>0.331462</td>\n",
       "    </tr>\n",
       "    <tr>\n",
       "      <th>2</th>\n",
       "      <td>0</td>\n",
       "      <td>0.007234</td>\n",
       "      <td>0.023384</td>\n",
       "      <td>0.157751</td>\n",
       "    </tr>\n",
       "    <tr>\n",
       "      <th>3</th>\n",
       "      <td>0</td>\n",
       "      <td>0.009813</td>\n",
       "      <td>0.012534</td>\n",
       "      <td>0.361091</td>\n",
       "    </tr>\n",
       "    <tr>\n",
       "      <th>4</th>\n",
       "      <td>0</td>\n",
       "      <td>0.039389</td>\n",
       "      <td>0.004365</td>\n",
       "      <td>0.554634</td>\n",
       "    </tr>\n",
       "  </tbody>\n",
       "</table>\n",
       "</div>"
      ],
      "text/plain": [
       "   label   predGbt   predReg  predReg_up\n",
       "0      0  0.017032  0.096103    0.254430\n",
       "1      0  0.016458  0.085870    0.331462\n",
       "2      0  0.007234  0.023384    0.157751\n",
       "3      0  0.009813  0.012534    0.361091\n",
       "4      0  0.039389  0.004365    0.554634"
      ]
     },
     "execution_count": 1,
     "metadata": {},
     "output_type": "execute_result"
    }
   ],
   "source": [
    "import pandas as pd\n",
    "predictions = pd.read_csv(\"./data/predictions_2.csv\")\n",
    "predictions.head()"
   ]
  },
  {
   "cell_type": "markdown",
   "metadata": {},
   "source": [
    "### Calibration error"
   ]
  },
  {
   "cell_type": "code",
   "execution_count": 2,
   "metadata": {},
   "outputs": [],
   "source": [
    "import math\n",
    "def calibrationError(predictions, modelName, bucketSize = 100):\n",
    "    count, sumPrediction, sumLabel = 0, 0, 0\n",
    "    bucketFraudRate = []\n",
    "    bucketPrediction = []\n",
    "    bucketErrors = []\n",
    "    for index, row in predictions.sort_values(by=[modelName]).iterrows():\n",
    "        sumLabel = sumLabel + row[\"label\"]\n",
    "        sumPrediction = sumPrediction + row[modelName]\n",
    "        count = count + 1\n",
    "        if(count == bucketSize):\n",
    "            predMean = sumPrediction / float(bucketSize)\n",
    "            fraudRate = sumLabel / float(bucketSize)\n",
    "            bucketFraudRate.append(fraudRate)\n",
    "            bucketPrediction.append(predMean)\n",
    "            bucketErrors.append(math.sqrt((predMean-fraudRate)*(predMean-fraudRate)))\n",
    "            count, sumPrediction, sumLabel = 0, 0, 0\n",
    "\n",
    "    return (bucketFraudRate, bucketPrediction, sum(bucketErrors) / float(len(bucketErrors)))"
   ]
  },
  {
   "cell_type": "code",
   "execution_count": 3,
   "metadata": {},
   "outputs": [
    {
     "data": {
      "image/png": "[encoded data removed]",
      "text/plain": [
       "<matplotlib.figure.Figure at 0x7f518f4a49e8>"
      ]
     },
     "metadata": {},
     "output_type": "display_data"
    }
   ],
   "source": [
    "fraudRate_gbt, scores_gbt, err_gbt = calibrationError(predictions, \"predGbt\")\n",
    "fraudRate_reg, scores_reg, err_reg = calibrationError(predictions, \"predReg\")\n",
    "fraudRate_regup, scores_regup, err_regup = calibrationError(predictions, \"predReg_up\")\n",
    "%matplotlib inline\n",
    "import matplotlib.pyplot as plt\n",
    "plt.figure()\n",
    "plt.plot([0, 1], [0, 1], label = \"perfect\")\n",
    "plt.plot(scores_gbt, fraudRate_gbt, color = 'g', label = \"gbt_err:{:.3f}\".format(err_gbt))\n",
    "plt.plot(scores_reg, fraudRate_reg, color = 'b', label = \"reg:{:.3f}\".format(err_reg))\n",
    "plt.plot(scores_regup, fraudRate_regup, color = 'r', label = \"reg_up:{:.3f}\".format(err_regup))\n",
    "plt.legend()\n",
    "plt.grid()\n",
    "plt.show()"
   ]
  },
  {
   "cell_type": "markdown",
   "metadata": {},
   "source": [
    "### Calibration algorithm"
   ]
  },
  {
   "cell_type": "code",
   "execution_count": 4,
   "metadata": {},
   "outputs": [],
   "source": [
    "def trainCalibration(predictions, modelName, bucketSize = 100):\n",
    "    count, sumLabel = 0, 0\n",
    "    buckets = []\n",
    "    for index, row in predictions.sort_values(by=[modelName]).iterrows():\n",
    "        sumLabel = sumLabel + row[\"label\"]\n",
    "        count = count + 1\n",
    "        if(count == bucketSize):\n",
    "            fraudRate = sumLabel / float(bucketSize)\n",
    "            buckets.append((row[modelName], fraudRate))\n",
    "            count, sumLabel = 0, 0\n",
    "    \n",
    "    buckets.append((1,1))\n",
    "    return buckets"
   ]
  },
  {
   "cell_type": "code",
   "execution_count": 5,
   "metadata": {},
   "outputs": [],
   "source": [
    "def getCalibratedProb(p, calibBuckets):\n",
    "    i = 0\n",
    "    final_p = 0\n",
    "    while(p > calibBuckets[i][0]):\n",
    "        final_p = calibBuckets[i][1]\n",
    "        i = i+1\n",
    "    return final_p"
   ]
  },
  {
   "cell_type": "code",
   "execution_count": 6,
   "metadata": {},
   "outputs": [],
   "source": [
    "predictions_train = pd.read_csv(\"./data/predictions_train_2.csv\")"
   ]
  },
  {
   "cell_type": "code",
   "execution_count": 11,
   "metadata": {},
   "outputs": [
    {
     "data": {
      "text/plain": [
       "0.01032580645161291"
      ]
     },
     "execution_count": 11,
     "metadata": {},
     "output_type": "execute_result"
    }
   ],
   "source": [
    "calibGbt = trainCalibration(predictions_train, \"predGbt\")\n",
    "predictions[\"calibGbt\"] = predictions[\"predGbt\"].map(lambda x: getCalibratedProb(x, calibGbt))\n",
    "#calibrationError(predictions, \"calibGbt\")[2]))\n",
    "calibrationError(predictions, \"calibGbt\")[2]"
   ]
  },
  {
   "cell_type": "code",
   "execution_count": 15,
   "metadata": {},
   "outputs": [
    {
     "data": {
      "text/plain": [
       "0.018796774193548367"
      ]
     },
     "execution_count": 15,
     "metadata": {},
     "output_type": "execute_result"
    }
   ],
   "source": [
    "calibReg = trainCalibration(predictions_train, \"predReg\")\n",
    "predictions[\"calibReg\"] = predictions[\"predReg\"].map(lambda x: getCalibratedProb(x, calibReg))\n",
    "calibrationError(predictions, \"calibReg\")[2]"
   ]
  },
  {
   "cell_type": "code",
   "execution_count": null,
   "metadata": {},
   "outputs": [],
   "source": []
  },
  {
   "cell_type": "code",
   "execution_count": 16,
   "metadata": {},
   "outputs": [
    {
     "data": {
      "text/plain": [
       "0.01168709677419354"
      ]
     },
     "execution_count": 16,
     "metadata": {},
     "output_type": "execute_result"
    }
   ],
   "source": [
    "calibReg_up = trainCalibration(predictions_train, \"predReg_up\")\n",
    "predictions[\"calibReg_up\"] = predictions[\"predReg_up\"].map(lambda x: getCalibratedProb(x, calibReg_up))\n",
    "calibrationError(predictions, \"calibReg_up\")[2]"
   ]
  },
  {
   "cell_type": "code",
   "execution_count": 17,
   "metadata": {},
   "outputs": [
    {
     "data": {
      "text/plain": [
       "[(0.002112420415297998, 0.0),\n",
       " (0.004001479055045406, 0.0),\n",
       " (0.005558998241582638, 0.0),\n",
       " (0.006713781677684127, 0.0),\n",
       " (0.008231549085465204, 0.0),\n",
       " (0.009893920967268944, 0.0),\n",
       " (0.01164930822278101, 0.0),\n",
       " (0.013121890721469593, 0.0),\n",
       " (0.014719200875518243, 0.0),\n",
       " (0.016313450007670174, 0.0),\n",
       " (0.018115941601878016, 0.0),\n",
       " (0.019797982221341985, 0.0),\n",
       " (0.021407254343571217, 0.0),\n",
       " (0.02307940361497871, 0.0),\n",
       " (0.024875531655619367, 0.0),\n",
       " (0.02652837850306561, 0.0),\n",
       " (0.028067931070809925, 0.0),\n",
       " (0.029933815777855182, 0.0),\n",
       " (0.031345496793207486, 0.0),\n",
       " (0.032898754650485036, 0.0),\n",
       " (0.034724529934127404, 0.0),\n",
       " (0.036479052552262935, 0.0),\n",
       " (0.03823121987813629, 0.0),\n",
       " (0.040165887015225145, 0.0),\n",
       " (0.042405907410741316, 0.0),\n",
       " (0.04439609351486546, 0.0),\n",
       " (0.04667964699657385, 0.0),\n",
       " (0.049233867242590816, 0.0),\n",
       " (0.05126637103787099, 0.0),\n",
       " (0.05346648066968997, 0.0),\n",
       " (0.0553831473025933, 0.01),\n",
       " (0.057526240358337186, 0.0),\n",
       " (0.05952261015551789, 0.0),\n",
       " (0.061729000425892966, 0.0),\n",
       " (0.06394153383141958, 0.0),\n",
       " (0.0662783611134895, 0.0),\n",
       " (0.06946792571052154, 0.0),\n",
       " (0.07179376172073483, 0.0),\n",
       " (0.07388399549619233, 0.0),\n",
       " (0.07622397018278647, 0.0),\n",
       " (0.07846176470959948, 0.0),\n",
       " (0.08096008454501169, 0.01),\n",
       " (0.0833584115579993, 0.01),\n",
       " (0.08575697027126727, 0.01),\n",
       " (0.0879427585883996, 0.01),\n",
       " (0.09030630615946067, 0.0),\n",
       " (0.0928434401516674, 0.0),\n",
       " (0.0956686927741305, 0.0),\n",
       " (0.09813936944176692, 0.0),\n",
       " (0.10090042415888067, 0.0),\n",
       " (0.10357763609933957, 0.0),\n",
       " (0.1067035606499338, 0.01),\n",
       " (0.10953050714857902, 0.01),\n",
       " (0.1119248949792348, 0.0),\n",
       " (0.11453399442275515, 0.01),\n",
       " (0.11714676701864732, 0.0),\n",
       " (0.12006818335722685, 0.01),\n",
       " (0.12278887989202653, 0.0),\n",
       " (0.12583705444351567, 0.0),\n",
       " (0.12889040014426165, 0.02),\n",
       " (0.1319945472543869, 0.0),\n",
       " (0.13471143651834955, 0.0),\n",
       " (0.13799801801545974, 0.0),\n",
       " (0.1413470350635168, 0.0),\n",
       " (0.14418635386301806, 0.0),\n",
       " (0.14715767933661905, 0.0),\n",
       " (0.15037297470320374, 0.0),\n",
       " (0.15351309380659697, 0.0),\n",
       " (0.15633504833811962, 0.0),\n",
       " (0.15893373795697727, 0.0),\n",
       " (0.1619948897656197, 0.01),\n",
       " (0.16496720497462047, 0.01),\n",
       " (0.1681158031780375, 0.0),\n",
       " (0.17069382291203994, 0.01),\n",
       " (0.17350178487185025, 0.0),\n",
       " (0.17648654871260486, 0.01),\n",
       " (0.17963209155675924, 0.0),\n",
       " (0.18306803378222047, 0.01),\n",
       " (0.1864124660929325, 0.0),\n",
       " (0.18995277956529527, 0.0),\n",
       " (0.19314581911748044, 0.01),\n",
       " (0.19618832012559032, 0.02),\n",
       " (0.1997687909442529, 0.0),\n",
       " (0.20283148530494224, 0.0),\n",
       " (0.2062057475665416, 0.0),\n",
       " (0.2092565225514419, 0.01),\n",
       " (0.21263041909457486, 0.0),\n",
       " (0.2156425859219108, 0.0),\n",
       " (0.2188776092208576, 0.01),\n",
       " (0.22304746336417955, 0.0),\n",
       " (0.2265771990171964, 0.01),\n",
       " (0.2304148353130752, 0.01),\n",
       " (0.23496313677643854, 0.01),\n",
       " (0.2393623674639767, 0.01),\n",
       " (0.2435604023841861, 0.03),\n",
       " (0.2473578131042985, 0.03),\n",
       " (0.2521237779741468, 0.01),\n",
       " (0.2564041451284024, 0.0),\n",
       " (0.26078987193242154, 0.01),\n",
       " (0.2651101020742883, 0.0),\n",
       " (0.2696681875675497, 0.0),\n",
       " (0.2734772609250149, 0.03),\n",
       " (0.2769075259914756, 0.0),\n",
       " (0.2802074194036513, 0.01),\n",
       " (0.28382148928314105, 0.01),\n",
       " (0.2867439261742601, 0.02),\n",
       " (0.2896813484085711, 0.01),\n",
       " (0.29256561428905353, 0.01),\n",
       " (0.29486705935612484, 0.0),\n",
       " (0.2972219427812437, 0.0),\n",
       " (0.2992989468756795, 0.0),\n",
       " (0.3016481293191086, 0.01),\n",
       " (0.3042625961683557, 0.02),\n",
       " (0.3063546942692157, 0.01),\n",
       " (0.3084524901155424, 0.0),\n",
       " (0.31059663452030545, 0.01),\n",
       " (0.3123889552148597, 0.01),\n",
       " (0.31465099287185816, 0.01),\n",
       " (0.3166022759773398, 0.03),\n",
       " (0.31844935475095343, 0.0),\n",
       " (0.3201232498505209, 0.01),\n",
       " (0.3218254288478663, 0.01),\n",
       " (0.3238788833842049, 0.04),\n",
       " (0.3261939158202949, 0.01),\n",
       " (0.3283642046110044, 0.0),\n",
       " (0.3305234298053966, 0.02),\n",
       " (0.3323153097313443, 0.02),\n",
       " (0.3345208625698531, 0.02),\n",
       " (0.33671143882952714, 0.02),\n",
       " (0.3392626420042712, 0.02),\n",
       " (0.3415835088443769, 0.02),\n",
       " (0.344195865207328, 0.02),\n",
       " (0.3467520164557533, 0.01),\n",
       " (0.3496702603430953, 0.02),\n",
       " (0.35183030736327964, 0.01),\n",
       " (0.3552959866433877, 0.0),\n",
       " (0.35873155853688365, 0.02),\n",
       " (0.362633419071267, 0.02),\n",
       " (0.3673169226068079, 0.03),\n",
       " (0.3715884701046464, 0.02),\n",
       " (0.3754388356570609, 0.01),\n",
       " (0.3804990518286632, 0.04),\n",
       " (0.3844610656023686, 0.02),\n",
       " (0.3896715327541742, 0.02),\n",
       " (0.3947207754167834, 0.02),\n",
       " (0.399720871928177, 0.02),\n",
       " (0.4049898022458973, 0.01),\n",
       " (0.4110485153732377, 0.01),\n",
       " (0.4167267396082093, 0.03),\n",
       " (0.4224247462672123, 0.02),\n",
       " (0.4287880508180114, 0.04),\n",
       " (0.4346641225824352, 0.02),\n",
       " (0.4401068533308203, 0.0),\n",
       " (0.4469119468101748, 0.03),\n",
       " (0.4525512293718503, 0.02),\n",
       " (0.4579546058987154, 0.03),\n",
       " (0.4639700939750623, 0.03),\n",
       " (0.470427912412799, 0.02),\n",
       " (0.4754700866026336, 0.03),\n",
       " (0.4822028025764771, 0.03),\n",
       " (0.4893419935457389, 0.04),\n",
       " (0.4962245655240495, 0.04),\n",
       " (0.5040471770239018, 0.01),\n",
       " (0.510894259831377, 0.02),\n",
       " (0.5168230882312057, 0.03),\n",
       " (0.5213555703017604, 0.04),\n",
       " (0.5276983178821733, 0.0),\n",
       " (0.5334321912419508, 0.01),\n",
       " (0.5385876361398144, 0.03),\n",
       " (0.542733733942118, 0.03),\n",
       " (0.5475326124136768, 0.04),\n",
       " (0.5519213154613081, 0.06),\n",
       " (0.5565825494108714, 0.02),\n",
       " (0.5618898585655732, 0.06),\n",
       " (0.5666689669772036, 0.02),\n",
       " (0.5715487427773915, 0.04),\n",
       " (0.5761651259994591, 0.04),\n",
       " (0.5809698637620877, 0.02),\n",
       " (0.5865588571063374, 0.02),\n",
       " (0.5919263460155891, 0.06),\n",
       " (0.5989326503906597, 0.07),\n",
       " (0.6063676741527085, 0.12),\n",
       " (0.6136667072429114, 0.07),\n",
       " (0.6213987978915364, 0.11),\n",
       " (0.6286454956956354, 0.07),\n",
       " (0.6353996573664239, 0.02),\n",
       " (0.6411467617315905, 0.05),\n",
       " (0.646911265404005, 0.08),\n",
       " (0.651662921786212, 0.08),\n",
       " (0.6563620854534534, 0.11),\n",
       " (0.6620602701722709, 0.08),\n",
       " (0.666445554819633, 0.07),\n",
       " (0.6717251608008263, 0.05),\n",
       " (0.6759740986622319, 0.03),\n",
       " (0.6808364287314465, 0.04),\n",
       " (0.6866046759913403, 0.08),\n",
       " (0.6925667357949099, 0.07),\n",
       " (0.6994946668344978, 0.06),\n",
       " (0.7062310020973117, 0.09),\n",
       " (0.7144090695194033, 0.17),\n",
       " (0.7231516169922733, 0.14),\n",
       " (0.7334537702736718, 0.11),\n",
       " (0.7441362010743358, 0.07),\n",
       " (0.7553509611488975, 0.05),\n",
       " (0.7660910702263324, 0.11),\n",
       " (0.7780686550544148, 0.1),\n",
       " (0.7917934683502619, 0.06),\n",
       " (0.8056289190709046, 0.11),\n",
       " (0.8206445862138648, 0.09),\n",
       " (0.8346649551967452, 0.18),\n",
       " (0.8517870391364674, 0.18),\n",
       " (0.8701656978676152, 0.15),\n",
       " (0.8922056711205083, 0.21),\n",
       " (0.9165982083362336, 0.26),\n",
       " (0.9382841406336604, 0.32),\n",
       " (0.96457610980398, 0.41),\n",
       " (0.9995844870416272, 0.63),\n",
       " (1, 1)]"
      ]
     },
     "execution_count": 17,
     "metadata": {},
     "output_type": "execute_result"
    }
   ],
   "source": [
    "calibReg_up"
   ]
  },
  {
   "cell_type": "code",
   "execution_count": null,
   "metadata": {},
   "outputs": [],
   "source": []
  }
 ],
 "metadata": {
  "kernelspec": {
   "display_name": "Python [default]",
   "language": "python",
   "name": "python3"
  },
  "language_info": {
   "codemirror_mode": {
    "name": "ipython",
    "version": 3
   },
   "file_extension": ".py",
   "mimetype": "text/x-python",
   "name": "python",
   "nbconvert_exporter": "python",
   "pygments_lexer": "ipython3",
   "version": "3.6.4"
  }
 },
 "nbformat": 4,
 "nbformat_minor": 2
}
