{
 "cells": [
  {
   "cell_type": "markdown",
   "metadata": {},
   "source": [
    "### Load data"
   ]
  },
  {
   "cell_type": "code",
   "execution_count": 146,
   "metadata": {},
   "outputs": [
    {
     "data": {
      "text/html": [
       "<div>\n",
       "<style scoped>\n",
       "    .dataframe tbody tr th:only-of-type {\n",
       "        vertical-align: middle;\n",
       "    }\n",
       "\n",
       "    .dataframe tbody tr th {\n",
       "        vertical-align: top;\n",
       "    }\n",
       "\n",
       "    .dataframe thead th {\n",
       "        text-align: right;\n",
       "    }\n",
       "</style>\n",
       "<table border=\"1\" class=\"dataframe\">\n",
       "  <thead>\n",
       "    <tr style=\"text-align: right;\">\n",
       "      <th></th>\n",
       "      <th>label</th>\n",
       "      <th>predGbt</th>\n",
       "      <th>predReg</th>\n",
       "      <th>predReg_up</th>\n",
       "    </tr>\n",
       "  </thead>\n",
       "  <tbody>\n",
       "    <tr>\n",
       "      <th>0</th>\n",
       "      <td>0</td>\n",
       "      <td>0.009072</td>\n",
       "      <td>0.001822</td>\n",
       "      <td>0.006424</td>\n",
       "    </tr>\n",
       "    <tr>\n",
       "      <th>1</th>\n",
       "      <td>0</td>\n",
       "      <td>0.015390</td>\n",
       "      <td>0.003476</td>\n",
       "      <td>0.011655</td>\n",
       "    </tr>\n",
       "    <tr>\n",
       "      <th>2</th>\n",
       "      <td>0</td>\n",
       "      <td>0.014491</td>\n",
       "      <td>0.001711</td>\n",
       "      <td>0.005634</td>\n",
       "    </tr>\n",
       "    <tr>\n",
       "      <th>3</th>\n",
       "      <td>0</td>\n",
       "      <td>0.017840</td>\n",
       "      <td>0.048812</td>\n",
       "      <td>0.193536</td>\n",
       "    </tr>\n",
       "    <tr>\n",
       "      <th>4</th>\n",
       "      <td>0</td>\n",
       "      <td>0.013194</td>\n",
       "      <td>0.002407</td>\n",
       "      <td>0.008383</td>\n",
       "    </tr>\n",
       "  </tbody>\n",
       "</table>\n",
       "</div>"
      ],
      "text/plain": [
       "   label   predGbt   predReg  predReg_up\n",
       "0      0  0.009072  0.001822    0.006424\n",
       "1      0  0.015390  0.003476    0.011655\n",
       "2      0  0.014491  0.001711    0.005634\n",
       "3      0  0.017840  0.048812    0.193536\n",
       "4      0  0.013194  0.002407    0.008383"
      ]
     },
     "execution_count": 146,
     "metadata": {},
     "output_type": "execute_result"
    }
   ],
   "source": [
    "import pandas as pd\n",
    "predictions = pd.read_csv(\"./data/predictions_2.csv\")\n",
    "predictions.head()"
   ]
  },
  {
   "cell_type": "markdown",
   "metadata": {},
   "source": [
    "### Calibration error"
   ]
  },
  {
   "cell_type": "code",
   "execution_count": 147,
   "metadata": {},
   "outputs": [],
   "source": [
    "import math\n",
    "def calibrationError(predictions, modelName, bucketSize = 100):\n",
    "    count, sumPrediction, sumLabel = 0, 0, 0\n",
    "    bucketFraudRate = []\n",
    "    bucketPrediction = []\n",
    "    bucketErrors = []\n",
    "    for index, row in predictions.sort_values(by=[modelName]).iterrows():\n",
    "        sumLabel = sumLabel + row[\"label\"]\n",
    "        sumPrediction = sumPrediction + row[modelName]\n",
    "        count = count + 1\n",
    "        if(count == bucketSize):\n",
    "            predMean = sumPrediction / float(bucketSize)\n",
    "            fraudRate = sumLabel / float(bucketSize)\n",
    "            bucketFraudRate.append(fraudRate)\n",
    "            bucketPrediction.append(predMean)\n",
    "            bucketErrors.append(math.sqrt((predMean-fraudRate)*(predMean-fraudRate)))\n",
    "            count, sumPrediction, sumLabel = 0, 0, 0\n",
    "\n",
    "    return (bucketFraudRate, bucketPrediction, sum(bucketErrors) / float(len(bucketErrors)))"
   ]
  },
  {
   "cell_type": "code",
   "execution_count": 148,
   "metadata": {},
   "outputs": [
    {
     "data": {
      "image/png": "[encoded data removed]",
      "text/plain": [
       "<matplotlib.figure.Figure at 0x1060f6fd0>"
      ]
     },
     "metadata": {},
     "output_type": "display_data"
    }
   ],
   "source": [
    "fraudRate_gbt, scores_gbt, err_gbt = calibrationError(predictions, \"predGbt\")\n",
    "fraudRate_reg, scores_reg, err_reg = calibrationError(predictions, \"predReg\")\n",
    "fraudRate_regup, scores_regup, err_regup = calibrationError(predictions, \"predReg_up\")\n",
    "%matplotlib inline\n",
    "import matplotlib.pyplot as plt\n",
    "plt.figure()\n",
    "plt.plot([0, 1], [0, 1], label = \"perfect\")\n",
    "plt.plot(scores_gbt, fraudRate_gbt, color = 'g', label = \"gbt_err:{:.3f}\".format(err_gbt))\n",
    "plt.plot(scores_reg, fraudRate_reg, color = 'b', label = \"reg:{:.3f}\".format(err_reg))\n",
    "plt.plot(scores_regup, fraudRate_regup, color = 'r', label = \"reg_up:{:.3f}\".format(err_regup))\n",
    "plt.legend()\n",
    "plt.grid()\n",
    "plt.show()"
   ]
  },
  {
   "cell_type": "markdown",
   "metadata": {},
   "source": [
    "### Calibration algorithm"
   ]
  },
  {
   "cell_type": "code",
   "execution_count": 149,
   "metadata": {},
   "outputs": [],
   "source": [
    "def trainCalibration(predictions, modelName, bucketSize = 100):\n",
    "    count, sumLabel = 0, 0\n",
    "    buckets = []\n",
    "    for index, row in predictions.sort_values(by=[modelName]).iterrows():\n",
    "        sumLabel = sumLabel + row[\"label\"]\n",
    "        count = count + 1\n",
    "        if(count == bucketSize):\n",
    "            fraudRate = sumLabel / float(bucketSize)\n",
    "            buckets.append((row[modelName], fraudRate))\n",
    "            count, sumLabel = 0, 0\n",
    "    \n",
    "    buckets.append((1,1))\n",
    "    return buckets"
   ]
  },
  {
   "cell_type": "code",
   "execution_count": 150,
   "metadata": {},
   "outputs": [],
   "source": [
    "def getCalibratedProb(p, calibBuckets):\n",
    "    i = 0\n",
    "    final_p = 0\n",
    "    while(p > calibBuckets[i][0]):\n",
    "        final_p = calibBuckets[i][1]\n",
    "        i = i+1\n",
    "    return final_p"
   ]
  },
  {
   "cell_type": "code",
   "execution_count": 159,
   "metadata": {},
   "outputs": [],
   "source": [
    "predictions_train = pd.read_csv(\"./data/predictions_train_2.csv\")"
   ]
  },
  {
   "cell_type": "code",
   "execution_count": 165,
   "metadata": {},
   "outputs": [
    {
     "name": "stdout",
     "output_type": "stream",
     "text": [
      "Error after calib:0.017566666666666675\n"
     ]
    }
   ],
   "source": [
    "calibGbt = trainCalibration(predictions_train, \"predGbt\")\n",
    "predictions[\"calibGbt\"] = predictions[\"predGbt\"].map(lambda x: getCalibratedProb(x, calibGbt))\n",
    "calibrationError(predictions, \"calibGbt\")[2]))"
   ]
  },
  {
   "cell_type": "code",
   "execution_count": 161,
   "metadata": {},
   "outputs": [
    {
     "data": {
      "text/plain": [
       "0.011725806451612902"
      ]
     },
     "execution_count": 161,
     "metadata": {},
     "output_type": "execute_result"
    }
   ],
   "source": [
    "calibReg = trainCalibration(predictions_train, \"predReg\")\n",
    "predictions[\"calibReg\"] = predictions[\"predReg\"].map(lambda x: getCalibratedProb(x, calibReg))\n",
    "calibrationError(predictions, \"calibReg\")[2]"
   ]
  },
  {
   "cell_type": "code",
   "execution_count": 162,
   "metadata": {},
   "outputs": [
    {
     "data": {
      "text/plain": [
       "0.02350215053763442"
      ]
     },
     "execution_count": 162,
     "metadata": {},
     "output_type": "execute_result"
    }
   ],
   "source": [
    "calibReg_up = trainCalibration(predictions_train, \"predReg_up\")\n",
    "predictions[\"calibReg_up\"] = predictions[\"predReg_up\"].map(lambda x: getCalibratedProb(x, calibReg_up))\n",
    "calibrationError(predictions, \"calibReg_up\")[2]"
   ]
  }
 ],
 "metadata": {
  "kernelspec": {
   "display_name": "Python 3",
   "language": "python",
   "name": "python3"
  },
  "language_info": {
   "codemirror_mode": {
    "name": "ipython",
    "version": 3
   },
   "file_extension": ".py",
   "mimetype": "text/x-python",
   "name": "python",
   "nbconvert_exporter": "python",
   "pygments_lexer": "ipython3",
   "version": "3.5.4"
  }
 },
 "nbformat": 4,
 "nbformat_minor": 2
}
