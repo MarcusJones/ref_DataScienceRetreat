{
 "cells": [
  {
   "cell_type": "code",
   "execution_count": 1,
   "metadata": {},
   "outputs": [],
   "source": [
    "# import numpy as np\n",
    "# import pandas as pd\n",
    "\n",
    "# import keras as ks\n",
    "# import tensorflow as tn\n",
    "# from scipy import stats\n",
    "# import matplotlib as mpl\n",
    "# import matplotlib.pyplot as plt\n",
    "# import seaborn as sns\n",
    "# sns.set_style(\"darkgrid\")\n",
    "\n",
    "%matplotlib inline"
   ]
  },
  {
   "cell_type": "code",
   "execution_count": 2,
   "metadata": {
    "collapsed": true
   },
   "outputs": [],
   "source": [
    "(train_data, train_labels), (test_data, test_labels) = ks.datasets.reuters.load_data(num_words=10000) "
   ]
  },
  {
   "cell_type": "code",
   "execution_count": 3,
   "metadata": {
    "scrolled": true
   },
   "outputs": [
    {
     "name": "stdout",
     "output_type": "stream",
     "text": [
      "(8982,) (2246,)\n"
     ]
    }
   ],
   "source": [
    "print(train_data.shape, test_data.shape)"
   ]
  },
  {
   "cell_type": "markdown",
   "metadata": {},
   "source": [
    "https://keras.io/datasets/\n",
    "\n",
    "num_words: integer or None. Top most frequent words to consider. Any less frequent word will appear as oov_char value in the sequence data."
   ]
  },
  {
   "cell_type": "code",
   "execution_count": 4,
   "metadata": {},
   "outputs": [
    {
     "name": "stdout",
     "output_type": "stream",
     "text": [
      "Train data 0: [1, 2, 2, 8, 43, 10, 447, 5, 25, 207, 270, 5, 3095, 111, 16, 369, 186, 90, 67, 7, 89, 5, 19, 102, 6, 19, 124, 15, 90, 67, 84, 22, 482, 26, 7, 48, 4, 49, 8, 864, 39, 209, 154, 6, 151, 6, 83, 11, 15, 22, 155, 11, 15, 7, 48, 9, 4579, 1005, 504, 6, 258, 6, 272, 11, 15, 22, 134, 44, 11, 15, 16, 8, 197, 1245, 90, 67, 52, 29, 209, 30, 32, 132, 6, 109, 15, 17, 12]\n",
      "Type: <class 'list'>\n",
      "Maximum length: 224\n",
      "Average length: 121.4\n",
      "Largest index: 9691\n"
     ]
    }
   ],
   "source": [
    "lengths = list()\n",
    "max_indices = list()\n",
    "for el in train_data[0:5]:\n",
    "    lengths.append(len(el))\n",
    "    max_indices.append(max(el))\n",
    "\n",
    "print(\"Train data 0: {}\".format(train_data[0]))\n",
    "print(\"Type: {}\".format(type(train_data[0])))\n",
    "print(\"Maximum length: {}\".format(max(lengths)))\n",
    "print(\"Average length: {}\".format(np.mean(lengths)))\n",
    "print(\"Largest index: {}\".format(max(max_indices)))"
   ]
  },
  {
   "cell_type": "code",
   "execution_count": 5,
   "metadata": {
    "collapsed": true
   },
   "outputs": [],
   "source": [
    "word_index = ks.datasets.reuters.get_word_index()\n",
    "#print(word_index)\n",
    "#max(print([len(i) for i in word_index]))\n",
    "#np.max(train_data)"
   ]
  },
  {
   "cell_type": "code",
   "execution_count": 6,
   "metadata": {
    "collapsed": true
   },
   "outputs": [],
   "source": [
    "reverse_word_index = dict([(value, key) for (key,value) in word_index.items()])"
   ]
  },
  {
   "cell_type": "code",
   "execution_count": 7,
   "metadata": {},
   "outputs": [
    {
     "name": "stdout",
     "output_type": "stream",
     "text": [
      "? ? ? said as a result of its december acquisition of space co it expects earnings per share in 1987 of 1 15 to 1 30 dlrs per share up from 70 cts in 1986 the company said pretax net should rise to nine to 10 mln dlrs from six mln dlrs in 1986 and rental operation revenues to 19 to 22 mln dlrs from 12 5 mln dlrs it said cash flow per share this year should be 2 50 to three dlrs reuter 3\n",
      "? the u s agriculture department estimated canada's 1986 87 wheat crop at 31 85 mln tonnes vs 31 85 mln tonnes last month it estimated 1985 86 output at 24 25 mln tonnes vs 24 25 mln last month canadian 1986 87 coarse grain production is projected at 27 62 mln tonnes vs 27 62 mln tonnes last month production in 1985 86 is estimated at 24 95 mln tonnes vs 24 95 mln last month canadian wheat exports in 1986 87 are forecast at 19 00 mln tonnes vs 18 00 mln tonnes last month exports in 1985 86 are estimated at 17 71 mln tonnes vs 17 72 mln last month reuter 3\n"
     ]
    }
   ],
   "source": [
    "def print_decoded(wire):\n",
    "    decoded_wire = \" \".join([reverse_word_index.get(i-3, \"?\") for i in wire])\n",
    "    print(decoded_wire)\n",
    "print_decoded(train_data[0])\n",
    "print_decoded(train_data[5])\n",
    "#decoded_wire = \" \".join([reverse_word_index.get(i-3, \"?\") for i in ])\n",
    "#decoded_wire"
   ]
  },
  {
   "cell_type": "code",
   "execution_count": 8,
   "metadata": {
    "collapsed": true
   },
   "outputs": [],
   "source": [
    "def vectorize_sequence(sequences, dimension=10000):\n",
    "    \n",
    "    results = np.zeros((len(sequences),dimension))\n",
    "    # Loop over each row (which is a list of word indices)\n",
    "    \n",
    "    for i,sequence in enumerate(sequences):\n",
    "        # So 'sequence' is a single list of indices\n",
    "        # The next line assigns 1 to any index which exists in sequence, for this row\n",
    "        results[i, sequence] = 1\n",
    "    return results"
   ]
  },
  {
   "cell_type": "code",
   "execution_count": 9,
   "metadata": {
    "collapsed": true
   },
   "outputs": [],
   "source": [
    "x_train = vectorize_sequence(train_data)\n",
    "x_test = vectorize_sequence(test_data)"
   ]
  },
  {
   "cell_type": "code",
   "execution_count": 10,
   "metadata": {},
   "outputs": [
    {
     "name": "stdout",
     "output_type": "stream",
     "text": [
      "[ 0.  1.  1. ...,  0.  0.  0.]\n",
      "<class 'numpy.ndarray'>\n",
      "Train data shape:  (8982, 10000)\n",
      "Test data shape:  (2246, 10000)\n",
      "Density of one example one-hot word vector: 0.0057\n"
     ]
    }
   ],
   "source": [
    "print(x_train[0])\n",
    "print(type(x_train))\n",
    "print(\"Train data shape: \",x_train.shape)\n",
    "print(\"Test data shape: \", x_test.shape)\n",
    "print(\"Density of one example one-hot word vector:\",np.mean(x_train[0]))"
   ]
  },
  {
   "cell_type": "code",
   "execution_count": 11,
   "metadata": {},
   "outputs": [
    {
     "name": "stdout",
     "output_type": "stream",
     "text": [
      "[ 0.  1.  1. ...,  0.  0.  0.]\n"
     ]
    }
   ],
   "source": [
    "print(x_train[0])"
   ]
  },
  {
   "cell_type": "code",
   "execution_count": 12,
   "metadata": {},
   "outputs": [
    {
     "name": "stdout",
     "output_type": "stream",
     "text": [
      "[ 3  4  3 ..., 25  3 25]\n",
      "<class 'numpy.ndarray'>\n",
      "45\n"
     ]
    }
   ],
   "source": [
    "print(train_labels)\n",
    "print(type(train_labels))\n",
    "print(max(train_labels))"
   ]
  },
  {
   "cell_type": "code",
   "execution_count": 13,
   "metadata": {
    "collapsed": true
   },
   "outputs": [],
   "source": [
    "def to_one_hot(labels, dimension = 46):\n",
    "    results = np.zeros((len(labels), dimension))\n",
    "    for i, label in enumerate(labels):\n",
    "        results[i, label] = 1\n",
    "    return results"
   ]
  },
  {
   "cell_type": "code",
   "execution_count": 14,
   "metadata": {
    "collapsed": true
   },
   "outputs": [],
   "source": [
    "one_hot_train_labels = to_one_hot(train_labels)\n",
    "one_hot_test_labels = to_one_hot(test_labels)"
   ]
  },
  {
   "cell_type": "code",
   "execution_count": 15,
   "metadata": {},
   "outputs": [
    {
     "name": "stdout",
     "output_type": "stream",
     "text": [
      " [[ 0.  0.  0. ...,  0.  0.  0.]\n",
      " [ 0.  0.  0. ...,  0.  0.  0.]\n",
      " [ 0.  0.  0. ...,  0.  0.  0.]\n",
      " ..., \n",
      " [ 0.  0.  0. ...,  0.  0.  0.]\n",
      " [ 0.  0.  0. ...,  0.  0.  0.]\n",
      " [ 0.  0.  0. ...,  0.  0.  0.]]\n",
      " [[ 0.  0.  0. ...,  0.  0.  0.]\n",
      " [ 0.  0.  0. ...,  0.  0.  0.]\n",
      " [ 0.  1.  0. ...,  0.  0.  0.]\n",
      " ..., \n",
      " [ 0.  0.  0. ...,  0.  0.  0.]\n",
      " [ 0.  0.  0. ...,  0.  0.  0.]\n",
      " [ 0.  0.  0. ...,  0.  0.  0.]]\n",
      " [ 0.  0.  0.  1.  0.  0.  0.  0.  0.  0.  0.  0.  0.  0.  0.  0.  0.  0.\n",
      "  0.  0.  0.  0.  0.  0.  0.  0.  0.  0.  0.  0.  0.  0.  0.  0.  0.  0.\n",
      "  0.  0.  0.  0.  0.  0.  0.  0.  0.  0.]\n",
      " [[ 0.  0.  0. ...,  0.  0.  0.]\n",
      " [ 0.  0.  0. ...,  0.  0.  0.]\n",
      " [ 0.  1.  0. ...,  0.  0.  0.]\n",
      " ..., \n",
      " [ 0.  0.  0. ...,  0.  0.  0.]\n",
      " [ 0.  0.  0. ...,  0.  0.  0.]\n",
      " [ 0.  0.  0. ...,  0.  0.  0.]]\n"
     ]
    }
   ],
   "source": [
    "print(\"\", one_hot_train_labels)\n",
    "print(\"\", one_hot_test_labels)\n",
    "print(\"\", one_hot_test_labels[0])\n",
    "print(\"\", one_hot_test_labels)\n"
   ]
  },
  {
   "cell_type": "code",
   "execution_count": 16,
   "metadata": {
    "collapsed": true
   },
   "outputs": [],
   "source": [
    "# We can use a pre-defined function for this in keras! \n",
    "one_hot_train_labels = ks.utils.to_categorical(train_labels)\n",
    "one_hot_test_labels = ks.utils.to_categorical(test_labels)"
   ]
  },
  {
   "cell_type": "code",
   "execution_count": 17,
   "metadata": {
    "collapsed": true
   },
   "outputs": [],
   "source": [
    "model = ks.models.Sequential()\n",
    "model.add(ks.layers.Dense(64, activation=\"relu\", input_shape=(10000,)))\n",
    "model.add(ks.layers.Dense(10, activation=\"relu\"))\n",
    "model.add(ks.layers.Dense(10, activation=\"relu\"))\n",
    "model.add(ks.layers.Dense(10, activation=\"relu\"))\n",
    "model.add(ks.layers.Dense(46, activation=\"softmax\"))"
   ]
  },
  {
   "cell_type": "code",
   "execution_count": 18,
   "metadata": {
    "collapsed": true
   },
   "outputs": [],
   "source": [
    "model = ks.models.Sequential()\n",
    "model.add(ks.layers.Dense(64, activation=\"relu\", input_shape=(10000,)))\n",
    "model.add(ks.layers.Dense(4, activation=\"relu\"))\n",
    "model.add(ks.layers.Dense(46, activation=\"softmax\"))"
   ]
  },
  {
   "cell_type": "code",
   "execution_count": 29,
   "metadata": {
    "collapsed": true
   },
   "outputs": [],
   "source": [
    "model.compile(\n",
    "    optimizer = ks.optimizers.RMSprop(lr=0.001),\n",
    "    loss= 'mean_squared_error',\n",
    "    metrics=[\"accuracy\"],\n",
    "    )"
   ]
  },
  {
   "cell_type": "code",
   "execution_count": 30,
   "metadata": {},
   "outputs": [
    {
     "name": "stdout",
     "output_type": "stream",
     "text": [
      "<keras.models.Sequential object at 0x0000014A71C98B00>\n"
     ]
    }
   ],
   "source": [
    "print(model)\n",
    "for i in dir(model):\n",
    "    #print(i)\n",
    "    pass"
   ]
  },
  {
   "cell_type": "code",
   "execution_count": 31,
   "metadata": {
    "collapsed": true
   },
   "outputs": [],
   "source": [
    "x_val = x_train[:1000]\n",
    "partial_x_train = x_train[1000:]\n",
    "\n",
    "y_val = one_hot_train_labels[:1000]\n",
    "partial_y_train = one_hot_train_labels[1000:]"
   ]
  },
  {
   "cell_type": "code",
   "execution_count": 32,
   "metadata": {},
   "outputs": [
    {
     "name": "stdout",
     "output_type": "stream",
     "text": [
      "Validation data set\n",
      "x_val 1000\n",
      "partial_y_train 7982\n",
      "Training data set\n",
      "partial_x_train 1000\n",
      "partial_y_train 1000\n"
     ]
    }
   ],
   "source": [
    "print(\"Validation data set\")\n",
    "print(\"x_val\", len(x_val))\n",
    "print(\"partial_y_train\", len(partial_y_train))\n",
    "\n",
    "print(\"Training data set\")\n",
    "\n",
    "print(\"partial_x_train\", len(x_val))\n",
    "print(\"partial_y_train\", len(x_val))"
   ]
  },
  {
   "cell_type": "code",
   "execution_count": 33,
   "metadata": {},
   "outputs": [
    {
     "name": "stdout",
     "output_type": "stream",
     "text": [
      "Train on 7982 samples, validate on 1000 samples\n",
      "Epoch 1/40\n",
      "7982/7982 [==============================] - 1s 152us/step - loss: 0.0028 - acc: 0.9099 - val_loss: 0.0091 - val_acc: 0.7130\n",
      "Epoch 2/40\n",
      "7982/7982 [==============================] - 1s 128us/step - loss: 0.0027 - acc: 0.9146 - val_loss: 0.0092 - val_acc: 0.7100\n",
      "Epoch 3/40\n",
      "7982/7982 [==============================] - 1s 129us/step - loss: 0.0025 - acc: 0.9204 - val_loss: 0.0092 - val_acc: 0.7160\n",
      "Epoch 4/40\n",
      "7982/7982 [==============================] - 1s 136us/step - loss: 0.0025 - acc: 0.9230 - val_loss: 0.0092 - val_acc: 0.7100\n",
      "Epoch 5/40\n",
      "7982/7982 [==============================] - 1s 129us/step - loss: 0.0024 - acc: 0.9241 - val_loss: 0.0093 - val_acc: 0.7130\n",
      "Epoch 6/40\n",
      "7982/7982 [==============================] - 1s 130us/step - loss: 0.0023 - acc: 0.9278 - val_loss: 0.0093 - val_acc: 0.7090\n",
      "Epoch 7/40\n",
      "7982/7982 [==============================] - 1s 130us/step - loss: 0.0023 - acc: 0.9270 - val_loss: 0.0093 - val_acc: 0.7080\n",
      "Epoch 8/40\n",
      "7982/7982 [==============================] - 1s 130us/step - loss: 0.0022 - acc: 0.9293 - val_loss: 0.0097 - val_acc: 0.7050\n",
      "Epoch 9/40\n",
      "7982/7982 [==============================] - 1s 129us/step - loss: 0.0022 - acc: 0.9316 - val_loss: 0.0095 - val_acc: 0.7140\n",
      "Epoch 10/40\n",
      "7982/7982 [==============================] - 1s 130us/step - loss: 0.0022 - acc: 0.9312 - val_loss: 0.0096 - val_acc: 0.7080\n",
      "Epoch 11/40\n",
      "7982/7982 [==============================] - 1s 130us/step - loss: 0.0021 - acc: 0.9328 - val_loss: 0.0095 - val_acc: 0.6980\n",
      "Epoch 12/40\n",
      "7982/7982 [==============================] - 1s 129us/step - loss: 0.0021 - acc: 0.9345 - val_loss: 0.0095 - val_acc: 0.6990\n",
      "Epoch 13/40\n",
      "7982/7982 [==============================] - 1s 129us/step - loss: 0.0020 - acc: 0.9376 - val_loss: 0.0097 - val_acc: 0.7010\n",
      "Epoch 14/40\n",
      "7982/7982 [==============================] - 1s 130us/step - loss: 0.0020 - acc: 0.9371 - val_loss: 0.0098 - val_acc: 0.7020\n",
      "Epoch 15/40\n",
      "7982/7982 [==============================] - 1s 130us/step - loss: 0.0020 - acc: 0.9366 - val_loss: 0.0097 - val_acc: 0.7030\n",
      "Epoch 16/40\n",
      "7982/7982 [==============================] - 1s 134us/step - loss: 0.0020 - acc: 0.9392 - val_loss: 0.0099 - val_acc: 0.7010\n",
      "Epoch 17/40\n",
      "7982/7982 [==============================] - 1s 132us/step - loss: 0.0019 - acc: 0.9404 - val_loss: 0.0098 - val_acc: 0.7020\n",
      "Epoch 18/40\n",
      "7982/7982 [==============================] - 1s 132us/step - loss: 0.0019 - acc: 0.9402 - val_loss: 0.0099 - val_acc: 0.6990\n",
      "Epoch 19/40\n",
      "7982/7982 [==============================] - 1s 133us/step - loss: 0.0019 - acc: 0.9432 - val_loss: 0.0098 - val_acc: 0.7010\n",
      "Epoch 20/40\n",
      "7982/7982 [==============================] - 1s 132us/step - loss: 0.0019 - acc: 0.9420 - val_loss: 0.0099 - val_acc: 0.6950\n",
      "Epoch 21/40\n",
      "7982/7982 [==============================] - 1s 132us/step - loss: 0.0019 - acc: 0.9419 - val_loss: 0.0099 - val_acc: 0.6980\n",
      "Epoch 22/40\n",
      "7982/7982 [==============================] - 1s 132us/step - loss: 0.0018 - acc: 0.9464 - val_loss: 0.0100 - val_acc: 0.6960\n",
      "Epoch 23/40\n",
      "7982/7982 [==============================] - 1s 133us/step - loss: 0.0018 - acc: 0.9471 - val_loss: 0.0100 - val_acc: 0.6970\n",
      "Epoch 24/40\n",
      "7982/7982 [==============================] - 1s 133us/step - loss: 0.0018 - acc: 0.9465 - val_loss: 0.0100 - val_acc: 0.6920\n",
      "Epoch 25/40\n",
      "7982/7982 [==============================] - 1s 133us/step - loss: 0.0018 - acc: 0.9475 - val_loss: 0.0101 - val_acc: 0.7030\n",
      "Epoch 26/40\n",
      "7982/7982 [==============================] - 1s 133us/step - loss: 0.0018 - acc: 0.9476 - val_loss: 0.0102 - val_acc: 0.6960\n",
      "Epoch 27/40\n",
      "7982/7982 [==============================] - 1s 132us/step - loss: 0.0017 - acc: 0.9485 - val_loss: 0.0101 - val_acc: 0.6950\n",
      "Epoch 28/40\n",
      "7982/7982 [==============================] - 1s 133us/step - loss: 0.0017 - acc: 0.9495 - val_loss: 0.0102 - val_acc: 0.6920\n",
      "Epoch 29/40\n",
      "7982/7982 [==============================] - 1s 133us/step - loss: 0.0017 - acc: 0.9493 - val_loss: 0.0103 - val_acc: 0.6890\n",
      "Epoch 30/40\n",
      "7982/7982 [==============================] - 1s 133us/step - loss: 0.0017 - acc: 0.9480 - val_loss: 0.0103 - val_acc: 0.6910\n",
      "Epoch 31/40\n",
      "7982/7982 [==============================] - 1s 136us/step - loss: 0.0017 - acc: 0.9506 - val_loss: 0.0103 - val_acc: 0.6910\n",
      "Epoch 32/40\n",
      "7982/7982 [==============================] - 1s 132us/step - loss: 0.0017 - acc: 0.9498 - val_loss: 0.0103 - val_acc: 0.6940\n",
      "Epoch 33/40\n",
      "7982/7982 [==============================] - 1s 132us/step - loss: 0.0016 - acc: 0.9501 - val_loss: 0.0104 - val_acc: 0.6890\n",
      "Epoch 34/40\n",
      "7982/7982 [==============================] - 1s 132us/step - loss: 0.0016 - acc: 0.9508 - val_loss: 0.0104 - val_acc: 0.6850\n",
      "Epoch 35/40\n",
      "7982/7982 [==============================] - 1s 135us/step - loss: 0.0016 - acc: 0.9506 - val_loss: 0.0105 - val_acc: 0.6820\n",
      "Epoch 36/40\n",
      "7982/7982 [==============================] - 1s 147us/step - loss: 0.0016 - acc: 0.9508 - val_loss: 0.0105 - val_acc: 0.6840\n",
      "Epoch 37/40\n",
      "7982/7982 [==============================] - 1s 144us/step - loss: 0.0016 - acc: 0.9505 - val_loss: 0.0104 - val_acc: 0.6850\n",
      "Epoch 38/40\n",
      "7982/7982 [==============================] - 1s 134us/step - loss: 0.0016 - acc: 0.9513 - val_loss: 0.0105 - val_acc: 0.6860\n",
      "Epoch 39/40\n",
      "7982/7982 [==============================] - 1s 139us/step - loss: 0.0016 - acc: 0.9513 - val_loss: 0.0105 - val_acc: 0.6850\n",
      "Epoch 40/40\n",
      "7982/7982 [==============================] - 1s 137us/step - loss: 0.0016 - acc: 0.9524 - val_loss: 0.0105 - val_acc: 0.6900\n"
     ]
    }
   ],
   "source": [
    "history = model.fit(\n",
    "    partial_x_train,partial_y_train,\n",
    "    epochs = 20,\n",
    "    batch_size = 512,\n",
    "    validation_data = (x_val,y_val)\n",
    ")"
   ]
  },
  {
   "cell_type": "code",
   "execution_count": 34,
   "metadata": {
    "collapsed": true
   },
   "outputs": [],
   "source": [
    "history_dict = history.history\n",
    "loss_values = history_dict['loss']\n",
    "val_loss_values = history_dict['val_loss']\n",
    "epochs = range(1, len(loss_values)+1)"
   ]
  },
  {
   "cell_type": "code",
   "execution_count": 35,
   "metadata": {},
   "outputs": [
    {
     "name": "stdout",
     "output_type": "stream",
     "text": [
      "val_loss\n",
      "val_acc\n",
      "loss\n",
      "acc\n"
     ]
    }
   ],
   "source": [
    "for k in history_dict:\n",
    "    print(k)"
   ]
  },
  {
   "cell_type": "code",
   "execution_count": 36,
   "metadata": {
    "collapsed": true
   },
   "outputs": [],
   "source": [
    "def plot_hist(history_dict):\n",
    "    fig = plt.figure(figsize=(5,4))\n",
    "    f, (ax1, ax2) = plt.subplots(1, 2, figsize=(20, 5),sharey=False)\n",
    "    \n",
    "    ax1.plot(epochs,  history_dict['loss'],label=\"Train\")\n",
    "    ax1.plot(epochs,  history_dict['val_loss'],label=\"CV\")\n",
    "    ax1.set_title(\"Loss function development - Training set vs CV set\")\n",
    "    ax1.legend(loc='upper right')\n",
    "    ax1.set_xlabel('Epochs')\n",
    "    ax1.set_ylabel('Values')\n",
    "    \n",
    "    ax2.plot(epochs,  history_dict['acc'],label=\"Train\")\n",
    "    ax2.plot(epochs,  history_dict['val_acc'],label=\"CV\")\n",
    "    ax2.set_title(\"Accuracy development - Training set vs CV set\")\n",
    "    ax2.legend(loc='upper right')\n",
    "    ax2.set_xlabel('Epochs')\n",
    "    ax2.set_ylabel('Values')\n",
    "    \n",
    "    plt.suptitle('TITLE', fontsize=16)"
   ]
  },
  {
   "cell_type": "code",
   "execution_count": 37,
   "metadata": {
    "scrolled": true
   },
   "outputs": [
    {
     "data": {
      "text/plain": [
       "<matplotlib.figure.Figure at 0x14a2b34a940>"
      ]
     },
     "metadata": {},
     "output_type": "display_data"
    },
    {
     "data": {
      "image/png": "[encoded data removed]",
      "text/plain": [
       "<matplotlib.figure.Figure at 0x14a2b34a518>"
      ]
     },
     "metadata": {},
     "output_type": "display_data"
    }
   ],
   "source": [
    "plot_hist(history_dict)"
   ]
  },
  {
   "cell_type": "code",
   "execution_count": 38,
   "metadata": {},
   "outputs": [
    {
     "name": "stdout",
     "output_type": "stream",
     "text": [
      "2246/2246 [==============================] - 0s 166us/step\n",
      "[0.011120360127367404, 0.6674087266251113]\n"
     ]
    }
   ],
   "source": [
    "result = model.evaluate(x_test,one_hot_test_labels)\n",
    "print(result)"
   ]
  },
  {
   "cell_type": "code",
   "execution_count": null,
   "metadata": {
    "collapsed": true
   },
   "outputs": [],
   "source": []
  }
 ],
 "metadata": {
  "kernelspec": {
   "display_name": "Python 3",
   "language": "python",
   "name": "python3"
  },
  "language_info": {
   "codemirror_mode": {
    "name": "ipython",
    "version": 3
   },
   "file_extension": ".py",
   "mimetype": "text/x-python",
   "name": "python",
   "nbconvert_exporter": "python",
   "pygments_lexer": "ipython3",
   "version": "3.6.3"
  }
 },
 "nbformat": 4,
 "nbformat_minor": 2
}
