{
 "cells": [
  {
   "cell_type": "code",
   "execution_count": 1,
   "metadata": {},
   "outputs": [
    {
     "name": "stdout",
     "output_type": "stream",
     "text": [
      "<module 'keras' from 'C:\\\\anaconda3\\\\lib\\\\site-packages\\\\keras\\\\__init__.py'>\n"
     ]
    }
   ],
   "source": [
    "print(ks)"
   ]
  },
  {
   "cell_type": "code",
   "execution_count": 2,
   "metadata": {},
   "outputs": [],
   "source": [
    "from pprint import pprint\n",
    "import os, shutil"
   ]
  },
  {
   "cell_type": "code",
   "execution_count": 8,
   "metadata": {},
   "outputs": [
    {
     "name": "stdout",
     "output_type": "stream",
     "text": [
      "_________________________________________________________________\n",
      "Layer (type)                 Output Shape              Param #   \n",
      "=================================================================\n",
      "embedding_9 (Embedding)      (None, None, 64)          64000     \n",
      "=================================================================\n",
      "Total params: 64,000\n",
      "Trainable params: 64,000\n",
      "Non-trainable params: 0\n",
      "_________________________________________________________________\n"
     ]
    }
   ],
   "source": [
    "embedding_layer = ks.layers.Embedding(1000, 64)\n",
    "\n",
    "model = ks.models.Sequential()\n",
    "model.add(ks.layers.Embedding(1000,64))\n",
    "model.summary()"
   ]
  },
  {
   "cell_type": "code",
   "execution_count": 9,
   "metadata": {},
   "outputs": [],
   "source": [
    "data = ks.datasets.imdb"
   ]
  },
  {
   "cell_type": "code",
   "execution_count": null,
   "metadata": {},
   "outputs": [],
   "source": []
  },
  {
   "cell_type": "code",
   "execution_count": null,
   "metadata": {},
   "outputs": [],
   "source": []
  },
  {
   "cell_type": "code",
   "execution_count": null,
   "metadata": {},
   "outputs": [],
   "source": []
  },
  {
   "cell_type": "code",
   "execution_count": null,
   "metadata": {},
   "outputs": [],
   "source": []
  },
  {
   "cell_type": "code",
   "execution_count": null,
   "metadata": {},
   "outputs": [],
   "source": []
  },
  {
   "cell_type": "code",
   "execution_count": 3,
   "metadata": {
    "scrolled": true
   },
   "outputs": [],
   "source": [
    "# for (path, dirs, files) in os.walk(small_base_dir):\n",
    "#     files = [file for file in files]\n",
    "#     #print(path, \"elements:\", len(files))\n",
    "#     print(path)"
   ]
  },
  {
   "cell_type": "code",
   "execution_count": 4,
   "metadata": {},
   "outputs": [],
   "source": [
    "path_train = r\"C:\\Data TEMP\\cats_dogs_small\\train\"\n",
    "path_test = r\"C:\\Data TEMP\\cats_dogs_small\\test\"\n",
    "path_validation = r\"C:\\Data TEMP\\cats_dogs_small\\validation\"\n",
    "\n",
    "path_test_cats = \"C:\\Data TEMP\\cats_dogs_small\\test\\cats\"\n",
    "path_test_dogs = \"C:\\Data TEMP\\cats_dogs_small\\test\\dogs\"\n",
    "\n",
    "path_train_cats = \"C:\\Data TEMP\\cats_dogs_small\\train\\cats\"\n",
    "path_train_cats = \"C:\\Data TEMP\\cats_dogs_small\\train\\dogs\"\n",
    "\n",
    "path_validation_cats = \"C:\\Data TEMP\\cats_dogs_small\\validation\\cats\"\n",
    "path_talidation_cats = \"C:\\Data TEMP\\cats_dogs_small\\validation\\dogs\""
   ]
  },
  {
   "cell_type": "code",
   "execution_count": 27,
   "metadata": {},
   "outputs": [],
   "source": [
    "model = ks.models.Sequential()\n",
    "\n",
    "model.add(ks.layers.Conv2D(32, (3,3), activation = \"relu\", input_shape=(150,150,3)))\n",
    "model.add(ks.layers.MaxPooling2D(2,2))\n",
    "\n",
    "model.add(ks.layers.Conv2D(64, (3,3), activation = \"relu\"))\n",
    "model.add(ks.layers.MaxPooling2D(2,2))\n",
    "\n",
    "model.add(ks.layers.Conv2D(128, (3,3), activation = \"relu\"))\n",
    "model.add(ks.layers.MaxPooling2D(2,2))\n",
    "\n",
    "model.add(ks.layers.Conv2D(128, (3,3), activation = \"relu\"))\n",
    "model.add(ks.layers.MaxPooling2D(2,2))\n",
    "\n",
    "model.add(ks.layers.Flatten()) # This is just a reshape!\n",
    "\n",
    "model.add(ks.layers.Dropout(0.5))\n",
    "\n",
    "model.add(ks.layers.Dense(512,activation=\"relu\"))\n",
    "model.add(ks.layers.Dense(1,activation=\"sigmoid\"))"
   ]
  },
  {
   "cell_type": "code",
   "execution_count": 28,
   "metadata": {
    "scrolled": true
   },
   "outputs": [
    {
     "name": "stdout",
     "output_type": "stream",
     "text": [
      "_________________________________________________________________\n",
      "Layer (type)                 Output Shape              Param #   \n",
      "=================================================================\n",
      "conv2d_5 (Conv2D)            (None, 148, 148, 32)      896       \n",
      "_________________________________________________________________\n",
      "max_pooling2d_5 (MaxPooling2 (None, 74, 74, 32)        0         \n",
      "_________________________________________________________________\n",
      "conv2d_6 (Conv2D)            (None, 72, 72, 64)        18496     \n",
      "_________________________________________________________________\n",
      "max_pooling2d_6 (MaxPooling2 (None, 36, 36, 64)        0         \n",
      "_________________________________________________________________\n",
      "conv2d_7 (Conv2D)            (None, 34, 34, 128)       73856     \n",
      "_________________________________________________________________\n",
      "max_pooling2d_7 (MaxPooling2 (None, 17, 17, 128)       0         \n",
      "_________________________________________________________________\n",
      "conv2d_8 (Conv2D)            (None, 15, 15, 128)       147584    \n",
      "_________________________________________________________________\n",
      "max_pooling2d_8 (MaxPooling2 (None, 7, 7, 128)         0         \n",
      "_________________________________________________________________\n",
      "flatten_2 (Flatten)          (None, 6272)              0         \n",
      "_________________________________________________________________\n",
      "dropout_1 (Dropout)          (None, 6272)              0         \n",
      "_________________________________________________________________\n",
      "dense_3 (Dense)              (None, 512)               3211776   \n",
      "_________________________________________________________________\n",
      "dense_4 (Dense)              (None, 1)                 513       \n",
      "=================================================================\n",
      "Total params: 3,453,121\n",
      "Trainable params: 3,453,121\n",
      "Non-trainable params: 0\n",
      "_________________________________________________________________\n"
     ]
    }
   ],
   "source": [
    "model.summary()"
   ]
  },
  {
   "cell_type": "code",
   "execution_count": 29,
   "metadata": {},
   "outputs": [],
   "source": [
    "model.compile(   \n",
    "    optimizer = ks.optimizers.RMSprop(lr=0.0001),\n",
    "    loss= ks.losses.binary_crossentropy,\n",
    "    metrics= [\"accuracy\"],\n",
    ")"
   ]
  },
  {
   "cell_type": "code",
   "execution_count": 30,
   "metadata": {},
   "outputs": [
    {
     "data": {
      "text/plain": [
       "<module 'keras.preprocessing' from 'C:\\\\anaconda3\\\\lib\\\\site-packages\\\\keras\\\\preprocessing\\\\__init__.py'>"
      ]
     },
     "execution_count": 30,
     "metadata": {},
     "output_type": "execute_result"
    }
   ],
   "source": [
    "ks.preprocessing"
   ]
  },
  {
   "cell_type": "code",
   "execution_count": null,
   "metadata": {},
   "outputs": [],
   "source": []
  },
  {
   "cell_type": "code",
   "execution_count": 31,
   "metadata": {},
   "outputs": [
    {
     "name": "stdout",
     "output_type": "stream",
     "text": [
      "2.1.2\n"
     ]
    },
    {
     "ename": "ModuleNotFoundError",
     "evalue": "No module named 'keras.prepocessing'",
     "output_type": "error",
     "traceback": [
      "\u001b[1;31m---------------------------------------------------------------------------\u001b[0m",
      "\u001b[1;31mModuleNotFoundError\u001b[0m                       Traceback (most recent call last)",
      "\u001b[1;32m<ipython-input-31-69d62ac8b172>\u001b[0m in \u001b[0;36m<module>\u001b[1;34m()\u001b[0m\n\u001b[0;32m      1\u001b[0m \u001b[0mprint\u001b[0m\u001b[1;33m(\u001b[0m\u001b[0mks\u001b[0m\u001b[1;33m.\u001b[0m\u001b[0m__version__\u001b[0m\u001b[1;33m)\u001b[0m\u001b[1;33m\u001b[0m\u001b[0m\n\u001b[0;32m      2\u001b[0m \u001b[1;33m\u001b[0m\u001b[0m\n\u001b[1;32m----> 3\u001b[1;33m \u001b[1;32mfrom\u001b[0m \u001b[0mkeras\u001b[0m\u001b[1;33m.\u001b[0m\u001b[0mprepocessing\u001b[0m\u001b[1;33m.\u001b[0m\u001b[0mimage\u001b[0m \u001b[1;32mimport\u001b[0m \u001b[0mImageDataGenerator\u001b[0m\u001b[1;33m\u001b[0m\u001b[0m\n\u001b[0m\u001b[0;32m      4\u001b[0m \u001b[1;33m\u001b[0m\u001b[0m\n\u001b[0;32m      5\u001b[0m \u001b[1;31m#print(ks.preprocessing.image)\u001b[0m\u001b[1;33m\u001b[0m\u001b[1;33m\u001b[0m\u001b[0m\n",
      "\u001b[1;31mModuleNotFoundError\u001b[0m: No module named 'keras.prepocessing'"
     ]
    }
   ],
   "source": [
    "print(ks.__version__)\n",
    "\n",
    "from keras.prepocessing.image import ImageDataGenerator\n",
    "\n",
    "#print(ks.preprocessing.image)"
   ]
  },
  {
   "cell_type": "code",
   "execution_count": 32,
   "metadata": {},
   "outputs": [
    {
     "name": "stdout",
     "output_type": "stream",
     "text": [
      "Found 2000 images belonging to 2 classes.\n"
     ]
    }
   ],
   "source": [
    "from keras.preprocessing import image as image_utils\n",
    "\n",
    "train_datagen = image_utils.ImageDataGenerator(rescale=1/255,\n",
    "                                              rotation_range = 40,\n",
    "                                              width_shift_range = 0.2,\n",
    "                                              height_shift_range = 0.2,\n",
    "                                              shear_range = 0.2,\n",
    "                                              zoom_range= 0.2,\n",
    "                                              horizontal_flip=True)\n",
    "\n",
    "train_generator = train_datagen.flow_from_directory(\n",
    "    path_train,\n",
    "    target_size = (150,150),\n",
    "    batch_size = 20,\n",
    "    class_mode = \"binary\"\n",
    "\n",
    ")"
   ]
  },
  {
   "cell_type": "code",
   "execution_count": 33,
   "metadata": {},
   "outputs": [
    {
     "name": "stdout",
     "output_type": "stream",
     "text": [
      "Found 1000 images belonging to 2 classes.\n"
     ]
    }
   ],
   "source": [
    "validation_datagen = ks.preprocessing.image.ImageDataGenerator(rescale=1/255)\n",
    "validation_generator = validation_datagen.flow_from_directory(\n",
    "    path_validation,\n",
    "    target_size = (150,150),\n",
    "    batch_size = 20,\n",
    "    class_mode = \"binary\"\n",
    ")"
   ]
  },
  {
   "cell_type": "code",
   "execution_count": null,
   "metadata": {},
   "outputs": [],
   "source": []
  },
  {
   "cell_type": "code",
   "execution_count": null,
   "metadata": {},
   "outputs": [
    {
     "name": "stdout",
     "output_type": "stream",
     "text": [
      "Epoch 1/10\n",
      "100/100 [==============================] - 93s 925ms/step - loss: 0.6930 - acc: 0.5080 - val_loss: 0.6819 - val_acc: 0.5620\n",
      "Epoch 2/10\n",
      "100/100 [==============================] - 94s 939ms/step - loss: 0.6852 - acc: 0.5460 - val_loss: 0.6727 - val_acc: 0.5580\n",
      "Epoch 3/10\n",
      "100/100 [==============================] - 93s 925ms/step - loss: 0.6767 - acc: 0.5740 - val_loss: 0.6605 - val_acc: 0.5800\n",
      "Epoch 4/10\n",
      "100/100 [==============================] - 93s 931ms/step - loss: 0.6663 - acc: 0.5875 - val_loss: 0.6426 - val_acc: 0.6340\n",
      "Epoch 5/10\n",
      "100/100 [==============================] - 93s 933ms/step - loss: 0.6583 - acc: 0.6005 - val_loss: 0.6408 - val_acc: 0.6210\n",
      "Epoch 6/10\n",
      " 62/100 [=================>............] - ETA: 30s - loss: 0.6318 - acc: 0.6339"
     ]
    }
   ],
   "source": [
    "history = model.fit_generator(\n",
    "    train_generator,\n",
    "    steps_per_epoch = 100,\n",
    "    epochs=10,\n",
    "    validation_data = validation_generator,\n",
    "    validation_steps = 50,\n",
    "    )"
   ]
  },
  {
   "cell_type": "code",
   "execution_count": null,
   "metadata": {
    "collapsed": true
   },
   "outputs": [],
   "source": []
  }
 ],
 "metadata": {
  "kernelspec": {
   "display_name": "Python 3",
   "language": "python",
   "name": "python3"
  },
  "language_info": {
   "codemirror_mode": {
    "name": "ipython",
    "version": 3
   },
   "file_extension": ".py",
   "mimetype": "text/x-python",
   "name": "python",
   "nbconvert_exporter": "python",
   "pygments_lexer": "ipython3",
   "version": "3.6.4"
  }
 },
 "nbformat": 4,
 "nbformat_minor": 2
}
